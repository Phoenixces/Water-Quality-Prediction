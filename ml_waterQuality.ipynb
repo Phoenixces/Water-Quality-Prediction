{
 "cells": [
  {
   "cell_type": "markdown",
   "id": "28a28f48",
   "metadata": {},
   "source": [
    "--------------------------------------------------------------------------------------------------------------\n",
    "\n",
    "# <p style = \"text-align:center; \"><font color= blue >Water Quality Prediction</font></p>\n",
    "\n",
    "--------------------------------------------------------------------------------------------------------------\n",
    "\n",
    "We all know water is one of the most essential resource for our living. But as the development is increasing, we are exploiting water by wasting it and treating it with harmful materials which makes water impure and unfit for use. This is the reason it is very important to know the quality of water. This kernel is based on water quality prediction. In this kernel, water quality index (WQI) and quality status of water is predicted through some parameters that affects water quality.\n",
    "In this notebook I have performed Data Cleaning steps and did Exploratory Data Analysis. Then I have did some calculations as the data does not contain the column which can be used for prediction i.e <b>WQI</b>\n",
    "\n",
    "\n",
    "-----\n",
    "\n",
    "## About Dataset\n",
    "\n",
    "### Content\n",
    "\n",
    "The water_potability.csv file contains water quality metrics for 3276 different water bodies.\n",
    "\n",
    "'final.csv' file contains water quality metrics of 3276 records.\n",
    "\n",
    "###### 1. pH \n",
    "level is a measure of the acid content of the water. Most\n",
    "forms of aquatic life tend to be very sensitive to pH. \n",
    "\n",
    "###### 2. TDS (Total Dissolved Solids)\n",
    "This is a measure of the solid materials dissolved in the river\n",
    "water. This includes salts, some organic materials, and a wide\n",
    "range of other things from nutrients to toxic materials. \n",
    "\n",
    "###### 3. Turbidity:\n",
    "The turbidity of water depends on the quantity of solid matter present in the suspended state. It is a measure of light emitting properties of water and the test is used to indicate the quality of waste discharge with respect to colloidal matter. T\n",
    "\n",
    "###### 4. Temperature\n",
    "The water temperature of a river is very important, as many of\n",
    "the physical, biological, and chemical characteristics of a river\n",
    "are directly affected by temperature. Most waterborne animal and\n",
    "plant life survives within a certain range of water temperatures,\n",
    "and few of them can tolerate extreme changes in this parameter. "
   ]
  },
  {
   "cell_type": "markdown",
   "id": "dce7e8c7",
   "metadata": {},
   "source": [
    "# **Table of Contents**\n",
    "* [Importing Libraries](#2)\n",
    "* [Data gathering](#3)\n",
    "* [Data Cleaning](#4)\n",
    "* [EDA](#5)\n",
    "* [Feature Engineering](#6)\n",
    "* [Model Creation](#7)"
   ]
  },
  {
   "cell_type": "markdown",
   "id": "e86c6877",
   "metadata": {},
   "source": [
    "----\n",
    "\n",
    "<a id=2></a>\n",
    "# **Importing libraries**\n",
    "\n",
    "-----"
   ]
  },
  {
   "cell_type": "code",
   "execution_count": 1,
   "id": "02952f4d",
   "metadata": {},
   "outputs": [
    {
     "name": "stderr",
     "output_type": "stream",
     "text": [
      "/home/karuna/.local/lib/python3.8/site-packages/pandas/core/computation/expressions.py:20: UserWarning: Pandas requires version '2.7.3' or newer of 'numexpr' (version '2.7.1' currently installed).\n",
      "  from pandas.core.computation.check import NUMEXPR_INSTALLED\n"
     ]
    }
   ],
   "source": [
    "import os\n",
    "import pandas as pd\n",
    "import numpy as np\n",
    "%matplotlib inline\n",
    "import matplotlib as mpl\n",
    "import matplotlib.pyplot as plt\n",
    "import seaborn as sns\n",
    "import geopandas as gpd\n",
    "import statsmodels.formula.api as smf\n",
    "import warnings\n",
    "warnings.filterwarnings(\"ignore\")"
   ]
  },
  {
   "cell_type": "markdown",
   "id": "c82cc203",
   "metadata": {},
   "source": [
    "----\n",
    "<a id=3></a>\n",
    "## Data Gathering\n",
    "\n",
    "----"
   ]
  },
  {
   "cell_type": "code",
   "execution_count": 2,
   "id": "b6a1dbc6",
   "metadata": {},
   "outputs": [
    {
     "data": {
      "text/html": [
       "<div>\n",
       "<style scoped>\n",
       "    .dataframe tbody tr th:only-of-type {\n",
       "        vertical-align: middle;\n",
       "    }\n",
       "\n",
       "    .dataframe tbody tr th {\n",
       "        vertical-align: top;\n",
       "    }\n",
       "\n",
       "    .dataframe thead th {\n",
       "        text-align: right;\n",
       "    }\n",
       "</style>\n",
       "<table border=\"1\" class=\"dataframe\">\n",
       "  <thead>\n",
       "    <tr style=\"text-align: right;\">\n",
       "      <th></th>\n",
       "      <th>ph</th>\n",
       "      <th>TDS</th>\n",
       "      <th>Turbidity</th>\n",
       "      <th>Temperature</th>\n",
       "    </tr>\n",
       "  </thead>\n",
       "  <tbody>\n",
       "    <tr>\n",
       "      <th>0</th>\n",
       "      <td>NaN</td>\n",
       "      <td>20791.31898</td>\n",
       "      <td>2.963135</td>\n",
       "      <td>29.3</td>\n",
       "    </tr>\n",
       "    <tr>\n",
       "      <th>1</th>\n",
       "      <td>3.716080</td>\n",
       "      <td>18630.05786</td>\n",
       "      <td>4.500656</td>\n",
       "      <td>24.0</td>\n",
       "    </tr>\n",
       "    <tr>\n",
       "      <th>2</th>\n",
       "      <td>8.099124</td>\n",
       "      <td>19909.54173</td>\n",
       "      <td>3.055934</td>\n",
       "      <td>24.0</td>\n",
       "    </tr>\n",
       "    <tr>\n",
       "      <th>3</th>\n",
       "      <td>8.316766</td>\n",
       "      <td>22018.41744</td>\n",
       "      <td>4.628771</td>\n",
       "      <td>25.5</td>\n",
       "    </tr>\n",
       "    <tr>\n",
       "      <th>4</th>\n",
       "      <td>9.092223</td>\n",
       "      <td>17978.98634</td>\n",
       "      <td>4.075075</td>\n",
       "      <td>26.0</td>\n",
       "    </tr>\n",
       "  </tbody>\n",
       "</table>\n",
       "</div>"
      ],
      "text/plain": [
       "         ph          TDS  Turbidity  Temperature\n",
       "0       NaN  20791.31898   2.963135         29.3\n",
       "1  3.716080  18630.05786   4.500656         24.0\n",
       "2  8.099124  19909.54173   3.055934         24.0\n",
       "3  8.316766  22018.41744   4.628771         25.5\n",
       "4  9.092223  17978.98634   4.075075         26.0"
      ]
     },
     "execution_count": 2,
     "metadata": {},
     "output_type": "execute_result"
    }
   ],
   "source": [
    "dataset = pd.read_csv('/home/karuna/Projects/Water-Quality-Prediction/Data/final.csv')\n",
    "dataset.head()"
   ]
  },
  {
   "cell_type": "code",
   "execution_count": 3,
   "id": "9291b278",
   "metadata": {},
   "outputs": [
    {
     "data": {
      "text/plain": [
       "(3276, 4)"
      ]
     },
     "execution_count": 3,
     "metadata": {},
     "output_type": "execute_result"
    }
   ],
   "source": [
    "dataset.shape"
   ]
  },
  {
   "cell_type": "code",
   "execution_count": 4,
   "id": "b7040f25",
   "metadata": {},
   "outputs": [
    {
     "data": {
      "text/plain": [
       "ph             491\n",
       "TDS              0\n",
       "Turbidity        0\n",
       "Temperature    111\n",
       "dtype: int64"
      ]
     },
     "execution_count": 4,
     "metadata": {},
     "output_type": "execute_result"
    }
   ],
   "source": [
    "dataset.isnull().sum()"
   ]
  },
  {
   "cell_type": "code",
   "execution_count": 5,
   "id": "064f4611",
   "metadata": {},
   "outputs": [
    {
     "name": "stdout",
     "output_type": "stream",
     "text": [
      "<class 'pandas.core.frame.DataFrame'>\n",
      "RangeIndex: 3276 entries, 0 to 3275\n",
      "Data columns (total 4 columns):\n",
      " #   Column       Non-Null Count  Dtype  \n",
      "---  ------       --------------  -----  \n",
      " 0   ph           2785 non-null   float64\n",
      " 1   TDS          3276 non-null   float64\n",
      " 2   Turbidity    3276 non-null   float64\n",
      " 3   Temperature  3165 non-null   float64\n",
      "dtypes: float64(4)\n",
      "memory usage: 102.5 KB\n"
     ]
    }
   ],
   "source": [
    "dataset.info()"
   ]
  },
  {
   "cell_type": "code",
   "execution_count": 6,
   "id": "e9ddccda",
   "metadata": {},
   "outputs": [
    {
     "data": {
      "text/html": [
       "<div>\n",
       "<style scoped>\n",
       "    .dataframe tbody tr th:only-of-type {\n",
       "        vertical-align: middle;\n",
       "    }\n",
       "\n",
       "    .dataframe tbody tr th {\n",
       "        vertical-align: top;\n",
       "    }\n",
       "\n",
       "    .dataframe thead th {\n",
       "        text-align: right;\n",
       "    }\n",
       "</style>\n",
       "<table border=\"1\" class=\"dataframe\">\n",
       "  <thead>\n",
       "    <tr style=\"text-align: right;\">\n",
       "      <th></th>\n",
       "      <th>ph</th>\n",
       "      <th>TDS</th>\n",
       "      <th>Turbidity</th>\n",
       "      <th>Temperature</th>\n",
       "    </tr>\n",
       "  </thead>\n",
       "  <tbody>\n",
       "    <tr>\n",
       "      <th>count</th>\n",
       "      <td>2785.000000</td>\n",
       "      <td>3276.000000</td>\n",
       "      <td>3276.000000</td>\n",
       "      <td>3165.000000</td>\n",
       "    </tr>\n",
       "    <tr>\n",
       "      <th>mean</th>\n",
       "      <td>7.080795</td>\n",
       "      <td>22014.092526</td>\n",
       "      <td>3.966786</td>\n",
       "      <td>25.231523</td>\n",
       "    </tr>\n",
       "    <tr>\n",
       "      <th>std</th>\n",
       "      <td>1.594320</td>\n",
       "      <td>8768.570828</td>\n",
       "      <td>0.780382</td>\n",
       "      <td>2.601129</td>\n",
       "    </tr>\n",
       "    <tr>\n",
       "      <th>min</th>\n",
       "      <td>0.000000</td>\n",
       "      <td>320.942611</td>\n",
       "      <td>1.450000</td>\n",
       "      <td>15.000000</td>\n",
       "    </tr>\n",
       "    <tr>\n",
       "      <th>25%</th>\n",
       "      <td>6.093092</td>\n",
       "      <td>15666.690300</td>\n",
       "      <td>3.439711</td>\n",
       "      <td>24.000000</td>\n",
       "    </tr>\n",
       "    <tr>\n",
       "      <th>50%</th>\n",
       "      <td>7.036752</td>\n",
       "      <td>20927.833605</td>\n",
       "      <td>3.955028</td>\n",
       "      <td>25.500000</td>\n",
       "    </tr>\n",
       "    <tr>\n",
       "      <th>75%</th>\n",
       "      <td>8.062066</td>\n",
       "      <td>27332.762125</td>\n",
       "      <td>4.500320</td>\n",
       "      <td>27.000000</td>\n",
       "    </tr>\n",
       "    <tr>\n",
       "      <th>max</th>\n",
       "      <td>14.000000</td>\n",
       "      <td>61227.196010</td>\n",
       "      <td>6.739000</td>\n",
       "      <td>36.000000</td>\n",
       "    </tr>\n",
       "  </tbody>\n",
       "</table>\n",
       "</div>"
      ],
      "text/plain": [
       "                ph           TDS    Turbidity  Temperature\n",
       "count  2785.000000   3276.000000  3276.000000  3165.000000\n",
       "mean      7.080795  22014.092526     3.966786    25.231523\n",
       "std       1.594320   8768.570828     0.780382     2.601129\n",
       "min       0.000000    320.942611     1.450000    15.000000\n",
       "25%       6.093092  15666.690300     3.439711    24.000000\n",
       "50%       7.036752  20927.833605     3.955028    25.500000\n",
       "75%       8.062066  27332.762125     4.500320    27.000000\n",
       "max      14.000000  61227.196010     6.739000    36.000000"
      ]
     },
     "execution_count": 6,
     "metadata": {},
     "output_type": "execute_result"
    }
   ],
   "source": [
    "dataset.describe()"
   ]
  },
  {
   "cell_type": "markdown",
   "id": "58cb8a54",
   "metadata": {},
   "source": [
    "----\n",
    "\n",
    "<a id=4></a>\n",
    "# **Data Cleaning**\n",
    "\n",
    "----"
   ]
  },
  {
   "cell_type": "markdown",
   "id": "d3aa16de",
   "metadata": {},
   "source": [
    "-----\n",
    "\n",
    "### Below code is to fill null and empty values in csv file by mean value of all parameters respectively..\n",
    "\n",
    "----"
   ]
  },
  {
   "cell_type": "code",
   "execution_count": 7,
   "id": "8420ff3a",
   "metadata": {},
   "outputs": [
    {
     "data": {
      "text/plain": [
       "ph             0\n",
       "TDS            0\n",
       "Turbidity      0\n",
       "Temperature    0\n",
       "dtype: int64"
      ]
     },
     "execution_count": 7,
     "metadata": {},
     "output_type": "execute_result"
    }
   ],
   "source": [
    "dataset.fillna(dataset.mean(), inplace=True)\n",
    "dataset.isnull().sum()"
   ]
  },
  {
   "cell_type": "code",
   "execution_count": 8,
   "id": "97ff5da2",
   "metadata": {},
   "outputs": [
    {
     "data": {
      "text/html": [
       "<div>\n",
       "<style scoped>\n",
       "    .dataframe tbody tr th:only-of-type {\n",
       "        vertical-align: middle;\n",
       "    }\n",
       "\n",
       "    .dataframe tbody tr th {\n",
       "        vertical-align: top;\n",
       "    }\n",
       "\n",
       "    .dataframe thead th {\n",
       "        text-align: right;\n",
       "    }\n",
       "</style>\n",
       "<table border=\"1\" class=\"dataframe\">\n",
       "  <thead>\n",
       "    <tr style=\"text-align: right;\">\n",
       "      <th></th>\n",
       "      <th>ph</th>\n",
       "      <th>TDS</th>\n",
       "      <th>Turbidity</th>\n",
       "      <th>Temperature</th>\n",
       "    </tr>\n",
       "  </thead>\n",
       "  <tbody>\n",
       "    <tr>\n",
       "      <th>0</th>\n",
       "      <td>7.080795</td>\n",
       "      <td>20791.31898</td>\n",
       "      <td>2.963135</td>\n",
       "      <td>29.3</td>\n",
       "    </tr>\n",
       "    <tr>\n",
       "      <th>1</th>\n",
       "      <td>3.716080</td>\n",
       "      <td>18630.05786</td>\n",
       "      <td>4.500656</td>\n",
       "      <td>24.0</td>\n",
       "    </tr>\n",
       "    <tr>\n",
       "      <th>2</th>\n",
       "      <td>8.099124</td>\n",
       "      <td>19909.54173</td>\n",
       "      <td>3.055934</td>\n",
       "      <td>24.0</td>\n",
       "    </tr>\n",
       "    <tr>\n",
       "      <th>3</th>\n",
       "      <td>8.316766</td>\n",
       "      <td>22018.41744</td>\n",
       "      <td>4.628771</td>\n",
       "      <td>25.5</td>\n",
       "    </tr>\n",
       "    <tr>\n",
       "      <th>4</th>\n",
       "      <td>9.092223</td>\n",
       "      <td>17978.98634</td>\n",
       "      <td>4.075075</td>\n",
       "      <td>26.0</td>\n",
       "    </tr>\n",
       "    <tr>\n",
       "      <th>...</th>\n",
       "      <td>...</td>\n",
       "      <td>...</td>\n",
       "      <td>...</td>\n",
       "      <td>...</td>\n",
       "    </tr>\n",
       "    <tr>\n",
       "      <th>3271</th>\n",
       "      <td>4.668102</td>\n",
       "      <td>47580.99160</td>\n",
       "      <td>4.435821</td>\n",
       "      <td>28.0</td>\n",
       "    </tr>\n",
       "    <tr>\n",
       "      <th>3272</th>\n",
       "      <td>7.808856</td>\n",
       "      <td>17329.80216</td>\n",
       "      <td>2.798243</td>\n",
       "      <td>23.0</td>\n",
       "    </tr>\n",
       "    <tr>\n",
       "      <th>3273</th>\n",
       "      <td>9.419510</td>\n",
       "      <td>33155.57822</td>\n",
       "      <td>3.298875</td>\n",
       "      <td>28.0</td>\n",
       "    </tr>\n",
       "    <tr>\n",
       "      <th>3274</th>\n",
       "      <td>5.126763</td>\n",
       "      <td>11983.86938</td>\n",
       "      <td>4.708658</td>\n",
       "      <td>31.0</td>\n",
       "    </tr>\n",
       "    <tr>\n",
       "      <th>3275</th>\n",
       "      <td>7.874671</td>\n",
       "      <td>17404.17706</td>\n",
       "      <td>2.309149</td>\n",
       "      <td>33.0</td>\n",
       "    </tr>\n",
       "  </tbody>\n",
       "</table>\n",
       "<p>3276 rows × 4 columns</p>\n",
       "</div>"
      ],
      "text/plain": [
       "            ph          TDS  Turbidity  Temperature\n",
       "0     7.080795  20791.31898   2.963135         29.3\n",
       "1     3.716080  18630.05786   4.500656         24.0\n",
       "2     8.099124  19909.54173   3.055934         24.0\n",
       "3     8.316766  22018.41744   4.628771         25.5\n",
       "4     9.092223  17978.98634   4.075075         26.0\n",
       "...        ...          ...        ...          ...\n",
       "3271  4.668102  47580.99160   4.435821         28.0\n",
       "3272  7.808856  17329.80216   2.798243         23.0\n",
       "3273  9.419510  33155.57822   3.298875         28.0\n",
       "3274  5.126763  11983.86938   4.708658         31.0\n",
       "3275  7.874671  17404.17706   2.309149         33.0\n",
       "\n",
       "[3276 rows x 4 columns]"
      ]
     },
     "execution_count": 8,
     "metadata": {},
     "output_type": "execute_result"
    }
   ],
   "source": [
    "dataset"
   ]
  },
  {
   "cell_type": "code",
   "execution_count": 9,
   "id": "1323b7ea",
   "metadata": {},
   "outputs": [
    {
     "data": {
      "text/plain": [
       "ph             float64\n",
       "TDS            float64\n",
       "Turbidity      float64\n",
       "Temperature    float64\n",
       "dtype: object"
      ]
     },
     "execution_count": 9,
     "metadata": {},
     "output_type": "execute_result"
    }
   ],
   "source": [
    "dataset.dtypes"
   ]
  },
  {
   "cell_type": "markdown",
   "id": "b068f125",
   "metadata": {},
   "source": [
    "----\n",
    "\n",
    "<a id=5></a>\n",
    "# **EDA**\n",
    "\n",
    "----\n",
    "\n",
    "### Below is Correlation heatmap ranging from -1 to +1. Values closer to zero means there is no linear trend between the two variables. The close to 1 the correlation is the more positively correlated they are; that is as one increases so does the other and the closer to 1 the stronger this relationship is.\n",
    "\n"
   ]
  },
  {
   "cell_type": "code",
   "execution_count": 10,
   "id": "cdd14810",
   "metadata": {},
   "outputs": [
    {
     "data": {
      "image/png": "[encoded data removed]",
      "text/plain": [
       "<Figure size 936x576 with 2 Axes>"
      ]
     },
     "metadata": {
      "needs_background": "light"
     },
     "output_type": "display_data"
    }
   ],
   "source": [
    "plt.figure(figsize=(13,8))\n",
    "sns.heatmap(dataset.corr(),annot=True,cmap='terrain')\n",
    "plt.show()"
   ]
  },
  {
   "cell_type": "markdown",
   "id": "8795e8fe",
   "metadata": {},
   "source": [
    "----\n",
    "### Let's visualize our data.\n",
    "----"
   ]
  },
  {
   "cell_type": "markdown",
   "id": "ad245002",
   "metadata": {},
   "source": [
    "\n",
    "### Visualizing pH\n"
   ]
  },
  {
   "cell_type": "code",
   "execution_count": 11,
   "id": "37d6d1c3",
   "metadata": {},
   "outputs": [
    {
     "data": {
      "image/png": "[encoded data removed]",
      "text/plain": [
       "<Figure size 720x576 with 1 Axes>"
      ]
     },
     "metadata": {},
     "output_type": "display_data"
    }
   ],
   "source": [
    "mpl.style.use(\"ggplot\")\n",
    "fig = plt.figure(figsize = (10, 8))\n",
    "ax = fig.add_subplot(111)\n",
    "ax.set_xlabel(\"pH\")\n",
    "ax.set_ylabel(\"Count\")\n",
    "ax.set_ylim((0, 1500))\n",
    "ax.hist(dataset.ph, label = \"pH\", bins = 10, color=\"#fe7401\")\n",
    "ax.legend()\n",
    "plt.show()"
   ]
  },
  {
   "cell_type": "markdown",
   "id": "14d90311",
   "metadata": {},
   "source": [
    "\n",
    "### Visualizing TDS (Total Dissolved Solids)\n"
   ]
  },
  {
   "cell_type": "code",
   "execution_count": 12,
   "id": "1ece6764",
   "metadata": {},
   "outputs": [
    {
     "data": {
      "image/png": "[encoded data removed]",
      "text/plain": [
       "<Figure size 720x576 with 1 Axes>"
      ]
     },
     "metadata": {},
     "output_type": "display_data"
    }
   ],
   "source": [
    "mpl.style.use(\"ggplot\")\n",
    "fig = plt.figure(figsize = (10, 8))\n",
    "ax = fig.add_subplot(111)\n",
    "ax.set_xlabel(\"tds (ppm)\")\n",
    "ax.set_ylabel(\"Count\")\n",
    "ax.set_ylim((0, 950))\n",
    "ax.hist(dataset.TDS, label = \"TDS\", bins = 10, color=\"#7FFFD4\")\n",
    "ax.legend()\n",
    "plt.show()"
   ]
  },
  {
   "cell_type": "markdown",
   "id": "095e3c30",
   "metadata": {},
   "source": [
    "\n",
    "### Visualizing Turbidity\n"
   ]
  },
  {
   "cell_type": "code",
   "execution_count": 13,
   "id": "914a269d",
   "metadata": {},
   "outputs": [
    {
     "data": {
      "image/png": "[encoded data removed]",
      "text/plain": [
       "<Figure size 720x576 with 1 Axes>"
      ]
     },
     "metadata": {},
     "output_type": "display_data"
    }
   ],
   "source": [
    "mpl.style.use(\"ggplot\")\n",
    "fig = plt.figure(figsize = (10, 8))\n",
    "ax = fig.add_subplot(111)\n",
    "ax.set_xlabel(\"turb (ntu)\")\n",
    "ax.set_ylabel(\"Count\")\n",
    "ax.set_ylim((0, 950))\n",
    "ax.hist(dataset.Turbidity, label = \"Turbidity\", bins = 10, color=\"#808000\")\n",
    "ax.legend()\n",
    "plt.show()"
   ]
  },
  {
   "cell_type": "markdown",
   "id": "b5b1716c",
   "metadata": {},
   "source": [
    "\n",
    "### Visualizing Temperature\n"
   ]
  },
  {
   "cell_type": "code",
   "execution_count": 14,
   "id": "23c68613",
   "metadata": {
    "scrolled": true
   },
   "outputs": [
    {
     "data": {
      "image/png": "[encoded data removed]",
      "text/plain": [
       "<Figure size 720x576 with 1 Axes>"
      ]
     },
     "metadata": {},
     "output_type": "display_data"
    }
   ],
   "source": [
    "mpl.style.use(\"ggplot\")\n",
    "fig = plt.figure(figsize = (10, 8))\n",
    "ax = fig.add_subplot(111)\n",
    "ax.set_xlabel(\"Temp\")\n",
    "ax.set_ylabel(\"Count\")\n",
    "ax.set_ylim((0, 1200))\n",
    "ax.hist(dataset.Temperature, label = \"Temperature\", bins = 10, color=\"#00008B\")\n",
    "ax.legend()\n",
    "plt.show()"
   ]
  },
  {
   "cell_type": "markdown",
   "id": "40c5bb8e",
   "metadata": {},
   "source": [
    "----\n",
    "\n",
    "<a id=6></a>\n",
    "# **Feature Engineering**\n",
    "\n",
    "### > Box-Plot\n",
    "* box or whiskers plot is a method used for depicting groups of numerical data through their quartiles graphically. These may also have some lines extending from the boxes or whiskers which indicates the variability outside the lower and upper quartiles, hence the terms box-and-whisker plot and box-and-whisker diagram. Outliers can be indicated as individual points.\n",
    "\n",
    "* It helps to find out how much the data values vary or spread out with the help of graphs. As we need more information than just knowing the measures of central tendency, this is where the box plot helps. \n",
    "\n",
    "* The five-number summary in the box plot is minimum, maximum, median, first quartile, and third quartile.\n",
    "\n",
    "![alt text](https://cdn1.byjus.com/wp-content/uploads/2020/10/Box-Plot-and-Whisker-Plot-1.png)\n",
    "\n",
    "> An <mark>outlier</mark> is a value that lies in both extremes of data.\n",
    ">> Some outliers represent natural variations in the population, and they should be left as is in your dataset. These are called true outliers.\n",
    "----"
   ]
  },
  {
   "cell_type": "code",
   "execution_count": 15,
   "id": "4dc05ab3",
   "metadata": {},
   "outputs": [
    {
     "data": {
      "image/png": "[encoded data removed]",
      "text/plain": [
       "<Figure size 1008x576 with 4 Axes>"
      ]
     },
     "metadata": {},
     "output_type": "display_data"
    }
   ],
   "source": [
    "# initialize figure with 4 subplots in a row\n",
    "fig, ax = plt.subplots(1, 4, figsize=(14, 8))\n",
    "\n",
    "# add padding between the subplots\n",
    "plt.subplots_adjust(wspace=1.5) \n",
    "\n",
    "# draw boxplot for age in the 1st subplot\n",
    "sns.boxplot(data=dataset['ph'], ax=ax[0], color='brown',)\n",
    "ax[0].set_xlabel('ph')\n",
    "\n",
    "# draw boxplot for station_distance in the 2nd subplot\n",
    "sns.boxplot(data=dataset['TDS'], ax=ax[1], color='g')\n",
    "ax[1].set_xlabel('TDS')\n",
    "\n",
    "# draw boxplot for stores_count in the 3rd subplot\n",
    "sns.boxplot(data=dataset['Turbidity'], ax=ax[2], color='y')\n",
    "ax[2].set_xlabel('Turbidity')\n",
    "\n",
    "# finally draw boxplot for unit_price in the 4th subplot\n",
    "sns.boxplot(data=dataset['Temperature'], ax=ax[3])\n",
    "ax[3].set_xlabel('Temperature')\n",
    "\n",
    "# by default, you'll see x-tick label set to 0 in each subplot\n",
    "# remove it by setting it to empty list\n",
    "for subplot in ax:\n",
    "    subplot.set_xticklabels([])\n",
    "    \n",
    "plt.show()"
   ]
  },
  {
   "cell_type": "code",
   "execution_count": 16,
   "id": "30119a3c",
   "metadata": {},
   "outputs": [],
   "source": [
    "# To filter outliers:\n",
    "\n",
    "# Q1 = dataset['Temperature'].quantile(0.25)\n",
    "# Q3 = dataset['Temperature'].quantile(0.75)\n",
    "# IQR = Q3 - Q1    #IQR is interquartile range.\n",
    "# print(Q1, \" \", Q3, \" \", IQR)\n",
    "\n",
    "\n",
    "# filter = (dataset['Temperature'] >= Q1 - 1.5 * IQR) & (dataset['Temperature'] <= Q3 + 1.5 *IQR)\n",
    "# dataset = dataset.loc[filter] "
   ]
  },
  {
   "cell_type": "markdown",
   "id": "c9a51ec5",
   "metadata": {},
   "source": [
    "### The Water Quality Index is calculated by aggregating the quality rating with the weight linearly, \n",
    "#### WQI = ∑ (qn x Wn)\n",
    "#### where qn =Quality rating for the nth Water quality parameter, Wn= unit weight for the nth parameters.       \n",
    "\n",
    "<br>The equation can be given as:\n",
    "<br>$$WQI_{MP} = \\sum_{i=1} W_Y Q_Y$$\n",
    "<br>Here,\n",
    ">>$$Y = available parameters$$\n",
    ">>$$Q_Y = q- values of available parameters$$\n",
    ">>$$W_Y = weighting factors of available parameters$$\n",
    "\n",
    "\n",
    "\n",
    "<table style = \"border: 1px solid black;\n",
    "  border-collapse: collapse;background-color: #D6EEEE;width:50%\">\n",
    "  <tr>\n",
    "    <th>WQI value</th>\n",
    "    <th>Water quality</th>\n",
    "  </tr>\n",
    "  <tr>\n",
    "    <td> less than 50 </td>\n",
    "    <td> excellent </td>  \n",
    "  </tr>\n",
    "  <tr>\n",
    "    <td> 50-100</td>\n",
    "    <td> good water </td> \n",
    "  </tr>\n",
    "    <tr>\n",
    "    <td> 100-200 </td>\n",
    "    <td> poor water </td> \n",
    "  </tr>\n",
    "    <tr>\n",
    "    <td> 200-300</td>\n",
    "    <td>  very poor water </td> \n",
    "  </tr>\n",
    "    <tr>\n",
    "    <td> >300 </td>\n",
    "    <td> Water unsuitable\n",
    "for drinking </td> \n",
    "  </tr>\n",
    "</table>\n",
    "<p style = \"text-align: center;\">  Water quality classification based on WQI value </p>\n",
    "\n",
    "\n",
    "<table style = \"border: 1px solid black;\n",
    "  border-collapse: collapse;background-color: #D6EEEE;width:50%\">\n",
    "  <tr>\n",
    "    <th>Water quality</th>\n",
    "    <th>BIS(Bureau of Indian Standard) for Water, $$S_n$$</th> \n",
    "  </tr>\n",
    "  <tr>\n",
    "    <td> pH </td>\n",
    "    <td> 8.5 </td>  \n",
    "  </tr>\n",
    "  <tr>\n",
    "    <td> TDS </td>\n",
    "    <td> 500 </td> \n",
    "  </tr>\n",
    "    <tr>\n",
    "    <td> Turbidity </td>\n",
    "    <td> 5 </td> \n",
    "  </tr>\n",
    "    <tr>\n",
    "    <td> Temperature </td>\n",
    "    <td> 35 </td> \n",
    "  </tr>\n",
    "    \n",
    "</table>\n",
    "<p style = \"text-align: center;\">  Water Quality Standards </p>\n",
    "\n",
    "#### PARTS OF WATER QUALITY INDEX\n",
    "There are two parts of water quality index.\n",
    " 1. Q- value\n",
    " 2. Weighting factor\n",
    "\n",
    "> Q- value\n",
    ">> It is the indication of water quality relative to 100 of one parameter. The Q-Value is an indication of how good (or bad) the water quality is relative to one parameter.<br>\n",
    "    \n",
    "> Weighting Factor\n",
    ">> It sets the relative importance of the parameter to over all\n",
    "water quality.\n",
    " \n",
    "#### REFERENCES:\n",
    "[1]. National sanitation foundation <br>\n",
    "[2]. www.water-WATER <br>\n",
    "[3]. \"QUALITY INDEX WITH MISSING PARAMETERS\",Garima Srivastava, Dr. Pradeep Kumar, M.Tech(Environmental Science & Engg.), Associate Professor, Civil Engg. Department, HBTI Kanpur, India.net <br>\n",
    "[4]. www.waterontheweb.org <br>\n",
    "[5] https://www.researchgate.net/publication/337881191_Various_methods_for_calculating_the_water_quality_index\n"
   ]
  },
  {
   "cell_type": "markdown",
   "id": "ce5003e2",
   "metadata": {},
   "source": [
    "\n",
    "#### Applying <mark> Weighted Arithmetic Index </mark> method for calculating wqi"
   ]
  },
  {
   "cell_type": "code",
   "execution_count": 17,
   "id": "1219ea1e",
   "metadata": {},
   "outputs": [
    {
     "name": "stdout",
     "output_type": "stream",
     "text": [
      "\n",
      "sum_Sn =  0.348218487394958\n",
      "K =  2.8717602200878423 \n",
      "\n",
      "Weight factor for pH =  0.33785414353974613\n",
      "Weight factor for tds =  0.005743520440175684\n",
      "Weight factor for turbidity =  0.5743520440175685\n",
      "Weight factor for temperature =   0.08205029200250978\n",
      "\n",
      "Summarizing Ideal values for all parameters, Vo:\n",
      "pH: 6.5\n",
      "TDS: 0\n",
      "Turbidity: 0\n",
      "Temperature: 20\n",
      "\n"
     ]
    }
   ],
   "source": [
    "#Summation of 1/Sn where Sn is BIS std.\n",
    "\n",
    "sum_Sn = (1/8.5) + (1/500) + (1/5) + (1/35)\n",
    "print(\"\\nsum_Sn = \", sum_Sn)\n",
    "\n",
    "#Calculating k value\n",
    "\n",
    "k = 1/sum_Sn\n",
    "print(\"K = \", k, \"\\n\")\n",
    "\n",
    "#Calculating Weight for parameters, Wi = k/Sn\n",
    "\n",
    "wt_ph = k/8.5; \n",
    "print(\"Weight factor for pH = \", wt_ph)\n",
    "wt_tds = k/500;\n",
    "print(\"Weight factor for tds = \", wt_tds)\n",
    "wt_turb = k/5;\n",
    "print(\"Weight factor for turbidity = \", wt_turb)\n",
    "wt_temp = k/35;\n",
    "print(\"Weight factor for temperature =  \", wt_temp)\n",
    "\n",
    "#Summation of all weight factor will give us value one\n",
    "\n",
    "print('''\n",
    "Summarizing Ideal values for all parameters, Vo:\n",
    "pH: 6.5\n",
    "TDS: 0\n",
    "Turbidity: 0\n",
    "Temperature: 20\n",
    "''')"
   ]
  },
  {
   "cell_type": "code",
   "execution_count": 18,
   "id": "e2987ccc",
   "metadata": {},
   "outputs": [],
   "source": [
    "'''\n",
    "Calcuating Vn/Sn, \n",
    "where Vn is measured values for respective parameter\n",
    "Representing Vn/Sn by ratio\n",
    "Since Ideal value for pH and Temp isn't equal to zero, we use different formula.\n",
    "'''\n",
    "\n",
    "dataset['pH_ratio'] = abs((dataset.ph-6.5)/(8.5-6.5))\n",
    "# dataset['pH_ratio'] = dataset['ph'].map(lambda t: ((t-7)/(8.5-7)) if ((t-7)/(8.5-7) > 0) else 0)\n",
    "\n",
    "    \n",
    "dataset['tds_ratio'] = dataset.TDS/500\n",
    "dataset['turb_ratio'] = dataset.Turbidity/5\n",
    "\n",
    "dataset['temp_ratio'] = abs((dataset.Temperature - 20)/(35-20))\n",
    "# dataset['temp_ratio'] = dataset['temp'].map(lambda t: ((t-20)/(35-20)) if ((t-20)/(35-25) > 0) else 0)"
   ]
  },
  {
   "cell_type": "code",
   "execution_count": 19,
   "id": "70efdb01",
   "metadata": {},
   "outputs": [
    {
     "data": {
      "text/html": [
       "<div>\n",
       "<style scoped>\n",
       "    .dataframe tbody tr th:only-of-type {\n",
       "        vertical-align: middle;\n",
       "    }\n",
       "\n",
       "    .dataframe tbody tr th {\n",
       "        vertical-align: top;\n",
       "    }\n",
       "\n",
       "    .dataframe thead th {\n",
       "        text-align: right;\n",
       "    }\n",
       "</style>\n",
       "<table border=\"1\" class=\"dataframe\">\n",
       "  <thead>\n",
       "    <tr style=\"text-align: right;\">\n",
       "      <th></th>\n",
       "      <th>ph</th>\n",
       "      <th>TDS</th>\n",
       "      <th>Turbidity</th>\n",
       "      <th>Temperature</th>\n",
       "      <th>pH_ratio</th>\n",
       "      <th>tds_ratio</th>\n",
       "      <th>turb_ratio</th>\n",
       "      <th>temp_ratio</th>\n",
       "    </tr>\n",
       "  </thead>\n",
       "  <tbody>\n",
       "    <tr>\n",
       "      <th>0</th>\n",
       "      <td>7.080795</td>\n",
       "      <td>20791.31898</td>\n",
       "      <td>2.963135</td>\n",
       "      <td>29.3</td>\n",
       "      <td>0.290397</td>\n",
       "      <td>41.582638</td>\n",
       "      <td>0.592627</td>\n",
       "      <td>0.620000</td>\n",
       "    </tr>\n",
       "    <tr>\n",
       "      <th>1</th>\n",
       "      <td>3.716080</td>\n",
       "      <td>18630.05786</td>\n",
       "      <td>4.500656</td>\n",
       "      <td>24.0</td>\n",
       "      <td>1.391960</td>\n",
       "      <td>37.260116</td>\n",
       "      <td>0.900131</td>\n",
       "      <td>0.266667</td>\n",
       "    </tr>\n",
       "    <tr>\n",
       "      <th>2</th>\n",
       "      <td>8.099124</td>\n",
       "      <td>19909.54173</td>\n",
       "      <td>3.055934</td>\n",
       "      <td>24.0</td>\n",
       "      <td>0.799562</td>\n",
       "      <td>39.819083</td>\n",
       "      <td>0.611187</td>\n",
       "      <td>0.266667</td>\n",
       "    </tr>\n",
       "    <tr>\n",
       "      <th>3</th>\n",
       "      <td>8.316766</td>\n",
       "      <td>22018.41744</td>\n",
       "      <td>4.628771</td>\n",
       "      <td>25.5</td>\n",
       "      <td>0.908383</td>\n",
       "      <td>44.036835</td>\n",
       "      <td>0.925754</td>\n",
       "      <td>0.366667</td>\n",
       "    </tr>\n",
       "    <tr>\n",
       "      <th>4</th>\n",
       "      <td>9.092223</td>\n",
       "      <td>17978.98634</td>\n",
       "      <td>4.075075</td>\n",
       "      <td>26.0</td>\n",
       "      <td>1.296112</td>\n",
       "      <td>35.957973</td>\n",
       "      <td>0.815015</td>\n",
       "      <td>0.400000</td>\n",
       "    </tr>\n",
       "    <tr>\n",
       "      <th>...</th>\n",
       "      <td>...</td>\n",
       "      <td>...</td>\n",
       "      <td>...</td>\n",
       "      <td>...</td>\n",
       "      <td>...</td>\n",
       "      <td>...</td>\n",
       "      <td>...</td>\n",
       "      <td>...</td>\n",
       "    </tr>\n",
       "    <tr>\n",
       "      <th>3271</th>\n",
       "      <td>4.668102</td>\n",
       "      <td>47580.99160</td>\n",
       "      <td>4.435821</td>\n",
       "      <td>28.0</td>\n",
       "      <td>0.915949</td>\n",
       "      <td>95.161983</td>\n",
       "      <td>0.887164</td>\n",
       "      <td>0.533333</td>\n",
       "    </tr>\n",
       "    <tr>\n",
       "      <th>3272</th>\n",
       "      <td>7.808856</td>\n",
       "      <td>17329.80216</td>\n",
       "      <td>2.798243</td>\n",
       "      <td>23.0</td>\n",
       "      <td>0.654428</td>\n",
       "      <td>34.659604</td>\n",
       "      <td>0.559649</td>\n",
       "      <td>0.200000</td>\n",
       "    </tr>\n",
       "    <tr>\n",
       "      <th>3273</th>\n",
       "      <td>9.419510</td>\n",
       "      <td>33155.57822</td>\n",
       "      <td>3.298875</td>\n",
       "      <td>28.0</td>\n",
       "      <td>1.459755</td>\n",
       "      <td>66.311156</td>\n",
       "      <td>0.659775</td>\n",
       "      <td>0.533333</td>\n",
       "    </tr>\n",
       "    <tr>\n",
       "      <th>3274</th>\n",
       "      <td>5.126763</td>\n",
       "      <td>11983.86938</td>\n",
       "      <td>4.708658</td>\n",
       "      <td>31.0</td>\n",
       "      <td>0.686619</td>\n",
       "      <td>23.967739</td>\n",
       "      <td>0.941732</td>\n",
       "      <td>0.733333</td>\n",
       "    </tr>\n",
       "    <tr>\n",
       "      <th>3275</th>\n",
       "      <td>7.874671</td>\n",
       "      <td>17404.17706</td>\n",
       "      <td>2.309149</td>\n",
       "      <td>33.0</td>\n",
       "      <td>0.687336</td>\n",
       "      <td>34.808354</td>\n",
       "      <td>0.461830</td>\n",
       "      <td>0.866667</td>\n",
       "    </tr>\n",
       "  </tbody>\n",
       "</table>\n",
       "<p>3276 rows × 8 columns</p>\n",
       "</div>"
      ],
      "text/plain": [
       "            ph          TDS  Turbidity  Temperature  pH_ratio  tds_ratio  \\\n",
       "0     7.080795  20791.31898   2.963135         29.3  0.290397  41.582638   \n",
       "1     3.716080  18630.05786   4.500656         24.0  1.391960  37.260116   \n",
       "2     8.099124  19909.54173   3.055934         24.0  0.799562  39.819083   \n",
       "3     8.316766  22018.41744   4.628771         25.5  0.908383  44.036835   \n",
       "4     9.092223  17978.98634   4.075075         26.0  1.296112  35.957973   \n",
       "...        ...          ...        ...          ...       ...        ...   \n",
       "3271  4.668102  47580.99160   4.435821         28.0  0.915949  95.161983   \n",
       "3272  7.808856  17329.80216   2.798243         23.0  0.654428  34.659604   \n",
       "3273  9.419510  33155.57822   3.298875         28.0  1.459755  66.311156   \n",
       "3274  5.126763  11983.86938   4.708658         31.0  0.686619  23.967739   \n",
       "3275  7.874671  17404.17706   2.309149         33.0  0.687336  34.808354   \n",
       "\n",
       "      turb_ratio  temp_ratio  \n",
       "0       0.592627    0.620000  \n",
       "1       0.900131    0.266667  \n",
       "2       0.611187    0.266667  \n",
       "3       0.925754    0.366667  \n",
       "4       0.815015    0.400000  \n",
       "...          ...         ...  \n",
       "3271    0.887164    0.533333  \n",
       "3272    0.559649    0.200000  \n",
       "3273    0.659775    0.533333  \n",
       "3274    0.941732    0.733333  \n",
       "3275    0.461830    0.866667  \n",
       "\n",
       "[3276 rows x 8 columns]"
      ]
     },
     "execution_count": 19,
     "metadata": {},
     "output_type": "execute_result"
    }
   ],
   "source": [
    "dataset"
   ]
  },
  {
   "cell_type": "code",
   "execution_count": 20,
   "id": "5f042edd",
   "metadata": {},
   "outputs": [
    {
     "data": {
      "text/plain": [
       "(3276, 8)"
      ]
     },
     "execution_count": 20,
     "metadata": {},
     "output_type": "execute_result"
    }
   ],
   "source": [
    "dataset.shape"
   ]
  },
  {
   "cell_type": "code",
   "execution_count": 21,
   "id": "886c5395",
   "metadata": {},
   "outputs": [
    {
     "data": {
      "text/plain": [
       "ph             float64\n",
       "TDS            float64\n",
       "Turbidity      float64\n",
       "Temperature    float64\n",
       "pH_ratio       float64\n",
       "tds_ratio      float64\n",
       "turb_ratio     float64\n",
       "temp_ratio     float64\n",
       "Qn_ph          float64\n",
       "Qn_tds         float64\n",
       "Qn_turb        float64\n",
       "Qn_temp        float64\n",
       "dtype: object"
      ]
     },
     "execution_count": 21,
     "metadata": {},
     "output_type": "execute_result"
    }
   ],
   "source": [
    "dataset['Qn_ph'] = dataset.pH_ratio * 100\n",
    "dataset['Qn_tds'] = dataset.tds_ratio * 100\n",
    "dataset['Qn_turb'] = dataset.turb_ratio * 100\n",
    "dataset['Qn_temp'] = dataset.temp_ratio * 100\n",
    "\n",
    "dataset.head()\n",
    "dataset.dtypes\n"
   ]
  },
  {
   "cell_type": "code",
   "execution_count": 22,
   "id": "c4287011",
   "metadata": {},
   "outputs": [
    {
     "data": {
      "text/html": [
       "<div>\n",
       "<style scoped>\n",
       "    .dataframe tbody tr th:only-of-type {\n",
       "        vertical-align: middle;\n",
       "    }\n",
       "\n",
       "    .dataframe tbody tr th {\n",
       "        vertical-align: top;\n",
       "    }\n",
       "\n",
       "    .dataframe thead th {\n",
       "        text-align: right;\n",
       "    }\n",
       "</style>\n",
       "<table border=\"1\" class=\"dataframe\">\n",
       "  <thead>\n",
       "    <tr style=\"text-align: right;\">\n",
       "      <th></th>\n",
       "      <th>ph</th>\n",
       "      <th>TDS</th>\n",
       "      <th>Turbidity</th>\n",
       "      <th>Temperature</th>\n",
       "      <th>pH_ratio</th>\n",
       "      <th>tds_ratio</th>\n",
       "      <th>turb_ratio</th>\n",
       "      <th>temp_ratio</th>\n",
       "      <th>Qn_ph</th>\n",
       "      <th>Qn_tds</th>\n",
       "      <th>Qn_turb</th>\n",
       "      <th>Qn_temp</th>\n",
       "      <th>wph</th>\n",
       "      <th>wtds</th>\n",
       "      <th>wturb</th>\n",
       "      <th>wtemp</th>\n",
       "      <th>wqi</th>\n",
       "    </tr>\n",
       "  </thead>\n",
       "  <tbody>\n",
       "    <tr>\n",
       "      <th>0</th>\n",
       "      <td>7.080795</td>\n",
       "      <td>20791.31898</td>\n",
       "      <td>2.963135</td>\n",
       "      <td>29.3</td>\n",
       "      <td>0.290397</td>\n",
       "      <td>41.582638</td>\n",
       "      <td>0.592627</td>\n",
       "      <td>0.620000</td>\n",
       "      <td>29.039725</td>\n",
       "      <td>4158.263796</td>\n",
       "      <td>59.262708</td>\n",
       "      <td>62.000000</td>\n",
       "      <td>9.811191</td>\n",
       "      <td>23.883073</td>\n",
       "      <td>34.037657</td>\n",
       "      <td>5.087118</td>\n",
       "      <td>72.819040</td>\n",
       "    </tr>\n",
       "    <tr>\n",
       "      <th>1</th>\n",
       "      <td>3.716080</td>\n",
       "      <td>18630.05786</td>\n",
       "      <td>4.500656</td>\n",
       "      <td>24.0</td>\n",
       "      <td>1.391960</td>\n",
       "      <td>37.260116</td>\n",
       "      <td>0.900131</td>\n",
       "      <td>0.266667</td>\n",
       "      <td>139.195996</td>\n",
       "      <td>3726.011572</td>\n",
       "      <td>90.013126</td>\n",
       "      <td>26.666667</td>\n",
       "      <td>47.027944</td>\n",
       "      <td>21.400424</td>\n",
       "      <td>51.699223</td>\n",
       "      <td>2.188008</td>\n",
       "      <td>122.315598</td>\n",
       "    </tr>\n",
       "    <tr>\n",
       "      <th>2</th>\n",
       "      <td>8.099124</td>\n",
       "      <td>19909.54173</td>\n",
       "      <td>3.055934</td>\n",
       "      <td>24.0</td>\n",
       "      <td>0.799562</td>\n",
       "      <td>39.819083</td>\n",
       "      <td>0.611187</td>\n",
       "      <td>0.266667</td>\n",
       "      <td>79.956209</td>\n",
       "      <td>3981.908346</td>\n",
       "      <td>61.118675</td>\n",
       "      <td>26.666667</td>\n",
       "      <td>27.013537</td>\n",
       "      <td>22.870172</td>\n",
       "      <td>35.103636</td>\n",
       "      <td>2.188008</td>\n",
       "      <td>87.175352</td>\n",
       "    </tr>\n",
       "    <tr>\n",
       "      <th>3</th>\n",
       "      <td>8.316766</td>\n",
       "      <td>22018.41744</td>\n",
       "      <td>4.628771</td>\n",
       "      <td>25.5</td>\n",
       "      <td>0.908383</td>\n",
       "      <td>44.036835</td>\n",
       "      <td>0.925754</td>\n",
       "      <td>0.366667</td>\n",
       "      <td>90.838294</td>\n",
       "      <td>4403.683488</td>\n",
       "      <td>92.575411</td>\n",
       "      <td>36.666667</td>\n",
       "      <td>30.690094</td>\n",
       "      <td>25.292646</td>\n",
       "      <td>53.170876</td>\n",
       "      <td>3.008511</td>\n",
       "      <td>112.162127</td>\n",
       "    </tr>\n",
       "    <tr>\n",
       "      <th>4</th>\n",
       "      <td>9.092223</td>\n",
       "      <td>17978.98634</td>\n",
       "      <td>4.075075</td>\n",
       "      <td>26.0</td>\n",
       "      <td>1.296112</td>\n",
       "      <td>35.957973</td>\n",
       "      <td>0.815015</td>\n",
       "      <td>0.400000</td>\n",
       "      <td>129.611173</td>\n",
       "      <td>3595.797268</td>\n",
       "      <td>81.501508</td>\n",
       "      <td>40.000000</td>\n",
       "      <td>43.789672</td>\n",
       "      <td>20.652535</td>\n",
       "      <td>46.810558</td>\n",
       "      <td>3.282012</td>\n",
       "      <td>114.534777</td>\n",
       "    </tr>\n",
       "    <tr>\n",
       "      <th>...</th>\n",
       "      <td>...</td>\n",
       "      <td>...</td>\n",
       "      <td>...</td>\n",
       "      <td>...</td>\n",
       "      <td>...</td>\n",
       "      <td>...</td>\n",
       "      <td>...</td>\n",
       "      <td>...</td>\n",
       "      <td>...</td>\n",
       "      <td>...</td>\n",
       "      <td>...</td>\n",
       "      <td>...</td>\n",
       "      <td>...</td>\n",
       "      <td>...</td>\n",
       "      <td>...</td>\n",
       "      <td>...</td>\n",
       "      <td>...</td>\n",
       "    </tr>\n",
       "    <tr>\n",
       "      <th>3271</th>\n",
       "      <td>4.668102</td>\n",
       "      <td>47580.99160</td>\n",
       "      <td>4.435821</td>\n",
       "      <td>28.0</td>\n",
       "      <td>0.915949</td>\n",
       "      <td>95.161983</td>\n",
       "      <td>0.887164</td>\n",
       "      <td>0.533333</td>\n",
       "      <td>91.594916</td>\n",
       "      <td>9516.198320</td>\n",
       "      <td>88.716418</td>\n",
       "      <td>53.333333</td>\n",
       "      <td>30.945722</td>\n",
       "      <td>54.656480</td>\n",
       "      <td>50.954456</td>\n",
       "      <td>4.376016</td>\n",
       "      <td>140.932673</td>\n",
       "    </tr>\n",
       "    <tr>\n",
       "      <th>3272</th>\n",
       "      <td>7.808856</td>\n",
       "      <td>17329.80216</td>\n",
       "      <td>2.798243</td>\n",
       "      <td>23.0</td>\n",
       "      <td>0.654428</td>\n",
       "      <td>34.659604</td>\n",
       "      <td>0.559649</td>\n",
       "      <td>0.200000</td>\n",
       "      <td>65.442801</td>\n",
       "      <td>3465.960432</td>\n",
       "      <td>55.964857</td>\n",
       "      <td>20.000000</td>\n",
       "      <td>22.110121</td>\n",
       "      <td>19.906815</td>\n",
       "      <td>32.143530</td>\n",
       "      <td>1.641006</td>\n",
       "      <td>75.801472</td>\n",
       "    </tr>\n",
       "    <tr>\n",
       "      <th>3273</th>\n",
       "      <td>9.419510</td>\n",
       "      <td>33155.57822</td>\n",
       "      <td>3.298875</td>\n",
       "      <td>28.0</td>\n",
       "      <td>1.459755</td>\n",
       "      <td>66.311156</td>\n",
       "      <td>0.659775</td>\n",
       "      <td>0.533333</td>\n",
       "      <td>145.975516</td>\n",
       "      <td>6631.115644</td>\n",
       "      <td>65.977510</td>\n",
       "      <td>53.333333</td>\n",
       "      <td>49.318433</td>\n",
       "      <td>38.085948</td>\n",
       "      <td>37.894318</td>\n",
       "      <td>4.376016</td>\n",
       "      <td>129.674714</td>\n",
       "    </tr>\n",
       "    <tr>\n",
       "      <th>3274</th>\n",
       "      <td>5.126763</td>\n",
       "      <td>11983.86938</td>\n",
       "      <td>4.708658</td>\n",
       "      <td>31.0</td>\n",
       "      <td>0.686619</td>\n",
       "      <td>23.967739</td>\n",
       "      <td>0.941732</td>\n",
       "      <td>0.733333</td>\n",
       "      <td>68.661854</td>\n",
       "      <td>2396.773876</td>\n",
       "      <td>94.173169</td>\n",
       "      <td>73.333333</td>\n",
       "      <td>23.197692</td>\n",
       "      <td>13.765920</td>\n",
       "      <td>54.088552</td>\n",
       "      <td>6.017021</td>\n",
       "      <td>97.069185</td>\n",
       "    </tr>\n",
       "    <tr>\n",
       "      <th>3275</th>\n",
       "      <td>7.874671</td>\n",
       "      <td>17404.17706</td>\n",
       "      <td>2.309149</td>\n",
       "      <td>33.0</td>\n",
       "      <td>0.687336</td>\n",
       "      <td>34.808354</td>\n",
       "      <td>0.461830</td>\n",
       "      <td>0.866667</td>\n",
       "      <td>68.733568</td>\n",
       "      <td>3480.835412</td>\n",
       "      <td>46.182981</td>\n",
       "      <td>86.666667</td>\n",
       "      <td>23.221921</td>\n",
       "      <td>19.992249</td>\n",
       "      <td>26.525290</td>\n",
       "      <td>7.111025</td>\n",
       "      <td>76.850485</td>\n",
       "    </tr>\n",
       "  </tbody>\n",
       "</table>\n",
       "<p>3276 rows × 17 columns</p>\n",
       "</div>"
      ],
      "text/plain": [
       "            ph          TDS  Turbidity  Temperature  pH_ratio  tds_ratio  \\\n",
       "0     7.080795  20791.31898   2.963135         29.3  0.290397  41.582638   \n",
       "1     3.716080  18630.05786   4.500656         24.0  1.391960  37.260116   \n",
       "2     8.099124  19909.54173   3.055934         24.0  0.799562  39.819083   \n",
       "3     8.316766  22018.41744   4.628771         25.5  0.908383  44.036835   \n",
       "4     9.092223  17978.98634   4.075075         26.0  1.296112  35.957973   \n",
       "...        ...          ...        ...          ...       ...        ...   \n",
       "3271  4.668102  47580.99160   4.435821         28.0  0.915949  95.161983   \n",
       "3272  7.808856  17329.80216   2.798243         23.0  0.654428  34.659604   \n",
       "3273  9.419510  33155.57822   3.298875         28.0  1.459755  66.311156   \n",
       "3274  5.126763  11983.86938   4.708658         31.0  0.686619  23.967739   \n",
       "3275  7.874671  17404.17706   2.309149         33.0  0.687336  34.808354   \n",
       "\n",
       "      turb_ratio  temp_ratio       Qn_ph       Qn_tds    Qn_turb    Qn_temp  \\\n",
       "0       0.592627    0.620000   29.039725  4158.263796  59.262708  62.000000   \n",
       "1       0.900131    0.266667  139.195996  3726.011572  90.013126  26.666667   \n",
       "2       0.611187    0.266667   79.956209  3981.908346  61.118675  26.666667   \n",
       "3       0.925754    0.366667   90.838294  4403.683488  92.575411  36.666667   \n",
       "4       0.815015    0.400000  129.611173  3595.797268  81.501508  40.000000   \n",
       "...          ...         ...         ...          ...        ...        ...   \n",
       "3271    0.887164    0.533333   91.594916  9516.198320  88.716418  53.333333   \n",
       "3272    0.559649    0.200000   65.442801  3465.960432  55.964857  20.000000   \n",
       "3273    0.659775    0.533333  145.975516  6631.115644  65.977510  53.333333   \n",
       "3274    0.941732    0.733333   68.661854  2396.773876  94.173169  73.333333   \n",
       "3275    0.461830    0.866667   68.733568  3480.835412  46.182981  86.666667   \n",
       "\n",
       "            wph       wtds      wturb     wtemp         wqi  \n",
       "0      9.811191  23.883073  34.037657  5.087118   72.819040  \n",
       "1     47.027944  21.400424  51.699223  2.188008  122.315598  \n",
       "2     27.013537  22.870172  35.103636  2.188008   87.175352  \n",
       "3     30.690094  25.292646  53.170876  3.008511  112.162127  \n",
       "4     43.789672  20.652535  46.810558  3.282012  114.534777  \n",
       "...         ...        ...        ...       ...         ...  \n",
       "3271  30.945722  54.656480  50.954456  4.376016  140.932673  \n",
       "3272  22.110121  19.906815  32.143530  1.641006   75.801472  \n",
       "3273  49.318433  38.085948  37.894318  4.376016  129.674714  \n",
       "3274  23.197692  13.765920  54.088552  6.017021   97.069185  \n",
       "3275  23.221921  19.992249  26.525290  7.111025   76.850485  \n",
       "\n",
       "[3276 rows x 17 columns]"
      ]
     },
     "execution_count": 22,
     "metadata": {},
     "output_type": "execute_result"
    }
   ],
   "source": [
    "dataset['wph']=dataset.Qn_ph * wt_ph\n",
    "dataset['wtds']=dataset.Qn_tds * wt_tds\n",
    "dataset['wturb']=dataset.Qn_turb * wt_turb\n",
    "dataset['wtemp']=dataset.Qn_temp * wt_temp\n",
    "\n",
    "dataset['wqi']=(dataset.wph+dataset.wtds+dataset.wturb+dataset.wtemp)/(wt_ph + wt_tds + wt_turb + wt_temp)\n",
    "dataset\n",
    "\n",
    "# dataset.drop(['pH_ratio', 'tds_ratio', 'turb_ratio', 'temp_ratio'], axis=1)"
   ]
  },
  {
   "cell_type": "code",
   "execution_count": 23,
   "id": "f3e7215b",
   "metadata": {},
   "outputs": [
    {
     "data": {
      "text/plain": [
       "<seaborn.axisgrid.PairGrid at 0x7f36fe31e0a0>"
      ]
     },
     "execution_count": 23,
     "metadata": {},
     "output_type": "execute_result"
    },
    {
     "data": {
      "image/png": "[encoded data removed]",
      "text/plain": [
       "<Figure size 1411.2x504 with 4 Axes>"
      ]
     },
     "metadata": {},
     "output_type": "display_data"
    }
   ],
   "source": [
    "# visualize the relationship between the features and the response using scatterplots\n",
    "sns.pairplot(dataset, x_vars=['ph','TDS','Turbidity', 'Temperature'], y_vars='wqi', size=7, aspect=0.7)"
   ]
  },
  {
   "cell_type": "code",
   "execution_count": 24,
   "id": "744f4401",
   "metadata": {},
   "outputs": [
    {
     "data": {
      "text/plain": [
       "225.14587360030248"
      ]
     },
     "execution_count": 24,
     "metadata": {},
     "output_type": "execute_result"
    }
   ],
   "source": [
    "max(dataset['wqi'])"
   ]
  },
  {
   "cell_type": "code",
   "execution_count": 25,
   "id": "92b3c561",
   "metadata": {},
   "outputs": [
    {
     "data": {
      "text/plain": [
       "39.88124361088856"
      ]
     },
     "execution_count": 25,
     "metadata": {},
     "output_type": "execute_result"
    }
   ],
   "source": [
    "min(dataset['wqi'])"
   ]
  },
  {
   "cell_type": "markdown",
   "id": "5cda8779",
   "metadata": {},
   "source": [
    "\n",
    "#### Then we classify the water on the basis of their water quality index.\n"
   ]
  },
  {
   "cell_type": "code",
   "execution_count": 26,
   "id": "43b02877",
   "metadata": {},
   "outputs": [
    {
     "data": {
      "text/html": [
       "<div>\n",
       "<style scoped>\n",
       "    .dataframe tbody tr th:only-of-type {\n",
       "        vertical-align: middle;\n",
       "    }\n",
       "\n",
       "    .dataframe tbody tr th {\n",
       "        vertical-align: top;\n",
       "    }\n",
       "\n",
       "    .dataframe thead th {\n",
       "        text-align: right;\n",
       "    }\n",
       "</style>\n",
       "<table border=\"1\" class=\"dataframe\">\n",
       "  <thead>\n",
       "    <tr style=\"text-align: right;\">\n",
       "      <th></th>\n",
       "      <th>ph</th>\n",
       "      <th>TDS</th>\n",
       "      <th>Turbidity</th>\n",
       "      <th>Temperature</th>\n",
       "      <th>pH_ratio</th>\n",
       "      <th>tds_ratio</th>\n",
       "      <th>turb_ratio</th>\n",
       "      <th>temp_ratio</th>\n",
       "      <th>Qn_ph</th>\n",
       "      <th>Qn_tds</th>\n",
       "      <th>Qn_turb</th>\n",
       "      <th>Qn_temp</th>\n",
       "      <th>wph</th>\n",
       "      <th>wtds</th>\n",
       "      <th>wturb</th>\n",
       "      <th>wtemp</th>\n",
       "      <th>wqi</th>\n",
       "      <th>quality</th>\n",
       "    </tr>\n",
       "  </thead>\n",
       "  <tbody>\n",
       "    <tr>\n",
       "      <th>0</th>\n",
       "      <td>7.080795</td>\n",
       "      <td>20791.31898</td>\n",
       "      <td>2.963135</td>\n",
       "      <td>29.3</td>\n",
       "      <td>0.290397</td>\n",
       "      <td>41.582638</td>\n",
       "      <td>0.592627</td>\n",
       "      <td>0.620000</td>\n",
       "      <td>29.039725</td>\n",
       "      <td>4158.263796</td>\n",
       "      <td>59.262708</td>\n",
       "      <td>62.000000</td>\n",
       "      <td>9.811191</td>\n",
       "      <td>23.883073</td>\n",
       "      <td>34.037657</td>\n",
       "      <td>5.087118</td>\n",
       "      <td>72.819040</td>\n",
       "      <td>Poor</td>\n",
       "    </tr>\n",
       "    <tr>\n",
       "      <th>1</th>\n",
       "      <td>3.716080</td>\n",
       "      <td>18630.05786</td>\n",
       "      <td>4.500656</td>\n",
       "      <td>24.0</td>\n",
       "      <td>1.391960</td>\n",
       "      <td>37.260116</td>\n",
       "      <td>0.900131</td>\n",
       "      <td>0.266667</td>\n",
       "      <td>139.195996</td>\n",
       "      <td>3726.011572</td>\n",
       "      <td>90.013126</td>\n",
       "      <td>26.666667</td>\n",
       "      <td>47.027944</td>\n",
       "      <td>21.400424</td>\n",
       "      <td>51.699223</td>\n",
       "      <td>2.188008</td>\n",
       "      <td>122.315598</td>\n",
       "      <td>Unsuitable</td>\n",
       "    </tr>\n",
       "    <tr>\n",
       "      <th>2</th>\n",
       "      <td>8.099124</td>\n",
       "      <td>19909.54173</td>\n",
       "      <td>3.055934</td>\n",
       "      <td>24.0</td>\n",
       "      <td>0.799562</td>\n",
       "      <td>39.819083</td>\n",
       "      <td>0.611187</td>\n",
       "      <td>0.266667</td>\n",
       "      <td>79.956209</td>\n",
       "      <td>3981.908346</td>\n",
       "      <td>61.118675</td>\n",
       "      <td>26.666667</td>\n",
       "      <td>27.013537</td>\n",
       "      <td>22.870172</td>\n",
       "      <td>35.103636</td>\n",
       "      <td>2.188008</td>\n",
       "      <td>87.175352</td>\n",
       "      <td>Very Poor</td>\n",
       "    </tr>\n",
       "    <tr>\n",
       "      <th>3</th>\n",
       "      <td>8.316766</td>\n",
       "      <td>22018.41744</td>\n",
       "      <td>4.628771</td>\n",
       "      <td>25.5</td>\n",
       "      <td>0.908383</td>\n",
       "      <td>44.036835</td>\n",
       "      <td>0.925754</td>\n",
       "      <td>0.366667</td>\n",
       "      <td>90.838294</td>\n",
       "      <td>4403.683488</td>\n",
       "      <td>92.575411</td>\n",
       "      <td>36.666667</td>\n",
       "      <td>30.690094</td>\n",
       "      <td>25.292646</td>\n",
       "      <td>53.170876</td>\n",
       "      <td>3.008511</td>\n",
       "      <td>112.162127</td>\n",
       "      <td>Unsuitable</td>\n",
       "    </tr>\n",
       "    <tr>\n",
       "      <th>4</th>\n",
       "      <td>9.092223</td>\n",
       "      <td>17978.98634</td>\n",
       "      <td>4.075075</td>\n",
       "      <td>26.0</td>\n",
       "      <td>1.296112</td>\n",
       "      <td>35.957973</td>\n",
       "      <td>0.815015</td>\n",
       "      <td>0.400000</td>\n",
       "      <td>129.611173</td>\n",
       "      <td>3595.797268</td>\n",
       "      <td>81.501508</td>\n",
       "      <td>40.000000</td>\n",
       "      <td>43.789672</td>\n",
       "      <td>20.652535</td>\n",
       "      <td>46.810558</td>\n",
       "      <td>3.282012</td>\n",
       "      <td>114.534777</td>\n",
       "      <td>Unsuitable</td>\n",
       "    </tr>\n",
       "    <tr>\n",
       "      <th>...</th>\n",
       "      <td>...</td>\n",
       "      <td>...</td>\n",
       "      <td>...</td>\n",
       "      <td>...</td>\n",
       "      <td>...</td>\n",
       "      <td>...</td>\n",
       "      <td>...</td>\n",
       "      <td>...</td>\n",
       "      <td>...</td>\n",
       "      <td>...</td>\n",
       "      <td>...</td>\n",
       "      <td>...</td>\n",
       "      <td>...</td>\n",
       "      <td>...</td>\n",
       "      <td>...</td>\n",
       "      <td>...</td>\n",
       "      <td>...</td>\n",
       "      <td>...</td>\n",
       "    </tr>\n",
       "    <tr>\n",
       "      <th>3271</th>\n",
       "      <td>4.668102</td>\n",
       "      <td>47580.99160</td>\n",
       "      <td>4.435821</td>\n",
       "      <td>28.0</td>\n",
       "      <td>0.915949</td>\n",
       "      <td>95.161983</td>\n",
       "      <td>0.887164</td>\n",
       "      <td>0.533333</td>\n",
       "      <td>91.594916</td>\n",
       "      <td>9516.198320</td>\n",
       "      <td>88.716418</td>\n",
       "      <td>53.333333</td>\n",
       "      <td>30.945722</td>\n",
       "      <td>54.656480</td>\n",
       "      <td>50.954456</td>\n",
       "      <td>4.376016</td>\n",
       "      <td>140.932673</td>\n",
       "      <td>Unsuitable</td>\n",
       "    </tr>\n",
       "    <tr>\n",
       "      <th>3272</th>\n",
       "      <td>7.808856</td>\n",
       "      <td>17329.80216</td>\n",
       "      <td>2.798243</td>\n",
       "      <td>23.0</td>\n",
       "      <td>0.654428</td>\n",
       "      <td>34.659604</td>\n",
       "      <td>0.559649</td>\n",
       "      <td>0.200000</td>\n",
       "      <td>65.442801</td>\n",
       "      <td>3465.960432</td>\n",
       "      <td>55.964857</td>\n",
       "      <td>20.000000</td>\n",
       "      <td>22.110121</td>\n",
       "      <td>19.906815</td>\n",
       "      <td>32.143530</td>\n",
       "      <td>1.641006</td>\n",
       "      <td>75.801472</td>\n",
       "      <td>Unsuitable</td>\n",
       "    </tr>\n",
       "    <tr>\n",
       "      <th>3273</th>\n",
       "      <td>9.419510</td>\n",
       "      <td>33155.57822</td>\n",
       "      <td>3.298875</td>\n",
       "      <td>28.0</td>\n",
       "      <td>1.459755</td>\n",
       "      <td>66.311156</td>\n",
       "      <td>0.659775</td>\n",
       "      <td>0.533333</td>\n",
       "      <td>145.975516</td>\n",
       "      <td>6631.115644</td>\n",
       "      <td>65.977510</td>\n",
       "      <td>53.333333</td>\n",
       "      <td>49.318433</td>\n",
       "      <td>38.085948</td>\n",
       "      <td>37.894318</td>\n",
       "      <td>4.376016</td>\n",
       "      <td>129.674714</td>\n",
       "      <td>Unsuitable</td>\n",
       "    </tr>\n",
       "    <tr>\n",
       "      <th>3274</th>\n",
       "      <td>5.126763</td>\n",
       "      <td>11983.86938</td>\n",
       "      <td>4.708658</td>\n",
       "      <td>31.0</td>\n",
       "      <td>0.686619</td>\n",
       "      <td>23.967739</td>\n",
       "      <td>0.941732</td>\n",
       "      <td>0.733333</td>\n",
       "      <td>68.661854</td>\n",
       "      <td>2396.773876</td>\n",
       "      <td>94.173169</td>\n",
       "      <td>73.333333</td>\n",
       "      <td>23.197692</td>\n",
       "      <td>13.765920</td>\n",
       "      <td>54.088552</td>\n",
       "      <td>6.017021</td>\n",
       "      <td>97.069185</td>\n",
       "      <td>Very Poor</td>\n",
       "    </tr>\n",
       "    <tr>\n",
       "      <th>3275</th>\n",
       "      <td>7.874671</td>\n",
       "      <td>17404.17706</td>\n",
       "      <td>2.309149</td>\n",
       "      <td>33.0</td>\n",
       "      <td>0.687336</td>\n",
       "      <td>34.808354</td>\n",
       "      <td>0.461830</td>\n",
       "      <td>0.866667</td>\n",
       "      <td>68.733568</td>\n",
       "      <td>3480.835412</td>\n",
       "      <td>46.182981</td>\n",
       "      <td>86.666667</td>\n",
       "      <td>23.221921</td>\n",
       "      <td>19.992249</td>\n",
       "      <td>26.525290</td>\n",
       "      <td>7.111025</td>\n",
       "      <td>76.850485</td>\n",
       "      <td>Very Poor</td>\n",
       "    </tr>\n",
       "  </tbody>\n",
       "</table>\n",
       "<p>3276 rows × 18 columns</p>\n",
       "</div>"
      ],
      "text/plain": [
       "            ph          TDS  Turbidity  Temperature  pH_ratio  tds_ratio  \\\n",
       "0     7.080795  20791.31898   2.963135         29.3  0.290397  41.582638   \n",
       "1     3.716080  18630.05786   4.500656         24.0  1.391960  37.260116   \n",
       "2     8.099124  19909.54173   3.055934         24.0  0.799562  39.819083   \n",
       "3     8.316766  22018.41744   4.628771         25.5  0.908383  44.036835   \n",
       "4     9.092223  17978.98634   4.075075         26.0  1.296112  35.957973   \n",
       "...        ...          ...        ...          ...       ...        ...   \n",
       "3271  4.668102  47580.99160   4.435821         28.0  0.915949  95.161983   \n",
       "3272  7.808856  17329.80216   2.798243         23.0  0.654428  34.659604   \n",
       "3273  9.419510  33155.57822   3.298875         28.0  1.459755  66.311156   \n",
       "3274  5.126763  11983.86938   4.708658         31.0  0.686619  23.967739   \n",
       "3275  7.874671  17404.17706   2.309149         33.0  0.687336  34.808354   \n",
       "\n",
       "      turb_ratio  temp_ratio       Qn_ph       Qn_tds    Qn_turb    Qn_temp  \\\n",
       "0       0.592627    0.620000   29.039725  4158.263796  59.262708  62.000000   \n",
       "1       0.900131    0.266667  139.195996  3726.011572  90.013126  26.666667   \n",
       "2       0.611187    0.266667   79.956209  3981.908346  61.118675  26.666667   \n",
       "3       0.925754    0.366667   90.838294  4403.683488  92.575411  36.666667   \n",
       "4       0.815015    0.400000  129.611173  3595.797268  81.501508  40.000000   \n",
       "...          ...         ...         ...          ...        ...        ...   \n",
       "3271    0.887164    0.533333   91.594916  9516.198320  88.716418  53.333333   \n",
       "3272    0.559649    0.200000   65.442801  3465.960432  55.964857  20.000000   \n",
       "3273    0.659775    0.533333  145.975516  6631.115644  65.977510  53.333333   \n",
       "3274    0.941732    0.733333   68.661854  2396.773876  94.173169  73.333333   \n",
       "3275    0.461830    0.866667   68.733568  3480.835412  46.182981  86.666667   \n",
       "\n",
       "            wph       wtds      wturb     wtemp         wqi     quality  \n",
       "0      9.811191  23.883073  34.037657  5.087118   72.819040        Poor  \n",
       "1     47.027944  21.400424  51.699223  2.188008  122.315598  Unsuitable  \n",
       "2     27.013537  22.870172  35.103636  2.188008   87.175352   Very Poor  \n",
       "3     30.690094  25.292646  53.170876  3.008511  112.162127  Unsuitable  \n",
       "4     43.789672  20.652535  46.810558  3.282012  114.534777  Unsuitable  \n",
       "...         ...        ...        ...       ...         ...         ...  \n",
       "3271  30.945722  54.656480  50.954456  4.376016  140.932673  Unsuitable  \n",
       "3272  22.110121  19.906815  32.143530  1.641006   75.801472  Unsuitable  \n",
       "3273  49.318433  38.085948  37.894318  4.376016  129.674714  Unsuitable  \n",
       "3274  23.197692  13.765920  54.088552  6.017021   97.069185   Very Poor  \n",
       "3275  23.221921  19.992249  26.525290  7.111025   76.850485   Very Poor  \n",
       "\n",
       "[3276 rows x 18 columns]"
      ]
     },
     "execution_count": 26,
     "metadata": {},
     "output_type": "execute_result"
    }
   ],
   "source": [
    "dataset['quality']=dataset.wqi.apply(lambda x:('Excellent' if (25>=x>=0)  \n",
    "                                 else('Good' if  (50>=x>=26) \n",
    "                                      else('Poor' if (75>=x>=51)\n",
    "                                          else('Very Poor' if (100>=x>=76) \n",
    "                                              else 'Unsuitable')))))\n",
    "dataset"
   ]
  },
  {
   "cell_type": "code",
   "execution_count": 27,
   "id": "771e973a",
   "metadata": {},
   "outputs": [
    {
     "data": {
      "text/html": [
       "<div>\n",
       "<style scoped>\n",
       "    .dataframe tbody tr th:only-of-type {\n",
       "        vertical-align: middle;\n",
       "    }\n",
       "\n",
       "    .dataframe tbody tr th {\n",
       "        vertical-align: top;\n",
       "    }\n",
       "\n",
       "    .dataframe thead th {\n",
       "        text-align: right;\n",
       "    }\n",
       "</style>\n",
       "<table border=\"1\" class=\"dataframe\">\n",
       "  <thead>\n",
       "    <tr style=\"text-align: right;\">\n",
       "      <th></th>\n",
       "      <th>ph</th>\n",
       "      <th>TDS</th>\n",
       "      <th>Turbidity</th>\n",
       "      <th>Temperature</th>\n",
       "      <th>pH_ratio</th>\n",
       "      <th>tds_ratio</th>\n",
       "      <th>turb_ratio</th>\n",
       "      <th>temp_ratio</th>\n",
       "      <th>Qn_ph</th>\n",
       "      <th>Qn_tds</th>\n",
       "      <th>Qn_turb</th>\n",
       "      <th>Qn_temp</th>\n",
       "      <th>wph</th>\n",
       "      <th>wtds</th>\n",
       "      <th>wturb</th>\n",
       "      <th>wtemp</th>\n",
       "      <th>wqi</th>\n",
       "    </tr>\n",
       "  </thead>\n",
       "  <tbody>\n",
       "    <tr>\n",
       "      <th>count</th>\n",
       "      <td>3276.000000</td>\n",
       "      <td>3276.000000</td>\n",
       "      <td>3276.000000</td>\n",
       "      <td>3276.000000</td>\n",
       "      <td>3276.000000</td>\n",
       "      <td>3276.000000</td>\n",
       "      <td>3276.000000</td>\n",
       "      <td>3276.000000</td>\n",
       "      <td>3276.000000</td>\n",
       "      <td>3276.000000</td>\n",
       "      <td>3276.000000</td>\n",
       "      <td>3276.000000</td>\n",
       "      <td>3276.000000</td>\n",
       "      <td>3276.000000</td>\n",
       "      <td>3276.000000</td>\n",
       "      <td>3276.000000</td>\n",
       "      <td>3276.000000</td>\n",
       "    </tr>\n",
       "    <tr>\n",
       "      <th>mean</th>\n",
       "      <td>7.080795</td>\n",
       "      <td>22014.092526</td>\n",
       "      <td>3.966786</td>\n",
       "      <td>25.231523</td>\n",
       "      <td>0.605018</td>\n",
       "      <td>44.028185</td>\n",
       "      <td>0.793357</td>\n",
       "      <td>0.354474</td>\n",
       "      <td>60.501750</td>\n",
       "      <td>4402.818505</td>\n",
       "      <td>79.335723</td>\n",
       "      <td>35.447434</td>\n",
       "      <td>20.440767</td>\n",
       "      <td>25.287678</td>\n",
       "      <td>45.566635</td>\n",
       "      <td>2.908472</td>\n",
       "      <td>94.203552</td>\n",
       "    </tr>\n",
       "    <tr>\n",
       "      <th>std</th>\n",
       "      <td>1.469956</td>\n",
       "      <td>8768.570828</td>\n",
       "      <td>0.780382</td>\n",
       "      <td>2.556669</td>\n",
       "      <td>0.508322</td>\n",
       "      <td>17.537142</td>\n",
       "      <td>0.156076</td>\n",
       "      <td>0.158232</td>\n",
       "      <td>50.832175</td>\n",
       "      <td>1753.714166</td>\n",
       "      <td>15.607648</td>\n",
       "      <td>15.823186</td>\n",
       "      <td>17.173861</td>\n",
       "      <td>10.072493</td>\n",
       "      <td>8.964285</td>\n",
       "      <td>1.298297</td>\n",
       "      <td>21.806012</td>\n",
       "    </tr>\n",
       "    <tr>\n",
       "      <th>min</th>\n",
       "      <td>0.000000</td>\n",
       "      <td>320.942611</td>\n",
       "      <td>1.450000</td>\n",
       "      <td>15.000000</td>\n",
       "      <td>0.000466</td>\n",
       "      <td>0.641885</td>\n",
       "      <td>0.290000</td>\n",
       "      <td>0.000000</td>\n",
       "      <td>0.046600</td>\n",
       "      <td>64.188522</td>\n",
       "      <td>29.000000</td>\n",
       "      <td>0.000000</td>\n",
       "      <td>0.015744</td>\n",
       "      <td>0.368668</td>\n",
       "      <td>16.656209</td>\n",
       "      <td>0.000000</td>\n",
       "      <td>39.881244</td>\n",
       "    </tr>\n",
       "    <tr>\n",
       "      <th>25%</th>\n",
       "      <td>6.277673</td>\n",
       "      <td>15666.690300</td>\n",
       "      <td>3.439711</td>\n",
       "      <td>24.000000</td>\n",
       "      <td>0.290397</td>\n",
       "      <td>31.333381</td>\n",
       "      <td>0.687942</td>\n",
       "      <td>0.266667</td>\n",
       "      <td>29.039725</td>\n",
       "      <td>3133.338060</td>\n",
       "      <td>68.794217</td>\n",
       "      <td>26.666667</td>\n",
       "      <td>9.811191</td>\n",
       "      <td>17.996391</td>\n",
       "      <td>39.512099</td>\n",
       "      <td>2.188008</td>\n",
       "      <td>79.273505</td>\n",
       "    </tr>\n",
       "    <tr>\n",
       "      <th>50%</th>\n",
       "      <td>7.080795</td>\n",
       "      <td>20927.833605</td>\n",
       "      <td>3.955028</td>\n",
       "      <td>25.231523</td>\n",
       "      <td>0.434031</td>\n",
       "      <td>41.855667</td>\n",
       "      <td>0.791006</td>\n",
       "      <td>0.348768</td>\n",
       "      <td>43.403115</td>\n",
       "      <td>4185.566721</td>\n",
       "      <td>79.100551</td>\n",
       "      <td>34.876819</td>\n",
       "      <td>14.663922</td>\n",
       "      <td>24.039888</td>\n",
       "      <td>45.431563</td>\n",
       "      <td>2.861653</td>\n",
       "      <td>91.482951</td>\n",
       "    </tr>\n",
       "    <tr>\n",
       "      <th>75%</th>\n",
       "      <td>7.870050</td>\n",
       "      <td>27332.762125</td>\n",
       "      <td>4.500320</td>\n",
       "      <td>26.750000</td>\n",
       "      <td>0.843858</td>\n",
       "      <td>54.665524</td>\n",
       "      <td>0.900064</td>\n",
       "      <td>0.450000</td>\n",
       "      <td>84.385832</td>\n",
       "      <td>5466.552425</td>\n",
       "      <td>90.006396</td>\n",
       "      <td>45.000000</td>\n",
       "      <td>28.510103</td>\n",
       "      <td>31.397256</td>\n",
       "      <td>51.695357</td>\n",
       "      <td>3.692263</td>\n",
       "      <td>106.133345</td>\n",
       "    </tr>\n",
       "    <tr>\n",
       "      <th>max</th>\n",
       "      <td>14.000000</td>\n",
       "      <td>61227.196010</td>\n",
       "      <td>6.739000</td>\n",
       "      <td>36.000000</td>\n",
       "      <td>3.750000</td>\n",
       "      <td>122.454392</td>\n",
       "      <td>1.347800</td>\n",
       "      <td>1.066667</td>\n",
       "      <td>375.000000</td>\n",
       "      <td>12245.439202</td>\n",
       "      <td>134.780000</td>\n",
       "      <td>106.666667</td>\n",
       "      <td>126.695304</td>\n",
       "      <td>70.331930</td>\n",
       "      <td>77.411168</td>\n",
       "      <td>8.752031</td>\n",
       "      <td>225.145874</td>\n",
       "    </tr>\n",
       "  </tbody>\n",
       "</table>\n",
       "</div>"
      ],
      "text/plain": [
       "                ph           TDS    Turbidity  Temperature     pH_ratio  \\\n",
       "count  3276.000000   3276.000000  3276.000000  3276.000000  3276.000000   \n",
       "mean      7.080795  22014.092526     3.966786    25.231523     0.605018   \n",
       "std       1.469956   8768.570828     0.780382     2.556669     0.508322   \n",
       "min       0.000000    320.942611     1.450000    15.000000     0.000466   \n",
       "25%       6.277673  15666.690300     3.439711    24.000000     0.290397   \n",
       "50%       7.080795  20927.833605     3.955028    25.231523     0.434031   \n",
       "75%       7.870050  27332.762125     4.500320    26.750000     0.843858   \n",
       "max      14.000000  61227.196010     6.739000    36.000000     3.750000   \n",
       "\n",
       "         tds_ratio   turb_ratio   temp_ratio        Qn_ph        Qn_tds  \\\n",
       "count  3276.000000  3276.000000  3276.000000  3276.000000   3276.000000   \n",
       "mean     44.028185     0.793357     0.354474    60.501750   4402.818505   \n",
       "std      17.537142     0.156076     0.158232    50.832175   1753.714166   \n",
       "min       0.641885     0.290000     0.000000     0.046600     64.188522   \n",
       "25%      31.333381     0.687942     0.266667    29.039725   3133.338060   \n",
       "50%      41.855667     0.791006     0.348768    43.403115   4185.566721   \n",
       "75%      54.665524     0.900064     0.450000    84.385832   5466.552425   \n",
       "max     122.454392     1.347800     1.066667   375.000000  12245.439202   \n",
       "\n",
       "           Qn_turb      Qn_temp          wph         wtds        wturb  \\\n",
       "count  3276.000000  3276.000000  3276.000000  3276.000000  3276.000000   \n",
       "mean     79.335723    35.447434    20.440767    25.287678    45.566635   \n",
       "std      15.607648    15.823186    17.173861    10.072493     8.964285   \n",
       "min      29.000000     0.000000     0.015744     0.368668    16.656209   \n",
       "25%      68.794217    26.666667     9.811191    17.996391    39.512099   \n",
       "50%      79.100551    34.876819    14.663922    24.039888    45.431563   \n",
       "75%      90.006396    45.000000    28.510103    31.397256    51.695357   \n",
       "max     134.780000   106.666667   126.695304    70.331930    77.411168   \n",
       "\n",
       "             wtemp          wqi  \n",
       "count  3276.000000  3276.000000  \n",
       "mean      2.908472    94.203552  \n",
       "std       1.298297    21.806012  \n",
       "min       0.000000    39.881244  \n",
       "25%       2.188008    79.273505  \n",
       "50%       2.861653    91.482951  \n",
       "75%       3.692263   106.133345  \n",
       "max       8.752031   225.145874  "
      ]
     },
     "execution_count": 27,
     "metadata": {},
     "output_type": "execute_result"
    }
   ],
   "source": [
    "dataset.describe()"
   ]
  },
  {
   "cell_type": "code",
   "execution_count": 28,
   "id": "2a4e39b2",
   "metadata": {},
   "outputs": [
    {
     "data": {
      "image/png": "[encoded data removed]",
      "text/plain": [
       "<Figure size 720x576 with 1 Axes>"
      ]
     },
     "metadata": {},
     "output_type": "display_data"
    }
   ],
   "source": [
    "mpl.style.use(\"ggplot\")\n",
    "fig = plt.figure(figsize = (10, 8))\n",
    "ax = fig.add_subplot(111)\n",
    "ax.set_xlabel(\"WQI\")\n",
    "ax.set_ylabel(\"Count\")\n",
    "ax.set_ylim((0, 1300))\n",
    "ax.hist(dataset.wqi, label = \"wqi\", bins = 10, color=\"#7FAFD4\")\n",
    "ax.legend()\n",
    "plt.show()"
   ]
  },
  {
   "cell_type": "code",
   "execution_count": 29,
   "id": "252c31e0",
   "metadata": {},
   "outputs": [
    {
     "data": {
      "text/plain": [
       "<AxesSubplot:>"
      ]
     },
     "execution_count": 29,
     "metadata": {},
     "output_type": "execute_result"
    },
    {
     "data": {
      "image/png": "[encoded data removed]",
      "text/plain": [
       "<Figure size 1008x504 with 1 Axes>"
      ]
     },
     "metadata": {},
     "output_type": "display_data"
    }
   ],
   "source": [
    "dataset.boxplot(column = ['wqi'], figsize=(14,7))"
   ]
  },
  {
   "cell_type": "markdown",
   "id": "94b2808a",
   "metadata": {},
   "source": [
    "----\n",
    "\n",
    "<a id=7></a>\n",
    "# **Model Creation**\n",
    "\n",
    "----"
   ]
  },
  {
   "cell_type": "markdown",
   "id": "d8201c65",
   "metadata": {},
   "source": [
    "\n",
    "## <mark><em>1. Multiple Linear Regression</em></mark>\n",
    "\n",
    "\n",
    "* Is an extension of Simple Linear regression as it takes more than one predictor variable to predict the response variable. It is an important regression algorithm that models the linear relationship between a single dependent continuous variable and more than one independent variable. It uses two or more independent variables to predict a dependent variable by fitting a best linear relationship.\n",
    "\n",
    "* Multiple linear regression is used to estimate the relationship between two or more independent variables and one dependent variable. You can use multiple linear regression when you want to know:\n",
    "\n",
    "* How strong the relationship is between two or more independent variables and one dependent variable (e.g. how rainfall, temperature, and amount of fertilizer added affect crop growth).\n",
    "* The value of the dependent variable at a certain value of the independent variables (e.g. the expected yield of a crop at certain levels of rainfall, temperature, and fertilizer addition).\n"
   ]
  },
  {
   "cell_type": "code",
   "execution_count": 30,
   "id": "c1fa7662",
   "metadata": {},
   "outputs": [],
   "source": [
    "#Setting the value for X and Y\n",
    "x = dataset[['ph', 'TDS', 'Turbidity', 'Temperature', 'pH_ratio', 'tds_ratio', 'turb_ratio', 'Qn_ph', 'Qn_tds', 'Qn_turb']]\n",
    "y = dataset['wqi']\n"
   ]
  },
  {
   "cell_type": "code",
   "execution_count": 31,
   "id": "b886acd3",
   "metadata": {},
   "outputs": [
    {
     "name": "stdout",
     "output_type": "stream",
     "text": [
      "(2293, 10) (983, 10) (2293,) (983,)\n"
     ]
    }
   ],
   "source": [
    "#Splitting the dataset\n",
    "from sklearn.model_selection import train_test_split\n",
    "# x_train, x_test, y_train, y_test = train_test_split(x, y, test_size = 0.25, random_state = 100, shuffle='true')\n",
    "x_train, x_test, y_train, y_test = train_test_split(x, y, test_size = 0.3, random_state = 42, shuffle='true')\n",
    "# summarize the shape of the train and test sets\n",
    "print(x_train.shape, x_test.shape, y_train.shape, y_test.shape)\n"
   ]
  },
  {
   "cell_type": "code",
   "execution_count": 32,
   "id": "acbb185f",
   "metadata": {},
   "outputs": [
    {
     "data": {
      "text/html": [
       "<style>#sk-container-id-1 {color: black;background-color: white;}#sk-container-id-1 pre{padding: 0;}#sk-container-id-1 div.sk-toggleable {background-color: white;}#sk-container-id-1 label.sk-toggleable__label {cursor: pointer;display: block;width: 100%;margin-bottom: 0;padding: 0.3em;box-sizing: border-box;text-align: center;}#sk-container-id-1 label.sk-toggleable__label-arrow:before {content: \"▸\";float: left;margin-right: 0.25em;color: #696969;}#sk-container-id-1 label.sk-toggleable__label-arrow:hover:before {color: black;}#sk-container-id-1 div.sk-estimator:hover label.sk-toggleable__label-arrow:before {color: black;}#sk-container-id-1 div.sk-toggleable__content {max-height: 0;max-width: 0;overflow: hidden;text-align: left;background-color: #f0f8ff;}#sk-container-id-1 div.sk-toggleable__content pre {margin: 0.2em;color: black;border-radius: 0.25em;background-color: #f0f8ff;}#sk-container-id-1 input.sk-toggleable__control:checked~div.sk-toggleable__content {max-height: 200px;max-width: 100%;overflow: auto;}#sk-container-id-1 input.sk-toggleable__control:checked~label.sk-toggleable__label-arrow:before {content: \"▾\";}#sk-container-id-1 div.sk-estimator input.sk-toggleable__control:checked~label.sk-toggleable__label {background-color: #d4ebff;}#sk-container-id-1 div.sk-label input.sk-toggleable__control:checked~label.sk-toggleable__label {background-color: #d4ebff;}#sk-container-id-1 input.sk-hidden--visually {border: 0;clip: rect(1px 1px 1px 1px);clip: rect(1px, 1px, 1px, 1px);height: 1px;margin: -1px;overflow: hidden;padding: 0;position: absolute;width: 1px;}#sk-container-id-1 div.sk-estimator {font-family: monospace;background-color: #f0f8ff;border: 1px dotted black;border-radius: 0.25em;box-sizing: border-box;margin-bottom: 0.5em;}#sk-container-id-1 div.sk-estimator:hover {background-color: #d4ebff;}#sk-container-id-1 div.sk-parallel-item::after {content: \"\";width: 100%;border-bottom: 1px solid gray;flex-grow: 1;}#sk-container-id-1 div.sk-label:hover label.sk-toggleable__label {background-color: #d4ebff;}#sk-container-id-1 div.sk-serial::before {content: \"\";position: absolute;border-left: 1px solid gray;box-sizing: border-box;top: 0;bottom: 0;left: 50%;z-index: 0;}#sk-container-id-1 div.sk-serial {display: flex;flex-direction: column;align-items: center;background-color: white;padding-right: 0.2em;padding-left: 0.2em;position: relative;}#sk-container-id-1 div.sk-item {position: relative;z-index: 1;}#sk-container-id-1 div.sk-parallel {display: flex;align-items: stretch;justify-content: center;background-color: white;position: relative;}#sk-container-id-1 div.sk-item::before, #sk-container-id-1 div.sk-parallel-item::before {content: \"\";position: absolute;border-left: 1px solid gray;box-sizing: border-box;top: 0;bottom: 0;left: 50%;z-index: -1;}#sk-container-id-1 div.sk-parallel-item {display: flex;flex-direction: column;z-index: 1;position: relative;background-color: white;}#sk-container-id-1 div.sk-parallel-item:first-child::after {align-self: flex-end;width: 50%;}#sk-container-id-1 div.sk-parallel-item:last-child::after {align-self: flex-start;width: 50%;}#sk-container-id-1 div.sk-parallel-item:only-child::after {width: 0;}#sk-container-id-1 div.sk-dashed-wrapped {border: 1px dashed gray;margin: 0 0.4em 0.5em 0.4em;box-sizing: border-box;padding-bottom: 0.4em;background-color: white;}#sk-container-id-1 div.sk-label label {font-family: monospace;font-weight: bold;display: inline-block;line-height: 1.2em;}#sk-container-id-1 div.sk-label-container {text-align: center;}#sk-container-id-1 div.sk-container {/* jupyter's `normalize.less` sets `[hidden] { display: none; }` but bootstrap.min.css set `[hidden] { display: none !important; }` so we also need the `!important` here to be able to override the default hidden behavior on the sphinx rendered scikit-learn.org. See: https://github.com/scikit-learn/scikit-learn/issues/21755 */display: inline-block !important;position: relative;}#sk-container-id-1 div.sk-text-repr-fallback {display: none;}</style><div id=\"sk-container-id-1\" class=\"sk-top-container\"><div class=\"sk-text-repr-fallback\"><pre>LinearRegression()</pre><b>In a Jupyter environment, please rerun this cell to show the HTML representation or trust the notebook. <br />On GitHub, the HTML representation is unable to render, please try loading this page with nbviewer.org.</b></div><div class=\"sk-container\" hidden><div class=\"sk-item\"><div class=\"sk-estimator sk-toggleable\"><input class=\"sk-toggleable__control sk-hidden--visually\" id=\"sk-estimator-id-1\" type=\"checkbox\" checked><label for=\"sk-estimator-id-1\" class=\"sk-toggleable__label sk-toggleable__label-arrow\">LinearRegression</label><div class=\"sk-toggleable__content\"><pre>LinearRegression()</pre></div></div></div></div></div>"
      ],
      "text/plain": [
       "LinearRegression()"
      ]
     },
     "execution_count": 32,
     "metadata": {},
     "output_type": "execute_result"
    }
   ],
   "source": [
    "\n",
    "#Fitting the Multiple Linear Regression model\n",
    "from sklearn.linear_model import LinearRegression\n",
    "mlr = LinearRegression()  \n",
    "mlr.fit(x_train, y_train)\n"
   ]
  },
  {
   "cell_type": "code",
   "execution_count": 33,
   "id": "3a298ca2",
   "metadata": {},
   "outputs": [
    {
     "name": "stdout",
     "output_type": "stream",
     "text": [
      "Intercept:  -9.561112560923661\n",
      "Coefficients:\n"
     ]
    },
    {
     "data": {
      "text/plain": [
       "[('ph', 0.008425272217412898),\n",
       " ('TDS', 0.0011034017577576903),\n",
       " ('Turbidity', 0.02869097735471949),\n",
       " ('Temperature', 0.4904894573389781),\n",
       " ('pH_ratio', 0.003375619547444356),\n",
       " ('tds_ratio', 2.206803515445719e-06),\n",
       " ('turb_ratio', 0.005738195470943905),\n",
       " ('Qn_ph', 0.33756195474442785),\n",
       " ('Qn_tds', 0.0002206803515577458),\n",
       " ('Qn_turb', 0.5738195470943898)]"
      ]
     },
     "execution_count": 33,
     "metadata": {},
     "output_type": "execute_result"
    }
   ],
   "source": [
    "print(\"Intercept: \", mlr.intercept_)\n",
    "print(\"Coefficients:\")\n",
    "list(zip(x, mlr.coef_))"
   ]
  },
  {
   "cell_type": "code",
   "execution_count": 34,
   "id": "f334a533",
   "metadata": {},
   "outputs": [
    {
     "name": "stdout",
     "output_type": "stream",
     "text": [
      "Prediction for test set: [ 92.38490962  97.96644311  77.86914872  67.57494424  84.76174357\n",
      " 186.29452393 103.60077602 181.4437608   62.75723117  99.5339144\n",
      "  80.75011792  97.62524137  58.56054785  72.68923503 129.05867973\n",
      " 129.08394314  73.90739177 105.32352314  74.89287535  87.16575294\n",
      "  81.59544789  97.26614592  94.11089069 110.63741174  73.42844704\n",
      "  96.7106082   98.72491715 130.66354959 103.48342332  74.86719324\n",
      " 121.85275393  66.49726514  89.69249599 111.81494281  94.11428113\n",
      "  76.2872315   78.18451438 100.26098493  76.27230858  90.67814908\n",
      "  78.22578618 129.25940755 110.17018289  87.80379521  81.83182335\n",
      "  82.67753717  98.52813775  71.96004555  76.90549752  98.13961778\n",
      "  87.11463963 125.96664377  64.8587336   91.53528322 100.70359965\n",
      " 171.66319714 108.95825179  72.04776072  78.16400466  94.29355984\n",
      " 143.57665002  80.725756    85.41744331  69.96598366  90.34544891\n",
      "  88.84075425 104.9251481   93.77734863 103.85411231 101.70028373\n",
      "  49.69556563 103.97172604 114.43805702 106.12963841  83.1057824\n",
      "  69.50792478  83.13054034  90.71697572 106.69975401  58.77116601\n",
      "  39.95529536  74.25217475 108.95207335  98.64055576  84.55601234\n",
      "  96.50019636 104.20955    117.42375654 143.8389704  128.4322102\n",
      "  66.48637555 113.94306693 107.07159413 131.09495177  84.08766516\n",
      "  89.45478958  90.01821802  88.056521   116.88288219  83.22370995\n",
      " 106.06482955 114.25226476 108.75816848 113.25629361 108.55370925\n",
      " 106.24460381  84.04806863 152.99376293  96.38958082  89.23610226\n",
      "  86.14273137 119.21000862  90.01715289 110.63087762  76.78446722\n",
      " 100.03312751  65.14352458  87.17393568  57.44941044 146.10698987\n",
      " 120.25080376 122.45320208  86.83362028 119.81051335  95.2334488\n",
      "  73.49801677  87.27378136 106.22578522  86.23673858  80.32252894\n",
      "  98.01415145 135.75762192  79.39164832  84.28652178  81.48250746\n",
      " 112.99346553 106.90841173  72.81166657  70.65649882  94.93172105\n",
      " 102.11599732 134.05549198  82.57599884 105.3862571  104.74546021\n",
      " 128.95580947 116.0173205  119.70176809 115.6102168  108.79160717\n",
      " 106.29267863  89.12796936 100.40762293  94.71446722 109.22823688\n",
      "  99.45065423  93.26365343  94.38656471  71.04027833  84.38662981\n",
      "  91.93819751  81.45060721  75.58214761  89.5058159   71.7139665\n",
      "  97.7549162   55.27973626 139.23024986  98.61327206 101.0458281\n",
      "  78.69317429  91.80535713  78.00137847  77.44754913  58.85599636\n",
      "  98.89878136  91.4286847   80.22121207  92.01491773 102.50342225\n",
      "  94.1246263   70.84787657 116.65189607  73.6562222   86.6185945\n",
      "  84.47783748  61.6804608   94.89987157  85.48347246  83.31098381\n",
      "  75.26779507  80.37858249 110.57527853 113.93178063  79.59621564\n",
      "  45.49459918  86.381758    87.37634715  67.64083403  66.32965293\n",
      "  92.43694452  75.5424274   81.28693604 107.61704978  76.75454759\n",
      " 118.62878898  88.28960555  74.63015709  60.42826218 124.27279816\n",
      "  86.37322834 110.14381183 108.91433889  93.33869384 129.16024852\n",
      " 149.36628929 114.43955168  98.57988515  90.9040293  109.11227112\n",
      "  72.98700869  68.87488585  72.86154364  68.48397099 108.01188445\n",
      "  91.96768099  89.92063523 128.72833361  77.67514408  86.69800492\n",
      " 108.66268418  76.84556939 118.02534905  74.4892033  111.57245012\n",
      "  63.88306029  70.41253325  70.45904769  89.66573097  61.39776747\n",
      "  78.04458173  88.0740505  105.47035126  71.66543552 125.23126648\n",
      " 106.67791487  75.49417401  91.03846066  99.54609879  84.46123492\n",
      "  86.2840332   78.62958882  57.38023821  59.22307592  89.50234088\n",
      "  80.23128918  96.94197578 114.442036    84.61243026  83.75673197\n",
      " 127.473248   117.43184465  94.16122082  85.03481055 102.85023009\n",
      "  84.65348106  90.2569688   82.77354906 104.45467539  48.03934811\n",
      "  93.50153806 116.05104895  91.45471188 100.53251882  98.58759482\n",
      "  82.35823234  96.98191192 148.62112587  77.49879468  78.39598621\n",
      " 132.87419126  79.81473047  87.52877389  73.22973968 140.28245665\n",
      " 107.81846092 108.12391416 132.73835234 104.91852503 120.99271164\n",
      "  84.4202894  101.57728998 109.36103249  70.50129626  77.30973641\n",
      "  82.69349241  58.11237135 115.41439873  78.9571685  104.09052463\n",
      " 128.08285995 138.7498498  101.03747446 125.52511453  77.77876837\n",
      " 104.52630156  87.41039133  74.05322233 140.77474437  70.42769495\n",
      "  88.09825836  74.37020525  72.62700554  73.22662962  95.36967313\n",
      "  66.47873083 110.41626544  71.69154674  71.7396562   99.12563613\n",
      " 127.68160053  77.52951161  98.10368495 108.34524807  86.75287384\n",
      "  79.33463866 105.86511245  75.50447026  84.28674651  82.05638945\n",
      " 105.43064749  78.33468805 101.69148287 106.35979309  70.412032\n",
      "  90.93932336  97.18764692 106.2789699   86.11415915 114.42956881\n",
      "  90.25679804  70.46958306  75.50359439  93.91926771 111.15970096\n",
      "  96.29592586 100.87190577 106.8352891   75.0648964   95.34689702\n",
      " 109.43340448  96.62673408 116.3757328   97.22094852 110.50946107\n",
      " 149.29656822  84.04659819 116.47864927  54.7931588   93.36063442\n",
      "  81.48025806 107.64225782 122.83494802 112.31708829  89.37578712\n",
      "  95.86095414  99.64035065  91.84330359  98.00424358  72.66036629\n",
      "  92.20073615 100.25514322  66.4404392   89.10418955 104.94216488\n",
      " 103.1095052  116.97623225  68.49499988  64.3525861  104.39826459\n",
      "  65.20998324  95.15073865 119.46723219  80.30197285 137.54740949\n",
      " 134.48408719  87.45503956 115.90450654  99.78447314  85.82659964\n",
      " 122.22631089  79.94360032  66.3512557   78.63451123 108.07841178\n",
      "  59.65917998  98.46350466  98.69864495  82.72744491  65.02052581\n",
      "  69.68028121  85.87694134  97.64246386  90.58719508 139.50809261\n",
      "  90.97846318 124.99361032  94.12280458 101.19099709  94.23125494\n",
      "  88.7416888   98.62353824 133.26394721  77.06744953 145.2974193\n",
      " 135.99193529  78.4111348   89.03594363 105.41714752  83.35520109\n",
      "  91.18384381  96.05085562 100.4772784  140.66020302  86.93529661\n",
      "  51.46273893 115.84745843  79.11020614  87.71318661 109.82700329\n",
      "  81.2089662  137.05887946 159.43370932  86.65609829  85.94697658\n",
      " 102.94968066  83.12511041  84.20754236  74.41467275 117.43792689\n",
      "  69.9854091   95.2550501   85.00595257  85.19653453  66.65455308\n",
      "  86.946024    63.02608188 104.96482129  86.52966908 123.34651964\n",
      "  93.6777     102.02028545 102.94292653 115.54627795  68.38219784\n",
      "  87.51996192  90.89578997 103.93713514  67.95404093  89.49058411\n",
      "  59.56455367  86.25556528  96.85289834  97.78676611  88.6761381\n",
      "  88.40608236 136.74002841  87.43813559  81.04935189 114.13216458\n",
      " 118.89854176 135.32875977  93.00221577 100.46202696  47.84115211\n",
      "  93.1371979   86.00494277  82.22983421  95.97004766  99.55362985\n",
      "  96.84893954  90.04825094  74.84343366  80.78307089 110.16458284\n",
      " 113.98831328  70.97976931  80.13516987 150.99271504  95.21275919\n",
      "  89.73313284  83.7876155  113.60364737  79.40111435  89.2713113\n",
      " 102.77922154  92.90026189 102.59721454  69.37638948  99.29991458\n",
      " 112.42899965  84.95618281 156.90380913  95.96408191 110.557499\n",
      " 107.34316858  84.94881012  63.47013691  86.58105231  75.09765091\n",
      "  89.83981445  90.03953601  61.66789487  96.03560701 114.28185108\n",
      "  90.1488461   96.59809665  79.10017454  73.07951853  85.53404813\n",
      "  74.74815659  98.75262409 108.3354395   87.80452568  84.29158099\n",
      " 130.85269982  80.65575898 101.84260079  59.64695113  92.8817378\n",
      "  79.18511642  87.61107531  96.51217538  86.66033092 138.79014987\n",
      " 101.54378078 107.69698503  85.22949896 135.49399614  56.79709475\n",
      "  61.48167386  99.40982533  81.33546421  75.23801059  60.38899832\n",
      " 116.21880916 101.73397168  82.55794547  84.2668007  113.57394696\n",
      "  78.70332256  63.34973127  81.08748869  90.76806372  77.90779931\n",
      "  78.30382054  76.63166902 106.57463104  64.36639054  95.22157136\n",
      " 106.03107167 102.15676697 135.24223858  67.23327603  79.54246343\n",
      " 112.4772551  102.40645468  95.35817999 123.78666946 109.07364144\n",
      "  78.95120592  91.54153008  77.63830559 130.97984223  96.71938127\n",
      " 108.87834859  89.33138841  84.53690943  79.89103885 106.9878561\n",
      " 113.95997797  84.70084691  92.1913613  135.3663422   82.07566966\n",
      "  90.36503722 101.00239157 101.96415115 112.23577638 113.19217624\n",
      "  95.95540757  74.99524154  93.16474537  90.67047112  93.73792373\n",
      " 120.42972702  85.81830686  78.91227649  94.04259794  92.56566483\n",
      "  83.20788939  88.46764397  68.90666397  72.88940586  67.56868285\n",
      "  99.22760233  87.6656354   72.50471872  78.19774273  61.19531442\n",
      "  99.23057094 125.29140221 119.94914848  91.17540527 106.5337519\n",
      "  62.57681902 105.77064473  69.45226761 118.00143645  86.15478931\n",
      "  56.9272756   89.72959322  82.91613811 112.09634933 102.25173141\n",
      " 131.88256247 129.63367323 116.72252835  70.72934975 150.87041456\n",
      " 141.08835025  77.85898884 126.57227239  70.51779016  94.0716837\n",
      "  77.13821937  69.01728604  97.73979477 109.56292521 100.99134596\n",
      "  84.42496722  88.37270009  94.88296064  84.87986828 115.61494557\n",
      " 176.76071928 140.54471006  97.75800983  94.20981109 125.86604089\n",
      " 148.79537559 130.05083173  88.7172767   86.92583244 126.71426431\n",
      "  85.92295222  55.38858014  90.22342192  86.93102284  65.37662849\n",
      "  77.83470625  90.72139425  58.2468706  100.95223618  77.59893579\n",
      "  94.0146239   83.29198728  82.48757198  98.91294386  97.09387946\n",
      " 115.29489193  81.77093875 159.9779858  149.1934201   71.54749521\n",
      "  89.30537823 105.45698221  81.14293135 106.29802462  71.20174573\n",
      "  91.77303062  86.14719425  93.13912454  64.59138345 113.83496387\n",
      " 138.64465527  78.37472546  99.23104938  67.62731966  93.19631434\n",
      "  89.91253745 105.63461446 106.3781232  123.90466592  56.09803912\n",
      " 110.01097242  86.78358031  72.30665791 126.43359418 123.59390182\n",
      "  81.65226726  85.62077413 118.52075386  73.26826898  86.0451814\n",
      " 114.86166249  71.96985908  89.68971    104.03313062  65.30793774\n",
      "  84.4603949  117.51175618  89.75377811 123.59222726  86.51035375\n",
      "  88.81048843 109.422448    73.27044122 105.88898408  96.36056236\n",
      " 126.0396691  126.62775798 100.3210258   59.4060946   54.88621475\n",
      "  68.25675967 152.83847163  98.00903858  87.19195597  78.85109743\n",
      "  94.64407529  82.71020359  76.309936   112.16830244  96.21276002\n",
      "  99.54687762 103.38511119 171.81965387 100.75178222  96.26792834\n",
      " 134.60700327  94.67433755  74.49578948  90.24688434 104.76712586\n",
      "  59.9474077   86.07939619 173.46323761  83.5565926  106.53396315\n",
      "  82.53096458  96.16094965  81.33943729  85.31573606 117.35795336\n",
      "  67.21191659 106.43829439  99.00605873 101.56345164  63.5312324\n",
      " 100.27062305  87.27551962 105.75615808  68.00472992 109.597713\n",
      "  89.24347908  95.19606407  82.79453412 114.90907209  86.34578497\n",
      " 105.91702945  85.92830459 113.81147217 106.45699186  81.32279324\n",
      " 133.05859308 112.18071493  82.5370858   82.33412297 122.16293892\n",
      "  88.25172077  87.85923308  80.49302279 103.60493217  86.16186262\n",
      " 105.74683411 124.88227166  98.95221109  90.05862295  98.21805045\n",
      " 118.09713155  63.13984774 152.86882611  80.50344131 104.20573659\n",
      "  82.73103458  94.34327027  71.67054129 117.6846511   65.99290888\n",
      "  66.70312317  97.53378781  92.0845043   87.68186291  62.18998764\n",
      "  73.30876503 124.24785868  94.90738234  80.95241457  81.33295611\n",
      "  61.59761312  92.16287448  84.91903961 120.0909118   84.89036333\n",
      "  91.40417654  76.74613532 106.87637067  97.49286443  89.14047631\n",
      "  81.53602808  89.71074032  71.63071943  89.64030221  79.82365478\n",
      "  88.61346632 108.21666904  56.00363246  70.32801962 105.56764448\n",
      "  80.78790486  94.77543023 173.00255753  90.55815328 102.2892203\n",
      "  49.89631654  83.11869715 108.90121319  95.22287143  94.82977544\n",
      " 143.87869114  76.33928686  82.92686523  78.61865603 130.20219445\n",
      "  85.77673085  67.31552299  73.72955336  95.2244842  161.64167425\n",
      "  89.78447737  74.15439941 140.20914153  98.5913672   77.70416909\n",
      " 100.41169802  87.0097489   68.60372486  82.758136   118.98826605\n",
      "  73.5610236   78.9910093  114.539873   142.54612039  64.11303374\n",
      "  83.07368696 117.79068477 118.62514424 122.35233974  74.87096474\n",
      "  48.66019342  84.6013629  107.5259187   78.80948342  90.28831679\n",
      "  96.70579718  78.55977487  70.07608682 102.61321753 102.64752455\n",
      "  68.79804864  93.94876858  59.51640719  66.48614956  84.58655966\n",
      "  65.60828583 101.12188277  72.89420663  89.92879756  66.44871149\n",
      "  98.58344911 113.92722014  90.67999077 112.4875076   94.61391513\n",
      "  79.99232277 122.41256226 104.53074412  94.70111559 105.64315225\n",
      " 127.8977267   81.2963266   89.10893872 100.86198282  82.33352799\n",
      "  69.78925007 118.39323598 144.31205406  92.60648335  80.39542496\n",
      "  69.86285278 109.70387917 103.28297256  75.73274248  83.42422232\n",
      "  84.18461057  99.07494263  89.13684958  87.35262749  89.95774359\n",
      " 109.63916663  80.93867736  83.73050814 139.1189508   77.64527885\n",
      "  83.66338134  72.47079234  76.43717099 106.85983739 113.39807273\n",
      "  82.93837765  86.6112001   76.18476169  79.70407405  69.22275977\n",
      "  83.9817058   65.96115494 113.48036536 116.71897808  68.04560008\n",
      " 125.93200348  75.8289478   96.01432904  59.57075186  99.76278773\n",
      " 107.21529647 136.21824234 106.0854243   96.25470388  75.8412338\n",
      "  94.12109238  82.13370341  97.36912885  93.44754701  94.37855333\n",
      "  71.83734956  83.49094568  82.54028553  81.42388515 104.62779189\n",
      "  79.23550679  93.69384464 133.06218756  88.47693181 143.61659478\n",
      "  75.75891309  82.62559934 120.14449567 100.29951605  90.74989708\n",
      "  96.79810393  95.93957528  82.8144144  102.52229438  90.78182422\n",
      "  90.85638416  84.91139406  49.56529379 120.34632092  91.37851634\n",
      "  95.4435386  103.06122544 102.3365912 ]\n"
     ]
    }
   ],
   "source": [
    "#Prediction of test set\n",
    "y_pred_mlr= mlr.predict(x_test)\n",
    "#Predicted values\n",
    "print(\"Prediction for test set: {}\".format(y_pred_mlr))\n"
   ]
  },
  {
   "cell_type": "code",
   "execution_count": 35,
   "id": "9f0e922c",
   "metadata": {},
   "outputs": [
    {
     "data": {
      "text/html": [
       "<div>\n",
       "<style scoped>\n",
       "    .dataframe tbody tr th:only-of-type {\n",
       "        vertical-align: middle;\n",
       "    }\n",
       "\n",
       "    .dataframe tbody tr th {\n",
       "        vertical-align: top;\n",
       "    }\n",
       "\n",
       "    .dataframe thead th {\n",
       "        text-align: right;\n",
       "    }\n",
       "</style>\n",
       "<table border=\"1\" class=\"dataframe\">\n",
       "  <thead>\n",
       "    <tr style=\"text-align: right;\">\n",
       "      <th></th>\n",
       "      <th>Actual value</th>\n",
       "      <th>Predicted value</th>\n",
       "    </tr>\n",
       "  </thead>\n",
       "  <tbody>\n",
       "    <tr>\n",
       "      <th>2947</th>\n",
       "      <td>92.309731</td>\n",
       "      <td>92.384910</td>\n",
       "    </tr>\n",
       "    <tr>\n",
       "      <th>2782</th>\n",
       "      <td>98.193551</td>\n",
       "      <td>97.966443</td>\n",
       "    </tr>\n",
       "    <tr>\n",
       "      <th>1644</th>\n",
       "      <td>78.588540</td>\n",
       "      <td>77.869149</td>\n",
       "    </tr>\n",
       "    <tr>\n",
       "      <th>70</th>\n",
       "      <td>67.631606</td>\n",
       "      <td>67.574944</td>\n",
       "    </tr>\n",
       "    <tr>\n",
       "      <th>2045</th>\n",
       "      <td>84.517055</td>\n",
       "      <td>84.761744</td>\n",
       "    </tr>\n",
       "    <tr>\n",
       "      <th>263</th>\n",
       "      <td>186.416743</td>\n",
       "      <td>186.294524</td>\n",
       "    </tr>\n",
       "    <tr>\n",
       "      <th>1042</th>\n",
       "      <td>103.589984</td>\n",
       "      <td>103.600776</td>\n",
       "    </tr>\n",
       "    <tr>\n",
       "      <th>2263</th>\n",
       "      <td>181.469417</td>\n",
       "      <td>181.443761</td>\n",
       "    </tr>\n",
       "    <tr>\n",
       "      <th>450</th>\n",
       "      <td>62.635550</td>\n",
       "      <td>62.757231</td>\n",
       "    </tr>\n",
       "    <tr>\n",
       "      <th>1832</th>\n",
       "      <td>99.499222</td>\n",
       "      <td>99.533914</td>\n",
       "    </tr>\n",
       "  </tbody>\n",
       "</table>\n",
       "</div>"
      ],
      "text/plain": [
       "      Actual value  Predicted value\n",
       "2947     92.309731        92.384910\n",
       "2782     98.193551        97.966443\n",
       "1644     78.588540        77.869149\n",
       "70       67.631606        67.574944\n",
       "2045     84.517055        84.761744\n",
       "263     186.416743       186.294524\n",
       "1042    103.589984       103.600776\n",
       "2263    181.469417       181.443761\n",
       "450      62.635550        62.757231\n",
       "1832     99.499222        99.533914"
      ]
     },
     "execution_count": 35,
     "metadata": {},
     "output_type": "execute_result"
    }
   ],
   "source": [
    "'''\n",
    "Once we have fitted (trained) the model, \n",
    "we can make predictions using the predict() function. \n",
    "We pass the values of x_test to this method and compare the predicted values called y_pred_mlr with y_test values to check how accurate our predicted values are.\n",
    "'''\n",
    "#Actual value and the predicted value\n",
    "mlr_diff = pd.DataFrame({'Actual value': y_test, 'Predicted value': y_pred_mlr})\n",
    "mlr_diff.head(10)\n"
   ]
  },
  {
   "cell_type": "code",
   "execution_count": 36,
   "id": "a9e97f9c",
   "metadata": {},
   "outputs": [
    {
     "data": {
      "text/plain": [
       "122.39827753063504"
      ]
     },
     "execution_count": 36,
     "metadata": {},
     "output_type": "execute_result"
    }
   ],
   "source": [
    "res = mlr.predict([[3.716080, 18630.05786, 4.500656, 24.0, 1.391960, 37.260116, 0.900131, 139.195996, 3726.011572, 90.013126]])[0]\n",
    "res"
   ]
  },
  {
   "cell_type": "markdown",
   "id": "d5781326",
   "metadata": {},
   "source": [
    "### R-Squared (R² or the coefficient of determination) \n",
    "* Is a statistical measure in a regression model that determines the proportion of variance in the dependent variable that can be explained by the independent variable. In other words, r-squared shows how well the data fit the regression model (the goodness of fit).\n",
    "\n",
    "### Absolute Error\n",
    "* Absolute Error is the amount of error in your measurements. It is the difference between the measured value and “true” value. For example, if a scale states 90 pounds but you know your true weight is 89 pounds, then the scale has an absolute error of 90 lbs – 89 lbs = 1 lbs.\n",
    "\n",
    "### Mean Absolute Error\n",
    "* The Mean Absolute Error(MAE) is the average of all absolute errors. \n",
    "\n",
    "### Mean Squared Error\n",
    "* mean squared error or mean squared deviation (MSD) of an estimator (of a procedure for estimating an unobserved quantity) measures the average of the squares of the errors—that is, the average squared difference between the estimated values and the actual value. \n",
    "\n",
    "### Root Mean Square Error\n",
    "* Root Mean Square Error (RMSE) is the standard deviation of the residuals (prediction errors). Residuals are a measure of how far from the regression line data points are; RMSE is a measure of how spread out these residuals are. In other words, it tells you how concentrated the data is around the line of best fit. Root mean square error is commonly used in climatology, forecasting, and regression analysis to verify experimental results.\n"
   ]
  },
  {
   "cell_type": "code",
   "execution_count": 37,
   "id": "31c21eeb",
   "metadata": {},
   "outputs": [
    {
     "name": "stdout",
     "output_type": "stream",
     "text": [
      "R squared: 99.98\n",
      "Mean Absolute Error: 0.13395537568202104\n",
      "Mean Square Error: 0.07351155655084296\n",
      "Root Mean Square Error: 0.2711301468867727\n"
     ]
    }
   ],
   "source": [
    "#Model Evaluation\n",
    "\n",
    "from sklearn import metrics\n",
    "meanAbErr = metrics.mean_absolute_error(y_test, y_pred_mlr)\n",
    "meanSqErr = metrics.mean_squared_error(y_test, y_pred_mlr)\n",
    "rootMeanSqErr = np.sqrt(metrics.mean_squared_error(y_test, y_pred_mlr))\n",
    "print('R squared: {:.2f}'.format(mlr.score(x,y)*100))\n",
    "print('Mean Absolute Error:', meanAbErr)\n",
    "print('Mean Square Error:', meanSqErr)\n",
    "print('Root Mean Square Error:', rootMeanSqErr)"
   ]
  },
  {
   "cell_type": "code",
   "execution_count": 38,
   "id": "f17a9edf",
   "metadata": {
    "scrolled": true
   },
   "outputs": [
    {
     "name": "stdout",
     "output_type": "stream",
     "text": [
      "Training RMSE:  0.32571759396271555\n",
      "Training R2:  99.97794000831128\n",
      "Testing RMSE:  0.2711301468867727\n",
      "Testing R2:  99.98409711933431\n"
     ]
    }
   ],
   "source": [
    "from sklearn.metrics import mean_squared_error, r2_score\n",
    "\n",
    "mlr_pred_train = mlr.predict(x_train)\n",
    "mlr_pred_test = mlr.predict(x_test)\n",
    "\n",
    "print(\"Training RMSE: \", np.sqrt(mean_squared_error(y_train, mlr_pred_train)))\n",
    "print(\"Training R2: \", r2_score(y_train, mlr_pred_train)*100)\n",
    "\n",
    "\n",
    "print(\"Testing RMSE: \", np.sqrt(mean_squared_error(y_test, mlr_pred_test)))\n",
    "print(\"Testing R2: \", r2_score(y_test, mlr_pred_test)*100)\n"
   ]
  },
  {
   "cell_type": "markdown",
   "id": "ed3e84c4",
   "metadata": {},
   "source": [
    "### As seen above, Multiple Linear Regression gives accuracy of 99%\n",
    "\n"
   ]
  },
  {
   "cell_type": "markdown",
   "id": "27b165c4",
   "metadata": {},
   "source": [
    "\n",
    "## <mark><em>2. Logistic Regression Model</em></mark>\n",
    "#### Here we are creating a logistic regression model because we don't have to predict a continuous value. \n"
   ]
  },
  {
   "cell_type": "code",
   "execution_count": 39,
   "id": "564004c1",
   "metadata": {},
   "outputs": [],
   "source": [
    "#Importing packages\n",
    "\n",
    "import pandas as pd # data processing\n",
    "import numpy as np # working with arrays\n",
    "import itertools # construct specialized tools\n",
    "import matplotlib.pyplot as plt # visualizations\n",
    "from matplotlib import rcParams # plot size customization\n",
    "from termcolor import colored as cl # text customization\n",
    "from sklearn.model_selection import train_test_split # splitting the data\n",
    "from sklearn.linear_model import LogisticRegression # model algorithm\n",
    "from sklearn.preprocessing import StandardScaler # data normalization\n",
    "from sklearn.metrics import jaccard_score as jss # evaluation metric\n",
    "from sklearn.metrics import precision_score # evaluation metric\n",
    "from sklearn.metrics import classification_report # evaluation metric\n",
    "from sklearn.metrics import confusion_matrix # evaluation metric\n",
    "from sklearn.metrics import log_loss # evaluation metric\n",
    "\n",
    "\n",
    "from sklearn import metrics \n",
    "from sklearn.linear_model import LogisticRegression"
   ]
  },
  {
   "cell_type": "code",
   "execution_count": 40,
   "id": "73a148c8",
   "metadata": {},
   "outputs": [],
   "source": [
    "#Setting the value for X and Y\n",
    "x = dataset[['ph', 'TDS', 'Turbidity', 'Temperature', 'pH_ratio', 'tds_ratio', 'turb_ratio', 'Qn_ph', 'Qn_tds', 'Qn_turb']]\n",
    "y = dataset.quality"
   ]
  },
  {
   "cell_type": "code",
   "execution_count": 41,
   "id": "64f3d97c",
   "metadata": {},
   "outputs": [],
   "source": [
    "x_train, x_test, y_train, y_test = train_test_split(x, y, random_state=4)"
   ]
  },
  {
   "cell_type": "code",
   "execution_count": 42,
   "id": "10240afe",
   "metadata": {},
   "outputs": [],
   "source": [
    "logistic_regression = LogisticRegression()\n",
    "logistic_regression.fit(x_train, y_train)\n",
    "\n",
    "#Train model\n",
    "y_pred = logistic_regression.predict(x_test)"
   ]
  },
  {
   "cell_type": "code",
   "execution_count": 43,
   "id": "a537f7d1",
   "metadata": {},
   "outputs": [
    {
     "data": {
      "text/plain": [
       "array(['Unsuitable'], dtype=object)"
      ]
     },
     "execution_count": 43,
     "metadata": {},
     "output_type": "execute_result"
    }
   ],
   "source": [
    "# predicting wqi\n",
    "firstSample = logistic_regression.predict((np.array([3.716080, 18630.05786, 4.500656, 24.0, 1.391960, 37.260116, 0.900131, 139.195996, 3726.011572, 90.013126]).reshape(1, -1)))\n",
    "firstSample"
   ]
  },
  {
   "cell_type": "code",
   "execution_count": 44,
   "id": "c728624c",
   "metadata": {},
   "outputs": [
    {
     "data": {
      "text/plain": [
       "62.51526251526251"
      ]
     },
     "execution_count": 44,
     "metadata": {},
     "output_type": "execute_result"
    }
   ],
   "source": [
    "#Finding Accuracy\n",
    "accuracy = metrics.accuracy_score(y_test, y_pred)\n",
    "accuracy_percentage = 100 * accuracy\n",
    "accuracy_percentage"
   ]
  },
  {
   "cell_type": "markdown",
   "id": "0a56c4b7",
   "metadata": {},
   "source": [
    "### As seen above, Logistic Regression for classification gives accuracy of 62%\n",
    "\n"
   ]
  },
  {
   "cell_type": "markdown",
   "id": "8977e9eb",
   "metadata": {},
   "source": [
    "\n",
    "## <mark><em>3. Random Forest Regression</em></mark>\n",
    "\n",
    "* Random Forest Regression algorithms are a class of Machine Learning algorithms that use the combination of multiple random decision trees each trained on a subset of data. \n",
    "* The use of multiple trees gives stability to the algorithm and reduces variance. The random forest regression algorithm is a commonly used model due to its ability to work well for large and most kinds of data.\n",
    "* A random forest is a meta estimator that fits a number of classifying decision trees on various sub-samples of the dataset and uses averaging to improve the predictive accuracy and control over-fitting. \n",
    "\n",
    "![alt text](https://miro.medium.com/v2/resize:fit:720/format:webp/0*4hfu8vepPsbjTBuH.png)"
   ]
  },
  {
   "cell_type": "code",
   "execution_count": 45,
   "id": "7ad20166",
   "metadata": {},
   "outputs": [],
   "source": [
    "import requests, io # for HTTP requests and I/O commands\n",
    "import matplotlib.pyplot as plt # for data visualization\n",
    "%matplotlib inline\n",
    "from sklearn.ensemble import RandomForestRegressor # for building the model"
   ]
  },
  {
   "cell_type": "code",
   "execution_count": 46,
   "id": "39ef8375",
   "metadata": {},
   "outputs": [],
   "source": [
    "#Setting the value for X and Y\n",
    "x = dataset[['ph', 'TDS', 'Turbidity', 'Temperature']]\n",
    "y = dataset.wqi"
   ]
  },
  {
   "cell_type": "code",
   "execution_count": 47,
   "id": "c161ae60",
   "metadata": {},
   "outputs": [],
   "source": [
    "# Splitting the dataset into training and testing set (80/20)\n",
    "x_train, x_test, y_train, y_test = train_test_split(x, y, test_size = 0.2, random_state = 28)"
   ]
  },
  {
   "cell_type": "code",
   "execution_count": 48,
   "id": "0aae44eb",
   "metadata": {},
   "outputs": [
    {
     "data": {
      "text/html": [
       "<style>#sk-container-id-2 {color: black;background-color: white;}#sk-container-id-2 pre{padding: 0;}#sk-container-id-2 div.sk-toggleable {background-color: white;}#sk-container-id-2 label.sk-toggleable__label {cursor: pointer;display: block;width: 100%;margin-bottom: 0;padding: 0.3em;box-sizing: border-box;text-align: center;}#sk-container-id-2 label.sk-toggleable__label-arrow:before {content: \"▸\";float: left;margin-right: 0.25em;color: #696969;}#sk-container-id-2 label.sk-toggleable__label-arrow:hover:before {color: black;}#sk-container-id-2 div.sk-estimator:hover label.sk-toggleable__label-arrow:before {color: black;}#sk-container-id-2 div.sk-toggleable__content {max-height: 0;max-width: 0;overflow: hidden;text-align: left;background-color: #f0f8ff;}#sk-container-id-2 div.sk-toggleable__content pre {margin: 0.2em;color: black;border-radius: 0.25em;background-color: #f0f8ff;}#sk-container-id-2 input.sk-toggleable__control:checked~div.sk-toggleable__content {max-height: 200px;max-width: 100%;overflow: auto;}#sk-container-id-2 input.sk-toggleable__control:checked~label.sk-toggleable__label-arrow:before {content: \"▾\";}#sk-container-id-2 div.sk-estimator input.sk-toggleable__control:checked~label.sk-toggleable__label {background-color: #d4ebff;}#sk-container-id-2 div.sk-label input.sk-toggleable__control:checked~label.sk-toggleable__label {background-color: #d4ebff;}#sk-container-id-2 input.sk-hidden--visually {border: 0;clip: rect(1px 1px 1px 1px);clip: rect(1px, 1px, 1px, 1px);height: 1px;margin: -1px;overflow: hidden;padding: 0;position: absolute;width: 1px;}#sk-container-id-2 div.sk-estimator {font-family: monospace;background-color: #f0f8ff;border: 1px dotted black;border-radius: 0.25em;box-sizing: border-box;margin-bottom: 0.5em;}#sk-container-id-2 div.sk-estimator:hover {background-color: #d4ebff;}#sk-container-id-2 div.sk-parallel-item::after {content: \"\";width: 100%;border-bottom: 1px solid gray;flex-grow: 1;}#sk-container-id-2 div.sk-label:hover label.sk-toggleable__label {background-color: #d4ebff;}#sk-container-id-2 div.sk-serial::before {content: \"\";position: absolute;border-left: 1px solid gray;box-sizing: border-box;top: 0;bottom: 0;left: 50%;z-index: 0;}#sk-container-id-2 div.sk-serial {display: flex;flex-direction: column;align-items: center;background-color: white;padding-right: 0.2em;padding-left: 0.2em;position: relative;}#sk-container-id-2 div.sk-item {position: relative;z-index: 1;}#sk-container-id-2 div.sk-parallel {display: flex;align-items: stretch;justify-content: center;background-color: white;position: relative;}#sk-container-id-2 div.sk-item::before, #sk-container-id-2 div.sk-parallel-item::before {content: \"\";position: absolute;border-left: 1px solid gray;box-sizing: border-box;top: 0;bottom: 0;left: 50%;z-index: -1;}#sk-container-id-2 div.sk-parallel-item {display: flex;flex-direction: column;z-index: 1;position: relative;background-color: white;}#sk-container-id-2 div.sk-parallel-item:first-child::after {align-self: flex-end;width: 50%;}#sk-container-id-2 div.sk-parallel-item:last-child::after {align-self: flex-start;width: 50%;}#sk-container-id-2 div.sk-parallel-item:only-child::after {width: 0;}#sk-container-id-2 div.sk-dashed-wrapped {border: 1px dashed gray;margin: 0 0.4em 0.5em 0.4em;box-sizing: border-box;padding-bottom: 0.4em;background-color: white;}#sk-container-id-2 div.sk-label label {font-family: monospace;font-weight: bold;display: inline-block;line-height: 1.2em;}#sk-container-id-2 div.sk-label-container {text-align: center;}#sk-container-id-2 div.sk-container {/* jupyter's `normalize.less` sets `[hidden] { display: none; }` but bootstrap.min.css set `[hidden] { display: none !important; }` so we also need the `!important` here to be able to override the default hidden behavior on the sphinx rendered scikit-learn.org. See: https://github.com/scikit-learn/scikit-learn/issues/21755 */display: inline-block !important;position: relative;}#sk-container-id-2 div.sk-text-repr-fallback {display: none;}</style><div id=\"sk-container-id-2\" class=\"sk-top-container\"><div class=\"sk-text-repr-fallback\"><pre>RandomForestRegressor(max_features=&#x27;sqrt&#x27;, random_state=18)</pre><b>In a Jupyter environment, please rerun this cell to show the HTML representation or trust the notebook. <br />On GitHub, the HTML representation is unable to render, please try loading this page with nbviewer.org.</b></div><div class=\"sk-container\" hidden><div class=\"sk-item\"><div class=\"sk-estimator sk-toggleable\"><input class=\"sk-toggleable__control sk-hidden--visually\" id=\"sk-estimator-id-2\" type=\"checkbox\" checked><label for=\"sk-estimator-id-2\" class=\"sk-toggleable__label sk-toggleable__label-arrow\">RandomForestRegressor</label><div class=\"sk-toggleable__content\"><pre>RandomForestRegressor(max_features=&#x27;sqrt&#x27;, random_state=18)</pre></div></div></div></div></div>"
      ],
      "text/plain": [
       "RandomForestRegressor(max_features='sqrt', random_state=18)"
      ]
     },
     "execution_count": 48,
     "metadata": {},
     "output_type": "execute_result"
    }
   ],
   "source": [
    "# # Initializing the Random Forest Regression model with 10 decision trees\n",
    "rf = RandomForestRegressor(n_estimators = 100, max_features = 'sqrt', random_state = 18)\n",
    "\n",
    "#Fitting the Random Forest Regression model to the data\n",
    "rf.fit(x_train, y_train)"
   ]
  },
  {
   "cell_type": "code",
   "execution_count": 49,
   "id": "18a3f863",
   "metadata": {},
   "outputs": [
    {
     "name": "stdout",
     "output_type": "stream",
     "text": [
      "\n",
      "RMSE:  3.274\n"
     ]
    }
   ],
   "source": [
    "# Predicting the target values of the test set\n",
    "y_pred = rf.predict(x_test)\n",
    "\n",
    "# RMSE (Root Mean Square Error)\n",
    "rmse = float(format(np.sqrt(mean_squared_error(y_test, y_pred)), '.3f'))\n",
    "print(\"\\nRMSE: \", rmse)"
   ]
  },
  {
   "cell_type": "code",
   "execution_count": 50,
   "id": "c0481039",
   "metadata": {},
   "outputs": [
    {
     "data": {
      "text/html": [
       "<div>\n",
       "<style scoped>\n",
       "    .dataframe tbody tr th:only-of-type {\n",
       "        vertical-align: middle;\n",
       "    }\n",
       "\n",
       "    .dataframe tbody tr th {\n",
       "        vertical-align: top;\n",
       "    }\n",
       "\n",
       "    .dataframe thead th {\n",
       "        text-align: right;\n",
       "    }\n",
       "</style>\n",
       "<table border=\"1\" class=\"dataframe\">\n",
       "  <thead>\n",
       "    <tr style=\"text-align: right;\">\n",
       "      <th></th>\n",
       "      <th>Actual value</th>\n",
       "      <th>Predicted value</th>\n",
       "    </tr>\n",
       "  </thead>\n",
       "  <tbody>\n",
       "    <tr>\n",
       "      <th>491</th>\n",
       "      <td>64.511040</td>\n",
       "      <td>72.709569</td>\n",
       "    </tr>\n",
       "    <tr>\n",
       "      <th>91</th>\n",
       "      <td>85.502297</td>\n",
       "      <td>86.431286</td>\n",
       "    </tr>\n",
       "    <tr>\n",
       "      <th>947</th>\n",
       "      <td>60.027739</td>\n",
       "      <td>61.947404</td>\n",
       "    </tr>\n",
       "    <tr>\n",
       "      <th>1377</th>\n",
       "      <td>109.736925</td>\n",
       "      <td>101.832919</td>\n",
       "    </tr>\n",
       "    <tr>\n",
       "      <th>1143</th>\n",
       "      <td>111.325881</td>\n",
       "      <td>111.130904</td>\n",
       "    </tr>\n",
       "    <tr>\n",
       "      <th>1283</th>\n",
       "      <td>72.943179</td>\n",
       "      <td>72.808378</td>\n",
       "    </tr>\n",
       "    <tr>\n",
       "      <th>2808</th>\n",
       "      <td>76.122920</td>\n",
       "      <td>75.817128</td>\n",
       "    </tr>\n",
       "    <tr>\n",
       "      <th>2028</th>\n",
       "      <td>90.925553</td>\n",
       "      <td>90.937682</td>\n",
       "    </tr>\n",
       "    <tr>\n",
       "      <th>2796</th>\n",
       "      <td>83.057967</td>\n",
       "      <td>94.663676</td>\n",
       "    </tr>\n",
       "    <tr>\n",
       "      <th>2320</th>\n",
       "      <td>89.766697</td>\n",
       "      <td>88.201898</td>\n",
       "    </tr>\n",
       "  </tbody>\n",
       "</table>\n",
       "</div>"
      ],
      "text/plain": [
       "      Actual value  Predicted value\n",
       "491      64.511040        72.709569\n",
       "91       85.502297        86.431286\n",
       "947      60.027739        61.947404\n",
       "1377    109.736925       101.832919\n",
       "1143    111.325881       111.130904\n",
       "1283     72.943179        72.808378\n",
       "2808     76.122920        75.817128\n",
       "2028     90.925553        90.937682\n",
       "2796     83.057967        94.663676\n",
       "2320     89.766697        88.201898"
      ]
     },
     "execution_count": 50,
     "metadata": {},
     "output_type": "execute_result"
    }
   ],
   "source": [
    "#Actual value and the predicted value\n",
    "mlr_diff = pd.DataFrame({'Actual value': y_test, 'Predicted value': y_pred})\n",
    "mlr_diff.head(10)"
   ]
  },
  {
   "cell_type": "code",
   "execution_count": 51,
   "id": "ef9ade3a",
   "metadata": {},
   "outputs": [
    {
     "name": "stdout",
     "output_type": "stream",
     "text": [
      "Training RMSE:  1.367000488501362\n",
      "Training R2:  99.6103479395644\n",
      "Testing RMSE:  3.2744578343456467\n",
      "Testing R2:  97.65950611980931\n"
     ]
    }
   ],
   "source": [
    "from sklearn.metrics import mean_squared_error, r2_score\n",
    "\n",
    "rf_pred_train = rf.predict(x_train)\n",
    "rf_pred_test = rf.predict(x_test)\n",
    "\n",
    "print(\"Training RMSE: \", np.sqrt(mean_squared_error(y_train, rf_pred_train)))\n",
    "print(\"Training R2: \", r2_score(y_train, rf_pred_train)*100)\n",
    "\n",
    "\n",
    "print(\"Testing RMSE: \", np.sqrt(mean_squared_error(y_test, rf_pred_test)))\n",
    "print(\"Testing R2: \", r2_score(y_test, rf_pred_test)*100)\n"
   ]
  },
  {
   "cell_type": "markdown",
   "id": "765cc3d6",
   "metadata": {},
   "source": [
    "### As seen above, Random Forest Regressor gives accuracy of 99%\n"
   ]
  },
  {
   "cell_type": "markdown",
   "id": "054bd553",
   "metadata": {},
   "source": [
    "## <mark><em>4. Random Forest Classifier</em></mark>\n",
    "\n",
    "* consists of a large number of individual decision trees that operate as an ensemble. Each individual tree in the random forest spits out a class prediction and the class with the most votes becomes our model’s prediction\n",
    "\n",
    "![alt text](https://www.freecodecamp.org/news/content/images/2020/08/how-random-forest-classifier-work.PNG)"
   ]
  },
  {
   "cell_type": "code",
   "execution_count": 52,
   "id": "3b76bd2c",
   "metadata": {},
   "outputs": [],
   "source": [
    "#Setting the value for X and Y\n",
    "\n",
    "x = dataset[['ph', 'TDS', 'Turbidity', 'Temperature']]\n",
    "y = dataset.quality\n",
    "\n",
    "# Splitting the dataset into training and testing set (80/20)\n",
    "x_train, x_test, y_train, y_test = train_test_split(x, y, test_size = 0.2, random_state = 28)"
   ]
  },
  {
   "cell_type": "code",
   "execution_count": 53,
   "id": "415432cf",
   "metadata": {},
   "outputs": [],
   "source": [
    "#Import Random Forest Model\n",
    "from sklearn.ensemble import RandomForestClassifier\n",
    "\n",
    "#Create a Gaussian Classifier\n",
    "clf=RandomForestClassifier(n_estimators=100)\n",
    "\n",
    "#Train the model using the training sets y_pred=clf.predict(X_test)\n",
    "clf.fit(x_train,y_train)\n",
    "y_pred = clf.predict(x_test)"
   ]
  },
  {
   "cell_type": "code",
   "execution_count": 54,
   "id": "60224d5f",
   "metadata": {},
   "outputs": [
    {
     "data": {
      "text/plain": [
       "array(['Poor'], dtype=object)"
      ]
     },
     "execution_count": 54,
     "metadata": {},
     "output_type": "execute_result"
    }
   ],
   "source": [
    "clf.predict([[7.080795, 20791.31898, 2.963135, 29.3]])\n"
   ]
  },
  {
   "cell_type": "code",
   "execution_count": 55,
   "id": "6550fc68",
   "metadata": {},
   "outputs": [
    {
     "data": {
      "text/plain": [
       "array(['Good'], dtype=object)"
      ]
     },
     "execution_count": 55,
     "metadata": {},
     "output_type": "execute_result"
    }
   ],
   "source": [
    "# Visulaizing quality for ph = 6.2, tds = 500.05786, turbidity = 2.5, temp = 24.0\n",
    "clf.predict([[6.2, 500.05786, 2.500656, 24.0]])\n"
   ]
  },
  {
   "cell_type": "code",
   "execution_count": 56,
   "id": "c024deb7",
   "metadata": {},
   "outputs": [
    {
     "name": "stdout",
     "output_type": "stream",
     "text": [
      "Accuracy: 91.61585365853658\n"
     ]
    }
   ],
   "source": [
    "#Import scikit-learn metrics module for accuracy calculation\n",
    "from sklearn import metrics\n",
    "\n",
    "# Model Accuracy, how often is the classifier correct?\n",
    "print(\"Accuracy:\",metrics.accuracy_score(y_test, y_pred) * 100)\n"
   ]
  },
  {
   "cell_type": "markdown",
   "id": "d5a288c7",
   "metadata": {},
   "source": [
    "### As seen above, random forest classifier gives accuracy of 90%"
   ]
  },
  {
   "cell_type": "markdown",
   "id": "21dd7fa6",
   "metadata": {},
   "source": [
    "## <mark><em>5. Support Vector Regression Or SVR</em></mark>\n",
    "\n",
    "* SVR is a powerful algorithm that allows us to choose how tolerant we are of errors, both through an acceptable error margin(ϵ) and through tuning our tolerance of falling outside that acceptable error rate.\n",
    "* The algorithm's goal is to minimize the error by identifying a function that puts more of the original points inside the tube while at the same time reducing the “slack.”\n",
    "* SVM and SVR algorithms can also handle non-linear situations through a kernel trick. A kernel is a function (you can choose between a few different ones) that takes the original non-linear problem and transforms it into a linear one, which is then handled by the algorithm in a higher-dimensional space.\n",
    "* Support Vector regression is a type of Support vector machine that supports linear and non-linear regression. As it seems in the below graph, the mission is to fit as many instances as possible between the lines while limiting the margin violations. The violation concept in this example represents as ε (epsilon).\n",
    "\n",
    "![alt text](https://miro.medium.com/v2/resize:fit:640/format:webp/1*25Kk53QBOpBie4_qMSTnAA.png)"
   ]
  },
  {
   "cell_type": "code",
   "execution_count": 57,
   "id": "45c0608a",
   "metadata": {},
   "outputs": [],
   "source": [
    "#Setting the value for X and Y\n",
    "x = dataset[['ph', 'TDS', 'Turbidity', 'Temperature']]\n",
    "y = dataset.wqi"
   ]
  },
  {
   "cell_type": "code",
   "execution_count": 58,
   "id": "51793849",
   "metadata": {},
   "outputs": [],
   "source": [
    "# Splitting the dataset into training and testing set (80/20)\n",
    "x_train, x_test, y_train, y_test = train_test_split(x, y, test_size = 0.2, random_state = 28)"
   ]
  },
  {
   "cell_type": "code",
   "execution_count": 59,
   "id": "89b4ef88",
   "metadata": {},
   "outputs": [
    {
     "data": {
      "text/html": [
       "<style>#sk-container-id-3 {color: black;background-color: white;}#sk-container-id-3 pre{padding: 0;}#sk-container-id-3 div.sk-toggleable {background-color: white;}#sk-container-id-3 label.sk-toggleable__label {cursor: pointer;display: block;width: 100%;margin-bottom: 0;padding: 0.3em;box-sizing: border-box;text-align: center;}#sk-container-id-3 label.sk-toggleable__label-arrow:before {content: \"▸\";float: left;margin-right: 0.25em;color: #696969;}#sk-container-id-3 label.sk-toggleable__label-arrow:hover:before {color: black;}#sk-container-id-3 div.sk-estimator:hover label.sk-toggleable__label-arrow:before {color: black;}#sk-container-id-3 div.sk-toggleable__content {max-height: 0;max-width: 0;overflow: hidden;text-align: left;background-color: #f0f8ff;}#sk-container-id-3 div.sk-toggleable__content pre {margin: 0.2em;color: black;border-radius: 0.25em;background-color: #f0f8ff;}#sk-container-id-3 input.sk-toggleable__control:checked~div.sk-toggleable__content {max-height: 200px;max-width: 100%;overflow: auto;}#sk-container-id-3 input.sk-toggleable__control:checked~label.sk-toggleable__label-arrow:before {content: \"▾\";}#sk-container-id-3 div.sk-estimator input.sk-toggleable__control:checked~label.sk-toggleable__label {background-color: #d4ebff;}#sk-container-id-3 div.sk-label input.sk-toggleable__control:checked~label.sk-toggleable__label {background-color: #d4ebff;}#sk-container-id-3 input.sk-hidden--visually {border: 0;clip: rect(1px 1px 1px 1px);clip: rect(1px, 1px, 1px, 1px);height: 1px;margin: -1px;overflow: hidden;padding: 0;position: absolute;width: 1px;}#sk-container-id-3 div.sk-estimator {font-family: monospace;background-color: #f0f8ff;border: 1px dotted black;border-radius: 0.25em;box-sizing: border-box;margin-bottom: 0.5em;}#sk-container-id-3 div.sk-estimator:hover {background-color: #d4ebff;}#sk-container-id-3 div.sk-parallel-item::after {content: \"\";width: 100%;border-bottom: 1px solid gray;flex-grow: 1;}#sk-container-id-3 div.sk-label:hover label.sk-toggleable__label {background-color: #d4ebff;}#sk-container-id-3 div.sk-serial::before {content: \"\";position: absolute;border-left: 1px solid gray;box-sizing: border-box;top: 0;bottom: 0;left: 50%;z-index: 0;}#sk-container-id-3 div.sk-serial {display: flex;flex-direction: column;align-items: center;background-color: white;padding-right: 0.2em;padding-left: 0.2em;position: relative;}#sk-container-id-3 div.sk-item {position: relative;z-index: 1;}#sk-container-id-3 div.sk-parallel {display: flex;align-items: stretch;justify-content: center;background-color: white;position: relative;}#sk-container-id-3 div.sk-item::before, #sk-container-id-3 div.sk-parallel-item::before {content: \"\";position: absolute;border-left: 1px solid gray;box-sizing: border-box;top: 0;bottom: 0;left: 50%;z-index: -1;}#sk-container-id-3 div.sk-parallel-item {display: flex;flex-direction: column;z-index: 1;position: relative;background-color: white;}#sk-container-id-3 div.sk-parallel-item:first-child::after {align-self: flex-end;width: 50%;}#sk-container-id-3 div.sk-parallel-item:last-child::after {align-self: flex-start;width: 50%;}#sk-container-id-3 div.sk-parallel-item:only-child::after {width: 0;}#sk-container-id-3 div.sk-dashed-wrapped {border: 1px dashed gray;margin: 0 0.4em 0.5em 0.4em;box-sizing: border-box;padding-bottom: 0.4em;background-color: white;}#sk-container-id-3 div.sk-label label {font-family: monospace;font-weight: bold;display: inline-block;line-height: 1.2em;}#sk-container-id-3 div.sk-label-container {text-align: center;}#sk-container-id-3 div.sk-container {/* jupyter's `normalize.less` sets `[hidden] { display: none; }` but bootstrap.min.css set `[hidden] { display: none !important; }` so we also need the `!important` here to be able to override the default hidden behavior on the sphinx rendered scikit-learn.org. See: https://github.com/scikit-learn/scikit-learn/issues/21755 */display: inline-block !important;position: relative;}#sk-container-id-3 div.sk-text-repr-fallback {display: none;}</style><div id=\"sk-container-id-3\" class=\"sk-top-container\"><div class=\"sk-text-repr-fallback\"><pre>SVR()</pre><b>In a Jupyter environment, please rerun this cell to show the HTML representation or trust the notebook. <br />On GitHub, the HTML representation is unable to render, please try loading this page with nbviewer.org.</b></div><div class=\"sk-container\" hidden><div class=\"sk-item\"><div class=\"sk-estimator sk-toggleable\"><input class=\"sk-toggleable__control sk-hidden--visually\" id=\"sk-estimator-id-3\" type=\"checkbox\" checked><label for=\"sk-estimator-id-3\" class=\"sk-toggleable__label sk-toggleable__label-arrow\">SVR</label><div class=\"sk-toggleable__content\"><pre>SVR()</pre></div></div></div></div></div>"
      ],
      "text/plain": [
       "SVR()"
      ]
     },
     "execution_count": 59,
     "metadata": {},
     "output_type": "execute_result"
    }
   ],
   "source": [
    "from sklearn.svm import SVR\n",
    "svr_model = SVR()\n",
    "svr_model.fit(x_train, y_train)"
   ]
  },
  {
   "cell_type": "code",
   "execution_count": 60,
   "id": "08c4d930",
   "metadata": {},
   "outputs": [
    {
     "data": {
      "text/plain": [
       "array([ 99.48800111,  99.62259033,  81.64091201,  83.53172358,\n",
       "       106.03232785,  81.56743524,  90.76526004,  89.27333976,\n",
       "        82.86730285,  88.66655523,  96.74541113,  90.33950872,\n",
       "        90.51094243, 104.99670737, 101.12003936,  78.96349223,\n",
       "       102.64024337,  80.70849474,  85.67645903,  83.52984557,\n",
       "        90.20889875, 104.728709  ,  99.35687983, 115.54029713,\n",
       "        95.95695545,  84.36491278,  78.33287181,  81.57798003,\n",
       "        88.42537929, 106.15925769,  91.48822436,  99.99487503,\n",
       "        91.68428683,  91.14911888,  92.93821662,  78.70670633,\n",
       "        79.61522306,  95.2935565 ,  87.8496108 ,  87.9320601 ,\n",
       "       113.67784293,  90.13885634,  82.85362143,  89.61554099,\n",
       "        85.66142991,  78.70796414,  92.77757389,  82.93314447,\n",
       "        78.68264706,  80.44883065,  79.24010979,  82.7546598 ,\n",
       "        86.80441656,  92.1160876 ,  83.486563  ,  86.81457495,\n",
       "        96.68145185, 103.60530676,  88.25743213, 101.18689127,\n",
       "        78.46562691,  87.09157708,  83.8764479 ,  90.95915158,\n",
       "       106.295482  ,  87.53223759,  81.78617255,  94.20295036,\n",
       "        80.3729407 ,  81.83708734,  81.65149977, 108.30151624,\n",
       "        85.75971412,  95.05713436,  94.88768131, 101.37833314,\n",
       "        96.54567983,  95.63773119,  93.51446966,  92.05280152,\n",
       "        82.58627013,  85.74173721,  81.16601587,  81.35495487,\n",
       "        89.90795865,  84.43924474,  85.45539293,  88.2057035 ,\n",
       "        94.40445508, 112.40891874,  84.48362115,  91.16923687,\n",
       "        79.35643092,  85.87150069,  81.58119567,  86.4686574 ,\n",
       "        86.60743963,  81.25257045,  78.66786865,  81.29818156,\n",
       "        89.12290313,  88.65143219,  84.94569   ,  81.04912987,\n",
       "        79.25054591,  88.09587408,  86.54513032, 102.03385708,\n",
       "        82.74736371, 107.67672924, 104.90813975,  88.26622114,\n",
       "        84.78512335,  96.18941684,  90.20447065,  90.65746895,\n",
       "        82.98749282,  94.77013836,  82.92422001, 102.70876293,\n",
       "        97.27521449, 115.24742282,  81.80451737,  84.07429059,\n",
       "        78.75167539, 101.4088094 ,  92.8247866 ,  93.90557619,\n",
       "        98.07239558,  80.06689349, 104.29323797,  83.05537258,\n",
       "       107.05239476,  84.84401958,  80.62268293,  87.41364601,\n",
       "        80.18934613, 101.15735118,  84.49848852, 100.74942078,\n",
       "       102.62753684,  82.33186   ,  83.92169722,  89.7843024 ,\n",
       "        98.71190232, 104.79822886,  96.35640336, 108.50429796,\n",
       "       101.83316889,  81.60538713,  93.02816036,  82.01352199,\n",
       "        80.48870206, 100.29089924,  82.83818525,  83.56914652,\n",
       "        99.25421021,  97.23017528,  86.71696265,  99.95859642,\n",
       "       107.13509479,  84.1626605 ,  82.15600347,  91.21316762,\n",
       "        85.50893348,  79.63402556,  94.0503949 ,  84.80669639,\n",
       "       105.54225093,  98.85848945,  86.8398519 , 101.69298972,\n",
       "       112.42562084, 101.56822618,  80.98399488,  82.12195703,\n",
       "        99.75772084,  95.49444772,  86.45012757,  83.3495545 ,\n",
       "        90.5448431 ,  87.54997405,  96.39947546, 111.62910357,\n",
       "        78.83985786,  78.43131554,  87.6418173 ,  85.5927299 ,\n",
       "        82.29413754,  86.1244988 ,  86.96943602,  79.37023283,\n",
       "        83.07964351,  94.36663446,  82.72020714,  91.90163065,\n",
       "        89.33193241,  88.24928249,  86.41723365, 115.64647854,\n",
       "        90.04074447,  85.49477762,  97.54915563,  94.26145043,\n",
       "       117.18127318,  88.88274345,  99.92175215,  80.84085183,\n",
       "        93.26951827,  98.52773651,  86.86016725, 103.87489782,\n",
       "        83.67900808,  92.64312871,  78.5481129 ,  88.05454973,\n",
       "        80.78815705,  79.63788192,  91.11723447,  88.24399745,\n",
       "        97.32030918,  84.96088393,  87.91422314,  93.32295936,\n",
       "        84.20809908,  81.01097002,  81.14514692,  91.41904749,\n",
       "        94.89726511,  87.07947039,  87.63987415,  87.88211417,\n",
       "       112.14992142,  94.44217377,  84.02541005,  89.47417521,\n",
       "       109.514933  ,  89.15289075,  89.87826531,  86.30695601,\n",
       "        83.36920708,  85.50674124, 111.13487902, 103.81802923,\n",
       "        78.68584841,  91.84673385,  82.561202  ,  91.69254799,\n",
       "        78.45080098,  81.37505504,  83.07005098,  82.62456245,\n",
       "        94.68353464,  83.98797782, 102.11414862,  89.82213546,\n",
       "        78.45159701,  95.90871553,  89.79930405,  86.82354702,\n",
       "        83.49760177,  87.17783605, 101.32850824,  80.26194479,\n",
       "        96.45971497,  90.21430878, 102.94957956,  96.60335126,\n",
       "       106.24557811,  82.84092956,  80.67874783,  79.18674295,\n",
       "        79.63299656, 106.50533936,  89.42426084,  82.58592045,\n",
       "        88.93578903, 108.07838288,  91.20165674, 101.39474291,\n",
       "        94.74028891, 111.26826077, 113.03544303,  78.4345121 ,\n",
       "        88.24698433,  80.84227869,  82.32964288,  87.20178958,\n",
       "        95.28833632, 114.89571214, 106.09758956,  82.95296312,\n",
       "        84.15697616, 101.21019049,  87.65391147,  87.10766685,\n",
       "        79.70581984,  96.34096211,  89.42169384,  84.39899508,\n",
       "       104.59975628,  88.76746596,  98.5978995 ,  83.42284478,\n",
       "        83.32047774,  97.64092266, 103.01999769,  91.31904252,\n",
       "        88.31254253,  87.27893786,  82.8560507 ,  82.51559132,\n",
       "        83.33394005,  96.66835006, 105.9521836 , 116.94728547,\n",
       "       116.51123996,  86.29410831,  89.17664534,  96.0782575 ,\n",
       "        97.04006796,  87.82478447, 108.81700988,  84.70601422,\n",
       "       115.09475375,  78.96049195, 103.07897015, 111.56413688,\n",
       "        87.35712853, 106.25966652, 103.32745734,  96.97820168,\n",
       "        88.98389546,  79.59826722,  89.58571675,  80.89796019,\n",
       "        98.0105171 ,  83.01768202,  92.46322078,  86.93055775,\n",
       "        79.65863199,  92.28969352, 105.53018699, 100.70311541,\n",
       "        78.81479458,  92.89253765, 106.73169542,  83.65997111,\n",
       "        89.97973015, 100.64497232,  92.70787777,  90.04114663,\n",
       "        84.91003428,  97.77211832, 110.85360155, 112.77873622,\n",
       "        83.88259144,  89.00025566,  97.02775968,  82.5918413 ,\n",
       "        88.65635803, 103.61394514,  84.80624373,  97.39685136,\n",
       "        78.93110408,  92.43963023,  93.10238327,  86.60184199,\n",
       "        82.22170745,  93.44734739,  78.61274252,  88.91451846,\n",
       "        97.718999  ,  87.71797903,  88.13720062, 111.90997446,\n",
       "       110.62013013, 100.99249235,  98.16892373,  85.4704697 ,\n",
       "        98.11933016, 114.70517107,  83.5639842 ,  83.36263668,\n",
       "        96.97381012,  79.20623199,  81.26573587,  89.17569351,\n",
       "        80.44274613,  96.28745831, 117.06784144,  78.84089312,\n",
       "        83.8693359 ,  92.30937591,  80.28697177, 105.41800613,\n",
       "       100.71528446,  85.06343347,  83.60413146,  81.95483562,\n",
       "        82.6801719 ,  85.57128467,  80.82400908,  88.60981594,\n",
       "        94.28024654,  80.07364613,  78.62276982,  84.61330813,\n",
       "       114.96550756,  91.94833442, 111.07737909,  91.27001099,\n",
       "       106.52313983,  81.05579037, 110.87928059,  98.40355665,\n",
       "        79.53210153, 111.14444859,  88.83340585,  96.84689861,\n",
       "        85.66101767, 101.35305152,  88.14282952,  90.10746717,\n",
       "       110.40509686,  97.79662077,  96.60141109,  88.39828526,\n",
       "        88.17206521,  86.56972577, 108.25218033,  78.67607029,\n",
       "        87.01067384,  80.03276462,  84.28765473,  86.95472913,\n",
       "        98.58445695,  81.62216051,  81.80125506,  78.74117012,\n",
       "        84.80867416, 106.44951717,  79.58435   ,  86.08742788,\n",
       "        84.94241068,  80.61848207,  86.13222763,  84.97349558,\n",
       "       104.67667565,  92.38836235,  80.62568742,  84.92922187,\n",
       "       101.47390615, 103.20784193,  82.98661252,  94.49763241,\n",
       "        85.16575841,  92.52579614,  95.82380093,  91.94989189,\n",
       "       104.77016946,  96.33980088,  86.83548354, 100.29500166,\n",
       "        87.2054297 ,  83.95128896,  85.59168813,  96.08737247,\n",
       "        89.80365489,  78.59097222,  80.41151331,  88.5601703 ,\n",
       "        86.81186053,  79.28553604,  93.31810345, 113.4772435 ,\n",
       "        96.17741502,  93.49924998, 102.96137833,  92.81319503,\n",
       "        84.97031709,  95.50027455,  80.2174105 , 100.42118436,\n",
       "        83.23889383,  82.38912994,  83.83080497,  79.8034674 ,\n",
       "       112.85100836,  96.37069474,  80.57469399,  79.50129023,\n",
       "        91.54190058, 103.53903392, 103.77683886, 112.13309142,\n",
       "        90.71024516,  91.20146229, 104.88903838,  98.43404755,\n",
       "        80.31129362,  95.39085875, 100.3399802 ,  98.75823609,\n",
       "        84.46670535,  83.52547134,  86.61413932,  89.36900894,\n",
       "        90.43301214,  79.16376478, 112.96162192,  82.57672953,\n",
       "        84.70917846,  84.31963079,  87.17695355, 111.30086418,\n",
       "        82.16145977,  82.7114161 ,  82.78091891,  81.6436847 ,\n",
       "        94.26329672,  91.11767074,  87.83041071,  87.5695724 ,\n",
       "        95.66368347,  78.37215571,  81.71717881,  80.61674969,\n",
       "        82.98666374,  82.68241627,  83.37552734,  93.13796531,\n",
       "        98.99218202, 101.71734874,  86.56289215,  80.22006949,\n",
       "        81.09838232,  96.67651377,  81.54677393,  95.35388094,\n",
       "        78.36784887,  94.45547531,  81.4540137 ,  85.17101654,\n",
       "        83.45950679,  99.69462939,  97.50269481,  87.92778227,\n",
       "        78.60136867,  85.79184532,  80.11378155,  90.64109532,\n",
       "        82.73988707,  86.54882446,  87.15611945,  88.99170252,\n",
       "        95.84943536,  97.95349094, 100.70725567,  81.7510091 ,\n",
       "        89.9538952 ,  93.0804095 ,  88.71416498,  97.807784  ,\n",
       "        86.48466113, 108.02850681,  99.31830745, 103.13395318,\n",
       "        86.18339875,  86.59775014, 105.18444758,  84.10348537,\n",
       "        86.9387172 ,  97.60245306,  85.29049535,  78.62681387,\n",
       "        93.97023089, 107.67393939,  95.80590415,  90.77288079,\n",
       "        84.95916816,  95.69157858, 101.45394443,  99.13477698,\n",
       "        89.70961789,  81.77482526,  93.51953921,  80.3863554 ,\n",
       "        78.80018282,  99.92280447,  88.70596148,  79.2794403 ,\n",
       "        98.87523689,  93.16376104,  87.5849964 ,  93.46594062,\n",
       "        78.47688826, 107.94594896,  80.70582084, 100.53067111,\n",
       "        84.69089407,  90.58150061,  95.50528958,  86.55506138,\n",
       "        90.6192424 ,  87.0064727 , 101.96039179,  91.94805036,\n",
       "        79.96590052,  89.83709714, 111.06997137, 115.16929394,\n",
       "        91.92890549,  96.69630924,  92.00520175,  91.37683799,\n",
       "        82.43371121, 100.33526812, 105.97394473,  86.18750703,\n",
       "       103.95271663, 105.83292472,  96.88335012,  84.49683407,\n",
       "        92.63454522,  80.08557219,  81.27517884,  79.7104506 ,\n",
       "       116.19132375,  81.81205102, 110.49185461,  94.10697577,\n",
       "        85.81306058,  81.82782717,  80.37955529,  89.42859933,\n",
       "        87.30211908,  98.67452382,  99.17149107,  79.67607977,\n",
       "        87.85570117,  87.30246358,  96.14777088,  96.54299251,\n",
       "        79.21495594,  92.43858297,  93.67101647,  92.30325164,\n",
       "        81.23390201,  82.73892197,  89.59171874,  83.76419974,\n",
       "        90.16152656,  95.58930094, 108.34698947,  89.83823888])"
      ]
     },
     "execution_count": 60,
     "metadata": {},
     "output_type": "execute_result"
    }
   ],
   "source": [
    "y_pred = svr_model.predict(x_test)\n",
    "y_pred"
   ]
  },
  {
   "cell_type": "code",
   "execution_count": 61,
   "id": "0d17fabd",
   "metadata": {},
   "outputs": [
    {
     "data": {
      "text/html": [
       "<div>\n",
       "<style scoped>\n",
       "    .dataframe tbody tr th:only-of-type {\n",
       "        vertical-align: middle;\n",
       "    }\n",
       "\n",
       "    .dataframe tbody tr th {\n",
       "        vertical-align: top;\n",
       "    }\n",
       "\n",
       "    .dataframe thead th {\n",
       "        text-align: right;\n",
       "    }\n",
       "</style>\n",
       "<table border=\"1\" class=\"dataframe\">\n",
       "  <thead>\n",
       "    <tr style=\"text-align: right;\">\n",
       "      <th></th>\n",
       "      <th>Actual value</th>\n",
       "      <th>Predicted value</th>\n",
       "    </tr>\n",
       "  </thead>\n",
       "  <tbody>\n",
       "    <tr>\n",
       "      <th>491</th>\n",
       "      <td>64.511040</td>\n",
       "      <td>99.488001</td>\n",
       "    </tr>\n",
       "    <tr>\n",
       "      <th>91</th>\n",
       "      <td>85.502297</td>\n",
       "      <td>99.622590</td>\n",
       "    </tr>\n",
       "    <tr>\n",
       "      <th>947</th>\n",
       "      <td>60.027739</td>\n",
       "      <td>81.640912</td>\n",
       "    </tr>\n",
       "    <tr>\n",
       "      <th>1377</th>\n",
       "      <td>109.736925</td>\n",
       "      <td>83.531724</td>\n",
       "    </tr>\n",
       "    <tr>\n",
       "      <th>1143</th>\n",
       "      <td>111.325881</td>\n",
       "      <td>106.032328</td>\n",
       "    </tr>\n",
       "    <tr>\n",
       "      <th>1283</th>\n",
       "      <td>72.943179</td>\n",
       "      <td>81.567435</td>\n",
       "    </tr>\n",
       "    <tr>\n",
       "      <th>2808</th>\n",
       "      <td>76.122920</td>\n",
       "      <td>90.765260</td>\n",
       "    </tr>\n",
       "    <tr>\n",
       "      <th>2028</th>\n",
       "      <td>90.925553</td>\n",
       "      <td>89.273340</td>\n",
       "    </tr>\n",
       "    <tr>\n",
       "      <th>2796</th>\n",
       "      <td>83.057967</td>\n",
       "      <td>82.867303</td>\n",
       "    </tr>\n",
       "    <tr>\n",
       "      <th>2320</th>\n",
       "      <td>89.766697</td>\n",
       "      <td>88.666555</td>\n",
       "    </tr>\n",
       "  </tbody>\n",
       "</table>\n",
       "</div>"
      ],
      "text/plain": [
       "      Actual value  Predicted value\n",
       "491      64.511040        99.488001\n",
       "91       85.502297        99.622590\n",
       "947      60.027739        81.640912\n",
       "1377    109.736925        83.531724\n",
       "1143    111.325881       106.032328\n",
       "1283     72.943179        81.567435\n",
       "2808     76.122920        90.765260\n",
       "2028     90.925553        89.273340\n",
       "2796     83.057967        82.867303\n",
       "2320     89.766697        88.666555"
      ]
     },
     "execution_count": 61,
     "metadata": {},
     "output_type": "execute_result"
    }
   ],
   "source": [
    "#Actual value and the predicted value\n",
    "svr_diff = pd.DataFrame({'Actual value': y_test, 'Predicted value': y_pred})\n",
    "svr_diff.head(10)"
   ]
  },
  {
   "cell_type": "code",
   "execution_count": 62,
   "id": "8b51088d",
   "metadata": {},
   "outputs": [
    {
     "name": "stdout",
     "output_type": "stream",
     "text": [
      "Training RMSE:  19.649128128231357\n",
      "Training R2:  19.494378559079372\n",
      "Testing RMSE:  19.367810293716023\n",
      "Testing R2:  18.117753305236484\n"
     ]
    }
   ],
   "source": [
    "from sklearn.metrics import mean_squared_error, r2_score\n",
    "\n",
    "svr_pred_train = svr_model.predict(x_train)\n",
    "svr_pred_test = svr_model.predict(x_test)\n",
    "\n",
    "print(\"Training RMSE: \", np.sqrt(mean_squared_error(y_train, svr_pred_train)))\n",
    "print(\"Training R2: \", r2_score(y_train, svr_pred_train)*100)\n",
    "\n",
    "\n",
    "print(\"Testing RMSE: \", np.sqrt(mean_squared_error(y_test, svr_pred_test)))\n",
    "print(\"Testing R2: \", r2_score(y_test, svr_pred_test)*100)\n"
   ]
  },
  {
   "cell_type": "markdown",
   "id": "c95b5505",
   "metadata": {},
   "source": [
    "### As seen above, SVR gives accuracy of 19%\n",
    "\n"
   ]
  },
  {
   "cell_type": "markdown",
   "id": "914e7a37",
   "metadata": {},
   "source": [
    "## <mark><em>6. Support Vector Machine or SVM </em></mark>\n",
    "\n",
    "* is one of the most popular Supervised Learning algorithms, which is used for Classification as well as Regression problems. However, primarily, it is used for Classification problems in Machine Learning.\n",
    "\n",
    "* The goal of the SVM algorithm is to create the best line or decision boundary that can segregate n-dimensional space into classes so that we can easily put the new data point in the correct category in the future. This best decision boundary is called a hyperplane.\n",
    "\n",
    "* SVM chooses the extreme points/vectors that help in creating the hyperplane. These extreme cases are called as support vectors, and hence algorithm is termed as Support Vector Machine. Consider the below diagram in which there are two different categories that are classified using a decision boundary or hyperplane:\n",
    "\n",
    "\n",
    "![alt text](https://static.javatpoint.com/tutorial/machine-learning/images/support-vector-machine-algorithm.png)"
   ]
  },
  {
   "cell_type": "code",
   "execution_count": 63,
   "id": "6bee2471",
   "metadata": {},
   "outputs": [],
   "source": [
    "#Setting the value for X and Y\n",
    "\n",
    "x = dataset[['ph', 'TDS', 'Turbidity', 'Temperature']]\n",
    "y = dataset.quality\n",
    "\n",
    "# Splitting the dataset into training and testing set (80/20)\n",
    "x_train, x_test, y_train, y_test = train_test_split(x, y, test_size = 0.2, random_state = 28)"
   ]
  },
  {
   "cell_type": "code",
   "execution_count": 64,
   "id": "39dd89bc",
   "metadata": {
    "scrolled": true
   },
   "outputs": [
    {
     "data": {
      "text/html": [
       "<style>#sk-container-id-4 {color: black;background-color: white;}#sk-container-id-4 pre{padding: 0;}#sk-container-id-4 div.sk-toggleable {background-color: white;}#sk-container-id-4 label.sk-toggleable__label {cursor: pointer;display: block;width: 100%;margin-bottom: 0;padding: 0.3em;box-sizing: border-box;text-align: center;}#sk-container-id-4 label.sk-toggleable__label-arrow:before {content: \"▸\";float: left;margin-right: 0.25em;color: #696969;}#sk-container-id-4 label.sk-toggleable__label-arrow:hover:before {color: black;}#sk-container-id-4 div.sk-estimator:hover label.sk-toggleable__label-arrow:before {color: black;}#sk-container-id-4 div.sk-toggleable__content {max-height: 0;max-width: 0;overflow: hidden;text-align: left;background-color: #f0f8ff;}#sk-container-id-4 div.sk-toggleable__content pre {margin: 0.2em;color: black;border-radius: 0.25em;background-color: #f0f8ff;}#sk-container-id-4 input.sk-toggleable__control:checked~div.sk-toggleable__content {max-height: 200px;max-width: 100%;overflow: auto;}#sk-container-id-4 input.sk-toggleable__control:checked~label.sk-toggleable__label-arrow:before {content: \"▾\";}#sk-container-id-4 div.sk-estimator input.sk-toggleable__control:checked~label.sk-toggleable__label {background-color: #d4ebff;}#sk-container-id-4 div.sk-label input.sk-toggleable__control:checked~label.sk-toggleable__label {background-color: #d4ebff;}#sk-container-id-4 input.sk-hidden--visually {border: 0;clip: rect(1px 1px 1px 1px);clip: rect(1px, 1px, 1px, 1px);height: 1px;margin: -1px;overflow: hidden;padding: 0;position: absolute;width: 1px;}#sk-container-id-4 div.sk-estimator {font-family: monospace;background-color: #f0f8ff;border: 1px dotted black;border-radius: 0.25em;box-sizing: border-box;margin-bottom: 0.5em;}#sk-container-id-4 div.sk-estimator:hover {background-color: #d4ebff;}#sk-container-id-4 div.sk-parallel-item::after {content: \"\";width: 100%;border-bottom: 1px solid gray;flex-grow: 1;}#sk-container-id-4 div.sk-label:hover label.sk-toggleable__label {background-color: #d4ebff;}#sk-container-id-4 div.sk-serial::before {content: \"\";position: absolute;border-left: 1px solid gray;box-sizing: border-box;top: 0;bottom: 0;left: 50%;z-index: 0;}#sk-container-id-4 div.sk-serial {display: flex;flex-direction: column;align-items: center;background-color: white;padding-right: 0.2em;padding-left: 0.2em;position: relative;}#sk-container-id-4 div.sk-item {position: relative;z-index: 1;}#sk-container-id-4 div.sk-parallel {display: flex;align-items: stretch;justify-content: center;background-color: white;position: relative;}#sk-container-id-4 div.sk-item::before, #sk-container-id-4 div.sk-parallel-item::before {content: \"\";position: absolute;border-left: 1px solid gray;box-sizing: border-box;top: 0;bottom: 0;left: 50%;z-index: -1;}#sk-container-id-4 div.sk-parallel-item {display: flex;flex-direction: column;z-index: 1;position: relative;background-color: white;}#sk-container-id-4 div.sk-parallel-item:first-child::after {align-self: flex-end;width: 50%;}#sk-container-id-4 div.sk-parallel-item:last-child::after {align-self: flex-start;width: 50%;}#sk-container-id-4 div.sk-parallel-item:only-child::after {width: 0;}#sk-container-id-4 div.sk-dashed-wrapped {border: 1px dashed gray;margin: 0 0.4em 0.5em 0.4em;box-sizing: border-box;padding-bottom: 0.4em;background-color: white;}#sk-container-id-4 div.sk-label label {font-family: monospace;font-weight: bold;display: inline-block;line-height: 1.2em;}#sk-container-id-4 div.sk-label-container {text-align: center;}#sk-container-id-4 div.sk-container {/* jupyter's `normalize.less` sets `[hidden] { display: none; }` but bootstrap.min.css set `[hidden] { display: none !important; }` so we also need the `!important` here to be able to override the default hidden behavior on the sphinx rendered scikit-learn.org. See: https://github.com/scikit-learn/scikit-learn/issues/21755 */display: inline-block !important;position: relative;}#sk-container-id-4 div.sk-text-repr-fallback {display: none;}</style><div id=\"sk-container-id-4\" class=\"sk-top-container\"><div class=\"sk-text-repr-fallback\"><pre>SVC()</pre><b>In a Jupyter environment, please rerun this cell to show the HTML representation or trust the notebook. <br />On GitHub, the HTML representation is unable to render, please try loading this page with nbviewer.org.</b></div><div class=\"sk-container\" hidden><div class=\"sk-item\"><div class=\"sk-estimator sk-toggleable\"><input class=\"sk-toggleable__control sk-hidden--visually\" id=\"sk-estimator-id-4\" type=\"checkbox\" checked><label for=\"sk-estimator-id-4\" class=\"sk-toggleable__label sk-toggleable__label-arrow\">SVC</label><div class=\"sk-toggleable__content\"><pre>SVC()</pre></div></div></div></div></div>"
      ],
      "text/plain": [
       "SVC()"
      ]
     },
     "execution_count": 64,
     "metadata": {},
     "output_type": "execute_result"
    }
   ],
   "source": [
    "from sklearn import svm\n",
    "svm_clf = svm.SVC()\n",
    "svm_clf.fit(x_train, y_train)"
   ]
  },
  {
   "cell_type": "code",
   "execution_count": 65,
   "id": "bd7ed4c2",
   "metadata": {},
   "outputs": [],
   "source": [
    "y_pred = svm_clf.predict(x_test)"
   ]
  },
  {
   "cell_type": "code",
   "execution_count": 66,
   "id": "e14f55b5",
   "metadata": {},
   "outputs": [
    {
     "data": {
      "text/plain": [
       "array(['Very Poor'], dtype=object)"
      ]
     },
     "execution_count": 66,
     "metadata": {},
     "output_type": "execute_result"
    }
   ],
   "source": [
    "svm_clf.predict([[7.080795, 20791.31898, 2.963135, 29.3]])\n"
   ]
  },
  {
   "cell_type": "code",
   "execution_count": 67,
   "id": "428ce4ed",
   "metadata": {},
   "outputs": [
    {
     "name": "stdout",
     "output_type": "stream",
     "text": [
      "Accuracy: 49.08536585365854\n"
     ]
    }
   ],
   "source": [
    "#Import scikit-learn metrics module for accuracy calculation\n",
    "from sklearn import metrics\n",
    "\n",
    "# Model Accuracy, how often is the classifier correct?\n",
    "print(\"Accuracy:\",metrics.accuracy_score(y_test, y_pred) * 100)\n"
   ]
  },
  {
   "cell_type": "markdown",
   "id": "d21c8aee",
   "metadata": {},
   "source": [
    "### As seen above, SVM gives accuracy of 49%\n",
    "\n"
   ]
  },
  {
   "cell_type": "markdown",
   "id": "1c1c8a9c",
   "metadata": {},
   "source": [
    "## <mark><em>7. Gradient Boosting Regression Or GBR</em></mark>\n",
    "\n",
    "* Gradient boosting is one of the most popular machine learning algorithms for tabular datasets. It is powerful enough to find any nonlinear relationship between your model target and features and has great usability that can deal with missing values, outliers, and high cardinality categorical values on your features without any special treatment."
   ]
  },
  {
   "cell_type": "code",
   "execution_count": 68,
   "id": "2eb41c92",
   "metadata": {},
   "outputs": [],
   "source": [
    "#Setting the value for X and Y\n",
    "x = dataset[['ph', 'TDS', 'Turbidity', 'Temperature']]\n",
    "y = dataset.wqi"
   ]
  },
  {
   "cell_type": "code",
   "execution_count": 69,
   "id": "06361f43",
   "metadata": {},
   "outputs": [],
   "source": [
    "# Splitting the dataset into training and testing set (80/20)\n",
    "x_train, x_test, y_train, y_test = train_test_split(x, y, test_size = 0.2, random_state = 28)"
   ]
  },
  {
   "cell_type": "code",
   "execution_count": 70,
   "id": "6d137c3b",
   "metadata": {},
   "outputs": [
    {
     "name": "stdout",
     "output_type": "stream",
     "text": [
      "MSE: 5.41\n"
     ]
    },
    {
     "data": {
      "image/png": "[encoded data removed]",
      "text/plain": [
       "<Figure size 432x288 with 1 Axes>"
      ]
     },
     "metadata": {
      "needs_background": "light"
     },
     "output_type": "display_data"
    }
   ],
   "source": [
    "from sklearn.ensemble import GradientBoostingRegressor\n",
    "\n",
    "# with new parameters\n",
    "gbr = GradientBoostingRegressor(n_estimators=600, \n",
    "    max_depth=5, \n",
    "    learning_rate=0.01, \n",
    "    min_samples_split=3)\n",
    "# with default parameters\n",
    "gbr = GradientBoostingRegressor()\n",
    "\n",
    "gbr.fit(x_train, y_train)\n",
    "\n",
    "y_pred = gbr.predict(x_test)\n",
    "mse = mean_squared_error(y_test,y_pred)\n",
    "print(\"MSE: %.2f\" % mse)\n",
    "\n",
    "x_ax = range(len(y_test))\n",
    "plt.scatter(x_ax, y_test, s=5, color=\"blue\", label=\"original\")\n",
    "plt.plot(x_ax, y_pred, lw=0.8, color=\"red\", label=\"predicted\")\n",
    "plt.legend()\n",
    "plt.show()"
   ]
  },
  {
   "cell_type": "code",
   "execution_count": 71,
   "id": "bea8816b",
   "metadata": {},
   "outputs": [
    {
     "data": {
      "text/html": [
       "<div>\n",
       "<style scoped>\n",
       "    .dataframe tbody tr th:only-of-type {\n",
       "        vertical-align: middle;\n",
       "    }\n",
       "\n",
       "    .dataframe tbody tr th {\n",
       "        vertical-align: top;\n",
       "    }\n",
       "\n",
       "    .dataframe thead th {\n",
       "        text-align: right;\n",
       "    }\n",
       "</style>\n",
       "<table border=\"1\" class=\"dataframe\">\n",
       "  <thead>\n",
       "    <tr style=\"text-align: right;\">\n",
       "      <th></th>\n",
       "      <th>Actual value</th>\n",
       "      <th>Predicted value</th>\n",
       "    </tr>\n",
       "  </thead>\n",
       "  <tbody>\n",
       "    <tr>\n",
       "      <th>491</th>\n",
       "      <td>64.511040</td>\n",
       "      <td>68.165595</td>\n",
       "    </tr>\n",
       "    <tr>\n",
       "      <th>91</th>\n",
       "      <td>85.502297</td>\n",
       "      <td>85.892104</td>\n",
       "    </tr>\n",
       "    <tr>\n",
       "      <th>947</th>\n",
       "      <td>60.027739</td>\n",
       "      <td>59.906445</td>\n",
       "    </tr>\n",
       "    <tr>\n",
       "      <th>1377</th>\n",
       "      <td>109.736925</td>\n",
       "      <td>104.962226</td>\n",
       "    </tr>\n",
       "    <tr>\n",
       "      <th>1143</th>\n",
       "      <td>111.325881</td>\n",
       "      <td>111.564239</td>\n",
       "    </tr>\n",
       "    <tr>\n",
       "      <th>1283</th>\n",
       "      <td>72.943179</td>\n",
       "      <td>74.588722</td>\n",
       "    </tr>\n",
       "    <tr>\n",
       "      <th>2808</th>\n",
       "      <td>76.122920</td>\n",
       "      <td>77.759687</td>\n",
       "    </tr>\n",
       "    <tr>\n",
       "      <th>2028</th>\n",
       "      <td>90.925553</td>\n",
       "      <td>92.133882</td>\n",
       "    </tr>\n",
       "    <tr>\n",
       "      <th>2796</th>\n",
       "      <td>83.057967</td>\n",
       "      <td>87.514521</td>\n",
       "    </tr>\n",
       "    <tr>\n",
       "      <th>2320</th>\n",
       "      <td>89.766697</td>\n",
       "      <td>87.846876</td>\n",
       "    </tr>\n",
       "  </tbody>\n",
       "</table>\n",
       "</div>"
      ],
      "text/plain": [
       "      Actual value  Predicted value\n",
       "491      64.511040        68.165595\n",
       "91       85.502297        85.892104\n",
       "947      60.027739        59.906445\n",
       "1377    109.736925       104.962226\n",
       "1143    111.325881       111.564239\n",
       "1283     72.943179        74.588722\n",
       "2808     76.122920        77.759687\n",
       "2028     90.925553        92.133882\n",
       "2796     83.057967        87.514521\n",
       "2320     89.766697        87.846876"
      ]
     },
     "execution_count": 71,
     "metadata": {},
     "output_type": "execute_result"
    }
   ],
   "source": [
    "#Actual value and the predicted value\n",
    "gbr_diff = pd.DataFrame({'Actual value': y_test, 'Predicted value': y_pred})\n",
    "gbr_diff.head(10)"
   ]
  },
  {
   "cell_type": "code",
   "execution_count": 72,
   "id": "5521d404",
   "metadata": {},
   "outputs": [
    {
     "name": "stdout",
     "output_type": "stream",
     "text": [
      "WQI:  40.06453604181509\n"
     ]
    }
   ],
   "source": [
    "res = gbr.predict([[6.5, 400, 2, 20]])[0]\n",
    "print(\"WQI: \", res)"
   ]
  },
  {
   "cell_type": "code",
   "execution_count": 73,
   "id": "1d883842",
   "metadata": {},
   "outputs": [
    {
     "name": "stdout",
     "output_type": "stream",
     "text": [
      "Training RMSE:  1.5197970884138916\n",
      "Training R2:  99.51837296849246\n",
      "Testing RMSE:  2.325504605625277\n",
      "Testing R2:  98.81950782365885\n"
     ]
    }
   ],
   "source": [
    "from sklearn.metrics import mean_squared_error, r2_score\n",
    "\n",
    "gbr_pred_train = gbr.predict(x_train)\n",
    "gbr_pred_test = gbr.predict(x_test)\n",
    "\n",
    "print(\"Training RMSE: \", np.sqrt(mean_squared_error(y_train, gbr_pred_train)))\n",
    "print(\"Training R2: \", r2_score(y_train, gbr_pred_train)*100)\n",
    "\n",
    "\n",
    "print(\"Testing RMSE: \", np.sqrt(mean_squared_error(y_test, gbr_pred_test)))\n",
    "print(\"Testing R2: \", r2_score(y_test, gbr_pred_test)*100)\n"
   ]
  },
  {
   "cell_type": "markdown",
   "id": "5f32f2f8",
   "metadata": {},
   "source": [
    "### As seen above, Gradient Boosting Regressor gives accuracy of 99.51%\n",
    "\n"
   ]
  },
  {
   "cell_type": "markdown",
   "id": "54798dc1",
   "metadata": {},
   "source": [
    "## <mark><em>8. Gradient Boosting Classifier or GBC</em></mark>\n",
    "\n",
    "* Gradient boosting classifiers are a group of machine learning algorithms that combine many weak learning models together to create a strong predictive model. Decision trees are usually used when doing gradient boosting. Gradient boosting models are becoming popular because of their effectiveness at classifying complex datasets, and have recently been used to win many Kaggle data science competitions."
   ]
  },
  {
   "cell_type": "code",
   "execution_count": 74,
   "id": "98c9b048",
   "metadata": {},
   "outputs": [],
   "source": [
    "#Setting the value for X and Y\n",
    "\n",
    "x = dataset[['ph', 'TDS', 'Turbidity', 'Temperature']]\n",
    "y = dataset.quality\n",
    "\n",
    "# Splitting the dataset into training and testing set (80/20)\n",
    "x_train, x_test, y_train, y_test = train_test_split(x, y, test_size = 0.2, random_state = 28)"
   ]
  },
  {
   "cell_type": "code",
   "execution_count": 79,
   "id": "f5185dbd",
   "metadata": {
    "scrolled": true
   },
   "outputs": [
    {
     "name": "stdout",
     "output_type": "stream",
     "text": [
      "Learning rate:  0.05\n",
      "Accuracy score (training): 0.700\n",
      "Accuracy score (validation): 0.649 \n",
      "\n",
      "Learning rate:  0.075\n",
      "Accuracy score (training): 0.756\n",
      "Accuracy score (validation): 0.691 \n",
      "\n",
      "Learning rate:  0.1\n",
      "Accuracy score (training): 0.789\n",
      "Accuracy score (validation): 0.724 \n",
      "\n",
      "Learning rate:  0.25\n",
      "Accuracy score (training): 0.861\n",
      "Accuracy score (validation): 0.811 \n",
      "\n",
      "Learning rate:  0.5\n",
      "Accuracy score (training): 0.915\n",
      "Accuracy score (validation): 0.858 \n",
      "\n",
      "Learning rate:  0.75\n",
      "Accuracy score (training): 0.937\n",
      "Accuracy score (validation): 0.881 \n",
      "\n",
      "Learning rate:  1\n",
      "Accuracy score (training): 0.863\n",
      "Accuracy score (validation): 0.806 \n",
      "\n"
     ]
    }
   ],
   "source": [
    "from sklearn.ensemble import GradientBoostingClassifier\n",
    "\n",
    "#setting different learning rates, so that we can compare the performance of the classifier's performance at different learning rates.\n",
    "lr_list = [0.05, 0.075, 0.1, 0.25, 0.5, 0.75, 1]\n",
    "\n",
    "for learning_rate in lr_list:\n",
    "    gb_clf = GradientBoostingClassifier(n_estimators=20, learning_rate=learning_rate, max_features=2, max_depth=2, random_state=0)\n",
    "    gb_clf.fit(x_train, y_train)\n",
    "\n",
    "    print(\"Learning rate: \", learning_rate)\n",
    "    print(\"Accuracy score (training): {0:.3f}\".format(gb_clf.score(x_train, y_train)))\n",
    "    print(\"Accuracy score (validation): {0:.3f}\".format(gb_clf.score(x_test, y_test)), \"\\n\")"
   ]
  },
  {
   "cell_type": "markdown",
   "id": "da7c87ce",
   "metadata": {},
   "source": [
    "#### learning rate of 0.75 gives us the best performance on the validation set and good performance on the training set.\n"
   ]
  },
  {
   "cell_type": "code",
   "execution_count": 76,
   "id": "49208a9c",
   "metadata": {},
   "outputs": [],
   "source": [
    "gb_clf2 = GradientBoostingClassifier(n_estimators=20, learning_rate=0.75, max_features=2, max_depth=2, random_state=0)\n",
    "gb_clf2.fit(x_train, y_train)\n",
    "y_pred = gb_clf2.predict(x_test)"
   ]
  },
  {
   "cell_type": "code",
   "execution_count": 77,
   "id": "0aa353f5",
   "metadata": {},
   "outputs": [
    {
     "data": {
      "text/plain": [
       "array(['Poor'], dtype=object)"
      ]
     },
     "execution_count": 77,
     "metadata": {},
     "output_type": "execute_result"
    }
   ],
   "source": [
    "gb_clf2.predict([[6.080795, 20791.31898, 2.963135, 29.3]])\n"
   ]
  },
  {
   "cell_type": "code",
   "execution_count": 78,
   "id": "03534683",
   "metadata": {},
   "outputs": [
    {
     "name": "stdout",
     "output_type": "stream",
     "text": [
      "Accuracy: 88.10975609756098\n"
     ]
    }
   ],
   "source": [
    "#Import scikit-learn metrics module for accuracy calculation\n",
    "from sklearn import metrics\n",
    "\n",
    "# Model Accuracy, how often is the classifier correct?\n",
    "print(\"Accuracy:\",metrics.accuracy_score(y_test, y_pred) * 100)\n"
   ]
  },
  {
   "cell_type": "markdown",
   "id": "e25b10f8",
   "metadata": {},
   "source": [
    "### As seen above, Gradient Boosting Classifier gives accuracy of 88%\n",
    "\n"
   ]
  }
 ],
 "metadata": {
  "kernelspec": {
   "display_name": "Python 3 (ipykernel)",
   "language": "python",
   "name": "python3"
  },
  "language_info": {
   "codemirror_mode": {
    "name": "ipython",
    "version": 3
   },
   "file_extension": ".py",
   "mimetype": "text/x-python",
   "name": "python",
   "nbconvert_exporter": "python",
   "pygments_lexer": "ipython3",
   "version": "3.8.10"
  }
 },
 "nbformat": 4,
 "nbformat_minor": 5
}
