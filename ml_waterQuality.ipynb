{
 "cells": [
  {
   "cell_type": "markdown",
   "id": "28a28f48",
   "metadata": {},
   "source": [
    "--------------------------------------------------------------------------------------------------------------\n",
    "\n",
    "# <p style = \"text-align:center; \"><font color= blue >Water Quality Prediction</font></p>\n",
    "\n",
    "--------------------------------------------------------------------------------------------------------------\n",
    "\n",
    "We all know water is one of the most essential resource for our living. But as the development is increasing, we are exploiting water by wasting it and treating it with harmful materials which makes water impure and unfit for use. This is the reason it is very important to know the quality of water. This kernel is based on water quality prediction. In this kernel, water quality index (WQI) and quality status of water is predicted through some parameters that affects water quality.\n",
    "In this notebook I have performed Data Cleaning steps and did Exploratory Data Analysis. Then I have did some calculations as the data does not contain the column which can be used for prediction i.e <b>WQI</b>\n",
    "\n",
    "\n",
    "-----\n",
    "\n",
    "## About Dataset\n",
    "\n",
    "### Content\n",
    "\n",
    "The water_potability.csv file contains water quality metrics for 3276 different water bodies.\n",
    "\n",
    "'final.csv' file contains water quality metrics of 3276 records.\n",
    "\n",
    "###### 1. pH \n",
    "level is a measure of the acid content of the water. Most\n",
    "forms of aquatic life tend to be very sensitive to pH. \n",
    "\n",
    "###### 2. TDS (Total Dissolved Solids)\n",
    "This is a measure of the solid materials dissolved in the river\n",
    "water. This includes salts, some organic materials, and a wide\n",
    "range of other things from nutrients to toxic materials. \n",
    "\n",
    "###### 3. Turbidity:\n",
    "The turbidity of water depends on the quantity of solid matter present in the suspended state. It is a measure of light emitting properties of water and the test is used to indicate the quality of waste discharge with respect to colloidal matter. T\n",
    "\n",
    "###### 4. Temperature\n",
    "The water temperature of a river is very important, as many of\n",
    "the physical, biological, and chemical characteristics of a river\n",
    "are directly affected by temperature. Most waterborne animal and\n",
    "plant life survives within a certain range of water temperatures,\n",
    "and few of them can tolerate extreme changes in this parameter. "
   ]
  },
  {
   "cell_type": "markdown",
   "id": "dce7e8c7",
   "metadata": {},
   "source": [
    "# **Table of Contents**\n",
    "* [Importing Libraries](#2)\n",
    "* [Data gathering](#3)\n",
    "* [Data Cleaning](#4)\n",
    "* [EDA](#5)\n",
    "* [Feature Engineering](#6)\n",
    "* [Model Creation](#7)"
   ]
  },
  {
   "cell_type": "markdown",
   "id": "e86c6877",
   "metadata": {},
   "source": [
    "----\n",
    "\n",
    "<a id=2></a>\n",
    "# **Importing libraries**\n",
    "\n",
    "-----"
   ]
  },
  {
   "cell_type": "code",
   "execution_count": 1,
   "id": "02952f4d",
   "metadata": {},
   "outputs": [
    {
     "name": "stderr",
     "output_type": "stream",
     "text": [
      "/home/karuna/.local/lib/python3.8/site-packages/pandas/core/computation/expressions.py:20: UserWarning: Pandas requires version '2.7.3' or newer of 'numexpr' (version '2.7.1' currently installed).\n",
      "  from pandas.core.computation.check import NUMEXPR_INSTALLED\n"
     ]
    }
   ],
   "source": [
    "import os\n",
    "import pandas as pd\n",
    "import numpy as np\n",
    "%matplotlib inline\n",
    "import matplotlib as mpl\n",
    "import matplotlib.pyplot as plt\n",
    "import seaborn as sns\n",
    "import geopandas as gpd\n",
    "import statsmodels.formula.api as smf\n",
    "import warnings\n",
    "warnings.filterwarnings(\"ignore\")"
   ]
  },
  {
   "cell_type": "markdown",
   "id": "c82cc203",
   "metadata": {},
   "source": [
    "----\n",
    "<a id=3></a>\n",
    "## Data Gathering\n",
    "\n",
    "----"
   ]
  },
  {
   "cell_type": "code",
   "execution_count": 2,
   "id": "b6a1dbc6",
   "metadata": {},
   "outputs": [
    {
     "data": {
      "text/html": [
       "<div>\n",
       "<style scoped>\n",
       "    .dataframe tbody tr th:only-of-type {\n",
       "        vertical-align: middle;\n",
       "    }\n",
       "\n",
       "    .dataframe tbody tr th {\n",
       "        vertical-align: top;\n",
       "    }\n",
       "\n",
       "    .dataframe thead th {\n",
       "        text-align: right;\n",
       "    }\n",
       "</style>\n",
       "<table border=\"1\" class=\"dataframe\">\n",
       "  <thead>\n",
       "    <tr style=\"text-align: right;\">\n",
       "      <th></th>\n",
       "      <th>ph</th>\n",
       "      <th>TDS</th>\n",
       "      <th>Turbidity</th>\n",
       "      <th>Temperature</th>\n",
       "    </tr>\n",
       "  </thead>\n",
       "  <tbody>\n",
       "    <tr>\n",
       "      <th>0</th>\n",
       "      <td>NaN</td>\n",
       "      <td>20791.31898</td>\n",
       "      <td>2.963135</td>\n",
       "      <td>29.3</td>\n",
       "    </tr>\n",
       "    <tr>\n",
       "      <th>1</th>\n",
       "      <td>3.716080</td>\n",
       "      <td>18630.05786</td>\n",
       "      <td>4.500656</td>\n",
       "      <td>24.0</td>\n",
       "    </tr>\n",
       "    <tr>\n",
       "      <th>2</th>\n",
       "      <td>8.099124</td>\n",
       "      <td>19909.54173</td>\n",
       "      <td>3.055934</td>\n",
       "      <td>24.0</td>\n",
       "    </tr>\n",
       "    <tr>\n",
       "      <th>3</th>\n",
       "      <td>8.316766</td>\n",
       "      <td>22018.41744</td>\n",
       "      <td>4.628771</td>\n",
       "      <td>25.5</td>\n",
       "    </tr>\n",
       "    <tr>\n",
       "      <th>4</th>\n",
       "      <td>9.092223</td>\n",
       "      <td>17978.98634</td>\n",
       "      <td>4.075075</td>\n",
       "      <td>26.0</td>\n",
       "    </tr>\n",
       "  </tbody>\n",
       "</table>\n",
       "</div>"
      ],
      "text/plain": [
       "         ph          TDS  Turbidity  Temperature\n",
       "0       NaN  20791.31898   2.963135         29.3\n",
       "1  3.716080  18630.05786   4.500656         24.0\n",
       "2  8.099124  19909.54173   3.055934         24.0\n",
       "3  8.316766  22018.41744   4.628771         25.5\n",
       "4  9.092223  17978.98634   4.075075         26.0"
      ]
     },
     "execution_count": 2,
     "metadata": {},
     "output_type": "execute_result"
    }
   ],
   "source": [
    "dataset = pd.read_csv('/home/karuna/Projects/Water-Quality-Prediction/Data/final.csv')\n",
    "dataset.head()"
   ]
  },
  {
   "cell_type": "code",
   "execution_count": 3,
   "id": "9291b278",
   "metadata": {},
   "outputs": [
    {
     "data": {
      "text/plain": [
       "(3276, 4)"
      ]
     },
     "execution_count": 3,
     "metadata": {},
     "output_type": "execute_result"
    }
   ],
   "source": [
    "dataset.shape"
   ]
  },
  {
   "cell_type": "code",
   "execution_count": 4,
   "id": "b7040f25",
   "metadata": {},
   "outputs": [
    {
     "data": {
      "text/plain": [
       "ph             491\n",
       "TDS              0\n",
       "Turbidity        0\n",
       "Temperature    111\n",
       "dtype: int64"
      ]
     },
     "execution_count": 4,
     "metadata": {},
     "output_type": "execute_result"
    }
   ],
   "source": [
    "dataset.isnull().sum()"
   ]
  },
  {
   "cell_type": "code",
   "execution_count": 5,
   "id": "064f4611",
   "metadata": {},
   "outputs": [
    {
     "name": "stdout",
     "output_type": "stream",
     "text": [
      "<class 'pandas.core.frame.DataFrame'>\n",
      "RangeIndex: 3276 entries, 0 to 3275\n",
      "Data columns (total 4 columns):\n",
      " #   Column       Non-Null Count  Dtype  \n",
      "---  ------       --------------  -----  \n",
      " 0   ph           2785 non-null   float64\n",
      " 1   TDS          3276 non-null   float64\n",
      " 2   Turbidity    3276 non-null   float64\n",
      " 3   Temperature  3165 non-null   float64\n",
      "dtypes: float64(4)\n",
      "memory usage: 102.5 KB\n"
     ]
    }
   ],
   "source": [
    "dataset.info()"
   ]
  },
  {
   "cell_type": "code",
   "execution_count": 6,
   "id": "e9ddccda",
   "metadata": {},
   "outputs": [
    {
     "data": {
      "text/html": [
       "<div>\n",
       "<style scoped>\n",
       "    .dataframe tbody tr th:only-of-type {\n",
       "        vertical-align: middle;\n",
       "    }\n",
       "\n",
       "    .dataframe tbody tr th {\n",
       "        vertical-align: top;\n",
       "    }\n",
       "\n",
       "    .dataframe thead th {\n",
       "        text-align: right;\n",
       "    }\n",
       "</style>\n",
       "<table border=\"1\" class=\"dataframe\">\n",
       "  <thead>\n",
       "    <tr style=\"text-align: right;\">\n",
       "      <th></th>\n",
       "      <th>ph</th>\n",
       "      <th>TDS</th>\n",
       "      <th>Turbidity</th>\n",
       "      <th>Temperature</th>\n",
       "    </tr>\n",
       "  </thead>\n",
       "  <tbody>\n",
       "    <tr>\n",
       "      <th>count</th>\n",
       "      <td>2785.000000</td>\n",
       "      <td>3276.000000</td>\n",
       "      <td>3276.000000</td>\n",
       "      <td>3165.000000</td>\n",
       "    </tr>\n",
       "    <tr>\n",
       "      <th>mean</th>\n",
       "      <td>7.080795</td>\n",
       "      <td>22014.092526</td>\n",
       "      <td>3.966786</td>\n",
       "      <td>25.231523</td>\n",
       "    </tr>\n",
       "    <tr>\n",
       "      <th>std</th>\n",
       "      <td>1.594320</td>\n",
       "      <td>8768.570828</td>\n",
       "      <td>0.780382</td>\n",
       "      <td>2.601129</td>\n",
       "    </tr>\n",
       "    <tr>\n",
       "      <th>min</th>\n",
       "      <td>0.000000</td>\n",
       "      <td>320.942611</td>\n",
       "      <td>1.450000</td>\n",
       "      <td>15.000000</td>\n",
       "    </tr>\n",
       "    <tr>\n",
       "      <th>25%</th>\n",
       "      <td>6.093092</td>\n",
       "      <td>15666.690300</td>\n",
       "      <td>3.439711</td>\n",
       "      <td>24.000000</td>\n",
       "    </tr>\n",
       "    <tr>\n",
       "      <th>50%</th>\n",
       "      <td>7.036752</td>\n",
       "      <td>20927.833605</td>\n",
       "      <td>3.955028</td>\n",
       "      <td>25.500000</td>\n",
       "    </tr>\n",
       "    <tr>\n",
       "      <th>75%</th>\n",
       "      <td>8.062066</td>\n",
       "      <td>27332.762125</td>\n",
       "      <td>4.500320</td>\n",
       "      <td>27.000000</td>\n",
       "    </tr>\n",
       "    <tr>\n",
       "      <th>max</th>\n",
       "      <td>14.000000</td>\n",
       "      <td>61227.196010</td>\n",
       "      <td>6.739000</td>\n",
       "      <td>36.000000</td>\n",
       "    </tr>\n",
       "  </tbody>\n",
       "</table>\n",
       "</div>"
      ],
      "text/plain": [
       "                ph           TDS    Turbidity  Temperature\n",
       "count  2785.000000   3276.000000  3276.000000  3165.000000\n",
       "mean      7.080795  22014.092526     3.966786    25.231523\n",
       "std       1.594320   8768.570828     0.780382     2.601129\n",
       "min       0.000000    320.942611     1.450000    15.000000\n",
       "25%       6.093092  15666.690300     3.439711    24.000000\n",
       "50%       7.036752  20927.833605     3.955028    25.500000\n",
       "75%       8.062066  27332.762125     4.500320    27.000000\n",
       "max      14.000000  61227.196010     6.739000    36.000000"
      ]
     },
     "execution_count": 6,
     "metadata": {},
     "output_type": "execute_result"
    }
   ],
   "source": [
    "dataset.describe()"
   ]
  },
  {
   "cell_type": "markdown",
   "id": "58cb8a54",
   "metadata": {},
   "source": [
    "----\n",
    "\n",
    "<a id=4></a>\n",
    "# **Data Cleaning**\n",
    "\n",
    "----"
   ]
  },
  {
   "cell_type": "markdown",
   "id": "d3aa16de",
   "metadata": {},
   "source": [
    "-----\n",
    "\n",
    "### Below code is to fill null and empty values in csv file by mean value of all parameters respectively..\n",
    "\n",
    "----"
   ]
  },
  {
   "cell_type": "code",
   "execution_count": 7,
   "id": "8420ff3a",
   "metadata": {},
   "outputs": [
    {
     "data": {
      "text/plain": [
       "ph             0\n",
       "TDS            0\n",
       "Turbidity      0\n",
       "Temperature    0\n",
       "dtype: int64"
      ]
     },
     "execution_count": 7,
     "metadata": {},
     "output_type": "execute_result"
    }
   ],
   "source": [
    "dataset.fillna(dataset.mean(), inplace=True)\n",
    "dataset.isnull().sum()"
   ]
  },
  {
   "cell_type": "code",
   "execution_count": 8,
   "id": "97ff5da2",
   "metadata": {},
   "outputs": [
    {
     "data": {
      "text/html": [
       "<div>\n",
       "<style scoped>\n",
       "    .dataframe tbody tr th:only-of-type {\n",
       "        vertical-align: middle;\n",
       "    }\n",
       "\n",
       "    .dataframe tbody tr th {\n",
       "        vertical-align: top;\n",
       "    }\n",
       "\n",
       "    .dataframe thead th {\n",
       "        text-align: right;\n",
       "    }\n",
       "</style>\n",
       "<table border=\"1\" class=\"dataframe\">\n",
       "  <thead>\n",
       "    <tr style=\"text-align: right;\">\n",
       "      <th></th>\n",
       "      <th>ph</th>\n",
       "      <th>TDS</th>\n",
       "      <th>Turbidity</th>\n",
       "      <th>Temperature</th>\n",
       "    </tr>\n",
       "  </thead>\n",
       "  <tbody>\n",
       "    <tr>\n",
       "      <th>0</th>\n",
       "      <td>7.080795</td>\n",
       "      <td>20791.31898</td>\n",
       "      <td>2.963135</td>\n",
       "      <td>29.3</td>\n",
       "    </tr>\n",
       "    <tr>\n",
       "      <th>1</th>\n",
       "      <td>3.716080</td>\n",
       "      <td>18630.05786</td>\n",
       "      <td>4.500656</td>\n",
       "      <td>24.0</td>\n",
       "    </tr>\n",
       "    <tr>\n",
       "      <th>2</th>\n",
       "      <td>8.099124</td>\n",
       "      <td>19909.54173</td>\n",
       "      <td>3.055934</td>\n",
       "      <td>24.0</td>\n",
       "    </tr>\n",
       "    <tr>\n",
       "      <th>3</th>\n",
       "      <td>8.316766</td>\n",
       "      <td>22018.41744</td>\n",
       "      <td>4.628771</td>\n",
       "      <td>25.5</td>\n",
       "    </tr>\n",
       "    <tr>\n",
       "      <th>4</th>\n",
       "      <td>9.092223</td>\n",
       "      <td>17978.98634</td>\n",
       "      <td>4.075075</td>\n",
       "      <td>26.0</td>\n",
       "    </tr>\n",
       "    <tr>\n",
       "      <th>...</th>\n",
       "      <td>...</td>\n",
       "      <td>...</td>\n",
       "      <td>...</td>\n",
       "      <td>...</td>\n",
       "    </tr>\n",
       "    <tr>\n",
       "      <th>3271</th>\n",
       "      <td>4.668102</td>\n",
       "      <td>47580.99160</td>\n",
       "      <td>4.435821</td>\n",
       "      <td>28.0</td>\n",
       "    </tr>\n",
       "    <tr>\n",
       "      <th>3272</th>\n",
       "      <td>7.808856</td>\n",
       "      <td>17329.80216</td>\n",
       "      <td>2.798243</td>\n",
       "      <td>23.0</td>\n",
       "    </tr>\n",
       "    <tr>\n",
       "      <th>3273</th>\n",
       "      <td>9.419510</td>\n",
       "      <td>33155.57822</td>\n",
       "      <td>3.298875</td>\n",
       "      <td>28.0</td>\n",
       "    </tr>\n",
       "    <tr>\n",
       "      <th>3274</th>\n",
       "      <td>5.126763</td>\n",
       "      <td>11983.86938</td>\n",
       "      <td>4.708658</td>\n",
       "      <td>31.0</td>\n",
       "    </tr>\n",
       "    <tr>\n",
       "      <th>3275</th>\n",
       "      <td>7.874671</td>\n",
       "      <td>17404.17706</td>\n",
       "      <td>2.309149</td>\n",
       "      <td>33.0</td>\n",
       "    </tr>\n",
       "  </tbody>\n",
       "</table>\n",
       "<p>3276 rows × 4 columns</p>\n",
       "</div>"
      ],
      "text/plain": [
       "            ph          TDS  Turbidity  Temperature\n",
       "0     7.080795  20791.31898   2.963135         29.3\n",
       "1     3.716080  18630.05786   4.500656         24.0\n",
       "2     8.099124  19909.54173   3.055934         24.0\n",
       "3     8.316766  22018.41744   4.628771         25.5\n",
       "4     9.092223  17978.98634   4.075075         26.0\n",
       "...        ...          ...        ...          ...\n",
       "3271  4.668102  47580.99160   4.435821         28.0\n",
       "3272  7.808856  17329.80216   2.798243         23.0\n",
       "3273  9.419510  33155.57822   3.298875         28.0\n",
       "3274  5.126763  11983.86938   4.708658         31.0\n",
       "3275  7.874671  17404.17706   2.309149         33.0\n",
       "\n",
       "[3276 rows x 4 columns]"
      ]
     },
     "execution_count": 8,
     "metadata": {},
     "output_type": "execute_result"
    }
   ],
   "source": [
    "dataset"
   ]
  },
  {
   "cell_type": "code",
   "execution_count": 9,
   "id": "1323b7ea",
   "metadata": {},
   "outputs": [
    {
     "data": {
      "text/plain": [
       "ph             float64\n",
       "TDS            float64\n",
       "Turbidity      float64\n",
       "Temperature    float64\n",
       "dtype: object"
      ]
     },
     "execution_count": 9,
     "metadata": {},
     "output_type": "execute_result"
    }
   ],
   "source": [
    "dataset.dtypes"
   ]
  },
  {
   "cell_type": "markdown",
   "id": "b068f125",
   "metadata": {},
   "source": [
    "----\n",
    "\n",
    "<a id=5></a>\n",
    "# **EDA**\n",
    "\n",
    "----\n",
    "\n",
    "### Below is Correlation heatmap ranging from -1 to +1. Values closer to zero means there is no linear trend between the two variables. The close to 1 the correlation is the more positively correlated they are; that is as one increases so does the other and the closer to 1 the stronger this relationship is.\n",
    "\n"
   ]
  },
  {
   "cell_type": "code",
   "execution_count": 10,
   "id": "cdd14810",
   "metadata": {},
   "outputs": [
    {
     "data": {
      "image/png": "[encoded data removed]",
      "text/plain": [
       "<Figure size 936x576 with 2 Axes>"
      ]
     },
     "metadata": {
      "needs_background": "light"
     },
     "output_type": "display_data"
    }
   ],
   "source": [
    "plt.figure(figsize=(13,8))\n",
    "sns.heatmap(dataset.corr(),annot=True,cmap='terrain')\n",
    "plt.show()"
   ]
  },
  {
   "cell_type": "markdown",
   "id": "8795e8fe",
   "metadata": {},
   "source": [
    "----\n",
    "### Let's visualize our data.\n",
    "----"
   ]
  },
  {
   "cell_type": "markdown",
   "id": "ad245002",
   "metadata": {},
   "source": [
    "\n",
    "### Visualizing pH\n"
   ]
  },
  {
   "cell_type": "code",
   "execution_count": 11,
   "id": "37d6d1c3",
   "metadata": {},
   "outputs": [
    {
     "data": {
      "image/png": "[encoded data removed]",
      "text/plain": [
       "<Figure size 720x576 with 1 Axes>"
      ]
     },
     "metadata": {},
     "output_type": "display_data"
    }
   ],
   "source": [
    "mpl.style.use(\"ggplot\")\n",
    "fig = plt.figure(figsize = (10, 8))\n",
    "ax = fig.add_subplot(111)\n",
    "ax.set_xlabel(\"pH\")\n",
    "ax.set_ylabel(\"Count\")\n",
    "ax.set_ylim((0, 1500))\n",
    "ax.hist(dataset.ph, label = \"pH\", bins = 10, color=\"#fe7401\")\n",
    "ax.legend()\n",
    "plt.show()"
   ]
  },
  {
   "cell_type": "markdown",
   "id": "14d90311",
   "metadata": {},
   "source": [
    "\n",
    "### Visualizing TDS (Total Dissolved Solids)\n"
   ]
  },
  {
   "cell_type": "code",
   "execution_count": 12,
   "id": "1ece6764",
   "metadata": {},
   "outputs": [
    {
     "data": {
      "image/png": "[encoded data removed]",
      "text/plain": [
       "<Figure size 720x576 with 1 Axes>"
      ]
     },
     "metadata": {},
     "output_type": "display_data"
    }
   ],
   "source": [
    "mpl.style.use(\"ggplot\")\n",
    "fig = plt.figure(figsize = (10, 8))\n",
    "ax = fig.add_subplot(111)\n",
    "ax.set_xlabel(\"tds (ppm)\")\n",
    "ax.set_ylabel(\"Count\")\n",
    "ax.set_ylim((0, 950))\n",
    "ax.hist(dataset.TDS, label = \"TDS\", bins = 10, color=\"#7FFFD4\")\n",
    "ax.legend()\n",
    "plt.show()"
   ]
  },
  {
   "cell_type": "markdown",
   "id": "095e3c30",
   "metadata": {},
   "source": [
    "\n",
    "### Visualizing Turbidity\n"
   ]
  },
  {
   "cell_type": "code",
   "execution_count": 13,
   "id": "914a269d",
   "metadata": {},
   "outputs": [
    {
     "data": {
      "image/png": "[encoded data removed]",
      "text/plain": [
       "<Figure size 720x576 with 1 Axes>"
      ]
     },
     "metadata": {},
     "output_type": "display_data"
    }
   ],
   "source": [
    "mpl.style.use(\"ggplot\")\n",
    "fig = plt.figure(figsize = (10, 8))\n",
    "ax = fig.add_subplot(111)\n",
    "ax.set_xlabel(\"turb (ntu)\")\n",
    "ax.set_ylabel(\"Count\")\n",
    "ax.set_ylim((0, 950))\n",
    "ax.hist(dataset.Turbidity, label = \"Turbidity\", bins = 10, color=\"#808000\")\n",
    "ax.legend()\n",
    "plt.show()"
   ]
  },
  {
   "cell_type": "markdown",
   "id": "b5b1716c",
   "metadata": {},
   "source": [
    "\n",
    "### Visualizing Temperature\n"
   ]
  },
  {
   "cell_type": "code",
   "execution_count": 14,
   "id": "23c68613",
   "metadata": {},
   "outputs": [
    {
     "data": {
      "image/png": "[encoded data removed]",
      "text/plain": [
       "<Figure size 720x576 with 1 Axes>"
      ]
     },
     "metadata": {},
     "output_type": "display_data"
    }
   ],
   "source": [
    "mpl.style.use(\"ggplot\")\n",
    "fig = plt.figure(figsize = (10, 8))\n",
    "ax = fig.add_subplot(111)\n",
    "ax.set_xlabel(\"Temp\")\n",
    "ax.set_ylabel(\"Count\")\n",
    "ax.set_ylim((0, 1200))\n",
    "ax.hist(dataset.Temperature, label = \"Temperature\", bins = 10, color=\"#00008B\")\n",
    "ax.legend()\n",
    "plt.show()"
   ]
  },
  {
   "cell_type": "markdown",
   "id": "40c5bb8e",
   "metadata": {},
   "source": [
    "----\n",
    "\n",
    "<a id=6></a>\n",
    "# **Feature Engineering**\n",
    "\n",
    "### > Box-Plot\n",
    "* box or whiskers plot is a method used for depicting groups of numerical data through their quartiles graphically. These may also have some lines extending from the boxes or whiskers which indicates the variability outside the lower and upper quartiles, hence the terms box-and-whisker plot and box-and-whisker diagram. Outliers can be indicated as individual points.\n",
    "\n",
    "* It helps to find out how much the data values vary or spread out with the help of graphs. As we need more information than just knowing the measures of central tendency, this is where the box plot helps. \n",
    "\n",
    "* The five-number summary in the box plot is minimum, maximum, median, first quartile, and third quartile.\n",
    "\n",
    "![alt text](https://cdn1.byjus.com/wp-content/uploads/2020/10/Box-Plot-and-Whisker-Plot-1.png)\n",
    "\n",
    "> An <mark>outlier</mark> is a value that lies in both extremes of data.\n",
    ">> Some outliers represent natural variations in the population, and they should be left as is in your dataset. These are called true outliers.\n",
    "----"
   ]
  },
  {
   "cell_type": "code",
   "execution_count": 15,
   "id": "4dc05ab3",
   "metadata": {},
   "outputs": [
    {
     "data": {
      "image/png": "[encoded data removed]",
      "text/plain": [
       "<Figure size 1008x576 with 4 Axes>"
      ]
     },
     "metadata": {},
     "output_type": "display_data"
    }
   ],
   "source": [
    "# initialize figure with 4 subplots in a row\n",
    "fig, ax = plt.subplots(1, 4, figsize=(14, 8))\n",
    "\n",
    "# add padding between the subplots\n",
    "plt.subplots_adjust(wspace=1.5) \n",
    "\n",
    "# draw boxplot for age in the 1st subplot\n",
    "sns.boxplot(data=dataset['ph'], ax=ax[0], color='brown',)\n",
    "ax[0].set_xlabel('ph')\n",
    "\n",
    "# draw boxplot for station_distance in the 2nd subplot\n",
    "sns.boxplot(data=dataset['TDS'], ax=ax[1], color='g')\n",
    "ax[1].set_xlabel('TDS')\n",
    "\n",
    "# draw boxplot for stores_count in the 3rd subplot\n",
    "sns.boxplot(data=dataset['Turbidity'], ax=ax[2], color='y')\n",
    "ax[2].set_xlabel('Turbidity')\n",
    "\n",
    "# finally draw boxplot for unit_price in the 4th subplot\n",
    "sns.boxplot(data=dataset['Temperature'], ax=ax[3])\n",
    "ax[3].set_xlabel('Temperature')\n",
    "\n",
    "# by default, you'll see x-tick label set to 0 in each subplot\n",
    "# remove it by setting it to empty list\n",
    "for subplot in ax:\n",
    "    subplot.set_xticklabels([])\n",
    "    \n",
    "plt.show()"
   ]
  },
  {
   "cell_type": "code",
   "execution_count": 16,
   "id": "30119a3c",
   "metadata": {},
   "outputs": [],
   "source": [
    "# To filter outliers:\n",
    "\n",
    "# Q1 = dataset['Temperature'].quantile(0.25)\n",
    "# Q3 = dataset['Temperature'].quantile(0.75)\n",
    "# IQR = Q3 - Q1    #IQR is interquartile range.\n",
    "# print(Q1, \" \", Q3, \" \", IQR)\n",
    "\n",
    "\n",
    "# filter = (dataset['Temperature'] >= Q1 - 1.5 * IQR) & (dataset['Temperature'] <= Q3 + 1.5 *IQR)\n",
    "# dataset = dataset.loc[filter] "
   ]
  },
  {
   "cell_type": "markdown",
   "id": "c9a51ec5",
   "metadata": {},
   "source": [
    "### The Water Quality Index is calculated by aggregating the quality rating with the weight linearly, \n",
    "#### WQI = ∑ (qn x Wn)\n",
    "#### where qn =Quality rating for the nth Water quality parameter, Wn= unit weight for the nth parameters.       \n",
    "\n",
    "<br>The equation can be given as:\n",
    "<br>$$WQI_{MP} = \\sum_{i=1} W_Y Q_Y$$\n",
    "<br>Here,\n",
    ">>$$Y = available parameters$$\n",
    ">>$$Q_Y = q- values of available parameters$$\n",
    ">>$$W_Y = weighting factors of available parameters$$\n",
    "\n",
    "\n",
    "\n",
    "<table style = \"border: 1px solid black;\n",
    "  border-collapse: collapse;background-color: #D6EEEE;width:50%\">\n",
    "  <tr>\n",
    "    <th>WQI value</th>\n",
    "    <th>Water quality</th>\n",
    "  </tr>\n",
    "  <tr>\n",
    "    <td> less than 50 </td>\n",
    "    <td> excellent </td>  \n",
    "  </tr>\n",
    "  <tr>\n",
    "    <td> 50-100</td>\n",
    "    <td> good water </td> \n",
    "  </tr>\n",
    "    <tr>\n",
    "    <td> 100-200 </td>\n",
    "    <td> poor water </td> \n",
    "  </tr>\n",
    "    <tr>\n",
    "    <td> 200-300</td>\n",
    "    <td>  very poor water </td> \n",
    "  </tr>\n",
    "    <tr>\n",
    "    <td> >300 </td>\n",
    "    <td> Water unsuitable\n",
    "for drinking </td> \n",
    "  </tr>\n",
    "</table>\n",
    "<p style = \"text-align: center;\">  Water quality classification based on WQI value </p>\n",
    "\n",
    "\n",
    "<table style = \"border: 1px solid black;\n",
    "  border-collapse: collapse;background-color: #D6EEEE;width:50%\">\n",
    "  <tr>\n",
    "    <th>Water quality</th>\n",
    "    <th>BIS(Bureau of Indian Standard) for Water, $$S_n$$</th> \n",
    "  </tr>\n",
    "  <tr>\n",
    "    <td> pH </td>\n",
    "    <td> 8.5 </td>  \n",
    "  </tr>\n",
    "  <tr>\n",
    "    <td> TDS </td>\n",
    "    <td> 500 </td> \n",
    "  </tr>\n",
    "    <tr>\n",
    "    <td> Turbidity </td>\n",
    "    <td> 5 </td> \n",
    "  </tr>\n",
    "    <tr>\n",
    "    <td> Temperature </td>\n",
    "    <td> 35 </td> \n",
    "  </tr>\n",
    "    \n",
    "</table>\n",
    "<p style = \"text-align: center;\">  Water Quality Standards </p>\n",
    "\n",
    "#### PARTS OF WATER QUALITY INDEX\n",
    "There are two parts of water quality index.\n",
    " 1. Q- value\n",
    " 2. Weighting factor\n",
    "\n",
    "> Q- value\n",
    ">> It is the indication of water quality relative to 100 of one parameter. The Q-Value is an indication of how good (or bad) the water quality is relative to one parameter.<br>\n",
    "    \n",
    "> Weighting Factor\n",
    ">> It sets the relative importance of the parameter to over all\n",
    "water quality.\n",
    " \n",
    "#### REFERENCES:\n",
    "[1]. National sanitation foundation <br>\n",
    "[2]. www.water-WATER <br>\n",
    "[3]. \"QUALITY INDEX WITH MISSING PARAMETERS\",Garima Srivastava, Dr. Pradeep Kumar, M.Tech(Environmental Science & Engg.), Associate Professor, Civil Engg. Department, HBTI Kanpur, India.net <br>\n",
    "[4]. www.waterontheweb.org <br>\n",
    "[5] https://www.researchgate.net/publication/337881191_Various_methods_for_calculating_the_water_quality_index\n"
   ]
  },
  {
   "cell_type": "markdown",
   "id": "ce5003e2",
   "metadata": {},
   "source": [
    "\n",
    "#### Applying <mark> Weighted Arithmetic Index </mark> method for calculating wqi"
   ]
  },
  {
   "cell_type": "code",
   "execution_count": 17,
   "id": "1219ea1e",
   "metadata": {},
   "outputs": [
    {
     "name": "stdout",
     "output_type": "stream",
     "text": [
      "\n",
      "sum_Sn =  0.348218487394958\n",
      "K =  2.8717602200878423 \n",
      "\n",
      "Weight factor for pH =  0.33785414353974613\n",
      "Weight factor for tds =  0.005743520440175684\n",
      "Weight factor for turbidity =  0.5743520440175685\n",
      "Weight factor for temperature =   0.08205029200250978\n",
      "\n",
      "Summarizing Ideal values for all parameters, Vo:\n",
      "pH: 6.5\n",
      "TDS: 0\n",
      "Turbidity: 0\n",
      "Temperature: 20\n",
      "\n"
     ]
    }
   ],
   "source": [
    "#Summation of 1/Sn where Sn is BIS std.\n",
    "\n",
    "std_ph = 8.5\n",
    "std_tds = 500\n",
    "std_turb = 5\n",
    "std_temp = 35;\n",
    "\n",
    "sum_Sn = (1/std_ph) + (1/std_tds) + (1/std_turb) + (1/std_temp)\n",
    "print(\"\\nsum_Sn = \", sum_Sn)\n",
    "\n",
    "#Calculating k value\n",
    "\n",
    "k = 1/sum_Sn\n",
    "print(\"K = \", k, \"\\n\")\n",
    "\n",
    "#Calculating Weight for parameters, Wi = k/Sn\n",
    "\n",
    "wt_ph = k/std_ph; \n",
    "print(\"Weight factor for pH = \", wt_ph)\n",
    "wt_tds = k/std_tds;\n",
    "print(\"Weight factor for tds = \", wt_tds)\n",
    "wt_turb = k/std_turb;\n",
    "print(\"Weight factor for turbidity = \", wt_turb)\n",
    "wt_temp = k/std_temp;\n",
    "print(\"Weight factor for temperature =  \", wt_temp)\n",
    "\n",
    "#Summation of all weight factor will give us value one\n",
    "\n",
    "print('''\n",
    "Summarizing Ideal values for all parameters, Vo:\n",
    "pH: 6.5\n",
    "TDS: 0\n",
    "Turbidity: 0\n",
    "Temperature: 20\n",
    "''')"
   ]
  },
  {
   "cell_type": "code",
   "execution_count": 18,
   "id": "e2987ccc",
   "metadata": {},
   "outputs": [],
   "source": [
    "'''\n",
    "Calcuating Vn/Sn, \n",
    "where Vn is measured values for respective parameter\n",
    "Representing Vn/Sn by ratio\n",
    "Since Ideal value for pH and Temp isn't equal to zero, we use different formula.\n",
    "'''\n",
    "\n",
    "idl_ph, idl_temp = 6.5, 20\n",
    "\n",
    "dataset['pH_ratio'] = abs((dataset.ph - idl_ph)/(std_ph - idl_ph))\n",
    "# dataset['pH_ratio'] = dataset['ph'].map(lambda t: ((t-7)/(8.5-7)) if ((t-7)/(8.5-7) > 0) else 0)\n",
    "\n",
    "    \n",
    "dataset['tds_ratio'] = dataset.TDS/std_tds\n",
    "dataset['turb_ratio'] = dataset.Turbidity/std_turb\n",
    "\n",
    "dataset['temp_ratio'] = abs((dataset.Temperature - idl_temp)/(std_temp - idl_temp))\n",
    "# dataset['temp_ratio'] = dataset['temp'].map(lambda t: ((t-20)/(35-20)) if ((t-20)/(35-25) > 0) else 0)"
   ]
  },
  {
   "cell_type": "code",
   "execution_count": 19,
   "id": "70efdb01",
   "metadata": {},
   "outputs": [
    {
     "data": {
      "text/html": [
       "<div>\n",
       "<style scoped>\n",
       "    .dataframe tbody tr th:only-of-type {\n",
       "        vertical-align: middle;\n",
       "    }\n",
       "\n",
       "    .dataframe tbody tr th {\n",
       "        vertical-align: top;\n",
       "    }\n",
       "\n",
       "    .dataframe thead th {\n",
       "        text-align: right;\n",
       "    }\n",
       "</style>\n",
       "<table border=\"1\" class=\"dataframe\">\n",
       "  <thead>\n",
       "    <tr style=\"text-align: right;\">\n",
       "      <th></th>\n",
       "      <th>ph</th>\n",
       "      <th>TDS</th>\n",
       "      <th>Turbidity</th>\n",
       "      <th>Temperature</th>\n",
       "      <th>pH_ratio</th>\n",
       "      <th>tds_ratio</th>\n",
       "      <th>turb_ratio</th>\n",
       "      <th>temp_ratio</th>\n",
       "    </tr>\n",
       "  </thead>\n",
       "  <tbody>\n",
       "    <tr>\n",
       "      <th>0</th>\n",
       "      <td>7.080795</td>\n",
       "      <td>20791.31898</td>\n",
       "      <td>2.963135</td>\n",
       "      <td>29.3</td>\n",
       "      <td>0.290397</td>\n",
       "      <td>41.582638</td>\n",
       "      <td>0.592627</td>\n",
       "      <td>0.620000</td>\n",
       "    </tr>\n",
       "    <tr>\n",
       "      <th>1</th>\n",
       "      <td>3.716080</td>\n",
       "      <td>18630.05786</td>\n",
       "      <td>4.500656</td>\n",
       "      <td>24.0</td>\n",
       "      <td>1.391960</td>\n",
       "      <td>37.260116</td>\n",
       "      <td>0.900131</td>\n",
       "      <td>0.266667</td>\n",
       "    </tr>\n",
       "    <tr>\n",
       "      <th>2</th>\n",
       "      <td>8.099124</td>\n",
       "      <td>19909.54173</td>\n",
       "      <td>3.055934</td>\n",
       "      <td>24.0</td>\n",
       "      <td>0.799562</td>\n",
       "      <td>39.819083</td>\n",
       "      <td>0.611187</td>\n",
       "      <td>0.266667</td>\n",
       "    </tr>\n",
       "    <tr>\n",
       "      <th>3</th>\n",
       "      <td>8.316766</td>\n",
       "      <td>22018.41744</td>\n",
       "      <td>4.628771</td>\n",
       "      <td>25.5</td>\n",
       "      <td>0.908383</td>\n",
       "      <td>44.036835</td>\n",
       "      <td>0.925754</td>\n",
       "      <td>0.366667</td>\n",
       "    </tr>\n",
       "    <tr>\n",
       "      <th>4</th>\n",
       "      <td>9.092223</td>\n",
       "      <td>17978.98634</td>\n",
       "      <td>4.075075</td>\n",
       "      <td>26.0</td>\n",
       "      <td>1.296112</td>\n",
       "      <td>35.957973</td>\n",
       "      <td>0.815015</td>\n",
       "      <td>0.400000</td>\n",
       "    </tr>\n",
       "    <tr>\n",
       "      <th>...</th>\n",
       "      <td>...</td>\n",
       "      <td>...</td>\n",
       "      <td>...</td>\n",
       "      <td>...</td>\n",
       "      <td>...</td>\n",
       "      <td>...</td>\n",
       "      <td>...</td>\n",
       "      <td>...</td>\n",
       "    </tr>\n",
       "    <tr>\n",
       "      <th>3271</th>\n",
       "      <td>4.668102</td>\n",
       "      <td>47580.99160</td>\n",
       "      <td>4.435821</td>\n",
       "      <td>28.0</td>\n",
       "      <td>0.915949</td>\n",
       "      <td>95.161983</td>\n",
       "      <td>0.887164</td>\n",
       "      <td>0.533333</td>\n",
       "    </tr>\n",
       "    <tr>\n",
       "      <th>3272</th>\n",
       "      <td>7.808856</td>\n",
       "      <td>17329.80216</td>\n",
       "      <td>2.798243</td>\n",
       "      <td>23.0</td>\n",
       "      <td>0.654428</td>\n",
       "      <td>34.659604</td>\n",
       "      <td>0.559649</td>\n",
       "      <td>0.200000</td>\n",
       "    </tr>\n",
       "    <tr>\n",
       "      <th>3273</th>\n",
       "      <td>9.419510</td>\n",
       "      <td>33155.57822</td>\n",
       "      <td>3.298875</td>\n",
       "      <td>28.0</td>\n",
       "      <td>1.459755</td>\n",
       "      <td>66.311156</td>\n",
       "      <td>0.659775</td>\n",
       "      <td>0.533333</td>\n",
       "    </tr>\n",
       "    <tr>\n",
       "      <th>3274</th>\n",
       "      <td>5.126763</td>\n",
       "      <td>11983.86938</td>\n",
       "      <td>4.708658</td>\n",
       "      <td>31.0</td>\n",
       "      <td>0.686619</td>\n",
       "      <td>23.967739</td>\n",
       "      <td>0.941732</td>\n",
       "      <td>0.733333</td>\n",
       "    </tr>\n",
       "    <tr>\n",
       "      <th>3275</th>\n",
       "      <td>7.874671</td>\n",
       "      <td>17404.17706</td>\n",
       "      <td>2.309149</td>\n",
       "      <td>33.0</td>\n",
       "      <td>0.687336</td>\n",
       "      <td>34.808354</td>\n",
       "      <td>0.461830</td>\n",
       "      <td>0.866667</td>\n",
       "    </tr>\n",
       "  </tbody>\n",
       "</table>\n",
       "<p>3276 rows × 8 columns</p>\n",
       "</div>"
      ],
      "text/plain": [
       "            ph          TDS  Turbidity  Temperature  pH_ratio  tds_ratio  \\\n",
       "0     7.080795  20791.31898   2.963135         29.3  0.290397  41.582638   \n",
       "1     3.716080  18630.05786   4.500656         24.0  1.391960  37.260116   \n",
       "2     8.099124  19909.54173   3.055934         24.0  0.799562  39.819083   \n",
       "3     8.316766  22018.41744   4.628771         25.5  0.908383  44.036835   \n",
       "4     9.092223  17978.98634   4.075075         26.0  1.296112  35.957973   \n",
       "...        ...          ...        ...          ...       ...        ...   \n",
       "3271  4.668102  47580.99160   4.435821         28.0  0.915949  95.161983   \n",
       "3272  7.808856  17329.80216   2.798243         23.0  0.654428  34.659604   \n",
       "3273  9.419510  33155.57822   3.298875         28.0  1.459755  66.311156   \n",
       "3274  5.126763  11983.86938   4.708658         31.0  0.686619  23.967739   \n",
       "3275  7.874671  17404.17706   2.309149         33.0  0.687336  34.808354   \n",
       "\n",
       "      turb_ratio  temp_ratio  \n",
       "0       0.592627    0.620000  \n",
       "1       0.900131    0.266667  \n",
       "2       0.611187    0.266667  \n",
       "3       0.925754    0.366667  \n",
       "4       0.815015    0.400000  \n",
       "...          ...         ...  \n",
       "3271    0.887164    0.533333  \n",
       "3272    0.559649    0.200000  \n",
       "3273    0.659775    0.533333  \n",
       "3274    0.941732    0.733333  \n",
       "3275    0.461830    0.866667  \n",
       "\n",
       "[3276 rows x 8 columns]"
      ]
     },
     "execution_count": 19,
     "metadata": {},
     "output_type": "execute_result"
    }
   ],
   "source": [
    "dataset"
   ]
  },
  {
   "cell_type": "code",
   "execution_count": 20,
   "id": "5f042edd",
   "metadata": {},
   "outputs": [
    {
     "data": {
      "text/plain": [
       "(3276, 8)"
      ]
     },
     "execution_count": 20,
     "metadata": {},
     "output_type": "execute_result"
    }
   ],
   "source": [
    "dataset.shape"
   ]
  },
  {
   "cell_type": "code",
   "execution_count": 21,
   "id": "886c5395",
   "metadata": {},
   "outputs": [
    {
     "data": {
      "text/plain": [
       "ph             float64\n",
       "TDS            float64\n",
       "Turbidity      float64\n",
       "Temperature    float64\n",
       "pH_ratio       float64\n",
       "tds_ratio      float64\n",
       "turb_ratio     float64\n",
       "temp_ratio     float64\n",
       "Qn_ph          float64\n",
       "Qn_tds         float64\n",
       "Qn_turb        float64\n",
       "Qn_temp        float64\n",
       "dtype: object"
      ]
     },
     "execution_count": 21,
     "metadata": {},
     "output_type": "execute_result"
    }
   ],
   "source": [
    "dataset['Qn_ph'] = dataset.pH_ratio * 100\n",
    "dataset['Qn_tds'] = dataset.tds_ratio * 100\n",
    "dataset['Qn_turb'] = dataset.turb_ratio * 100\n",
    "dataset['Qn_temp'] = dataset.temp_ratio * 100\n",
    "\n",
    "dataset.head()\n",
    "dataset.dtypes\n"
   ]
  },
  {
   "cell_type": "code",
   "execution_count": 22,
   "id": "c4287011",
   "metadata": {},
   "outputs": [
    {
     "data": {
      "text/html": [
       "<div>\n",
       "<style scoped>\n",
       "    .dataframe tbody tr th:only-of-type {\n",
       "        vertical-align: middle;\n",
       "    }\n",
       "\n",
       "    .dataframe tbody tr th {\n",
       "        vertical-align: top;\n",
       "    }\n",
       "\n",
       "    .dataframe thead th {\n",
       "        text-align: right;\n",
       "    }\n",
       "</style>\n",
       "<table border=\"1\" class=\"dataframe\">\n",
       "  <thead>\n",
       "    <tr style=\"text-align: right;\">\n",
       "      <th></th>\n",
       "      <th>ph</th>\n",
       "      <th>TDS</th>\n",
       "      <th>Turbidity</th>\n",
       "      <th>Temperature</th>\n",
       "      <th>pH_ratio</th>\n",
       "      <th>tds_ratio</th>\n",
       "      <th>turb_ratio</th>\n",
       "      <th>temp_ratio</th>\n",
       "      <th>Qn_ph</th>\n",
       "      <th>Qn_tds</th>\n",
       "      <th>Qn_turb</th>\n",
       "      <th>Qn_temp</th>\n",
       "      <th>wph</th>\n",
       "      <th>wtds</th>\n",
       "      <th>wturb</th>\n",
       "      <th>wtemp</th>\n",
       "      <th>wqi</th>\n",
       "    </tr>\n",
       "  </thead>\n",
       "  <tbody>\n",
       "    <tr>\n",
       "      <th>0</th>\n",
       "      <td>7.080795</td>\n",
       "      <td>20791.31898</td>\n",
       "      <td>2.963135</td>\n",
       "      <td>29.3</td>\n",
       "      <td>0.290397</td>\n",
       "      <td>41.582638</td>\n",
       "      <td>0.592627</td>\n",
       "      <td>0.620000</td>\n",
       "      <td>29.039725</td>\n",
       "      <td>4158.263796</td>\n",
       "      <td>59.262708</td>\n",
       "      <td>62.000000</td>\n",
       "      <td>9.811191</td>\n",
       "      <td>23.883073</td>\n",
       "      <td>34.037657</td>\n",
       "      <td>5.087118</td>\n",
       "      <td>72.819040</td>\n",
       "    </tr>\n",
       "    <tr>\n",
       "      <th>1</th>\n",
       "      <td>3.716080</td>\n",
       "      <td>18630.05786</td>\n",
       "      <td>4.500656</td>\n",
       "      <td>24.0</td>\n",
       "      <td>1.391960</td>\n",
       "      <td>37.260116</td>\n",
       "      <td>0.900131</td>\n",
       "      <td>0.266667</td>\n",
       "      <td>139.195996</td>\n",
       "      <td>3726.011572</td>\n",
       "      <td>90.013126</td>\n",
       "      <td>26.666667</td>\n",
       "      <td>47.027944</td>\n",
       "      <td>21.400424</td>\n",
       "      <td>51.699223</td>\n",
       "      <td>2.188008</td>\n",
       "      <td>122.315598</td>\n",
       "    </tr>\n",
       "    <tr>\n",
       "      <th>2</th>\n",
       "      <td>8.099124</td>\n",
       "      <td>19909.54173</td>\n",
       "      <td>3.055934</td>\n",
       "      <td>24.0</td>\n",
       "      <td>0.799562</td>\n",
       "      <td>39.819083</td>\n",
       "      <td>0.611187</td>\n",
       "      <td>0.266667</td>\n",
       "      <td>79.956209</td>\n",
       "      <td>3981.908346</td>\n",
       "      <td>61.118675</td>\n",
       "      <td>26.666667</td>\n",
       "      <td>27.013537</td>\n",
       "      <td>22.870172</td>\n",
       "      <td>35.103636</td>\n",
       "      <td>2.188008</td>\n",
       "      <td>87.175352</td>\n",
       "    </tr>\n",
       "    <tr>\n",
       "      <th>3</th>\n",
       "      <td>8.316766</td>\n",
       "      <td>22018.41744</td>\n",
       "      <td>4.628771</td>\n",
       "      <td>25.5</td>\n",
       "      <td>0.908383</td>\n",
       "      <td>44.036835</td>\n",
       "      <td>0.925754</td>\n",
       "      <td>0.366667</td>\n",
       "      <td>90.838294</td>\n",
       "      <td>4403.683488</td>\n",
       "      <td>92.575411</td>\n",
       "      <td>36.666667</td>\n",
       "      <td>30.690094</td>\n",
       "      <td>25.292646</td>\n",
       "      <td>53.170876</td>\n",
       "      <td>3.008511</td>\n",
       "      <td>112.162127</td>\n",
       "    </tr>\n",
       "    <tr>\n",
       "      <th>4</th>\n",
       "      <td>9.092223</td>\n",
       "      <td>17978.98634</td>\n",
       "      <td>4.075075</td>\n",
       "      <td>26.0</td>\n",
       "      <td>1.296112</td>\n",
       "      <td>35.957973</td>\n",
       "      <td>0.815015</td>\n",
       "      <td>0.400000</td>\n",
       "      <td>129.611173</td>\n",
       "      <td>3595.797268</td>\n",
       "      <td>81.501508</td>\n",
       "      <td>40.000000</td>\n",
       "      <td>43.789672</td>\n",
       "      <td>20.652535</td>\n",
       "      <td>46.810558</td>\n",
       "      <td>3.282012</td>\n",
       "      <td>114.534777</td>\n",
       "    </tr>\n",
       "    <tr>\n",
       "      <th>...</th>\n",
       "      <td>...</td>\n",
       "      <td>...</td>\n",
       "      <td>...</td>\n",
       "      <td>...</td>\n",
       "      <td>...</td>\n",
       "      <td>...</td>\n",
       "      <td>...</td>\n",
       "      <td>...</td>\n",
       "      <td>...</td>\n",
       "      <td>...</td>\n",
       "      <td>...</td>\n",
       "      <td>...</td>\n",
       "      <td>...</td>\n",
       "      <td>...</td>\n",
       "      <td>...</td>\n",
       "      <td>...</td>\n",
       "      <td>...</td>\n",
       "    </tr>\n",
       "    <tr>\n",
       "      <th>3271</th>\n",
       "      <td>4.668102</td>\n",
       "      <td>47580.99160</td>\n",
       "      <td>4.435821</td>\n",
       "      <td>28.0</td>\n",
       "      <td>0.915949</td>\n",
       "      <td>95.161983</td>\n",
       "      <td>0.887164</td>\n",
       "      <td>0.533333</td>\n",
       "      <td>91.594916</td>\n",
       "      <td>9516.198320</td>\n",
       "      <td>88.716418</td>\n",
       "      <td>53.333333</td>\n",
       "      <td>30.945722</td>\n",
       "      <td>54.656480</td>\n",
       "      <td>50.954456</td>\n",
       "      <td>4.376016</td>\n",
       "      <td>140.932673</td>\n",
       "    </tr>\n",
       "    <tr>\n",
       "      <th>3272</th>\n",
       "      <td>7.808856</td>\n",
       "      <td>17329.80216</td>\n",
       "      <td>2.798243</td>\n",
       "      <td>23.0</td>\n",
       "      <td>0.654428</td>\n",
       "      <td>34.659604</td>\n",
       "      <td>0.559649</td>\n",
       "      <td>0.200000</td>\n",
       "      <td>65.442801</td>\n",
       "      <td>3465.960432</td>\n",
       "      <td>55.964857</td>\n",
       "      <td>20.000000</td>\n",
       "      <td>22.110121</td>\n",
       "      <td>19.906815</td>\n",
       "      <td>32.143530</td>\n",
       "      <td>1.641006</td>\n",
       "      <td>75.801472</td>\n",
       "    </tr>\n",
       "    <tr>\n",
       "      <th>3273</th>\n",
       "      <td>9.419510</td>\n",
       "      <td>33155.57822</td>\n",
       "      <td>3.298875</td>\n",
       "      <td>28.0</td>\n",
       "      <td>1.459755</td>\n",
       "      <td>66.311156</td>\n",
       "      <td>0.659775</td>\n",
       "      <td>0.533333</td>\n",
       "      <td>145.975516</td>\n",
       "      <td>6631.115644</td>\n",
       "      <td>65.977510</td>\n",
       "      <td>53.333333</td>\n",
       "      <td>49.318433</td>\n",
       "      <td>38.085948</td>\n",
       "      <td>37.894318</td>\n",
       "      <td>4.376016</td>\n",
       "      <td>129.674714</td>\n",
       "    </tr>\n",
       "    <tr>\n",
       "      <th>3274</th>\n",
       "      <td>5.126763</td>\n",
       "      <td>11983.86938</td>\n",
       "      <td>4.708658</td>\n",
       "      <td>31.0</td>\n",
       "      <td>0.686619</td>\n",
       "      <td>23.967739</td>\n",
       "      <td>0.941732</td>\n",
       "      <td>0.733333</td>\n",
       "      <td>68.661854</td>\n",
       "      <td>2396.773876</td>\n",
       "      <td>94.173169</td>\n",
       "      <td>73.333333</td>\n",
       "      <td>23.197692</td>\n",
       "      <td>13.765920</td>\n",
       "      <td>54.088552</td>\n",
       "      <td>6.017021</td>\n",
       "      <td>97.069185</td>\n",
       "    </tr>\n",
       "    <tr>\n",
       "      <th>3275</th>\n",
       "      <td>7.874671</td>\n",
       "      <td>17404.17706</td>\n",
       "      <td>2.309149</td>\n",
       "      <td>33.0</td>\n",
       "      <td>0.687336</td>\n",
       "      <td>34.808354</td>\n",
       "      <td>0.461830</td>\n",
       "      <td>0.866667</td>\n",
       "      <td>68.733568</td>\n",
       "      <td>3480.835412</td>\n",
       "      <td>46.182981</td>\n",
       "      <td>86.666667</td>\n",
       "      <td>23.221921</td>\n",
       "      <td>19.992249</td>\n",
       "      <td>26.525290</td>\n",
       "      <td>7.111025</td>\n",
       "      <td>76.850485</td>\n",
       "    </tr>\n",
       "  </tbody>\n",
       "</table>\n",
       "<p>3276 rows × 17 columns</p>\n",
       "</div>"
      ],
      "text/plain": [
       "            ph          TDS  Turbidity  Temperature  pH_ratio  tds_ratio  \\\n",
       "0     7.080795  20791.31898   2.963135         29.3  0.290397  41.582638   \n",
       "1     3.716080  18630.05786   4.500656         24.0  1.391960  37.260116   \n",
       "2     8.099124  19909.54173   3.055934         24.0  0.799562  39.819083   \n",
       "3     8.316766  22018.41744   4.628771         25.5  0.908383  44.036835   \n",
       "4     9.092223  17978.98634   4.075075         26.0  1.296112  35.957973   \n",
       "...        ...          ...        ...          ...       ...        ...   \n",
       "3271  4.668102  47580.99160   4.435821         28.0  0.915949  95.161983   \n",
       "3272  7.808856  17329.80216   2.798243         23.0  0.654428  34.659604   \n",
       "3273  9.419510  33155.57822   3.298875         28.0  1.459755  66.311156   \n",
       "3274  5.126763  11983.86938   4.708658         31.0  0.686619  23.967739   \n",
       "3275  7.874671  17404.17706   2.309149         33.0  0.687336  34.808354   \n",
       "\n",
       "      turb_ratio  temp_ratio       Qn_ph       Qn_tds    Qn_turb    Qn_temp  \\\n",
       "0       0.592627    0.620000   29.039725  4158.263796  59.262708  62.000000   \n",
       "1       0.900131    0.266667  139.195996  3726.011572  90.013126  26.666667   \n",
       "2       0.611187    0.266667   79.956209  3981.908346  61.118675  26.666667   \n",
       "3       0.925754    0.366667   90.838294  4403.683488  92.575411  36.666667   \n",
       "4       0.815015    0.400000  129.611173  3595.797268  81.501508  40.000000   \n",
       "...          ...         ...         ...          ...        ...        ...   \n",
       "3271    0.887164    0.533333   91.594916  9516.198320  88.716418  53.333333   \n",
       "3272    0.559649    0.200000   65.442801  3465.960432  55.964857  20.000000   \n",
       "3273    0.659775    0.533333  145.975516  6631.115644  65.977510  53.333333   \n",
       "3274    0.941732    0.733333   68.661854  2396.773876  94.173169  73.333333   \n",
       "3275    0.461830    0.866667   68.733568  3480.835412  46.182981  86.666667   \n",
       "\n",
       "            wph       wtds      wturb     wtemp         wqi  \n",
       "0      9.811191  23.883073  34.037657  5.087118   72.819040  \n",
       "1     47.027944  21.400424  51.699223  2.188008  122.315598  \n",
       "2     27.013537  22.870172  35.103636  2.188008   87.175352  \n",
       "3     30.690094  25.292646  53.170876  3.008511  112.162127  \n",
       "4     43.789672  20.652535  46.810558  3.282012  114.534777  \n",
       "...         ...        ...        ...       ...         ...  \n",
       "3271  30.945722  54.656480  50.954456  4.376016  140.932673  \n",
       "3272  22.110121  19.906815  32.143530  1.641006   75.801472  \n",
       "3273  49.318433  38.085948  37.894318  4.376016  129.674714  \n",
       "3274  23.197692  13.765920  54.088552  6.017021   97.069185  \n",
       "3275  23.221921  19.992249  26.525290  7.111025   76.850485  \n",
       "\n",
       "[3276 rows x 17 columns]"
      ]
     },
     "execution_count": 22,
     "metadata": {},
     "output_type": "execute_result"
    }
   ],
   "source": [
    "dataset['wph']=dataset.Qn_ph * wt_ph\n",
    "dataset['wtds']=dataset.Qn_tds * wt_tds\n",
    "dataset['wturb']=dataset.Qn_turb * wt_turb\n",
    "dataset['wtemp']=dataset.Qn_temp * wt_temp\n",
    "\n",
    "dataset['wqi']=(dataset.wph+dataset.wtds+dataset.wturb+dataset.wtemp)/(wt_ph + wt_tds + wt_turb + wt_temp)\n",
    "dataset\n",
    "\n",
    "# dataset.drop(['pH_ratio', 'tds_ratio', 'turb_ratio', 'temp_ratio'], axis=1)"
   ]
  },
  {
   "cell_type": "code",
   "execution_count": 23,
   "id": "f3e7215b",
   "metadata": {},
   "outputs": [
    {
     "data": {
      "text/plain": [
       "<seaborn.axisgrid.PairGrid at 0x7fe0f4bc2910>"
      ]
     },
     "execution_count": 23,
     "metadata": {},
     "output_type": "execute_result"
    },
    {
     "data": {
      "image/png": "[encoded data removed]",
      "text/plain": [
       "<Figure size 1411.2x504 with 4 Axes>"
      ]
     },
     "metadata": {},
     "output_type": "display_data"
    }
   ],
   "source": [
    "# visualize the relationship between the features and the response using scatterplots\n",
    "sns.pairplot(dataset, x_vars=['ph','TDS','Turbidity', 'Temperature'], y_vars='wqi', size=7, aspect=0.7)"
   ]
  },
  {
   "cell_type": "code",
   "execution_count": 24,
   "id": "744f4401",
   "metadata": {},
   "outputs": [
    {
     "data": {
      "text/plain": [
       "225.14587360030248"
      ]
     },
     "execution_count": 24,
     "metadata": {},
     "output_type": "execute_result"
    }
   ],
   "source": [
    "max(dataset['wqi'])"
   ]
  },
  {
   "cell_type": "code",
   "execution_count": 25,
   "id": "92b3c561",
   "metadata": {},
   "outputs": [
    {
     "data": {
      "text/plain": [
       "39.88124361088856"
      ]
     },
     "execution_count": 25,
     "metadata": {},
     "output_type": "execute_result"
    }
   ],
   "source": [
    "min(dataset['wqi'])"
   ]
  },
  {
   "cell_type": "markdown",
   "id": "5cda8779",
   "metadata": {},
   "source": [
    "\n",
    "#### Then we classify the water on the basis of their water quality index.\n"
   ]
  },
  {
   "cell_type": "code",
   "execution_count": 26,
   "id": "43b02877",
   "metadata": {},
   "outputs": [
    {
     "data": {
      "text/html": [
       "<div>\n",
       "<style scoped>\n",
       "    .dataframe tbody tr th:only-of-type {\n",
       "        vertical-align: middle;\n",
       "    }\n",
       "\n",
       "    .dataframe tbody tr th {\n",
       "        vertical-align: top;\n",
       "    }\n",
       "\n",
       "    .dataframe thead th {\n",
       "        text-align: right;\n",
       "    }\n",
       "</style>\n",
       "<table border=\"1\" class=\"dataframe\">\n",
       "  <thead>\n",
       "    <tr style=\"text-align: right;\">\n",
       "      <th></th>\n",
       "      <th>ph</th>\n",
       "      <th>TDS</th>\n",
       "      <th>Turbidity</th>\n",
       "      <th>Temperature</th>\n",
       "      <th>pH_ratio</th>\n",
       "      <th>tds_ratio</th>\n",
       "      <th>turb_ratio</th>\n",
       "      <th>temp_ratio</th>\n",
       "      <th>Qn_ph</th>\n",
       "      <th>Qn_tds</th>\n",
       "      <th>Qn_turb</th>\n",
       "      <th>Qn_temp</th>\n",
       "      <th>wph</th>\n",
       "      <th>wtds</th>\n",
       "      <th>wturb</th>\n",
       "      <th>wtemp</th>\n",
       "      <th>wqi</th>\n",
       "      <th>quality</th>\n",
       "    </tr>\n",
       "  </thead>\n",
       "  <tbody>\n",
       "    <tr>\n",
       "      <th>0</th>\n",
       "      <td>7.080795</td>\n",
       "      <td>20791.31898</td>\n",
       "      <td>2.963135</td>\n",
       "      <td>29.3</td>\n",
       "      <td>0.290397</td>\n",
       "      <td>41.582638</td>\n",
       "      <td>0.592627</td>\n",
       "      <td>0.620000</td>\n",
       "      <td>29.039725</td>\n",
       "      <td>4158.263796</td>\n",
       "      <td>59.262708</td>\n",
       "      <td>62.000000</td>\n",
       "      <td>9.811191</td>\n",
       "      <td>23.883073</td>\n",
       "      <td>34.037657</td>\n",
       "      <td>5.087118</td>\n",
       "      <td>72.819040</td>\n",
       "      <td>Poor</td>\n",
       "    </tr>\n",
       "    <tr>\n",
       "      <th>1</th>\n",
       "      <td>3.716080</td>\n",
       "      <td>18630.05786</td>\n",
       "      <td>4.500656</td>\n",
       "      <td>24.0</td>\n",
       "      <td>1.391960</td>\n",
       "      <td>37.260116</td>\n",
       "      <td>0.900131</td>\n",
       "      <td>0.266667</td>\n",
       "      <td>139.195996</td>\n",
       "      <td>3726.011572</td>\n",
       "      <td>90.013126</td>\n",
       "      <td>26.666667</td>\n",
       "      <td>47.027944</td>\n",
       "      <td>21.400424</td>\n",
       "      <td>51.699223</td>\n",
       "      <td>2.188008</td>\n",
       "      <td>122.315598</td>\n",
       "      <td>Unsuitable</td>\n",
       "    </tr>\n",
       "    <tr>\n",
       "      <th>2</th>\n",
       "      <td>8.099124</td>\n",
       "      <td>19909.54173</td>\n",
       "      <td>3.055934</td>\n",
       "      <td>24.0</td>\n",
       "      <td>0.799562</td>\n",
       "      <td>39.819083</td>\n",
       "      <td>0.611187</td>\n",
       "      <td>0.266667</td>\n",
       "      <td>79.956209</td>\n",
       "      <td>3981.908346</td>\n",
       "      <td>61.118675</td>\n",
       "      <td>26.666667</td>\n",
       "      <td>27.013537</td>\n",
       "      <td>22.870172</td>\n",
       "      <td>35.103636</td>\n",
       "      <td>2.188008</td>\n",
       "      <td>87.175352</td>\n",
       "      <td>Very Poor</td>\n",
       "    </tr>\n",
       "    <tr>\n",
       "      <th>3</th>\n",
       "      <td>8.316766</td>\n",
       "      <td>22018.41744</td>\n",
       "      <td>4.628771</td>\n",
       "      <td>25.5</td>\n",
       "      <td>0.908383</td>\n",
       "      <td>44.036835</td>\n",
       "      <td>0.925754</td>\n",
       "      <td>0.366667</td>\n",
       "      <td>90.838294</td>\n",
       "      <td>4403.683488</td>\n",
       "      <td>92.575411</td>\n",
       "      <td>36.666667</td>\n",
       "      <td>30.690094</td>\n",
       "      <td>25.292646</td>\n",
       "      <td>53.170876</td>\n",
       "      <td>3.008511</td>\n",
       "      <td>112.162127</td>\n",
       "      <td>Unsuitable</td>\n",
       "    </tr>\n",
       "    <tr>\n",
       "      <th>4</th>\n",
       "      <td>9.092223</td>\n",
       "      <td>17978.98634</td>\n",
       "      <td>4.075075</td>\n",
       "      <td>26.0</td>\n",
       "      <td>1.296112</td>\n",
       "      <td>35.957973</td>\n",
       "      <td>0.815015</td>\n",
       "      <td>0.400000</td>\n",
       "      <td>129.611173</td>\n",
       "      <td>3595.797268</td>\n",
       "      <td>81.501508</td>\n",
       "      <td>40.000000</td>\n",
       "      <td>43.789672</td>\n",
       "      <td>20.652535</td>\n",
       "      <td>46.810558</td>\n",
       "      <td>3.282012</td>\n",
       "      <td>114.534777</td>\n",
       "      <td>Unsuitable</td>\n",
       "    </tr>\n",
       "    <tr>\n",
       "      <th>...</th>\n",
       "      <td>...</td>\n",
       "      <td>...</td>\n",
       "      <td>...</td>\n",
       "      <td>...</td>\n",
       "      <td>...</td>\n",
       "      <td>...</td>\n",
       "      <td>...</td>\n",
       "      <td>...</td>\n",
       "      <td>...</td>\n",
       "      <td>...</td>\n",
       "      <td>...</td>\n",
       "      <td>...</td>\n",
       "      <td>...</td>\n",
       "      <td>...</td>\n",
       "      <td>...</td>\n",
       "      <td>...</td>\n",
       "      <td>...</td>\n",
       "      <td>...</td>\n",
       "    </tr>\n",
       "    <tr>\n",
       "      <th>3271</th>\n",
       "      <td>4.668102</td>\n",
       "      <td>47580.99160</td>\n",
       "      <td>4.435821</td>\n",
       "      <td>28.0</td>\n",
       "      <td>0.915949</td>\n",
       "      <td>95.161983</td>\n",
       "      <td>0.887164</td>\n",
       "      <td>0.533333</td>\n",
       "      <td>91.594916</td>\n",
       "      <td>9516.198320</td>\n",
       "      <td>88.716418</td>\n",
       "      <td>53.333333</td>\n",
       "      <td>30.945722</td>\n",
       "      <td>54.656480</td>\n",
       "      <td>50.954456</td>\n",
       "      <td>4.376016</td>\n",
       "      <td>140.932673</td>\n",
       "      <td>Unsuitable</td>\n",
       "    </tr>\n",
       "    <tr>\n",
       "      <th>3272</th>\n",
       "      <td>7.808856</td>\n",
       "      <td>17329.80216</td>\n",
       "      <td>2.798243</td>\n",
       "      <td>23.0</td>\n",
       "      <td>0.654428</td>\n",
       "      <td>34.659604</td>\n",
       "      <td>0.559649</td>\n",
       "      <td>0.200000</td>\n",
       "      <td>65.442801</td>\n",
       "      <td>3465.960432</td>\n",
       "      <td>55.964857</td>\n",
       "      <td>20.000000</td>\n",
       "      <td>22.110121</td>\n",
       "      <td>19.906815</td>\n",
       "      <td>32.143530</td>\n",
       "      <td>1.641006</td>\n",
       "      <td>75.801472</td>\n",
       "      <td>Very Poor</td>\n",
       "    </tr>\n",
       "    <tr>\n",
       "      <th>3273</th>\n",
       "      <td>9.419510</td>\n",
       "      <td>33155.57822</td>\n",
       "      <td>3.298875</td>\n",
       "      <td>28.0</td>\n",
       "      <td>1.459755</td>\n",
       "      <td>66.311156</td>\n",
       "      <td>0.659775</td>\n",
       "      <td>0.533333</td>\n",
       "      <td>145.975516</td>\n",
       "      <td>6631.115644</td>\n",
       "      <td>65.977510</td>\n",
       "      <td>53.333333</td>\n",
       "      <td>49.318433</td>\n",
       "      <td>38.085948</td>\n",
       "      <td>37.894318</td>\n",
       "      <td>4.376016</td>\n",
       "      <td>129.674714</td>\n",
       "      <td>Unsuitable</td>\n",
       "    </tr>\n",
       "    <tr>\n",
       "      <th>3274</th>\n",
       "      <td>5.126763</td>\n",
       "      <td>11983.86938</td>\n",
       "      <td>4.708658</td>\n",
       "      <td>31.0</td>\n",
       "      <td>0.686619</td>\n",
       "      <td>23.967739</td>\n",
       "      <td>0.941732</td>\n",
       "      <td>0.733333</td>\n",
       "      <td>68.661854</td>\n",
       "      <td>2396.773876</td>\n",
       "      <td>94.173169</td>\n",
       "      <td>73.333333</td>\n",
       "      <td>23.197692</td>\n",
       "      <td>13.765920</td>\n",
       "      <td>54.088552</td>\n",
       "      <td>6.017021</td>\n",
       "      <td>97.069185</td>\n",
       "      <td>Very Poor</td>\n",
       "    </tr>\n",
       "    <tr>\n",
       "      <th>3275</th>\n",
       "      <td>7.874671</td>\n",
       "      <td>17404.17706</td>\n",
       "      <td>2.309149</td>\n",
       "      <td>33.0</td>\n",
       "      <td>0.687336</td>\n",
       "      <td>34.808354</td>\n",
       "      <td>0.461830</td>\n",
       "      <td>0.866667</td>\n",
       "      <td>68.733568</td>\n",
       "      <td>3480.835412</td>\n",
       "      <td>46.182981</td>\n",
       "      <td>86.666667</td>\n",
       "      <td>23.221921</td>\n",
       "      <td>19.992249</td>\n",
       "      <td>26.525290</td>\n",
       "      <td>7.111025</td>\n",
       "      <td>76.850485</td>\n",
       "      <td>Very Poor</td>\n",
       "    </tr>\n",
       "  </tbody>\n",
       "</table>\n",
       "<p>3276 rows × 18 columns</p>\n",
       "</div>"
      ],
      "text/plain": [
       "            ph          TDS  Turbidity  Temperature  pH_ratio  tds_ratio  \\\n",
       "0     7.080795  20791.31898   2.963135         29.3  0.290397  41.582638   \n",
       "1     3.716080  18630.05786   4.500656         24.0  1.391960  37.260116   \n",
       "2     8.099124  19909.54173   3.055934         24.0  0.799562  39.819083   \n",
       "3     8.316766  22018.41744   4.628771         25.5  0.908383  44.036835   \n",
       "4     9.092223  17978.98634   4.075075         26.0  1.296112  35.957973   \n",
       "...        ...          ...        ...          ...       ...        ...   \n",
       "3271  4.668102  47580.99160   4.435821         28.0  0.915949  95.161983   \n",
       "3272  7.808856  17329.80216   2.798243         23.0  0.654428  34.659604   \n",
       "3273  9.419510  33155.57822   3.298875         28.0  1.459755  66.311156   \n",
       "3274  5.126763  11983.86938   4.708658         31.0  0.686619  23.967739   \n",
       "3275  7.874671  17404.17706   2.309149         33.0  0.687336  34.808354   \n",
       "\n",
       "      turb_ratio  temp_ratio       Qn_ph       Qn_tds    Qn_turb    Qn_temp  \\\n",
       "0       0.592627    0.620000   29.039725  4158.263796  59.262708  62.000000   \n",
       "1       0.900131    0.266667  139.195996  3726.011572  90.013126  26.666667   \n",
       "2       0.611187    0.266667   79.956209  3981.908346  61.118675  26.666667   \n",
       "3       0.925754    0.366667   90.838294  4403.683488  92.575411  36.666667   \n",
       "4       0.815015    0.400000  129.611173  3595.797268  81.501508  40.000000   \n",
       "...          ...         ...         ...          ...        ...        ...   \n",
       "3271    0.887164    0.533333   91.594916  9516.198320  88.716418  53.333333   \n",
       "3272    0.559649    0.200000   65.442801  3465.960432  55.964857  20.000000   \n",
       "3273    0.659775    0.533333  145.975516  6631.115644  65.977510  53.333333   \n",
       "3274    0.941732    0.733333   68.661854  2396.773876  94.173169  73.333333   \n",
       "3275    0.461830    0.866667   68.733568  3480.835412  46.182981  86.666667   \n",
       "\n",
       "            wph       wtds      wturb     wtemp         wqi     quality  \n",
       "0      9.811191  23.883073  34.037657  5.087118   72.819040        Poor  \n",
       "1     47.027944  21.400424  51.699223  2.188008  122.315598  Unsuitable  \n",
       "2     27.013537  22.870172  35.103636  2.188008   87.175352   Very Poor  \n",
       "3     30.690094  25.292646  53.170876  3.008511  112.162127  Unsuitable  \n",
       "4     43.789672  20.652535  46.810558  3.282012  114.534777  Unsuitable  \n",
       "...         ...        ...        ...       ...         ...         ...  \n",
       "3271  30.945722  54.656480  50.954456  4.376016  140.932673  Unsuitable  \n",
       "3272  22.110121  19.906815  32.143530  1.641006   75.801472   Very Poor  \n",
       "3273  49.318433  38.085948  37.894318  4.376016  129.674714  Unsuitable  \n",
       "3274  23.197692  13.765920  54.088552  6.017021   97.069185   Very Poor  \n",
       "3275  23.221921  19.992249  26.525290  7.111025   76.850485   Very Poor  \n",
       "\n",
       "[3276 rows x 18 columns]"
      ]
     },
     "execution_count": 26,
     "metadata": {},
     "output_type": "execute_result"
    }
   ],
   "source": [
    "dataset['quality']=dataset.wqi.apply(lambda x:('Excellent' if (25>=x>=0)  \n",
    "                                 else('Good' if  (50>=x>=25) \n",
    "                                      else('Poor' if (75>=x>=50)\n",
    "                                          else('Very Poor' if (100>=x>=75) \n",
    "                                              else 'Unsuitable')))))\n",
    "dataset"
   ]
  },
  {
   "cell_type": "code",
   "execution_count": 27,
   "id": "771e973a",
   "metadata": {},
   "outputs": [
    {
     "data": {
      "text/html": [
       "<div>\n",
       "<style scoped>\n",
       "    .dataframe tbody tr th:only-of-type {\n",
       "        vertical-align: middle;\n",
       "    }\n",
       "\n",
       "    .dataframe tbody tr th {\n",
       "        vertical-align: top;\n",
       "    }\n",
       "\n",
       "    .dataframe thead th {\n",
       "        text-align: right;\n",
       "    }\n",
       "</style>\n",
       "<table border=\"1\" class=\"dataframe\">\n",
       "  <thead>\n",
       "    <tr style=\"text-align: right;\">\n",
       "      <th></th>\n",
       "      <th>ph</th>\n",
       "      <th>TDS</th>\n",
       "      <th>Turbidity</th>\n",
       "      <th>Temperature</th>\n",
       "      <th>pH_ratio</th>\n",
       "      <th>tds_ratio</th>\n",
       "      <th>turb_ratio</th>\n",
       "      <th>temp_ratio</th>\n",
       "      <th>Qn_ph</th>\n",
       "      <th>Qn_tds</th>\n",
       "      <th>Qn_turb</th>\n",
       "      <th>Qn_temp</th>\n",
       "      <th>wph</th>\n",
       "      <th>wtds</th>\n",
       "      <th>wturb</th>\n",
       "      <th>wtemp</th>\n",
       "      <th>wqi</th>\n",
       "    </tr>\n",
       "  </thead>\n",
       "  <tbody>\n",
       "    <tr>\n",
       "      <th>count</th>\n",
       "      <td>3276.000000</td>\n",
       "      <td>3276.000000</td>\n",
       "      <td>3276.000000</td>\n",
       "      <td>3276.000000</td>\n",
       "      <td>3276.000000</td>\n",
       "      <td>3276.000000</td>\n",
       "      <td>3276.000000</td>\n",
       "      <td>3276.000000</td>\n",
       "      <td>3276.000000</td>\n",
       "      <td>3276.000000</td>\n",
       "      <td>3276.000000</td>\n",
       "      <td>3276.000000</td>\n",
       "      <td>3276.000000</td>\n",
       "      <td>3276.000000</td>\n",
       "      <td>3276.000000</td>\n",
       "      <td>3276.000000</td>\n",
       "      <td>3276.000000</td>\n",
       "    </tr>\n",
       "    <tr>\n",
       "      <th>mean</th>\n",
       "      <td>7.080795</td>\n",
       "      <td>22014.092526</td>\n",
       "      <td>3.966786</td>\n",
       "      <td>25.231523</td>\n",
       "      <td>0.605018</td>\n",
       "      <td>44.028185</td>\n",
       "      <td>0.793357</td>\n",
       "      <td>0.354474</td>\n",
       "      <td>60.501750</td>\n",
       "      <td>4402.818505</td>\n",
       "      <td>79.335723</td>\n",
       "      <td>35.447434</td>\n",
       "      <td>20.440767</td>\n",
       "      <td>25.287678</td>\n",
       "      <td>45.566635</td>\n",
       "      <td>2.908472</td>\n",
       "      <td>94.203552</td>\n",
       "    </tr>\n",
       "    <tr>\n",
       "      <th>std</th>\n",
       "      <td>1.469956</td>\n",
       "      <td>8768.570828</td>\n",
       "      <td>0.780382</td>\n",
       "      <td>2.556669</td>\n",
       "      <td>0.508322</td>\n",
       "      <td>17.537142</td>\n",
       "      <td>0.156076</td>\n",
       "      <td>0.158232</td>\n",
       "      <td>50.832175</td>\n",
       "      <td>1753.714166</td>\n",
       "      <td>15.607648</td>\n",
       "      <td>15.823186</td>\n",
       "      <td>17.173861</td>\n",
       "      <td>10.072493</td>\n",
       "      <td>8.964285</td>\n",
       "      <td>1.298297</td>\n",
       "      <td>21.806012</td>\n",
       "    </tr>\n",
       "    <tr>\n",
       "      <th>min</th>\n",
       "      <td>0.000000</td>\n",
       "      <td>320.942611</td>\n",
       "      <td>1.450000</td>\n",
       "      <td>15.000000</td>\n",
       "      <td>0.000466</td>\n",
       "      <td>0.641885</td>\n",
       "      <td>0.290000</td>\n",
       "      <td>0.000000</td>\n",
       "      <td>0.046600</td>\n",
       "      <td>64.188522</td>\n",
       "      <td>29.000000</td>\n",
       "      <td>0.000000</td>\n",
       "      <td>0.015744</td>\n",
       "      <td>0.368668</td>\n",
       "      <td>16.656209</td>\n",
       "      <td>0.000000</td>\n",
       "      <td>39.881244</td>\n",
       "    </tr>\n",
       "    <tr>\n",
       "      <th>25%</th>\n",
       "      <td>6.277673</td>\n",
       "      <td>15666.690300</td>\n",
       "      <td>3.439711</td>\n",
       "      <td>24.000000</td>\n",
       "      <td>0.290397</td>\n",
       "      <td>31.333381</td>\n",
       "      <td>0.687942</td>\n",
       "      <td>0.266667</td>\n",
       "      <td>29.039725</td>\n",
       "      <td>3133.338060</td>\n",
       "      <td>68.794217</td>\n",
       "      <td>26.666667</td>\n",
       "      <td>9.811191</td>\n",
       "      <td>17.996391</td>\n",
       "      <td>39.512099</td>\n",
       "      <td>2.188008</td>\n",
       "      <td>79.273505</td>\n",
       "    </tr>\n",
       "    <tr>\n",
       "      <th>50%</th>\n",
       "      <td>7.080795</td>\n",
       "      <td>20927.833605</td>\n",
       "      <td>3.955028</td>\n",
       "      <td>25.231523</td>\n",
       "      <td>0.434031</td>\n",
       "      <td>41.855667</td>\n",
       "      <td>0.791006</td>\n",
       "      <td>0.348768</td>\n",
       "      <td>43.403115</td>\n",
       "      <td>4185.566721</td>\n",
       "      <td>79.100551</td>\n",
       "      <td>34.876819</td>\n",
       "      <td>14.663922</td>\n",
       "      <td>24.039888</td>\n",
       "      <td>45.431563</td>\n",
       "      <td>2.861653</td>\n",
       "      <td>91.482951</td>\n",
       "    </tr>\n",
       "    <tr>\n",
       "      <th>75%</th>\n",
       "      <td>7.870050</td>\n",
       "      <td>27332.762125</td>\n",
       "      <td>4.500320</td>\n",
       "      <td>26.750000</td>\n",
       "      <td>0.843858</td>\n",
       "      <td>54.665524</td>\n",
       "      <td>0.900064</td>\n",
       "      <td>0.450000</td>\n",
       "      <td>84.385832</td>\n",
       "      <td>5466.552425</td>\n",
       "      <td>90.006396</td>\n",
       "      <td>45.000000</td>\n",
       "      <td>28.510103</td>\n",
       "      <td>31.397256</td>\n",
       "      <td>51.695357</td>\n",
       "      <td>3.692263</td>\n",
       "      <td>106.133345</td>\n",
       "    </tr>\n",
       "    <tr>\n",
       "      <th>max</th>\n",
       "      <td>14.000000</td>\n",
       "      <td>61227.196010</td>\n",
       "      <td>6.739000</td>\n",
       "      <td>36.000000</td>\n",
       "      <td>3.750000</td>\n",
       "      <td>122.454392</td>\n",
       "      <td>1.347800</td>\n",
       "      <td>1.066667</td>\n",
       "      <td>375.000000</td>\n",
       "      <td>12245.439202</td>\n",
       "      <td>134.780000</td>\n",
       "      <td>106.666667</td>\n",
       "      <td>126.695304</td>\n",
       "      <td>70.331930</td>\n",
       "      <td>77.411168</td>\n",
       "      <td>8.752031</td>\n",
       "      <td>225.145874</td>\n",
       "    </tr>\n",
       "  </tbody>\n",
       "</table>\n",
       "</div>"
      ],
      "text/plain": [
       "                ph           TDS    Turbidity  Temperature     pH_ratio  \\\n",
       "count  3276.000000   3276.000000  3276.000000  3276.000000  3276.000000   \n",
       "mean      7.080795  22014.092526     3.966786    25.231523     0.605018   \n",
       "std       1.469956   8768.570828     0.780382     2.556669     0.508322   \n",
       "min       0.000000    320.942611     1.450000    15.000000     0.000466   \n",
       "25%       6.277673  15666.690300     3.439711    24.000000     0.290397   \n",
       "50%       7.080795  20927.833605     3.955028    25.231523     0.434031   \n",
       "75%       7.870050  27332.762125     4.500320    26.750000     0.843858   \n",
       "max      14.000000  61227.196010     6.739000    36.000000     3.750000   \n",
       "\n",
       "         tds_ratio   turb_ratio   temp_ratio        Qn_ph        Qn_tds  \\\n",
       "count  3276.000000  3276.000000  3276.000000  3276.000000   3276.000000   \n",
       "mean     44.028185     0.793357     0.354474    60.501750   4402.818505   \n",
       "std      17.537142     0.156076     0.158232    50.832175   1753.714166   \n",
       "min       0.641885     0.290000     0.000000     0.046600     64.188522   \n",
       "25%      31.333381     0.687942     0.266667    29.039725   3133.338060   \n",
       "50%      41.855667     0.791006     0.348768    43.403115   4185.566721   \n",
       "75%      54.665524     0.900064     0.450000    84.385832   5466.552425   \n",
       "max     122.454392     1.347800     1.066667   375.000000  12245.439202   \n",
       "\n",
       "           Qn_turb      Qn_temp          wph         wtds        wturb  \\\n",
       "count  3276.000000  3276.000000  3276.000000  3276.000000  3276.000000   \n",
       "mean     79.335723    35.447434    20.440767    25.287678    45.566635   \n",
       "std      15.607648    15.823186    17.173861    10.072493     8.964285   \n",
       "min      29.000000     0.000000     0.015744     0.368668    16.656209   \n",
       "25%      68.794217    26.666667     9.811191    17.996391    39.512099   \n",
       "50%      79.100551    34.876819    14.663922    24.039888    45.431563   \n",
       "75%      90.006396    45.000000    28.510103    31.397256    51.695357   \n",
       "max     134.780000   106.666667   126.695304    70.331930    77.411168   \n",
       "\n",
       "             wtemp          wqi  \n",
       "count  3276.000000  3276.000000  \n",
       "mean      2.908472    94.203552  \n",
       "std       1.298297    21.806012  \n",
       "min       0.000000    39.881244  \n",
       "25%       2.188008    79.273505  \n",
       "50%       2.861653    91.482951  \n",
       "75%       3.692263   106.133345  \n",
       "max       8.752031   225.145874  "
      ]
     },
     "execution_count": 27,
     "metadata": {},
     "output_type": "execute_result"
    }
   ],
   "source": [
    "dataset.describe()"
   ]
  },
  {
   "cell_type": "code",
   "execution_count": 28,
   "id": "2a4e39b2",
   "metadata": {},
   "outputs": [
    {
     "data": {
      "image/png": "[encoded data removed]",
      "text/plain": [
       "<Figure size 720x576 with 1 Axes>"
      ]
     },
     "metadata": {},
     "output_type": "display_data"
    }
   ],
   "source": [
    "mpl.style.use(\"ggplot\")\n",
    "fig = plt.figure(figsize = (10, 8))\n",
    "ax = fig.add_subplot(111)\n",
    "ax.set_xlabel(\"WQI\")\n",
    "ax.set_ylabel(\"Count\")\n",
    "ax.set_ylim((0, 1300))\n",
    "ax.hist(dataset.wqi, label = \"wqi\", bins = 10, color=\"#7FAFD4\")\n",
    "ax.legend()\n",
    "plt.show()"
   ]
  },
  {
   "cell_type": "code",
   "execution_count": 29,
   "id": "252c31e0",
   "metadata": {},
   "outputs": [
    {
     "data": {
      "text/plain": [
       "<AxesSubplot:>"
      ]
     },
     "execution_count": 29,
     "metadata": {},
     "output_type": "execute_result"
    },
    {
     "data": {
      "image/png": "[encoded data removed]",
      "text/plain": [
       "<Figure size 1008x504 with 1 Axes>"
      ]
     },
     "metadata": {},
     "output_type": "display_data"
    }
   ],
   "source": [
    "dataset.boxplot(column = ['wqi'], figsize=(14,7))"
   ]
  },
  {
   "cell_type": "markdown",
   "id": "94b2808a",
   "metadata": {},
   "source": [
    "----\n",
    "\n",
    "<a id=7></a>\n",
    "# **Model Creation**\n",
    "\n",
    "----"
   ]
  },
  {
   "cell_type": "markdown",
   "id": "d8201c65",
   "metadata": {},
   "source": [
    "\n",
    "## <mark><em>1. Multiple Linear Regression</em></mark>\n",
    "\n",
    "\n",
    "* Is an extension of Simple Linear regression as it takes more than one predictor variable to predict the response variable. It is an important regression algorithm that models the linear relationship between a single dependent continuous variable and more than one independent variable. It uses two or more independent variables to predict a dependent variable by fitting a best linear relationship.\n",
    "\n",
    "* Multiple linear regression is used to estimate the relationship between two or more independent variables and one dependent variable. You can use multiple linear regression when you want to know:\n",
    "\n",
    "* How strong the relationship is between two or more independent variables and one dependent variable (e.g. how rainfall, temperature, and amount of fertilizer added affect crop growth).\n",
    "* The value of the dependent variable at a certain value of the independent variables (e.g. the expected yield of a crop at certain levels of rainfall, temperature, and fertilizer addition).\n"
   ]
  },
  {
   "cell_type": "code",
   "execution_count": 30,
   "id": "c1fa7662",
   "metadata": {},
   "outputs": [],
   "source": [
    "#Setting the value for X and Y\n",
    "x = dataset[['ph', 'TDS', 'Turbidity', 'Temperature']]\n",
    "y = dataset['wqi']\n"
   ]
  },
  {
   "cell_type": "code",
   "execution_count": 31,
   "id": "b886acd3",
   "metadata": {},
   "outputs": [
    {
     "name": "stdout",
     "output_type": "stream",
     "text": [
      "(2293, 4) (983, 4) (2293,) (983,)\n"
     ]
    }
   ],
   "source": [
    "#Splitting the dataset\n",
    "from sklearn.model_selection import train_test_split\n",
    "# x_train, x_test, y_train, y_test = train_test_split(x, y, test_size = 0.25, random_state = 100, shuffle='true')\n",
    "x_train, x_test, y_train, y_test = train_test_split(x, y, test_size = 0.3, random_state = 28, shuffle='true')\n",
    "# summarize the shape of the train and test sets\n",
    "print(x_train.shape, x_test.shape, y_train.shape, y_test.shape)\n",
    "    "
   ]
  },
  {
   "cell_type": "code",
   "execution_count": 32,
   "id": "acbb185f",
   "metadata": {},
   "outputs": [
    {
     "data": {
      "text/html": [
       "<style>#sk-container-id-1 {color: black;background-color: white;}#sk-container-id-1 pre{padding: 0;}#sk-container-id-1 div.sk-toggleable {background-color: white;}#sk-container-id-1 label.sk-toggleable__label {cursor: pointer;display: block;width: 100%;margin-bottom: 0;padding: 0.3em;box-sizing: border-box;text-align: center;}#sk-container-id-1 label.sk-toggleable__label-arrow:before {content: \"▸\";float: left;margin-right: 0.25em;color: #696969;}#sk-container-id-1 label.sk-toggleable__label-arrow:hover:before {color: black;}#sk-container-id-1 div.sk-estimator:hover label.sk-toggleable__label-arrow:before {color: black;}#sk-container-id-1 div.sk-toggleable__content {max-height: 0;max-width: 0;overflow: hidden;text-align: left;background-color: #f0f8ff;}#sk-container-id-1 div.sk-toggleable__content pre {margin: 0.2em;color: black;border-radius: 0.25em;background-color: #f0f8ff;}#sk-container-id-1 input.sk-toggleable__control:checked~div.sk-toggleable__content {max-height: 200px;max-width: 100%;overflow: auto;}#sk-container-id-1 input.sk-toggleable__control:checked~label.sk-toggleable__label-arrow:before {content: \"▾\";}#sk-container-id-1 div.sk-estimator input.sk-toggleable__control:checked~label.sk-toggleable__label {background-color: #d4ebff;}#sk-container-id-1 div.sk-label input.sk-toggleable__control:checked~label.sk-toggleable__label {background-color: #d4ebff;}#sk-container-id-1 input.sk-hidden--visually {border: 0;clip: rect(1px 1px 1px 1px);clip: rect(1px, 1px, 1px, 1px);height: 1px;margin: -1px;overflow: hidden;padding: 0;position: absolute;width: 1px;}#sk-container-id-1 div.sk-estimator {font-family: monospace;background-color: #f0f8ff;border: 1px dotted black;border-radius: 0.25em;box-sizing: border-box;margin-bottom: 0.5em;}#sk-container-id-1 div.sk-estimator:hover {background-color: #d4ebff;}#sk-container-id-1 div.sk-parallel-item::after {content: \"\";width: 100%;border-bottom: 1px solid gray;flex-grow: 1;}#sk-container-id-1 div.sk-label:hover label.sk-toggleable__label {background-color: #d4ebff;}#sk-container-id-1 div.sk-serial::before {content: \"\";position: absolute;border-left: 1px solid gray;box-sizing: border-box;top: 0;bottom: 0;left: 50%;z-index: 0;}#sk-container-id-1 div.sk-serial {display: flex;flex-direction: column;align-items: center;background-color: white;padding-right: 0.2em;padding-left: 0.2em;position: relative;}#sk-container-id-1 div.sk-item {position: relative;z-index: 1;}#sk-container-id-1 div.sk-parallel {display: flex;align-items: stretch;justify-content: center;background-color: white;position: relative;}#sk-container-id-1 div.sk-item::before, #sk-container-id-1 div.sk-parallel-item::before {content: \"\";position: absolute;border-left: 1px solid gray;box-sizing: border-box;top: 0;bottom: 0;left: 50%;z-index: -1;}#sk-container-id-1 div.sk-parallel-item {display: flex;flex-direction: column;z-index: 1;position: relative;background-color: white;}#sk-container-id-1 div.sk-parallel-item:first-child::after {align-self: flex-end;width: 50%;}#sk-container-id-1 div.sk-parallel-item:last-child::after {align-self: flex-start;width: 50%;}#sk-container-id-1 div.sk-parallel-item:only-child::after {width: 0;}#sk-container-id-1 div.sk-dashed-wrapped {border: 1px dashed gray;margin: 0 0.4em 0.5em 0.4em;box-sizing: border-box;padding-bottom: 0.4em;background-color: white;}#sk-container-id-1 div.sk-label label {font-family: monospace;font-weight: bold;display: inline-block;line-height: 1.2em;}#sk-container-id-1 div.sk-label-container {text-align: center;}#sk-container-id-1 div.sk-container {/* jupyter's `normalize.less` sets `[hidden] { display: none; }` but bootstrap.min.css set `[hidden] { display: none !important; }` so we also need the `!important` here to be able to override the default hidden behavior on the sphinx rendered scikit-learn.org. See: https://github.com/scikit-learn/scikit-learn/issues/21755 */display: inline-block !important;position: relative;}#sk-container-id-1 div.sk-text-repr-fallback {display: none;}</style><div id=\"sk-container-id-1\" class=\"sk-top-container\"><div class=\"sk-text-repr-fallback\"><pre>LinearRegression()</pre><b>In a Jupyter environment, please rerun this cell to show the HTML representation or trust the notebook. <br />On GitHub, the HTML representation is unable to render, please try loading this page with nbviewer.org.</b></div><div class=\"sk-container\" hidden><div class=\"sk-item\"><div class=\"sk-estimator sk-toggleable\"><input class=\"sk-toggleable__control sk-hidden--visually\" id=\"sk-estimator-id-1\" type=\"checkbox\" checked><label for=\"sk-estimator-id-1\" class=\"sk-toggleable__label sk-toggleable__label-arrow\">LinearRegression</label><div class=\"sk-toggleable__content\"><pre>LinearRegression()</pre></div></div></div></div></div>"
      ],
      "text/plain": [
       "LinearRegression()"
      ]
     },
     "execution_count": 32,
     "metadata": {},
     "output_type": "execute_result"
    }
   ],
   "source": [
    "\n",
    "#Fitting the Multiple Linear Regression model\n",
    "from sklearn.linear_model import LinearRegression\n",
    "mlr = LinearRegression()  \n",
    "mlr.fit(x_train, y_train)\n"
   ]
  },
  {
   "cell_type": "code",
   "execution_count": 33,
   "id": "3a298ca2",
   "metadata": {},
   "outputs": [
    {
     "name": "stdout",
     "output_type": "stream",
     "text": [
      "Intercept:  -25.110533330580097\n",
      "Coefficients:\n"
     ]
    },
    {
     "data": {
      "text/plain": [
       "[('ph', 4.835232532166186),\n",
       " ('TDS', 0.0012203934351789937),\n",
       " ('Turbidity', 11.524707764923681),\n",
       " ('Temperature', 0.5049309530555888)]"
      ]
     },
     "execution_count": 33,
     "metadata": {},
     "output_type": "execute_result"
    }
   ],
   "source": [
    "print(\"Intercept: \", mlr.intercept_)\n",
    "print(\"Coefficients:\")\n",
    "list(zip(x, mlr.coef_))"
   ]
  },
  {
   "cell_type": "code",
   "execution_count": 34,
   "id": "f334a533",
   "metadata": {},
   "outputs": [
    {
     "name": "stdout",
     "output_type": "stream",
     "text": [
      "Prediction for test set: [ 82.43526069  96.94221175  73.95649509 109.71555046 122.4148029\n",
      "  81.65667975  87.09662882  93.71757487  70.84132529  98.73785264\n",
      " 102.79005544  96.51046426 104.42208463 117.50328508 116.31025307\n",
      "  71.72748091 101.49083145  73.54548322  96.19396368  87.70072197\n",
      " 106.02392466 100.47322111  95.94673184 118.79513514  85.19689664\n",
      " 105.86435718  86.63875957  92.2444625   72.49052425  91.92865543\n",
      "  79.48514798 103.68628018  83.28292035 104.19216637 106.29446513\n",
      "  70.99549255  76.94651732  95.06857655  87.94375718  59.52389649\n",
      "  94.33041785 120.79094257  81.89311745 123.189182    97.3785797\n",
      "  65.9045149   82.4330945   69.42553887  75.8264534   73.51360387\n",
      "  89.15638319  86.84789605  78.46426088  97.77996028  88.89365598\n",
      " 105.77745639 101.06313215  98.82768547  85.42661674 117.46061651\n",
      "  56.18950159  94.75712338  77.55873191 124.33847888 109.82594868\n",
      "  85.79463871  98.94548558  93.66167663  82.58721198 101.96751653\n",
      "  58.17187549 107.30273823  85.48739182  91.55762573 113.78005977\n",
      " 100.36872809 105.60433391  99.25577848  94.70989672  95.02938383\n",
      "  95.30976022  94.60605808  78.66620236  94.16922859  97.25756387\n",
      "  91.1053446   97.79270729 108.10439812 100.80980858 117.83011064\n",
      "  73.13507165  83.08866427 102.69661911  86.83811406  79.55460484\n",
      "  95.87893133 105.7351969   81.89495238  88.1825396  108.04362303\n",
      "  95.11471697  79.50053751  96.79924737  95.14473813  87.2916923\n",
      " 102.10000249  97.02419152  92.58975804 105.60629905 104.49358432\n",
      " 101.59018781  96.52093177  83.5074217  109.91415116  88.00779554\n",
      "  97.85242453  84.26205168  80.03641753  85.13342285 108.3222549\n",
      " 112.20851103 111.20738478  71.53213094  97.26369309  80.39755\n",
      " 104.11626065 103.01822375  99.12286438  85.24265976  75.39871988\n",
      "  94.70470926  80.19794239 109.18308247  93.79121319  80.5283867\n",
      "  81.40944127  92.84961018 126.64117657  99.2539216   97.85410358\n",
      " 110.42249489  80.46408629  78.87205738 100.38616745  99.05645719\n",
      " 110.23028943  87.78100676 117.88245828  92.76034995  91.89188764\n",
      " 100.54041832  96.59569936  67.6365363  101.52086699  76.04070403\n",
      "  81.27201408 123.73920852 108.19654977 105.35447896 114.57935824\n",
      " 118.09205583  74.21129059  90.82586605  76.76901498  84.5118763\n",
      "  83.37094779  90.05387638  96.54822517  86.08392149 104.79074748\n",
      "  80.31001767 112.52947494 112.16557455 105.71879262  90.12555946\n",
      "  97.60589629  89.55798136 100.61600232  96.52556227  69.884203\n",
      "  88.92403881 102.92491319  92.81127801 111.88067316  78.09585574\n",
      "  76.39936123  86.09834177  83.37171255 107.45785547  91.31894263\n",
      " 124.89901219  98.76915032  87.56629369  85.3802991   90.51475894\n",
      "  95.82719775 106.22262804  85.6545357  107.76085733 113.11388121\n",
      "  85.93812708  83.51632728  98.76187159 105.71858126 117.57140056\n",
      "  85.64394725 106.80339358  75.62862021  91.36170258 112.11845862\n",
      "  93.46637081 113.69847669  99.48152859 115.67000586  78.16736211\n",
      "  96.54941823  73.88532871  78.2725638   93.94881456 108.82508054\n",
      " 111.61738664  87.55126376  95.09321906 109.82028604  87.96906718\n",
      "  88.447427    76.27579784 106.04347214 103.05142565 104.21749219\n",
      " 116.97925783  92.16743892 117.47599105 110.55798199  78.67344159\n",
      " 101.76800667 119.11583201 108.07999594  92.81788623  85.37485809\n",
      " 104.89941808  87.62282586 114.65246058 122.46900856  72.44668526\n",
      "  98.37783299  90.04654627  97.57037142  80.23416522  97.88408972\n",
      "  80.68543989  75.13493673 100.48955389  74.85193986 111.18534923\n",
      "  89.925344    81.33342825  86.93180748 106.92219415 106.42300688\n",
      "  53.51801357  83.26140577  96.94990572  80.71805214 113.73031602\n",
      " 106.96720159 107.48805979  99.14977118 112.41405083  79.65655895\n",
      " 109.34210305  82.61251775  85.90818322 106.6680341   77.18485255\n",
      "  79.98075335  91.93666289 126.00853881  96.55449703 107.5694754\n",
      " 111.05179579 123.53561603  79.63928899  86.70338215 100.22972846\n",
      "  64.94708104  83.93928804  94.52047654  92.47370944 116.86192753\n",
      " 107.97471593 100.24347471  84.29401379 106.44034094  73.59470554\n",
      "  91.35081813  90.28745124  95.91385654  86.88819827 102.76055431\n",
      " 133.43761997  89.72754703  90.83943255  94.79418578  82.41487909\n",
      " 108.02431654 113.2864843  104.25411567  96.74272643 104.37304666\n",
      "  80.54831621  74.56954072  78.59971025  80.22523608  96.01290701\n",
      " 130.85117233 127.52778421  82.99424963 110.06610447 110.33602057\n",
      " 101.74728973  96.1621133  103.89822692  87.75727023 113.79287141\n",
      "  73.93363236 104.41001617 116.75578394  95.42231756 122.67051247\n",
      " 113.3951218  117.08815175 119.02915434  87.84008404  78.15192175\n",
      "  78.62066974  89.04169154  77.37431029  90.10120267  94.47732527\n",
      "  82.68744044  79.07483591 117.80574235  91.55468491  90.66006776\n",
      " 100.02402988 111.76956566  80.71466189  87.08207437 114.40013154\n",
      "  81.69103618  86.61962479  64.67679919 101.15447795 103.02690666\n",
      " 118.1535529   74.11693115  83.95025887  85.71759749  75.89845038\n",
      " 109.57648175  95.25774073  73.25343226  97.55669263  84.71529422\n",
      "  95.86918138  94.51554777  88.77556815 104.85533763  80.38275319\n",
      "  67.97414544  92.39164534  90.90961718  96.27451204  92.51708179\n",
      "  89.0908336  106.65413314  97.10790976  77.30437519  99.53581182\n",
      " 102.03094469 109.45374948  76.55016787  97.14759631 117.27118153\n",
      "  48.58907843  96.33674168 102.32604787  86.65496576 116.66916142\n",
      " 146.35936941  84.79021129  81.7594303   88.01394779  54.83738867\n",
      " 113.07686028 117.55588132  76.71410656  64.96639913  67.16281538\n",
      "  77.71176069  84.73948331  71.803948    96.1644695  103.50291804\n",
      " 102.2715298   82.03622885 114.73910461 123.50092401 121.14883178\n",
      "  87.82323292 114.56046672 102.28507366  67.18846818  94.4557638\n",
      " 114.09187238  72.2131486  133.91559289  60.71612318  91.24800921\n",
      "  77.04435056  98.49084906  91.05765994 108.47909398 105.55916792\n",
      " 114.15589221  90.36331884  94.78848936  93.26086848 106.30624872\n",
      " 121.92838554  57.71081483  71.59102759  54.48719435  88.12669196\n",
      "  80.09153142 110.52077584  80.58068607  59.77867946  82.10547267\n",
      "  68.14019244 116.42205544  77.92504639  89.77610783  73.98668794\n",
      "  83.25150365 101.71906519  96.34017163 106.23074116 107.89501739\n",
      "  66.68947454  93.06771701 102.60601103  98.50823121  92.60689347\n",
      " 115.52222739  82.18449567  93.95740303  94.15019055  81.27294249\n",
      " 105.86716305 115.73921918  92.71445825 114.25083781  93.00796682\n",
      "  82.99338094  88.04755281  94.46009549  80.56227688  72.22336186\n",
      "  77.9698326  105.70495395  89.00289707  75.9845394   75.25379032\n",
      " 107.84791548  97.74967554 104.37211851  93.16045266  99.93420546\n",
      "  84.96565826 113.68720065  80.92523981 123.27128413  73.98942303\n",
      " 105.92207288  83.14504491  76.49382101 121.99686482  92.9377944\n",
      "  51.64381706  85.60166345  93.08487865  97.15815419 111.2473776\n",
      "  97.31803733 100.9316186  100.63474404 106.66263007  93.08339079\n",
      "  74.12365837 101.95139535  93.43390993 110.52747092  69.04940369\n",
      "  96.57960945 109.22974129  98.91605288 103.66379676  61.21536502\n",
      " 103.7791602   76.18029257  89.35271423 100.58183168  88.38803237\n",
      " 120.41455843  76.0217479   93.82823656 100.07511542  83.64604934\n",
      "  92.93970768 101.32807726  83.5561947   92.81797072 120.12178462\n",
      "  65.64641264  82.14898617  66.97284576  88.42447774  79.49393358\n",
      "  78.22756622 100.91703962  92.61462478  97.71652342  80.97212688\n",
      "  64.64351747  82.09726026 102.27087588  71.00488974 107.6039736\n",
      "  72.03633227 100.95369083 100.00616271 100.63497968 108.82126321\n",
      "  90.48057195 120.41581472 118.87311862  61.60808098  80.26184484\n",
      "  81.27734814 108.43329208  81.25293452  97.94788074  96.96803179\n",
      "  93.68002407 105.45338669 102.38469517  94.1421364   79.1434759\n",
      " 100.37595423 106.71285813  99.46707813 104.99404318  81.69667818\n",
      " 115.42636058 107.61144198 111.1735003   89.87678907  82.03573903\n",
      "  98.24720279  83.84985113  88.91826495  98.64961788  79.93435238\n",
      "  79.16018683  96.96190682 123.04471551 113.11105571 108.35609913\n",
      " 112.53182119  76.9331483  107.64422645 114.72382944  94.60495295\n",
      "  79.7262525  105.92693193 104.89010023  85.0067118  102.97718228\n",
      " 101.68130856  54.97392673 110.70860183  95.41872607  85.56724514\n",
      "  91.59966058  77.54706522 113.22531072  79.711937    77.23300939\n",
      "  84.28044864  96.26356612  93.20392017  87.80244687  85.79769054\n",
      "  78.38569034 100.75035447 100.58799805  89.98837378  82.09099791\n",
      " 109.37240833 118.24259561 110.48702961  90.17224281  98.58051858\n",
      "  97.35061261  72.72582291 101.25290314 119.32583813  79.58066944\n",
      " 113.05448215 119.10336547  94.22360416  92.71817694  87.82527092\n",
      "  80.11173247  95.61212763  69.56769382 149.86990973  65.7261699\n",
      " 125.20182703 107.73756101  82.63727002  91.54520537 101.26002366\n",
      "  98.18140035 100.65717209  99.96424857 114.30788739  70.36687562\n",
      "  87.22799247  81.55405503 119.11224905  98.28073488  77.98245868\n",
      " 114.16083136 109.37272777 105.60295254 106.52704636  74.67178092\n",
      " 107.33882663  74.47637182  74.55301847  96.63569124  86.06934593\n",
      "  94.53797192  72.17954674  97.73123197  86.02762316 105.5427023\n",
      "  91.32337401 114.16260351  83.80785482  77.48931389  88.6918232\n",
      "  93.80516349 108.80465478  64.8165077  109.00021157  86.45660084\n",
      "  93.11981595  62.68519955 128.29152177 119.31315877 109.58007937\n",
      "  88.80587992 121.80051089  99.28509365  67.82848397  71.94969967\n",
      "  83.24990835  78.85612874 112.12188489 110.88701607  81.90221815\n",
      " 101.94889893  93.27824863  93.84250641  99.44625299 108.07673166\n",
      " 113.53347576  77.48026675 109.34401092 118.2833124   95.82421073\n",
      "  94.18377408  92.60310176  66.4349366   80.55551658  86.20447457\n",
      " 120.24315637  87.61258492 102.58687969  90.62516548  86.16812618\n",
      "  56.25380747  85.14435454 125.72688838 123.34982397  89.72856522\n",
      "  86.81300453  98.38725094  96.36944832  72.16139928 123.86390489\n",
      "  74.57904105 105.55113047  66.80935234 117.60254265  80.48289598\n",
      "  70.55825667 101.51901348  97.76151834  87.9867281  104.8266413\n",
      "  80.86600674  86.24376433  98.41279542  85.20301079 102.38867449\n",
      "  82.87887932 110.67650607 108.57692717 101.36132112  91.06076719\n",
      "  86.49645316  79.52771847  89.8904746   77.23432893  80.42789433\n",
      " 109.96703245  92.0900064   81.16607663  89.20499777  99.42202177\n",
      " 106.82746738 100.50704895  81.84162914 107.14825841  95.87231949\n",
      "  83.62394119  93.80540412 110.30092355  95.06965372  79.34155902\n",
      "  88.70779579  60.80424855  91.47503727  88.12904795  60.4628186\n",
      " 113.96616741  87.14780879  78.87388994 101.42489245 123.54263643\n",
      "  89.8331226   84.99978595 107.39036595 104.10014204  80.41447954\n",
      "  87.43410237 100.6818234  104.29281091  94.58212417 127.77053505\n",
      " 109.36468677  73.25515552 100.71041289 104.56666497  94.05682105\n",
      "  87.90200602 112.24411009  75.62363167  87.05061359  82.54492475\n",
      "  77.16362495  86.73139197 107.41577851  77.48243006  75.88098903\n",
      " 102.29319166  95.04474176  90.24961125 132.35584499 107.95414481\n",
      " 108.93870422  79.02113288  75.96930397 118.49264726  77.62280551\n",
      "  83.70390614 106.26568092  91.57969269  80.01346135  94.16918115\n",
      "  72.52318998  92.56321543  84.44092869 113.47044044 108.17977571\n",
      "  91.22066744  85.52678386  78.84581008  90.65034175  83.60226874\n",
      "  70.48834488  96.40934387  94.90813797  87.57236982  90.89136684\n",
      " 114.91359034  95.69818352 107.60891242  93.35886021  86.73653006\n",
      "  94.97197676 124.49186659 114.10768584 133.19633254 102.2748445\n",
      "  99.07792469  79.71481797  81.14610937  69.98076568 109.68301355\n",
      " 103.62103169  77.6519065  105.74032107  88.50047352  90.1822979\n",
      " 102.32279822  97.79584796 106.78256205  82.28447907 104.58528298\n",
      "  68.10419282  85.68517575  89.87902404  80.31002734  92.28148485\n",
      " 101.91490991  97.31514915 105.77173006 103.18933476  86.10374684\n",
      "  97.33178894  83.05574245  82.50061971  77.85342193 120.95023084\n",
      " 131.47446592  77.88751523 110.1327071   88.0970138  139.68481299\n",
      " 110.46988067 114.07324336  93.65410687  80.82403508  96.7013299\n",
      " 104.16672259  95.54993676 102.27320291  84.62032287  97.19522943\n",
      "  92.74265092  93.71215939  92.74954462  99.73520143 104.11399563\n",
      "  91.48745758  79.3333968   99.18571405 122.63779283 100.01578719\n",
      " 106.59432631  97.9453811  104.90065741  91.44777735  71.27784878\n",
      "  94.06576869  51.10885965  88.72917375  75.96174296  69.84669065\n",
      "  75.47523324  86.51136635  98.29407305 107.41470963 119.68683373\n",
      " 117.58786473 104.7393015   99.77641099 101.46388815 120.23266301\n",
      "  89.9958405   72.27335961 112.16656487  99.62663705  86.91742797\n",
      " 113.08162867  91.39508623  93.33033746  92.94393248  63.77141524\n",
      "  89.96827857  78.32324894 101.00769746 123.25136384  92.34832034\n",
      "  97.4052818  109.32208952  91.71569492  79.42199975  93.09040359\n",
      "  74.40963989  93.88888637 116.94807316 105.60896825 100.83004079\n",
      "  88.76104695  90.26389338  97.65524238  94.06409581  96.74088743\n",
      "  98.14712466 105.3069759  114.09797454  98.99545463  98.00902295\n",
      "  83.47487917  94.91992945  94.13040934  69.14960008  87.17406805\n",
      "  80.88069505  63.60454634  97.73797996 100.96634168 102.1954725\n",
      " 101.46815205  86.55055948 120.96716847  98.93136482 100.99310182\n",
      "  86.93604806  90.50203474  88.1141318  100.24235771  92.75733529\n",
      "  67.17533735  85.58532629  65.43316594  89.48722856 129.0251723\n",
      "  63.20555817  81.88229934  91.47286784  61.25584589  75.29503998\n",
      "  92.33550969  79.66924151  87.33504792  87.14337962  81.43620841\n",
      "  88.11763489  90.03701103  84.56086245  94.96389527  75.59895146\n",
      "  89.34735082  80.17244082  89.86517516]\n"
     ]
    }
   ],
   "source": [
    "#Prediction of test set\n",
    "y_pred_mlr= mlr.predict(x_test)\n",
    "#Predicted values\n",
    "print(\"Prediction for test set: {}\".format(y_pred_mlr))\n"
   ]
  },
  {
   "cell_type": "code",
   "execution_count": 35,
   "id": "9f0e922c",
   "metadata": {},
   "outputs": [
    {
     "data": {
      "text/html": [
       "<div>\n",
       "<style scoped>\n",
       "    .dataframe tbody tr th:only-of-type {\n",
       "        vertical-align: middle;\n",
       "    }\n",
       "\n",
       "    .dataframe tbody tr th {\n",
       "        vertical-align: top;\n",
       "    }\n",
       "\n",
       "    .dataframe thead th {\n",
       "        text-align: right;\n",
       "    }\n",
       "</style>\n",
       "<table border=\"1\" class=\"dataframe\">\n",
       "  <thead>\n",
       "    <tr style=\"text-align: right;\">\n",
       "      <th></th>\n",
       "      <th>Actual value</th>\n",
       "      <th>Predicted value</th>\n",
       "    </tr>\n",
       "  </thead>\n",
       "  <tbody>\n",
       "    <tr>\n",
       "      <th>491</th>\n",
       "      <td>64.511040</td>\n",
       "      <td>82.435261</td>\n",
       "    </tr>\n",
       "    <tr>\n",
       "      <th>91</th>\n",
       "      <td>85.502297</td>\n",
       "      <td>96.942212</td>\n",
       "    </tr>\n",
       "    <tr>\n",
       "      <th>947</th>\n",
       "      <td>60.027739</td>\n",
       "      <td>73.956495</td>\n",
       "    </tr>\n",
       "    <tr>\n",
       "      <th>1377</th>\n",
       "      <td>109.736925</td>\n",
       "      <td>109.715550</td>\n",
       "    </tr>\n",
       "    <tr>\n",
       "      <th>1143</th>\n",
       "      <td>111.325881</td>\n",
       "      <td>122.414803</td>\n",
       "    </tr>\n",
       "    <tr>\n",
       "      <th>1283</th>\n",
       "      <td>72.943179</td>\n",
       "      <td>81.656680</td>\n",
       "    </tr>\n",
       "    <tr>\n",
       "      <th>2808</th>\n",
       "      <td>76.122920</td>\n",
       "      <td>87.096629</td>\n",
       "    </tr>\n",
       "    <tr>\n",
       "      <th>2028</th>\n",
       "      <td>90.925553</td>\n",
       "      <td>93.717575</td>\n",
       "    </tr>\n",
       "    <tr>\n",
       "      <th>2796</th>\n",
       "      <td>83.057967</td>\n",
       "      <td>70.841325</td>\n",
       "    </tr>\n",
       "    <tr>\n",
       "      <th>2320</th>\n",
       "      <td>89.766697</td>\n",
       "      <td>98.737853</td>\n",
       "    </tr>\n",
       "  </tbody>\n",
       "</table>\n",
       "</div>"
      ],
      "text/plain": [
       "      Actual value  Predicted value\n",
       "491      64.511040        82.435261\n",
       "91       85.502297        96.942212\n",
       "947      60.027739        73.956495\n",
       "1377    109.736925       109.715550\n",
       "1143    111.325881       122.414803\n",
       "1283     72.943179        81.656680\n",
       "2808     76.122920        87.096629\n",
       "2028     90.925553        93.717575\n",
       "2796     83.057967        70.841325\n",
       "2320     89.766697        98.737853"
      ]
     },
     "execution_count": 35,
     "metadata": {},
     "output_type": "execute_result"
    }
   ],
   "source": [
    "'''\n",
    "Once we have fitted (trained) the model, \n",
    "we can make predictions using the predict() function. \n",
    "We pass the values of x_test to this method and compare the predicted values called y_pred_mlr with y_test values to check how accurate our predicted values are.\n",
    "'''\n",
    "#Actual value and the predicted value\n",
    "mlr_diff = pd.DataFrame({'Actual value': y_test, 'Predicted value': y_pred_mlr})\n",
    "mlr_diff.head(10)\n"
   ]
  },
  {
   "cell_type": "code",
   "execution_count": 36,
   "id": "a9e97f9c",
   "metadata": {},
   "outputs": [
    {
     "data": {
      "text/plain": [
       "98.92159603935006"
      ]
     },
     "execution_count": 36,
     "metadata": {},
     "output_type": "execute_result"
    }
   ],
   "source": [
    "res = mlr.predict([[7.716080, 18630.05786, 4.500656, 24.0]])[0]\n",
    "res"
   ]
  },
  {
   "cell_type": "markdown",
   "id": "d5781326",
   "metadata": {},
   "source": [
    "### R-Squared (R² or the coefficient of determination) \n",
    "* Is a statistical measure in a regression model that determines the proportion of variance in the dependent variable that can be explained by the independent variable. In other words, r-squared shows how well the data fit the regression model (the goodness of fit).\n",
    "\n",
    "### Absolute Error\n",
    "* Absolute Error is the amount of error in your measurements. It is the difference between the measured value and “true” value. For example, if a scale states 90 pounds but you know your true weight is 89 pounds, then the scale has an absolute error of 90 lbs – 89 lbs = 1 lbs.\n",
    "\n",
    "### Mean Absolute Error\n",
    "* The Mean Absolute Error(MAE) is the average of all absolute errors. \n",
    "\n",
    "### Mean Squared Error\n",
    "* mean squared error or mean squared deviation (MSD) of an estimator (of a procedure for estimating an unobserved quantity) measures the average of the squares of the errors—that is, the average squared difference between the estimated values and the actual value. \n",
    "\n",
    "### Root Mean Square Error\n",
    "* Root Mean Square Error (RMSE) is the standard deviation of the residuals (prediction errors). Residuals are a measure of how far from the regression line data points are; RMSE is a measure of how spread out these residuals are. In other words, it tells you how concentrated the data is around the line of best fit. Root mean square error is commonly used in climatology, forecasting, and regression analysis to verify experimental results.\n"
   ]
  },
  {
   "cell_type": "code",
   "execution_count": 37,
   "id": "31c21eeb",
   "metadata": {},
   "outputs": [
    {
     "name": "stdout",
     "output_type": "stream",
     "text": [
      "R squared: 48.82\n",
      "Mean Absolute Error: 11.860612837168542\n",
      "Mean Square Error: 242.78428861858578\n",
      "Root Mean Square Error: 15.581536786164122\n"
     ]
    }
   ],
   "source": [
    "#Model Evaluation\n",
    "\n",
    "from sklearn import metrics\n",
    "meanAbErr = metrics.mean_absolute_error(y_test, y_pred_mlr)\n",
    "meanSqErr = metrics.mean_squared_error(y_test, y_pred_mlr)\n",
    "rootMeanSqErr = np.sqrt(metrics.mean_squared_error(y_test, y_pred_mlr))\n",
    "print('R squared: {:.2f}'.format(mlr.score(x,y)*100))\n",
    "print('Mean Absolute Error:', meanAbErr)\n",
    "print('Mean Square Error:', meanSqErr)\n",
    "print('Root Mean Square Error:', rootMeanSqErr)"
   ]
  },
  {
   "cell_type": "code",
   "execution_count": 38,
   "id": "f17a9edf",
   "metadata": {
    "scrolled": true
   },
   "outputs": [
    {
     "name": "stdout",
     "output_type": "stream",
     "text": [
      "Training RMSE:  15.605068239562812\n",
      "Training R2:  48.99789468824019\n",
      "Testing RMSE:  15.581536786164122\n",
      "Testing R2:  48.25738871834145\n"
     ]
    }
   ],
   "source": [
    "from sklearn.metrics import mean_squared_error, r2_score\n",
    "\n",
    "mlr_pred_train = mlr.predict(x_train)\n",
    "mlr_pred_test = mlr.predict(x_test)\n",
    "\n",
    "print(\"Training RMSE: \", np.sqrt(mean_squared_error(y_train, mlr_pred_train)))\n",
    "print(\"Training R2: \", r2_score(y_train, mlr_pred_train)*100)\n",
    "\n",
    "\n",
    "print(\"Testing RMSE: \", np.sqrt(mean_squared_error(y_test, mlr_pred_test)))\n",
    "print(\"Testing R2: \", r2_score(y_test, mlr_pred_test)*100)\n"
   ]
  },
  {
   "cell_type": "markdown",
   "id": "dcd8e775",
   "metadata": {},
   "source": [
    "### >> K Fold Cross Validation"
   ]
  },
  {
   "cell_type": "code",
   "execution_count": 39,
   "id": "a19c6a41",
   "metadata": {},
   "outputs": [
    {
     "name": "stdout",
     "output_type": "stream",
     "text": [
      "[0.43238233 0.47282043 0.3299838  0.54697617 0.57332949 0.65028154\n",
      " 0.53672103 0.44739821 0.32642886 0.48374862]\n",
      "\n",
      "Mean Accuracy Score:  48.00070490781051\n"
     ]
    }
   ],
   "source": [
    "from sklearn.model_selection import KFold\n",
    "from sklearn.model_selection import train_test_split\n",
    "from sklearn.model_selection import cross_val_score\n",
    "\n",
    "model = LinearRegression()\n",
    "kfold_validation = KFold(10)\n",
    "results = cross_val_score(model, x, y, cv = kfold_validation)\n",
    "import numpy as np\n",
    "from sklearn.model_selection import cross_val_score\n",
    "results = cross_val_score(model, x, y, cv = kfold_validation)\n",
    "print(results)\n",
    "print(\"\\nMean Accuracy Score: \", np.mean(results)*100)"
   ]
  },
  {
   "cell_type": "markdown",
   "id": "ed3e84c4",
   "metadata": {},
   "source": [
    "### As seen above, Multiple Linear Regression gives accuracy of 48%\n"
   ]
  },
  {
   "cell_type": "markdown",
   "id": "27b165c4",
   "metadata": {},
   "source": [
    "\n",
    "## <mark><em>2. Logistic Regression Model</em></mark>\n",
    "#### Here we are creating a logistic regression model because we don't have to predict a continuous value. \n"
   ]
  },
  {
   "cell_type": "code",
   "execution_count": 40,
   "id": "564004c1",
   "metadata": {},
   "outputs": [],
   "source": [
    "#Importing packages\n",
    "\n",
    "import pandas as pd # data processing\n",
    "import numpy as np # working with arrays\n",
    "import itertools # construct specialized tools\n",
    "import matplotlib.pyplot as plt # visualizations\n",
    "from matplotlib import rcParams # plot size customization\n",
    "from termcolor import colored as cl # text customization\n",
    "from sklearn.model_selection import train_test_split # splitting the data\n",
    "from sklearn.linear_model import LogisticRegression # model algorithm\n",
    "from sklearn.preprocessing import StandardScaler # data normalization\n",
    "from sklearn.metrics import jaccard_score as jss # evaluation metric\n",
    "from sklearn.metrics import precision_score # evaluation metric\n",
    "from sklearn.metrics import classification_report # evaluation metric\n",
    "from sklearn.metrics import confusion_matrix # evaluation metric\n",
    "from sklearn.metrics import log_loss # evaluation metric\n",
    "\n",
    "\n",
    "from sklearn import metrics \n",
    "from sklearn.linear_model import LogisticRegression"
   ]
  },
  {
   "cell_type": "code",
   "execution_count": 41,
   "id": "73a148c8",
   "metadata": {},
   "outputs": [],
   "source": [
    "#Setting the value for X and Y\n",
    "x = dataset[['ph', 'TDS', 'Turbidity', 'Temperature']]\n",
    "y = dataset.quality"
   ]
  },
  {
   "cell_type": "code",
   "execution_count": 42,
   "id": "64f3d97c",
   "metadata": {},
   "outputs": [],
   "source": [
    "x_train, x_test, y_train, y_test = train_test_split(x, y, test_size = 0.3, random_state = 42, shuffle='true')"
   ]
  },
  {
   "cell_type": "code",
   "execution_count": 43,
   "id": "10240afe",
   "metadata": {},
   "outputs": [],
   "source": [
    "logistic_regression = LogisticRegression()\n",
    "logistic_regression.fit(x_train, y_train)\n",
    "\n",
    "#Train model\n",
    "y_pred = logistic_regression.predict(x_test)"
   ]
  },
  {
   "cell_type": "code",
   "execution_count": 44,
   "id": "a537f7d1",
   "metadata": {},
   "outputs": [
    {
     "data": {
      "text/plain": [
       "array(['Very Poor'], dtype=object)"
      ]
     },
     "execution_count": 44,
     "metadata": {},
     "output_type": "execute_result"
    }
   ],
   "source": [
    "# predicting wqi\n",
    "firstSample = logistic_regression.predict((np.array([7.716080, 18630.05786, 4.500656, 24.0]).reshape(1, -1)))\n",
    "firstSample"
   ]
  },
  {
   "cell_type": "code",
   "execution_count": 45,
   "id": "c728624c",
   "metadata": {
    "scrolled": true
   },
   "outputs": [
    {
     "name": "stdout",
     "output_type": "stream",
     "text": [
      "Accuracy Score:  57.88402848423194\n"
     ]
    }
   ],
   "source": [
    "#Finding Accuracy\n",
    "accuracy = metrics.accuracy_score(y_test, y_pred)\n",
    "accuracy_percentage = 100 * accuracy\n",
    "print(\"Accuracy Score: \", accuracy_percentage)"
   ]
  },
  {
   "cell_type": "markdown",
   "id": "08e8e1ff",
   "metadata": {},
   "source": [
    "### >> Stratified K-fold Cross Validation\n",
    "* Used for unbalanced data and only used for discrete data"
   ]
  },
  {
   "cell_type": "code",
   "execution_count": 46,
   "id": "e6bfc0fc",
   "metadata": {},
   "outputs": [
    {
     "name": "stdout",
     "output_type": "stream",
     "text": [
      "[0.5        0.52743902 0.53963415 0.5945122  0.52439024 0.59146341\n",
      " 0.5351682  0.58409786 0.57186544 0.58103976]\n",
      "\n",
      "Mean Accuracy score:  55.496102782128744\n"
     ]
    }
   ],
   "source": [
    "from sklearn.model_selection import StratifiedKFold\n",
    "from sklearn.model_selection import cross_val_score\n",
    "\n",
    "#Setting the value for X and Y\n",
    "x = dataset[['ph', 'TDS', 'Turbidity', 'Temperature']]\n",
    "y = dataset.quality\n",
    "\n",
    "skfold = StratifiedKFold(n_splits = 10)\n",
    "model = LogisticRegression()\n",
    "score = cross_val_score(model, x, y, cv = skfold)\n",
    "print(score)\n",
    "print(\"\\nMean Accuracy score: \", np.mean(score)*100)"
   ]
  },
  {
   "cell_type": "markdown",
   "id": "0a56c4b7",
   "metadata": {},
   "source": [
    "### As seen above, Logistic Regression for classification gives accuracy of 55%\n",
    "\n"
   ]
  },
  {
   "cell_type": "markdown",
   "id": "8977e9eb",
   "metadata": {},
   "source": [
    "\n",
    "## <mark><em>3. Random Forest Regression</em></mark>\n",
    "\n",
    "* Random Forest Regression algorithms are a class of Machine Learning algorithms that use the combination of multiple random decision trees each trained on a subset of data. \n",
    "* The use of multiple trees gives stability to the algorithm and reduces variance. The random forest regression algorithm is a commonly used model due to its ability to work well for large and most kinds of data.\n",
    "* A random forest is a meta estimator that fits a number of classifying decision trees on various sub-samples of the dataset and uses averaging to improve the predictive accuracy and control over-fitting. \n",
    "\n",
    "![alt text](https://miro.medium.com/v2/resize:fit:720/format:webp/0*4hfu8vepPsbjTBuH.png)"
   ]
  },
  {
   "cell_type": "code",
   "execution_count": 47,
   "id": "7ad20166",
   "metadata": {},
   "outputs": [],
   "source": [
    "import requests, io # for HTTP requests and I/O commands\n",
    "import matplotlib.pyplot as plt # for data visualization\n",
    "%matplotlib inline\n",
    "from sklearn.ensemble import RandomForestRegressor # for building the model"
   ]
  },
  {
   "cell_type": "code",
   "execution_count": 48,
   "id": "39ef8375",
   "metadata": {},
   "outputs": [],
   "source": [
    "#Setting the value for X and Y\n",
    "x = dataset[['ph', 'TDS', 'Turbidity', 'Temperature']]\n",
    "y = dataset.wqi"
   ]
  },
  {
   "cell_type": "code",
   "execution_count": 49,
   "id": "c161ae60",
   "metadata": {},
   "outputs": [],
   "source": [
    "# Splitting the dataset into training and testing set (80/20)\n",
    "x_train, x_test, y_train, y_test = train_test_split(x, y, test_size = 0.3, random_state = 28, shuffle='true')"
   ]
  },
  {
   "cell_type": "code",
   "execution_count": 50,
   "id": "0aae44eb",
   "metadata": {},
   "outputs": [
    {
     "data": {
      "text/html": [
       "<style>#sk-container-id-2 {color: black;background-color: white;}#sk-container-id-2 pre{padding: 0;}#sk-container-id-2 div.sk-toggleable {background-color: white;}#sk-container-id-2 label.sk-toggleable__label {cursor: pointer;display: block;width: 100%;margin-bottom: 0;padding: 0.3em;box-sizing: border-box;text-align: center;}#sk-container-id-2 label.sk-toggleable__label-arrow:before {content: \"▸\";float: left;margin-right: 0.25em;color: #696969;}#sk-container-id-2 label.sk-toggleable__label-arrow:hover:before {color: black;}#sk-container-id-2 div.sk-estimator:hover label.sk-toggleable__label-arrow:before {color: black;}#sk-container-id-2 div.sk-toggleable__content {max-height: 0;max-width: 0;overflow: hidden;text-align: left;background-color: #f0f8ff;}#sk-container-id-2 div.sk-toggleable__content pre {margin: 0.2em;color: black;border-radius: 0.25em;background-color: #f0f8ff;}#sk-container-id-2 input.sk-toggleable__control:checked~div.sk-toggleable__content {max-height: 200px;max-width: 100%;overflow: auto;}#sk-container-id-2 input.sk-toggleable__control:checked~label.sk-toggleable__label-arrow:before {content: \"▾\";}#sk-container-id-2 div.sk-estimator input.sk-toggleable__control:checked~label.sk-toggleable__label {background-color: #d4ebff;}#sk-container-id-2 div.sk-label input.sk-toggleable__control:checked~label.sk-toggleable__label {background-color: #d4ebff;}#sk-container-id-2 input.sk-hidden--visually {border: 0;clip: rect(1px 1px 1px 1px);clip: rect(1px, 1px, 1px, 1px);height: 1px;margin: -1px;overflow: hidden;padding: 0;position: absolute;width: 1px;}#sk-container-id-2 div.sk-estimator {font-family: monospace;background-color: #f0f8ff;border: 1px dotted black;border-radius: 0.25em;box-sizing: border-box;margin-bottom: 0.5em;}#sk-container-id-2 div.sk-estimator:hover {background-color: #d4ebff;}#sk-container-id-2 div.sk-parallel-item::after {content: \"\";width: 100%;border-bottom: 1px solid gray;flex-grow: 1;}#sk-container-id-2 div.sk-label:hover label.sk-toggleable__label {background-color: #d4ebff;}#sk-container-id-2 div.sk-serial::before {content: \"\";position: absolute;border-left: 1px solid gray;box-sizing: border-box;top: 0;bottom: 0;left: 50%;z-index: 0;}#sk-container-id-2 div.sk-serial {display: flex;flex-direction: column;align-items: center;background-color: white;padding-right: 0.2em;padding-left: 0.2em;position: relative;}#sk-container-id-2 div.sk-item {position: relative;z-index: 1;}#sk-container-id-2 div.sk-parallel {display: flex;align-items: stretch;justify-content: center;background-color: white;position: relative;}#sk-container-id-2 div.sk-item::before, #sk-container-id-2 div.sk-parallel-item::before {content: \"\";position: absolute;border-left: 1px solid gray;box-sizing: border-box;top: 0;bottom: 0;left: 50%;z-index: -1;}#sk-container-id-2 div.sk-parallel-item {display: flex;flex-direction: column;z-index: 1;position: relative;background-color: white;}#sk-container-id-2 div.sk-parallel-item:first-child::after {align-self: flex-end;width: 50%;}#sk-container-id-2 div.sk-parallel-item:last-child::after {align-self: flex-start;width: 50%;}#sk-container-id-2 div.sk-parallel-item:only-child::after {width: 0;}#sk-container-id-2 div.sk-dashed-wrapped {border: 1px dashed gray;margin: 0 0.4em 0.5em 0.4em;box-sizing: border-box;padding-bottom: 0.4em;background-color: white;}#sk-container-id-2 div.sk-label label {font-family: monospace;font-weight: bold;display: inline-block;line-height: 1.2em;}#sk-container-id-2 div.sk-label-container {text-align: center;}#sk-container-id-2 div.sk-container {/* jupyter's `normalize.less` sets `[hidden] { display: none; }` but bootstrap.min.css set `[hidden] { display: none !important; }` so we also need the `!important` here to be able to override the default hidden behavior on the sphinx rendered scikit-learn.org. See: https://github.com/scikit-learn/scikit-learn/issues/21755 */display: inline-block !important;position: relative;}#sk-container-id-2 div.sk-text-repr-fallback {display: none;}</style><div id=\"sk-container-id-2\" class=\"sk-top-container\"><div class=\"sk-text-repr-fallback\"><pre>RandomForestRegressor(max_features=&#x27;sqrt&#x27;, random_state=42)</pre><b>In a Jupyter environment, please rerun this cell to show the HTML representation or trust the notebook. <br />On GitHub, the HTML representation is unable to render, please try loading this page with nbviewer.org.</b></div><div class=\"sk-container\" hidden><div class=\"sk-item\"><div class=\"sk-estimator sk-toggleable\"><input class=\"sk-toggleable__control sk-hidden--visually\" id=\"sk-estimator-id-2\" type=\"checkbox\" checked><label for=\"sk-estimator-id-2\" class=\"sk-toggleable__label sk-toggleable__label-arrow\">RandomForestRegressor</label><div class=\"sk-toggleable__content\"><pre>RandomForestRegressor(max_features=&#x27;sqrt&#x27;, random_state=42)</pre></div></div></div></div></div>"
      ],
      "text/plain": [
       "RandomForestRegressor(max_features='sqrt', random_state=42)"
      ]
     },
     "execution_count": 50,
     "metadata": {},
     "output_type": "execute_result"
    }
   ],
   "source": [
    "# # Initializing the Random Forest Regression model with 10 decision trees\n",
    "rf = RandomForestRegressor(n_estimators = 100, max_features = 'sqrt', random_state = 42)\n",
    "\n",
    "#Fitting the Random Forest Regression model to the data\n",
    "rf.fit(x_train, y_train)"
   ]
  },
  {
   "cell_type": "code",
   "execution_count": 51,
   "id": "18a3f863",
   "metadata": {},
   "outputs": [
    {
     "name": "stdout",
     "output_type": "stream",
     "text": [
      "\n",
      "RMSE:  3.802\n"
     ]
    }
   ],
   "source": [
    "# Predicting the target values of the test set\n",
    "y_pred = rf.predict(x_test)\n",
    "\n",
    "# RMSE (Root Mean Square Error)\n",
    "rmse = float(format(np.sqrt(mean_squared_error(y_test, y_pred)), '.3f'))\n",
    "print(\"\\nRMSE: \", rmse)"
   ]
  },
  {
   "cell_type": "code",
   "execution_count": 52,
   "id": "5c7c6143",
   "metadata": {},
   "outputs": [
    {
     "name": "stdout",
     "output_type": "stream",
     "text": [
      "WQI:  46.17792317028733\n"
     ]
    }
   ],
   "source": [
    "res = rf.predict([[7, 100, 1, 0]])[0]\n",
    "print(\"WQI: \", res)"
   ]
  },
  {
   "cell_type": "code",
   "execution_count": 53,
   "id": "c0481039",
   "metadata": {},
   "outputs": [
    {
     "data": {
      "text/html": [
       "<div>\n",
       "<style scoped>\n",
       "    .dataframe tbody tr th:only-of-type {\n",
       "        vertical-align: middle;\n",
       "    }\n",
       "\n",
       "    .dataframe tbody tr th {\n",
       "        vertical-align: top;\n",
       "    }\n",
       "\n",
       "    .dataframe thead th {\n",
       "        text-align: right;\n",
       "    }\n",
       "</style>\n",
       "<table border=\"1\" class=\"dataframe\">\n",
       "  <thead>\n",
       "    <tr style=\"text-align: right;\">\n",
       "      <th></th>\n",
       "      <th>Actual value</th>\n",
       "      <th>Predicted value</th>\n",
       "    </tr>\n",
       "  </thead>\n",
       "  <tbody>\n",
       "    <tr>\n",
       "      <th>491</th>\n",
       "      <td>64.511040</td>\n",
       "      <td>73.345299</td>\n",
       "    </tr>\n",
       "    <tr>\n",
       "      <th>91</th>\n",
       "      <td>85.502297</td>\n",
       "      <td>86.131665</td>\n",
       "    </tr>\n",
       "    <tr>\n",
       "      <th>947</th>\n",
       "      <td>60.027739</td>\n",
       "      <td>61.281541</td>\n",
       "    </tr>\n",
       "    <tr>\n",
       "      <th>1377</th>\n",
       "      <td>109.736925</td>\n",
       "      <td>102.046160</td>\n",
       "    </tr>\n",
       "    <tr>\n",
       "      <th>1143</th>\n",
       "      <td>111.325881</td>\n",
       "      <td>112.655407</td>\n",
       "    </tr>\n",
       "    <tr>\n",
       "      <th>1283</th>\n",
       "      <td>72.943179</td>\n",
       "      <td>72.521181</td>\n",
       "    </tr>\n",
       "    <tr>\n",
       "      <th>2808</th>\n",
       "      <td>76.122920</td>\n",
       "      <td>76.533629</td>\n",
       "    </tr>\n",
       "    <tr>\n",
       "      <th>2028</th>\n",
       "      <td>90.925553</td>\n",
       "      <td>90.400588</td>\n",
       "    </tr>\n",
       "    <tr>\n",
       "      <th>2796</th>\n",
       "      <td>83.057967</td>\n",
       "      <td>97.111790</td>\n",
       "    </tr>\n",
       "    <tr>\n",
       "      <th>2320</th>\n",
       "      <td>89.766697</td>\n",
       "      <td>88.737143</td>\n",
       "    </tr>\n",
       "  </tbody>\n",
       "</table>\n",
       "</div>"
      ],
      "text/plain": [
       "      Actual value  Predicted value\n",
       "491      64.511040        73.345299\n",
       "91       85.502297        86.131665\n",
       "947      60.027739        61.281541\n",
       "1377    109.736925       102.046160\n",
       "1143    111.325881       112.655407\n",
       "1283     72.943179        72.521181\n",
       "2808     76.122920        76.533629\n",
       "2028     90.925553        90.400588\n",
       "2796     83.057967        97.111790\n",
       "2320     89.766697        88.737143"
      ]
     },
     "execution_count": 53,
     "metadata": {},
     "output_type": "execute_result"
    }
   ],
   "source": [
    "#Actual value and the predicted value\n",
    "mlr_diff = pd.DataFrame({'Actual value': y_test, 'Predicted value': y_pred})\n",
    "mlr_diff.head(10)"
   ]
  },
  {
   "cell_type": "code",
   "execution_count": 54,
   "id": "ef9ade3a",
   "metadata": {},
   "outputs": [
    {
     "name": "stdout",
     "output_type": "stream",
     "text": [
      "Training RMSE:  1.6007749514883318\n",
      "Training R2:  99.46331764192612\n",
      "Testing RMSE:  3.801837405394453\n",
      "Testing R2:  96.91954518880888\n"
     ]
    }
   ],
   "source": [
    "from sklearn.metrics import mean_squared_error, r2_score\n",
    "\n",
    "rf_pred_train = rf.predict(x_train)\n",
    "rf_pred_test = rf.predict(x_test)\n",
    "\n",
    "print(\"Training RMSE: \", np.sqrt(mean_squared_error(y_train, rf_pred_train)))\n",
    "print(\"Training R2: \", r2_score(y_train, rf_pred_train)*100)\n",
    "\n",
    "\n",
    "print(\"Testing RMSE: \", np.sqrt(mean_squared_error(y_test, rf_pred_test)))\n",
    "print(\"Testing R2: \", r2_score(y_test, rf_pred_test)*100)\n"
   ]
  },
  {
   "cell_type": "markdown",
   "id": "5972bd38",
   "metadata": {},
   "source": [
    "### >> K Fold Cross Validation"
   ]
  },
  {
   "cell_type": "code",
   "execution_count": 55,
   "id": "6224eb27",
   "metadata": {},
   "outputs": [
    {
     "name": "stdout",
     "output_type": "stream",
     "text": [
      "[0.98536456 0.97522661 0.9695965  0.9777798  0.977109   0.98831989\n",
      " 0.98336054 0.97944179 0.97542544 0.97538919]\n",
      "\n",
      "Mean Accuracy Score:  97.87013323296593\n"
     ]
    }
   ],
   "source": [
    "from sklearn.model_selection import KFold\n",
    "from sklearn.model_selection import train_test_split\n",
    "from sklearn.model_selection import cross_val_score\n",
    "\n",
    "model = RandomForestRegressor()\n",
    "kfold_validation = KFold(10)\n",
    "results = cross_val_score(model, x, y, cv = kfold_validation)\n",
    "import numpy as np\n",
    "from sklearn.model_selection import cross_val_score\n",
    "results = cross_val_score(model, x, y, cv = kfold_validation)\n",
    "print(results)\n",
    "print(\"\\nMean Accuracy Score: \", np.mean(results)*100)"
   ]
  },
  {
   "cell_type": "markdown",
   "id": "765cc3d6",
   "metadata": {},
   "source": [
    "### As seen above, Random Forest Regressor gives accuracy of 97%\n"
   ]
  },
  {
   "cell_type": "markdown",
   "id": "054bd553",
   "metadata": {},
   "source": [
    "## <mark><em>4. Random Forest Classifier</em></mark>\n",
    "\n",
    "* consists of a large number of individual decision trees that operate as an ensemble. Each individual tree in the random forest spits out a class prediction and the class with the most votes becomes our model’s prediction\n",
    "\n",
    "![alt text](https://www.freecodecamp.org/news/content/images/2020/08/how-random-forest-classifier-work.PNG)"
   ]
  },
  {
   "cell_type": "code",
   "execution_count": 56,
   "id": "3b76bd2c",
   "metadata": {},
   "outputs": [],
   "source": [
    "#Setting the value for X and Y\n",
    "\n",
    "x = dataset[['ph', 'TDS', 'Turbidity', 'Temperature']]\n",
    "y = dataset.quality\n",
    "\n",
    "# Splitting the dataset into training and testing set (80/20)\n",
    "x_train, x_test, y_train, y_test = train_test_split(x, y, test_size = 0.3, random_state = 28, shuffle='true')"
   ]
  },
  {
   "cell_type": "code",
   "execution_count": 57,
   "id": "415432cf",
   "metadata": {},
   "outputs": [],
   "source": [
    "#Import Random Forest Model\n",
    "from sklearn.ensemble import RandomForestClassifier\n",
    "\n",
    "#Create a Gaussian Classifier\n",
    "clf=RandomForestClassifier(n_estimators=100)\n",
    "\n",
    "#Train the model using the training sets y_pred=clf.predict(X_test)\n",
    "clf.fit(x_train,y_train)\n",
    "y_pred = clf.predict(x_test)"
   ]
  },
  {
   "cell_type": "code",
   "execution_count": 58,
   "id": "60224d5f",
   "metadata": {},
   "outputs": [
    {
     "data": {
      "text/plain": [
       "array(['Poor'], dtype=object)"
      ]
     },
     "execution_count": 58,
     "metadata": {},
     "output_type": "execute_result"
    }
   ],
   "source": [
    "clf.predict([[6.5, 20000, 1, 25]])\n"
   ]
  },
  {
   "cell_type": "code",
   "execution_count": 59,
   "id": "6550fc68",
   "metadata": {},
   "outputs": [
    {
     "data": {
      "text/plain": [
       "array(['Good'], dtype=object)"
      ]
     },
     "execution_count": 59,
     "metadata": {},
     "output_type": "execute_result"
    }
   ],
   "source": [
    "# Visulaizing quality for ph = 6.2, tds = 500.05786, turbidity = 2.5, temp = 24.0\n",
    "clf.predict([[7, 0, 0.5, 25.0]])\n"
   ]
  },
  {
   "cell_type": "code",
   "execution_count": 60,
   "id": "c024deb7",
   "metadata": {},
   "outputs": [
    {
     "name": "stdout",
     "output_type": "stream",
     "text": [
      "Accuracy: 91.25127161749745\n"
     ]
    }
   ],
   "source": [
    "#Import scikit-learn metrics module for accuracy calculation\n",
    "from sklearn import metrics\n",
    "\n",
    "# Model Accuracy, how often is the classifier correct?\n",
    "print(\"Accuracy:\",metrics.accuracy_score(y_test, y_pred) * 100)\n"
   ]
  },
  {
   "cell_type": "markdown",
   "id": "37aa865c",
   "metadata": {},
   "source": [
    "### >> Stratified K-fold Cross Validation\n",
    "* Used for unbalanced data and only used for discrete data"
   ]
  },
  {
   "cell_type": "code",
   "execution_count": 61,
   "id": "45cf7871",
   "metadata": {},
   "outputs": [
    {
     "name": "stdout",
     "output_type": "stream",
     "text": [
      "[0.89634146 0.91158537 0.89939024 0.91768293 0.95121951 0.92987805\n",
      " 0.95107034 0.9204893  0.91743119 0.93272171]\n",
      "\n",
      "Mean Accuracy score:  92.2781009920191\n"
     ]
    }
   ],
   "source": [
    "from sklearn.model_selection import StratifiedKFold\n",
    "from sklearn.model_selection import cross_val_score\n",
    "\n",
    "skfold = StratifiedKFold(n_splits = 10)\n",
    "model = RandomForestClassifier()\n",
    "score = cross_val_score(model, x, y, cv = skfold)\n",
    "print(score)\n",
    "print(\"\\nMean Accuracy score: \", np.mean(score)*100)"
   ]
  },
  {
   "cell_type": "markdown",
   "id": "d5a288c7",
   "metadata": {},
   "source": [
    "### As seen above, random forest classifier gives accuracy of 92%"
   ]
  },
  {
   "cell_type": "markdown",
   "id": "21dd7fa6",
   "metadata": {},
   "source": [
    "## <mark><em>5. Support Vector Regression Or SVR</em></mark>\n",
    "\n",
    "* SVR is a powerful algorithm that allows us to choose how tolerant we are of errors, both through an acceptable error margin(ϵ) and through tuning our tolerance of falling outside that acceptable error rate.\n",
    "* The algorithm's goal is to minimize the error by identifying a function that puts more of the original points inside the tube while at the same time reducing the “slack.”\n",
    "* SVM and SVR algorithms can also handle non-linear situations through a kernel trick. A kernel is a function (you can choose between a few different ones) that takes the original non-linear problem and transforms it into a linear one, which is then handled by the algorithm in a higher-dimensional space.\n",
    "* Support Vector regression is a type of Support vector machine that supports linear and non-linear regression. As it seems in the below graph, the mission is to fit as many instances as possible between the lines while limiting the margin violations. The violation concept in this example represents as ε (epsilon).\n",
    "\n",
    "![alt text](https://miro.medium.com/v2/resize:fit:640/format:webp/1*25Kk53QBOpBie4_qMSTnAA.png)"
   ]
  },
  {
   "cell_type": "code",
   "execution_count": 62,
   "id": "45c0608a",
   "metadata": {},
   "outputs": [],
   "source": [
    "#Setting the value for X and Y\n",
    "x = dataset[['ph', 'TDS', 'Turbidity', 'Temperature']]\n",
    "y = dataset.wqi"
   ]
  },
  {
   "cell_type": "code",
   "execution_count": 63,
   "id": "51793849",
   "metadata": {},
   "outputs": [],
   "source": [
    "# Splitting the dataset into training and testing set (80/20)\n",
    "x_train, x_test, y_train, y_test = train_test_split(x, y, test_size = 0.3, random_state = 28, shuffle='true')"
   ]
  },
  {
   "cell_type": "code",
   "execution_count": 64,
   "id": "89b4ef88",
   "metadata": {},
   "outputs": [
    {
     "data": {
      "text/html": [
       "<style>#sk-container-id-3 {color: black;background-color: white;}#sk-container-id-3 pre{padding: 0;}#sk-container-id-3 div.sk-toggleable {background-color: white;}#sk-container-id-3 label.sk-toggleable__label {cursor: pointer;display: block;width: 100%;margin-bottom: 0;padding: 0.3em;box-sizing: border-box;text-align: center;}#sk-container-id-3 label.sk-toggleable__label-arrow:before {content: \"▸\";float: left;margin-right: 0.25em;color: #696969;}#sk-container-id-3 label.sk-toggleable__label-arrow:hover:before {color: black;}#sk-container-id-3 div.sk-estimator:hover label.sk-toggleable__label-arrow:before {color: black;}#sk-container-id-3 div.sk-toggleable__content {max-height: 0;max-width: 0;overflow: hidden;text-align: left;background-color: #f0f8ff;}#sk-container-id-3 div.sk-toggleable__content pre {margin: 0.2em;color: black;border-radius: 0.25em;background-color: #f0f8ff;}#sk-container-id-3 input.sk-toggleable__control:checked~div.sk-toggleable__content {max-height: 200px;max-width: 100%;overflow: auto;}#sk-container-id-3 input.sk-toggleable__control:checked~label.sk-toggleable__label-arrow:before {content: \"▾\";}#sk-container-id-3 div.sk-estimator input.sk-toggleable__control:checked~label.sk-toggleable__label {background-color: #d4ebff;}#sk-container-id-3 div.sk-label input.sk-toggleable__control:checked~label.sk-toggleable__label {background-color: #d4ebff;}#sk-container-id-3 input.sk-hidden--visually {border: 0;clip: rect(1px 1px 1px 1px);clip: rect(1px, 1px, 1px, 1px);height: 1px;margin: -1px;overflow: hidden;padding: 0;position: absolute;width: 1px;}#sk-container-id-3 div.sk-estimator {font-family: monospace;background-color: #f0f8ff;border: 1px dotted black;border-radius: 0.25em;box-sizing: border-box;margin-bottom: 0.5em;}#sk-container-id-3 div.sk-estimator:hover {background-color: #d4ebff;}#sk-container-id-3 div.sk-parallel-item::after {content: \"\";width: 100%;border-bottom: 1px solid gray;flex-grow: 1;}#sk-container-id-3 div.sk-label:hover label.sk-toggleable__label {background-color: #d4ebff;}#sk-container-id-3 div.sk-serial::before {content: \"\";position: absolute;border-left: 1px solid gray;box-sizing: border-box;top: 0;bottom: 0;left: 50%;z-index: 0;}#sk-container-id-3 div.sk-serial {display: flex;flex-direction: column;align-items: center;background-color: white;padding-right: 0.2em;padding-left: 0.2em;position: relative;}#sk-container-id-3 div.sk-item {position: relative;z-index: 1;}#sk-container-id-3 div.sk-parallel {display: flex;align-items: stretch;justify-content: center;background-color: white;position: relative;}#sk-container-id-3 div.sk-item::before, #sk-container-id-3 div.sk-parallel-item::before {content: \"\";position: absolute;border-left: 1px solid gray;box-sizing: border-box;top: 0;bottom: 0;left: 50%;z-index: -1;}#sk-container-id-3 div.sk-parallel-item {display: flex;flex-direction: column;z-index: 1;position: relative;background-color: white;}#sk-container-id-3 div.sk-parallel-item:first-child::after {align-self: flex-end;width: 50%;}#sk-container-id-3 div.sk-parallel-item:last-child::after {align-self: flex-start;width: 50%;}#sk-container-id-3 div.sk-parallel-item:only-child::after {width: 0;}#sk-container-id-3 div.sk-dashed-wrapped {border: 1px dashed gray;margin: 0 0.4em 0.5em 0.4em;box-sizing: border-box;padding-bottom: 0.4em;background-color: white;}#sk-container-id-3 div.sk-label label {font-family: monospace;font-weight: bold;display: inline-block;line-height: 1.2em;}#sk-container-id-3 div.sk-label-container {text-align: center;}#sk-container-id-3 div.sk-container {/* jupyter's `normalize.less` sets `[hidden] { display: none; }` but bootstrap.min.css set `[hidden] { display: none !important; }` so we also need the `!important` here to be able to override the default hidden behavior on the sphinx rendered scikit-learn.org. See: https://github.com/scikit-learn/scikit-learn/issues/21755 */display: inline-block !important;position: relative;}#sk-container-id-3 div.sk-text-repr-fallback {display: none;}</style><div id=\"sk-container-id-3\" class=\"sk-top-container\"><div class=\"sk-text-repr-fallback\"><pre>SVR()</pre><b>In a Jupyter environment, please rerun this cell to show the HTML representation or trust the notebook. <br />On GitHub, the HTML representation is unable to render, please try loading this page with nbviewer.org.</b></div><div class=\"sk-container\" hidden><div class=\"sk-item\"><div class=\"sk-estimator sk-toggleable\"><input class=\"sk-toggleable__control sk-hidden--visually\" id=\"sk-estimator-id-3\" type=\"checkbox\" checked><label for=\"sk-estimator-id-3\" class=\"sk-toggleable__label sk-toggleable__label-arrow\">SVR</label><div class=\"sk-toggleable__content\"><pre>SVR()</pre></div></div></div></div></div>"
      ],
      "text/plain": [
       "SVR()"
      ]
     },
     "execution_count": 64,
     "metadata": {},
     "output_type": "execute_result"
    }
   ],
   "source": [
    "from sklearn.svm import SVR\n",
    "svr_model = SVR()\n",
    "svr_model.fit(x_train, y_train)"
   ]
  },
  {
   "cell_type": "code",
   "execution_count": 65,
   "id": "08c4d930",
   "metadata": {},
   "outputs": [
    {
     "data": {
      "text/plain": [
       "array([ 99.5424878 ,  99.67259562,  82.04750338,  83.8650241 ,\n",
       "       105.7652484 ,  81.97765844,  90.98234849,  89.50583803,\n",
       "        83.22253004,  88.905668  ,  96.8749103 ,  90.56096087,\n",
       "        90.73064016, 104.79557655, 101.11459257,  79.58331442,\n",
       "       102.56738821,  81.16730652,  85.95827448,  83.86320704,\n",
       "        90.4316861 , 104.54367822,  99.41565297, 114.37281506,\n",
       "        96.10288279,  84.67518288,  79.11632219,  81.98767588,\n",
       "        88.66723605, 105.88368386,  91.69776065, 100.03206301,\n",
       "        91.89171468,  91.36222781,  93.13120094,  79.36807601,\n",
       "        80.15948309,  95.4518023 ,  88.09836403,  88.17979374,\n",
       "       112.73204804,  90.36236096,  83.2093401 ,  89.84444158,\n",
       "        85.94352683,  79.36909979,  92.97252715,  83.28603773,\n",
       "        79.34856625,  80.92500935,  79.82420696,  83.11396811,\n",
       "        87.06739331,  92.31875461,  83.82124697,  87.07739607,\n",
       "        96.81236189, 103.4835064 ,  88.5012446 , 101.17872152,\n",
       "        79.18276928,  87.35038304,  84.19967521,  91.17423686,\n",
       "       106.01068976,  87.78504884,  82.18579131,  94.37882686,\n",
       "        80.85447988,  82.23432561,  82.05757392, 107.86877415,\n",
       "        86.03998369,  95.21946398,  95.052844  , 101.36224455,\n",
       "        96.67953521,  95.78974622,  93.70004518,  92.25617769,\n",
       "        82.95189412,  86.02233849,  81.59744253,  81.77610285,\n",
       "        90.13383469,  84.74766925,  85.74144614,  88.45012704,\n",
       "        94.57729664, 111.60011043,  84.79095931,  91.38213834,\n",
       "        79.92730844,  86.14974057,  81.99073319,  86.73680217,\n",
       "        86.87340676,  81.67922086,  79.33665948,  81.72235829,\n",
       "        89.35700968,  88.89071488,  85.24233027,  81.48720021,\n",
       "        79.83342037,  88.34160984,  86.81206552, 101.98928323,\n",
       "        83.10693936, 107.29253314, 104.71237376,  88.50992961,\n",
       "        85.08535467,  96.33070998,  90.42730605,  90.87566424,\n",
       "        83.33848902,  94.93722388,  83.27742705, 102.63259345,\n",
       "        97.39248386, 114.11668783,  82.20327645,  84.39209194,\n",
       "        79.40491378, 101.39144417,  93.0191632 ,  94.08576366,\n",
       "        98.16931685,  80.57157059, 104.13352886,  83.40403335,\n",
       "       106.7144747 ,  85.14291821,  81.08707242,  87.66802577,\n",
       "        80.68445902, 101.15038728,  84.80546137, 100.75867839,\n",
       "       102.555293  ,  82.70754963,  84.2436624 ,  90.01145409,\n",
       "        98.79069009, 104.60906025,  96.4942638 , 108.05531574,\n",
       "       101.79754441,  82.01372484,  93.22002536,  82.40275555,\n",
       "        80.96211638, 100.31744615,  83.19445714,  83.90131426,\n",
       "        99.31629002,  97.34852366,  86.98125186,  99.99706115,\n",
       "       106.7911722 ,  84.47811996,  82.53903637,  91.4256091 ,\n",
       "        85.79394269,  80.17647909,  94.22850642,  85.10643869,\n",
       "       105.30712479,  98.93288357,  87.10230208, 101.66349612,\n",
       "       111.61507595, 101.54410579,  81.42586729,  82.50645146,\n",
       "        99.80314677,  95.64909861,  86.71856754,  83.68852357,\n",
       "        90.7641951 ,  87.80255123,  96.53643351, 110.89944552,\n",
       "        79.47833141,  79.15965778,  87.89320387,  85.87612555,\n",
       "        82.67137371,  86.39831051,  87.22998802,  79.93959923,\n",
       "        83.42747755,  94.54005409,  83.08078689,  92.10668528,\n",
       "        89.5638096 ,  88.49319258,  86.68619958, 114.46546535,\n",
       "        90.26526009,  85.78006131,  97.65970565,  94.43645467,\n",
       "       115.78313396,  89.11945738,  99.96150734,  81.29134677,\n",
       "        93.45831445,  98.61191612,  87.12231586, 103.73854558,\n",
       "        84.00790635,  92.83969685,  79.24292683,  88.30078463,\n",
       "        81.24192275,  80.17996737,  91.33067898,  88.48796951,\n",
       "        97.43649179,  85.25719064,  88.16217431,  93.51106015,\n",
       "        84.5223706 ,  81.45125955,  81.57774368,  91.62931642,\n",
       "        95.0622705 ,  87.33844752,  87.89128426,  88.13046303,\n",
       "       111.3678162 ,  94.6144363 ,  84.34452824,  89.70455467,\n",
       "       108.98145599,  89.38667631,  90.10444836,  86.57771465,\n",
       "        83.70755153,  85.79179305, 110.45346659, 103.68477808,\n",
       "        79.35115338,  92.0523936 ,  82.9277903 ,  91.89988597,\n",
       "        79.17259677,  81.79514126,  83.41821166,  82.98872897,\n",
       "        94.85201243,  84.30811632, 102.065937  ,  90.04889794,\n",
       "        79.17313563,  96.05558364,  90.02630034,  87.08623761,\n",
       "        83.83194741,  87.43543247, 101.31449876,  80.75158516,\n",
       "        96.59540255,  90.43704159, 102.86156712,  96.73596254,\n",
       "       105.96417363,  83.19710083,  81.13947386,  79.77721972,\n",
       "        80.17554895, 106.20614271,  89.65516557,  82.95155895,\n",
       "        89.17192148, 107.66323561,  91.41421807, 101.37796727,\n",
       "        94.90785695, 110.57397278, 112.16029826,  79.30213599,\n",
       "        88.49091956,  81.29268727,  82.70542162,  87.45905312,\n",
       "        95.44667338, 113.80808527, 105.82615436,  83.30516096,\n",
       "        84.47258438, 101.20106601,  87.90514543,  87.36624608,\n",
       "        80.24151916,  96.4791426 ,  89.65262513,  84.70841478,\n",
       "       104.42233178,  89.00545223,  98.68004218,  83.75950537,\n",
       "        83.66037428,  97.74915557, 102.92846455,  91.53036997,\n",
       "        88.55570855,  87.53513863,  83.21168183,  82.88394862,\n",
       "        83.67340548,  96.79954746, 105.69042257, 115.58707655,\n",
       "       115.21480382,  86.56507919,  89.41017715,  96.22178798,\n",
       "        97.16288832,  88.07384747, 108.34251736,  85.00806499,\n",
       "       113.98286166,  79.58074322, 102.98447049, 110.84090511,\n",
       "        87.61226748, 105.97730792, 103.22025197,  97.10245033,\n",
       "        89.21950314,  80.14416893,  89.81492986,  81.3449706 ,\n",
       "        98.10910292,  83.36763424,  92.66191133,  87.19167397,\n",
       "        80.19874615,  92.49039075, 105.29582921, 100.71416471,\n",
       "        79.45732294,  93.0860862 , 106.41668072,  83.98942853,\n",
       "        90.20486912, 100.65825607,  92.90367101,  90.26565437,\n",
       "        85.20746321,  97.87698758, 110.19899211, 111.93107222,\n",
       "        84.20564511,  89.23568817,  97.15086578,  82.95725345,\n",
       "        88.89558408, 103.491686  ,  85.1059975 ,  97.51117005,\n",
       "        79.55561524,  92.63859663,  93.29331608,  86.86789796,\n",
       "        82.60195636,  93.63381513,  79.29283148,  89.15088177,\n",
       "        97.82523782,  87.96838972,  88.38244065, 111.15223824,\n",
       "       109.98740989, 100.99218131,  98.26321373,  85.75622746,\n",
       "        98.21497451, 113.64046873,  83.89630873,  83.70119063,\n",
       "        97.09815816,  79.79435493,  81.69166714,  89.40923176,\n",
       "        80.91934852,  96.42674449, 115.68863547,  79.47920103,\n",
       "        84.19276196,  92.50984793,  80.77475937, 105.19076791,\n",
       "       100.72586273,  85.35752324,  83.93525076,  82.3466918 ,\n",
       "        83.04224186,  85.85509126,  81.27554461,  88.84956671,\n",
       "        94.45497052,  80.57778351,  79.30072867,  84.91752833,\n",
       "       113.86940954,  92.15287132, 110.40148451,  91.48185394,\n",
       "       106.22270951,  81.49347725, 110.22224357,  98.49129565,\n",
       "        80.08453914, 110.46211581,  89.07066551,  96.97413079,\n",
       "        85.94312274, 101.33801947,  88.38800116,  90.33129323,\n",
       "       109.79225058,  97.90085378,  96.73406388,  88.64045222,\n",
       "        88.4168883 ,  86.8362763 , 107.82335319,  79.59278217,\n",
       "        87.27063325,  80.54018698,  84.59987922,  87.21549501,\n",
       "        98.66699124,  82.02967073,  82.20016606,  79.39626786,\n",
       "        85.10837328, 106.15417586,  80.13160906,  86.36187326,\n",
       "        85.23912515,  81.08314838,  86.40590769,  85.26952763,\n",
       "       104.49472471,  92.58792413,  81.08987868,  85.22622358,\n",
       "       101.45379668, 103.10679358,  83.33763782,  94.6690359 ,\n",
       "        85.45768335,  92.72375376,  95.97230677,  92.15441428,\n",
       "       104.58267421,  96.47800488,  87.09799613, 100.32139768,\n",
       "        87.462645  ,  84.27243344,  85.87510424,  96.23072223,\n",
       "        90.03060879,  79.49388665,  80.89031027,  88.80048338,\n",
       "        87.07472479,  79.86436442,  93.50626974, 112.55380371,\n",
       "        96.31895302,  93.68502539, 102.87277833,  93.00771428,\n",
       "        85.26641996,  95.65481974,  80.71038953, 100.44291755,\n",
       "        83.58142886,  82.76249373,  84.15531826,  80.33031735,\n",
       "       111.99565023,  96.50825626,  81.04227106,  80.05684317,\n",
       "        91.75086324, 103.42075336, 103.64582474, 111.35270693,\n",
       "        90.92789617,  91.41402516, 104.69442375,  98.52091833,\n",
       "        80.79729577,  95.54737711, 100.36472519,  98.83564482,\n",
       "        84.77445852,  83.85896357,  86.88000115,  89.60049479,\n",
       "        90.65350664,  79.75705575, 112.09442299,  82.94272104,\n",
       "        85.01115569,  84.63104145,  87.43456332, 110.6034125 ,\n",
       "        82.54426167,  83.07232266,  83.13926463,  82.05014003,\n",
       "        94.43827378,  91.3311098 ,  88.07940426,  87.82189538,\n",
       "        95.81521669,  79.21661347,  82.12007545,  81.0815308 ,\n",
       "        83.33768856,  83.04440348,  83.7136743 ,  93.32844603,\n",
       "        99.06249124, 101.68679599,  86.82955151,  80.71284945,\n",
       "        81.53362575,  96.80753071,  81.9580314 ,  95.51106016,\n",
       "        79.12340083,  94.62753346,  81.86998797,  85.46283001,\n",
       "        83.79502483,  99.74220432,  97.61440253,  88.17556464,\n",
       "        79.2839195 ,  86.07152696,  80.61474483,  90.8594585 ,\n",
       "        83.09973983,  86.81570512,  87.41401838,  89.2272265 ,\n",
       "        95.99744765,  98.05360122, 100.71814535,  82.15229328,\n",
       "        90.17929872,  93.27161735,  88.95274383,  97.91172562,\n",
       "        86.75255253, 107.61725414,  99.37832774, 103.03666969,\n",
       "        86.4562106 ,  86.86386899, 104.97180432,  84.42050771,\n",
       "        87.19971637,  97.71166093,  85.57984524,  79.30392313,\n",
       "        94.14949641, 107.28995547,  95.95475197,  90.98988832,\n",
       "        85.25551027,  95.84259104, 101.434678  ,  99.20064318,\n",
       "        89.93754125,  82.17498016,  93.70504319,  80.8669372 ,\n",
       "        79.44512459,  99.96252338,  88.94463341,  80.25641449,\n",
       "        98.94912388,  93.35391388,  87.83711805,  93.65216001,\n",
       "        79.19065835, 107.54111017,  81.16480383, 100.54830149,\n",
       "        84.99329672,  90.80047549,  95.65974326,  86.82184303,\n",
       "        90.83783158,  87.26649304, 101.91911667,  92.15258997,\n",
       "        80.47880504,  90.06370413, 110.39478641, 114.04822761,\n",
       "        92.13365793,  96.82689197,  92.20910872,  91.58755427,\n",
       "        82.8052948 , 100.3601854 , 105.71074224,  86.46025245,\n",
       "       103.81208985, 105.57900836,  97.00976053,  84.80385001,\n",
       "        92.83121706,  80.58876271,  81.70059873,  80.24572217,\n",
       "       114.82380077,  82.21045667, 109.87102288,  94.28426399,\n",
       "        86.09235532,  82.22549623,  80.86062255,  89.65945668,\n",
       "        87.55800388,  98.75441855,  99.23620142,  80.21455108,\n",
       "        88.10437877,  87.55834509,  96.28990734,  96.67690624,\n",
       "        79.80203437,  92.6375591 ,  93.85446957,  92.50379242,\n",
       "        81.66157009,  83.09881002,  89.82086778,  84.09061862,\n",
       "        90.38480211,  95.74221427, 107.91062652,  90.06483354,\n",
       "        90.81079138,  87.82824051,  91.44147   ,  99.79119979,\n",
       "        86.30159189,  92.69084024,  84.12819965,  79.76603246,\n",
       "        82.75109935,  81.83480892,  90.79962988,  83.83384254,\n",
       "       103.12479155,  79.72419446,  79.11937462,  79.37445518,\n",
       "       110.21726064,  93.38066141,  97.12726462,  79.6322028 ,\n",
       "       108.08583817, 101.41445348,  79.79965247,  87.81638098,\n",
       "        79.57322211,  80.70285846, 101.74917243, 108.68200209,\n",
       "        87.49463424,  90.82816043,  87.02611871,  84.07534744,\n",
       "       103.60802456, 106.39325945,  94.26330509,  85.22685034,\n",
       "        97.59822307,  92.31330594,  92.06275509,  98.74241482,\n",
       "        84.92615526,  80.05890757,  85.22024843,  88.58577366,\n",
       "       105.07324952,  87.86480937,  95.01348078,  95.95529714,\n",
       "        79.18804826,  82.6209371 ,  90.1535444 , 109.74096912,\n",
       "       114.12037581,  90.93357142,  82.15843298,  91.34657556,\n",
       "        92.46455474,  82.43614709, 113.27929559,  95.74601723,\n",
       "        88.56516601,  79.34407586, 106.16815089,  79.12920261,\n",
       "        79.95541122,  95.53513598,  90.90939735,  85.51172483,\n",
       "       106.33570048,  83.42219939,  82.72856846,  83.04330907,\n",
       "        97.2047292 ,  96.34667019,  80.33390352,  99.91405872,\n",
       "        94.32002051, 105.91624982,  82.57475571,  82.24183851,\n",
       "        81.3826183 ,  82.09989523,  82.58854834,  82.99465308,\n",
       "        96.46675253,  86.75127937,  85.90253268,  84.5871122 ,\n",
       "        80.62014242,  99.31478915,  86.14221307,  82.05540992,\n",
       "        95.35019794, 103.3663302 ,  84.93442669,  88.68562299,\n",
       "        91.16800227,  94.58047475,  87.29259693,  85.32313352,\n",
       "        82.64069676,  88.17484054,  88.06036129,  81.49582259,\n",
       "        98.01931574,  79.29095214, 110.03477059, 105.70180779,\n",
       "        87.10008069,  87.40025714,  79.1438133 , 111.03217719,\n",
       "       106.89730359,  80.80278925,  90.68146368,  98.32135752,\n",
       "       112.94724107,  83.77427781, 105.39589679, 104.48680367,\n",
       "        85.72517898,  99.86631748, 103.89145585, 103.81001786,\n",
       "        87.01292711,  92.25763538,  83.26882975,  80.5035686 ,\n",
       "        82.64737579,  79.13685681,  81.8911242 ,  88.04826291,\n",
       "        80.87450986,  82.97202714,  82.41090882,  94.47879326,\n",
       "       100.94603604, 113.87300885,  97.10447934,  99.37110785,\n",
       "        89.58065153,  82.54823185,  99.77905233,  96.97311606,\n",
       "        79.14952416,  90.58560919,  85.21206638,  84.77135612,\n",
       "        80.44953476,  84.28321471,  84.36018539,  83.56807508,\n",
       "        91.36088914,  99.01394499,  86.87571638,  82.11461383,\n",
       "        86.5110606 , 105.0910162 ,  86.58747063,  80.10305856,\n",
       "       103.99905545,  83.85454889,  82.79630626,  85.46808814,\n",
       "        97.14094994,  98.60861613, 104.16875596,  87.81903794,\n",
       "        83.76556278,  82.70343146, 112.55052514, 103.72441624,\n",
       "       111.68663087,  92.45474749,  86.42088541,  84.92123314,\n",
       "        80.78061002,  86.04195035,  96.79559312,  93.98967354,\n",
       "        88.17705114,  84.46377588,  88.0512001 ,  93.17363015,\n",
       "       103.35761158,  95.92196936,  96.24623614,  93.19992219,\n",
       "       112.0626807 ,  82.61421511,  87.82639589,  81.33755229,\n",
       "        84.81834331,  79.63618031,  88.16381983, 112.1229635 ,\n",
       "       109.15192238,  97.86417847,  84.40139013,  92.37756611,\n",
       "        97.64456623,  82.00302875,  81.03397957,  95.58881833,\n",
       "       109.40203877,  91.35946184,  87.40608634,  84.7491802 ,\n",
       "       102.600599  , 106.96011605,  96.63644955,  92.55324632,\n",
       "        81.92243422,  92.9119291 ,  94.96995549,  90.33052893,\n",
       "       101.6215628 ,  84.02028828,  92.67275754,  87.15624996,\n",
       "        84.98458666,  85.32356285,  94.25862981, 101.32744989,\n",
       "        86.69194563,  84.45397437,  93.42044714,  86.23132712,\n",
       "        90.49989673,  99.44145572,  88.41140556, 101.74117689,\n",
       "        90.1865547 ,  85.25279595,  84.87420508,  81.66027345,\n",
       "        95.31461504,  86.10210893,  84.99363799,  89.26159619,\n",
       "        83.83238908,  83.31575784, 101.59313082, 107.55698617,\n",
       "       108.04504516, 106.37626422, 100.0772523 ,  93.99754744,\n",
       "       103.33840662,  95.60399005,  79.49852627, 103.52502681,\n",
       "        96.2908033 ,  85.43602507,  95.39648529,  84.41245443,\n",
       "        96.76117653,  83.69217825,  80.4393943 ,  93.01638165,\n",
       "        86.95342915,  88.0426027 , 105.9766258 ,  87.92443791,\n",
       "        88.03387435,  85.68078631,  81.73155437,  79.83666609,\n",
       "        89.09756592,  79.62115788,  85.68554607, 110.51448465,\n",
       "       105.46387836,  91.46834064,  95.0141252 ,  91.5412529 ,\n",
       "        95.96208326,  86.58779825,  87.87329872,  84.18684817,\n",
       "       100.07101465,  96.72959366,  83.17753341, 105.1276865 ,\n",
       "        89.36479034,  86.16610023,  87.39936239,  79.13670472,\n",
       "        91.97606529,  82.88626303,  80.72431358,  79.11846282,\n",
       "        94.67081679,  86.36358191,  89.88252353,  80.71887392,\n",
       "       115.59402707,  93.14189076,  95.74218642,  83.18751339,\n",
       "        89.38044371,  82.26864797,  91.3337056 ,  88.36996627,\n",
       "        87.38683625,  79.66389289,  81.85132476,  84.62147098,\n",
       "       103.12136408,  81.68791566,  81.34531406,  81.72379925,\n",
       "        80.0004692 ,  84.59081989,  82.62436349,  79.85603852,\n",
       "        92.78356406,  83.19588929,  82.47614491,  83.25552489,\n",
       "        84.38578807,  84.89843453,  79.88248011,  82.23891322,\n",
       "        80.19376281,  81.45497505,  85.45617876])"
      ]
     },
     "execution_count": 65,
     "metadata": {},
     "output_type": "execute_result"
    }
   ],
   "source": [
    "y_pred = svr_model.predict(x_test)\n",
    "y_pred"
   ]
  },
  {
   "cell_type": "code",
   "execution_count": 66,
   "id": "0d17fabd",
   "metadata": {},
   "outputs": [
    {
     "data": {
      "text/html": [
       "<div>\n",
       "<style scoped>\n",
       "    .dataframe tbody tr th:only-of-type {\n",
       "        vertical-align: middle;\n",
       "    }\n",
       "\n",
       "    .dataframe tbody tr th {\n",
       "        vertical-align: top;\n",
       "    }\n",
       "\n",
       "    .dataframe thead th {\n",
       "        text-align: right;\n",
       "    }\n",
       "</style>\n",
       "<table border=\"1\" class=\"dataframe\">\n",
       "  <thead>\n",
       "    <tr style=\"text-align: right;\">\n",
       "      <th></th>\n",
       "      <th>Actual value</th>\n",
       "      <th>Predicted value</th>\n",
       "    </tr>\n",
       "  </thead>\n",
       "  <tbody>\n",
       "    <tr>\n",
       "      <th>491</th>\n",
       "      <td>64.511040</td>\n",
       "      <td>99.542488</td>\n",
       "    </tr>\n",
       "    <tr>\n",
       "      <th>91</th>\n",
       "      <td>85.502297</td>\n",
       "      <td>99.672596</td>\n",
       "    </tr>\n",
       "    <tr>\n",
       "      <th>947</th>\n",
       "      <td>60.027739</td>\n",
       "      <td>82.047503</td>\n",
       "    </tr>\n",
       "    <tr>\n",
       "      <th>1377</th>\n",
       "      <td>109.736925</td>\n",
       "      <td>83.865024</td>\n",
       "    </tr>\n",
       "    <tr>\n",
       "      <th>1143</th>\n",
       "      <td>111.325881</td>\n",
       "      <td>105.765248</td>\n",
       "    </tr>\n",
       "    <tr>\n",
       "      <th>1283</th>\n",
       "      <td>72.943179</td>\n",
       "      <td>81.977658</td>\n",
       "    </tr>\n",
       "    <tr>\n",
       "      <th>2808</th>\n",
       "      <td>76.122920</td>\n",
       "      <td>90.982348</td>\n",
       "    </tr>\n",
       "    <tr>\n",
       "      <th>2028</th>\n",
       "      <td>90.925553</td>\n",
       "      <td>89.505838</td>\n",
       "    </tr>\n",
       "    <tr>\n",
       "      <th>2796</th>\n",
       "      <td>83.057967</td>\n",
       "      <td>83.222530</td>\n",
       "    </tr>\n",
       "    <tr>\n",
       "      <th>2320</th>\n",
       "      <td>89.766697</td>\n",
       "      <td>88.905668</td>\n",
       "    </tr>\n",
       "  </tbody>\n",
       "</table>\n",
       "</div>"
      ],
      "text/plain": [
       "      Actual value  Predicted value\n",
       "491      64.511040        99.542488\n",
       "91       85.502297        99.672596\n",
       "947      60.027739        82.047503\n",
       "1377    109.736925        83.865024\n",
       "1143    111.325881       105.765248\n",
       "1283     72.943179        81.977658\n",
       "2808     76.122920        90.982348\n",
       "2028     90.925553        89.505838\n",
       "2796     83.057967        83.222530\n",
       "2320     89.766697        88.905668"
      ]
     },
     "execution_count": 66,
     "metadata": {},
     "output_type": "execute_result"
    }
   ],
   "source": [
    "#Actual value and the predicted value\n",
    "svr_diff = pd.DataFrame({'Actual value': y_test, 'Predicted value': y_pred})\n",
    "svr_diff.head(10)"
   ]
  },
  {
   "cell_type": "code",
   "execution_count": 67,
   "id": "8b51088d",
   "metadata": {},
   "outputs": [
    {
     "name": "stdout",
     "output_type": "stream",
     "text": [
      "Training RMSE:  19.724485144191075\n",
      "Training R2:  18.516793433560387\n",
      "Testing RMSE:  19.26963441755334\n",
      "Testing R2:  20.863887086569587\n"
     ]
    }
   ],
   "source": [
    "from sklearn.metrics import mean_squared_error, r2_score\n",
    "\n",
    "svr_pred_train = svr_model.predict(x_train)\n",
    "svr_pred_test = svr_model.predict(x_test)\n",
    "\n",
    "print(\"Training RMSE: \", np.sqrt(mean_squared_error(y_train, svr_pred_train)))\n",
    "print(\"Training R2: \", r2_score(y_train, svr_pred_train)*100)\n",
    "\n",
    "\n",
    "print(\"Testing RMSE: \", np.sqrt(mean_squared_error(y_test, svr_pred_test)))\n",
    "print(\"Testing R2: \", r2_score(y_test, svr_pred_test)*100)\n"
   ]
  },
  {
   "cell_type": "markdown",
   "id": "620aee48",
   "metadata": {},
   "source": [
    "### >> K Fold Cross Validation\n"
   ]
  },
  {
   "cell_type": "code",
   "execution_count": 68,
   "id": "983b335e",
   "metadata": {},
   "outputs": [
    {
     "name": "stdout",
     "output_type": "stream",
     "text": [
      "[0.06676023 0.1456131  0.06545276 0.25506611 0.28375683 0.35696239\n",
      " 0.22311782 0.11112493 0.11965295 0.13905582]\n",
      "\n",
      "Mean Accuracy Score:  17.665629438465523\n"
     ]
    }
   ],
   "source": [
    "from sklearn.model_selection import KFold\n",
    "from sklearn.model_selection import train_test_split\n",
    "model = SVR()\n",
    "kfold_validation = KFold(10)\n",
    "results = cross_val_score(model, x, y, cv = kfold_validation)\n",
    "import numpy as np\n",
    "from sklearn.model_selection import cross_val_score\n",
    "results = cross_val_score(model, x, y, cv = kfold_validation)\n",
    "print(results)\n",
    "print(\"\\nMean Accuracy Score: \", np.mean(results)*100)"
   ]
  },
  {
   "cell_type": "markdown",
   "id": "c95b5505",
   "metadata": {},
   "source": [
    "### As seen above, SVR gives accuracy of 17%\n",
    "\n"
   ]
  },
  {
   "cell_type": "markdown",
   "id": "914e7a37",
   "metadata": {},
   "source": [
    "## <mark><em>6. Support Vector Machine or SVM </em></mark>\n",
    "\n",
    "* is one of the most popular Supervised Learning algorithms, which is used for Classification as well as Regression problems. However, primarily, it is used for Classification problems in Machine Learning.\n",
    "\n",
    "* The goal of the SVM algorithm is to create the best line or decision boundary that can segregate n-dimensional space into classes so that we can easily put the new data point in the correct category in the future. This best decision boundary is called a hyperplane.\n",
    "\n",
    "* SVM chooses the extreme points/vectors that help in creating the hyperplane. These extreme cases are called as support vectors, and hence algorithm is termed as Support Vector Machine. Consider the below diagram in which there are two different categories that are classified using a decision boundary or hyperplane:\n",
    "\n",
    "\n",
    "![alt text](https://static.javatpoint.com/tutorial/machine-learning/images/support-vector-machine-algorithm.png)"
   ]
  },
  {
   "cell_type": "code",
   "execution_count": 69,
   "id": "6bee2471",
   "metadata": {},
   "outputs": [],
   "source": [
    "#Setting the value for X and Y\n",
    "\n",
    "x = dataset[['ph', 'TDS', 'Turbidity', 'Temperature']]\n",
    "y = dataset.quality\n",
    "\n",
    "# Splitting the dataset into training and testing set (80/20)\n",
    "x_train, x_test, y_train, y_test = train_test_split(x, y, test_size = 0.3, random_state = 28, shuffle='true')"
   ]
  },
  {
   "cell_type": "code",
   "execution_count": 70,
   "id": "39dd89bc",
   "metadata": {
    "scrolled": true
   },
   "outputs": [
    {
     "data": {
      "text/html": [
       "<style>#sk-container-id-4 {color: black;background-color: white;}#sk-container-id-4 pre{padding: 0;}#sk-container-id-4 div.sk-toggleable {background-color: white;}#sk-container-id-4 label.sk-toggleable__label {cursor: pointer;display: block;width: 100%;margin-bottom: 0;padding: 0.3em;box-sizing: border-box;text-align: center;}#sk-container-id-4 label.sk-toggleable__label-arrow:before {content: \"▸\";float: left;margin-right: 0.25em;color: #696969;}#sk-container-id-4 label.sk-toggleable__label-arrow:hover:before {color: black;}#sk-container-id-4 div.sk-estimator:hover label.sk-toggleable__label-arrow:before {color: black;}#sk-container-id-4 div.sk-toggleable__content {max-height: 0;max-width: 0;overflow: hidden;text-align: left;background-color: #f0f8ff;}#sk-container-id-4 div.sk-toggleable__content pre {margin: 0.2em;color: black;border-radius: 0.25em;background-color: #f0f8ff;}#sk-container-id-4 input.sk-toggleable__control:checked~div.sk-toggleable__content {max-height: 200px;max-width: 100%;overflow: auto;}#sk-container-id-4 input.sk-toggleable__control:checked~label.sk-toggleable__label-arrow:before {content: \"▾\";}#sk-container-id-4 div.sk-estimator input.sk-toggleable__control:checked~label.sk-toggleable__label {background-color: #d4ebff;}#sk-container-id-4 div.sk-label input.sk-toggleable__control:checked~label.sk-toggleable__label {background-color: #d4ebff;}#sk-container-id-4 input.sk-hidden--visually {border: 0;clip: rect(1px 1px 1px 1px);clip: rect(1px, 1px, 1px, 1px);height: 1px;margin: -1px;overflow: hidden;padding: 0;position: absolute;width: 1px;}#sk-container-id-4 div.sk-estimator {font-family: monospace;background-color: #f0f8ff;border: 1px dotted black;border-radius: 0.25em;box-sizing: border-box;margin-bottom: 0.5em;}#sk-container-id-4 div.sk-estimator:hover {background-color: #d4ebff;}#sk-container-id-4 div.sk-parallel-item::after {content: \"\";width: 100%;border-bottom: 1px solid gray;flex-grow: 1;}#sk-container-id-4 div.sk-label:hover label.sk-toggleable__label {background-color: #d4ebff;}#sk-container-id-4 div.sk-serial::before {content: \"\";position: absolute;border-left: 1px solid gray;box-sizing: border-box;top: 0;bottom: 0;left: 50%;z-index: 0;}#sk-container-id-4 div.sk-serial {display: flex;flex-direction: column;align-items: center;background-color: white;padding-right: 0.2em;padding-left: 0.2em;position: relative;}#sk-container-id-4 div.sk-item {position: relative;z-index: 1;}#sk-container-id-4 div.sk-parallel {display: flex;align-items: stretch;justify-content: center;background-color: white;position: relative;}#sk-container-id-4 div.sk-item::before, #sk-container-id-4 div.sk-parallel-item::before {content: \"\";position: absolute;border-left: 1px solid gray;box-sizing: border-box;top: 0;bottom: 0;left: 50%;z-index: -1;}#sk-container-id-4 div.sk-parallel-item {display: flex;flex-direction: column;z-index: 1;position: relative;background-color: white;}#sk-container-id-4 div.sk-parallel-item:first-child::after {align-self: flex-end;width: 50%;}#sk-container-id-4 div.sk-parallel-item:last-child::after {align-self: flex-start;width: 50%;}#sk-container-id-4 div.sk-parallel-item:only-child::after {width: 0;}#sk-container-id-4 div.sk-dashed-wrapped {border: 1px dashed gray;margin: 0 0.4em 0.5em 0.4em;box-sizing: border-box;padding-bottom: 0.4em;background-color: white;}#sk-container-id-4 div.sk-label label {font-family: monospace;font-weight: bold;display: inline-block;line-height: 1.2em;}#sk-container-id-4 div.sk-label-container {text-align: center;}#sk-container-id-4 div.sk-container {/* jupyter's `normalize.less` sets `[hidden] { display: none; }` but bootstrap.min.css set `[hidden] { display: none !important; }` so we also need the `!important` here to be able to override the default hidden behavior on the sphinx rendered scikit-learn.org. See: https://github.com/scikit-learn/scikit-learn/issues/21755 */display: inline-block !important;position: relative;}#sk-container-id-4 div.sk-text-repr-fallback {display: none;}</style><div id=\"sk-container-id-4\" class=\"sk-top-container\"><div class=\"sk-text-repr-fallback\"><pre>SVC()</pre><b>In a Jupyter environment, please rerun this cell to show the HTML representation or trust the notebook. <br />On GitHub, the HTML representation is unable to render, please try loading this page with nbviewer.org.</b></div><div class=\"sk-container\" hidden><div class=\"sk-item\"><div class=\"sk-estimator sk-toggleable\"><input class=\"sk-toggleable__control sk-hidden--visually\" id=\"sk-estimator-id-4\" type=\"checkbox\" checked><label for=\"sk-estimator-id-4\" class=\"sk-toggleable__label sk-toggleable__label-arrow\">SVC</label><div class=\"sk-toggleable__content\"><pre>SVC()</pre></div></div></div></div></div>"
      ],
      "text/plain": [
       "SVC()"
      ]
     },
     "execution_count": 70,
     "metadata": {},
     "output_type": "execute_result"
    }
   ],
   "source": [
    "from sklearn import svm\n",
    "svm_clf = svm.SVC()\n",
    "svm_clf.fit(x_train, y_train)"
   ]
  },
  {
   "cell_type": "code",
   "execution_count": 71,
   "id": "bd7ed4c2",
   "metadata": {},
   "outputs": [],
   "source": [
    "y_pred = svm_clf.predict(x_test)"
   ]
  },
  {
   "cell_type": "code",
   "execution_count": 72,
   "id": "e14f55b5",
   "metadata": {},
   "outputs": [
    {
     "data": {
      "text/plain": [
       "array(['Very Poor'], dtype=object)"
      ]
     },
     "execution_count": 72,
     "metadata": {},
     "output_type": "execute_result"
    }
   ],
   "source": [
    "svm_clf.predict([[7.080795, 20791.31898, 2.963135, 29.3]])\n"
   ]
  },
  {
   "cell_type": "code",
   "execution_count": 73,
   "id": "428ce4ed",
   "metadata": {},
   "outputs": [
    {
     "name": "stdout",
     "output_type": "stream",
     "text": [
      "Accuracy: 53.40793489318413\n"
     ]
    }
   ],
   "source": [
    "#Import scikit-learn metrics module for accuracy calculation\n",
    "from sklearn import metrics\n",
    "\n",
    "# Model Accuracy, how often is the classifier correct?\n",
    "print(\"Accuracy:\",metrics.accuracy_score(y_test, y_pred) * 100)\n"
   ]
  },
  {
   "cell_type": "markdown",
   "id": "7d88e9cb",
   "metadata": {},
   "source": [
    "### >> Stratified K-fold Cross Validation\n",
    "* Used for unbalanced data and only used for discrete data"
   ]
  },
  {
   "cell_type": "code",
   "execution_count": 74,
   "id": "4c66979c",
   "metadata": {},
   "outputs": [
    {
     "name": "stdout",
     "output_type": "stream",
     "text": [
      "[0.51219512 0.53353659 0.52439024 0.57012195 0.57317073 0.59146341\n",
      " 0.51376147 0.52905199 0.57186544 0.55963303]\n",
      "\n",
      "Mean Accuracy score:  54.79189975385993\n"
     ]
    }
   ],
   "source": [
    "\n",
    "from sklearn.model_selection import StratifiedKFold\n",
    "from sklearn.model_selection import cross_val_score\n",
    "\n",
    "skfold = StratifiedKFold(n_splits = 10)\n",
    "model = svm.SVC()\n",
    "score = cross_val_score(model, x, y, cv = skfold)\n",
    "print(score)\n",
    "print(\"\\nMean Accuracy score: \", np.mean(score)*100)"
   ]
  },
  {
   "cell_type": "markdown",
   "id": "d21c8aee",
   "metadata": {},
   "source": [
    "### As seen above, SVM gives accuracy of  54%\n",
    "\n"
   ]
  },
  {
   "cell_type": "markdown",
   "id": "1c1c8a9c",
   "metadata": {},
   "source": [
    "## <mark><em>7. Gradient Boosting Regression Or GBR</em></mark>\n",
    "\n",
    "* Gradient boosting is one of the most popular machine learning algorithms for tabular datasets. It is powerful enough to find any nonlinear relationship between your model target and features and has great usability that can deal with missing values, outliers, and high cardinality categorical values on your features without any special treatment."
   ]
  },
  {
   "cell_type": "code",
   "execution_count": 75,
   "id": "2eb41c92",
   "metadata": {},
   "outputs": [],
   "source": [
    "#Setting the value for X and Y\n",
    "x = dataset[['ph', 'TDS', 'Turbidity', 'Temperature']]\n",
    "y = dataset.wqi"
   ]
  },
  {
   "cell_type": "code",
   "execution_count": 76,
   "id": "06361f43",
   "metadata": {},
   "outputs": [],
   "source": [
    "# Splitting the dataset into training and testing set (80/20)\n",
    "x_train, x_test, y_train, y_test = train_test_split(x, y, test_size = 0.3, random_state = 28, shuffle='true')"
   ]
  },
  {
   "cell_type": "code",
   "execution_count": 77,
   "id": "6d137c3b",
   "metadata": {},
   "outputs": [
    {
     "name": "stdout",
     "output_type": "stream",
     "text": [
      "MSE: 6.21\n"
     ]
    },
    {
     "data": {
      "image/png": "[encoded data removed]",
      "text/plain": [
       "<Figure size 432x288 with 1 Axes>"
      ]
     },
     "metadata": {
      "needs_background": "light"
     },
     "output_type": "display_data"
    }
   ],
   "source": [
    "from sklearn.ensemble import GradientBoostingRegressor\n",
    "\n",
    "# with new parameters\n",
    "gbr = GradientBoostingRegressor(n_estimators=600, \n",
    "    max_depth=5, \n",
    "    learning_rate=0.01, \n",
    "    min_samples_split=3)\n",
    "# with default parameters\n",
    "gbr = GradientBoostingRegressor()\n",
    "\n",
    "gbr.fit(x_train, y_train)\n",
    "\n",
    "y_pred = gbr.predict(x_test)\n",
    "mse = mean_squared_error(y_test,y_pred)\n",
    "print(\"MSE: %.2f\" % mse)\n",
    "\n",
    "x_ax = range(len(y_test))\n",
    "plt.scatter(x_ax, y_test, s=5, color=\"blue\", label=\"original\")\n",
    "plt.plot(x_ax, y_pred, lw=0.8, color=\"red\", label=\"predicted\")\n",
    "plt.legend()\n",
    "plt.show()"
   ]
  },
  {
   "cell_type": "code",
   "execution_count": 78,
   "id": "bea8816b",
   "metadata": {},
   "outputs": [
    {
     "data": {
      "text/html": [
       "<div>\n",
       "<style scoped>\n",
       "    .dataframe tbody tr th:only-of-type {\n",
       "        vertical-align: middle;\n",
       "    }\n",
       "\n",
       "    .dataframe tbody tr th {\n",
       "        vertical-align: top;\n",
       "    }\n",
       "\n",
       "    .dataframe thead th {\n",
       "        text-align: right;\n",
       "    }\n",
       "</style>\n",
       "<table border=\"1\" class=\"dataframe\">\n",
       "  <thead>\n",
       "    <tr style=\"text-align: right;\">\n",
       "      <th></th>\n",
       "      <th>Actual value</th>\n",
       "      <th>Predicted value</th>\n",
       "    </tr>\n",
       "  </thead>\n",
       "  <tbody>\n",
       "    <tr>\n",
       "      <th>491</th>\n",
       "      <td>64.511040</td>\n",
       "      <td>67.289061</td>\n",
       "    </tr>\n",
       "    <tr>\n",
       "      <th>91</th>\n",
       "      <td>85.502297</td>\n",
       "      <td>85.265821</td>\n",
       "    </tr>\n",
       "    <tr>\n",
       "      <th>947</th>\n",
       "      <td>60.027739</td>\n",
       "      <td>60.268384</td>\n",
       "    </tr>\n",
       "    <tr>\n",
       "      <th>1377</th>\n",
       "      <td>109.736925</td>\n",
       "      <td>105.016223</td>\n",
       "    </tr>\n",
       "    <tr>\n",
       "      <th>1143</th>\n",
       "      <td>111.325881</td>\n",
       "      <td>111.617122</td>\n",
       "    </tr>\n",
       "    <tr>\n",
       "      <th>1283</th>\n",
       "      <td>72.943179</td>\n",
       "      <td>74.402245</td>\n",
       "    </tr>\n",
       "    <tr>\n",
       "      <th>2808</th>\n",
       "      <td>76.122920</td>\n",
       "      <td>78.337812</td>\n",
       "    </tr>\n",
       "    <tr>\n",
       "      <th>2028</th>\n",
       "      <td>90.925553</td>\n",
       "      <td>89.602404</td>\n",
       "    </tr>\n",
       "    <tr>\n",
       "      <th>2796</th>\n",
       "      <td>83.057967</td>\n",
       "      <td>87.013247</td>\n",
       "    </tr>\n",
       "    <tr>\n",
       "      <th>2320</th>\n",
       "      <td>89.766697</td>\n",
       "      <td>87.703668</td>\n",
       "    </tr>\n",
       "  </tbody>\n",
       "</table>\n",
       "</div>"
      ],
      "text/plain": [
       "      Actual value  Predicted value\n",
       "491      64.511040        67.289061\n",
       "91       85.502297        85.265821\n",
       "947      60.027739        60.268384\n",
       "1377    109.736925       105.016223\n",
       "1143    111.325881       111.617122\n",
       "1283     72.943179        74.402245\n",
       "2808     76.122920        78.337812\n",
       "2028     90.925553        89.602404\n",
       "2796     83.057967        87.013247\n",
       "2320     89.766697        87.703668"
      ]
     },
     "execution_count": 78,
     "metadata": {},
     "output_type": "execute_result"
    }
   ],
   "source": [
    "#Actual value and the predicted value\n",
    "gbr_diff = pd.DataFrame({'Actual value': y_test, 'Predicted value': y_pred})\n",
    "gbr_diff.head(10)"
   ]
  },
  {
   "cell_type": "code",
   "execution_count": 79,
   "id": "5521d404",
   "metadata": {},
   "outputs": [
    {
     "name": "stdout",
     "output_type": "stream",
     "text": [
      "WQI:  42.23202685615728\n"
     ]
    }
   ],
   "source": [
    "res = gbr.predict([[7, 100, 1, 0]])[0]\n",
    "print(\"WQI: \", res)"
   ]
  },
  {
   "cell_type": "code",
   "execution_count": 80,
   "id": "1d883842",
   "metadata": {
    "scrolled": true
   },
   "outputs": [
    {
     "name": "stdout",
     "output_type": "stream",
     "text": [
      "Training RMSE:  1.5172405784997902\n",
      "Training R2:  99.51786833220704\n",
      "Testing RMSE:  2.4926756722101597\n",
      "Testing R2:  98.67578252742948\n"
     ]
    }
   ],
   "source": [
    "from sklearn.metrics import mean_squared_error, r2_score\n",
    "\n",
    "gbr_pred_train = gbr.predict(x_train)\n",
    "gbr_pred_test = gbr.predict(x_test)\n",
    "\n",
    "print(\"Training RMSE: \", np.sqrt(mean_squared_error(y_train, gbr_pred_train)))\n",
    "print(\"Training R2: \", r2_score(y_train, gbr_pred_train)*100)\n",
    "\n",
    "\n",
    "print(\"Testing RMSE: \", np.sqrt(mean_squared_error(y_test, gbr_pred_test)))\n",
    "print(\"Testing R2: \", r2_score(y_test, gbr_pred_test)*100)\n"
   ]
  },
  {
   "cell_type": "markdown",
   "id": "cbf354df",
   "metadata": {},
   "source": [
    "### >> K Fold Cross Validation\n"
   ]
  },
  {
   "cell_type": "code",
   "execution_count": 81,
   "id": "b3c811fe",
   "metadata": {},
   "outputs": [
    {
     "name": "stdout",
     "output_type": "stream",
     "text": [
      "[0.98881308 0.98689964 0.98137693 0.98915893 0.98938593 0.99035087\n",
      " 0.98113327 0.98806178 0.98647511 0.986074  ]\n",
      "\n",
      "Mean Accuracy Score:  98.6772952964045\n"
     ]
    }
   ],
   "source": [
    "from sklearn.model_selection import KFold\n",
    "from sklearn.model_selection import train_test_split\n",
    "model = GradientBoostingRegressor()\n",
    "kfold_validation = KFold(10)\n",
    "results = cross_val_score(model, x, y, cv = kfold_validation)\n",
    "import numpy as np\n",
    "from sklearn.model_selection import cross_val_score\n",
    "results = cross_val_score(model, x, y, cv = kfold_validation)\n",
    "print(results)\n",
    "print(\"\\nMean Accuracy Score: \", np.mean(results)*100)"
   ]
  },
  {
   "cell_type": "markdown",
   "id": "5f32f2f8",
   "metadata": {},
   "source": [
    "### As seen above, Gradient Boosting Regressor gives accuracy of 98%\n",
    "\n"
   ]
  },
  {
   "cell_type": "markdown",
   "id": "54798dc1",
   "metadata": {},
   "source": [
    "## <mark><em>8. Gradient Boosting Classifier or GBC</em></mark>\n",
    "\n",
    "* Gradient boosting classifiers are a group of machine learning algorithms that combine many weak learning models together to create a strong predictive model. Decision trees are usually used when doing gradient boosting. Gradient boosting models are becoming popular because of their effectiveness at classifying complex datasets, and have recently been used to win many Kaggle data science competitions."
   ]
  },
  {
   "cell_type": "code",
   "execution_count": 82,
   "id": "98c9b048",
   "metadata": {},
   "outputs": [],
   "source": [
    "#Setting the value for X and Y\n",
    "\n",
    "x = dataset[['ph', 'TDS', 'Turbidity', 'Temperature']]\n",
    "y = dataset.quality\n",
    "\n",
    "# Splitting the dataset into training and testing set (80/20)\n",
    "x_train, x_test, y_train, y_test = train_test_split(x, y, test_size = 0.3, random_state = 28, shuffle='true')"
   ]
  },
  {
   "cell_type": "code",
   "execution_count": 83,
   "id": "f5185dbd",
   "metadata": {
    "scrolled": true
   },
   "outputs": [
    {
     "name": "stdout",
     "output_type": "stream",
     "text": [
      "Learning rate:  0.05\n",
      "Accuracy score (training): 0.730\n",
      "Accuracy score (validation): 0.684 \n",
      "\n",
      "Learning rate:  0.075\n",
      "Accuracy score (training): 0.776\n",
      "Accuracy score (validation): 0.720 \n",
      "\n",
      "Learning rate:  0.1\n",
      "Accuracy score (training): 0.795\n",
      "Accuracy score (validation): 0.730 \n",
      "\n",
      "Learning rate:  0.25\n",
      "Accuracy score (training): 0.887\n",
      "Accuracy score (validation): 0.834 \n",
      "\n",
      "Learning rate:  0.5\n",
      "Accuracy score (training): 0.923\n",
      "Accuracy score (validation): 0.855 \n",
      "\n",
      "Learning rate:  0.75\n",
      "Accuracy score (training): 0.942\n",
      "Accuracy score (validation): 0.874 \n",
      "\n",
      "Learning rate:  1\n",
      "Accuracy score (training): 0.973\n",
      "Accuracy score (validation): 0.886 \n",
      "\n"
     ]
    }
   ],
   "source": [
    "from sklearn.ensemble import GradientBoostingClassifier\n",
    "\n",
    "#setting different learning rates, so that we can compare the performance of the classifier's performance at different learning rates.\n",
    "lr_list = [0.05, 0.075, 0.1, 0.25, 0.5, 0.75, 1]\n",
    "\n",
    "for learning_rate in lr_list:\n",
    "    gb_clf = GradientBoostingClassifier(n_estimators=20, learning_rate=learning_rate, max_features=2, max_depth=2, random_state=42)\n",
    "    gb_clf.fit(x_train, y_train)\n",
    "\n",
    "    print(\"Learning rate: \", learning_rate)\n",
    "    print(\"Accuracy score (training): {0:.3f}\".format(gb_clf.score(x_train, y_train)))\n",
    "    print(\"Accuracy score (validation): {0:.3f}\".format(gb_clf.score(x_test, y_test)), \"\\n\")"
   ]
  },
  {
   "cell_type": "markdown",
   "id": "da7c87ce",
   "metadata": {},
   "source": [
    "#### learning rate of 0.75 gives us the best performance on the validation set and good performance on the training set.\n"
   ]
  },
  {
   "cell_type": "code",
   "execution_count": 84,
   "id": "49208a9c",
   "metadata": {},
   "outputs": [],
   "source": [
    "gb_clf2 = GradientBoostingClassifier(n_estimators=20, learning_rate=0.5, max_features=2, max_depth=2, random_state=42)\n",
    "gb_clf2.fit(x_train, y_train)\n",
    "y_pred = gb_clf2.predict(x_test)"
   ]
  },
  {
   "cell_type": "code",
   "execution_count": 85,
   "id": "0aa353f5",
   "metadata": {},
   "outputs": [
    {
     "data": {
      "text/plain": [
       "array(['Poor'], dtype=object)"
      ]
     },
     "execution_count": 85,
     "metadata": {},
     "output_type": "execute_result"
    }
   ],
   "source": [
    "gb_clf2.predict([[7, 75, 1, 20]])\n"
   ]
  },
  {
   "cell_type": "code",
   "execution_count": 86,
   "id": "03534683",
   "metadata": {},
   "outputs": [
    {
     "name": "stdout",
     "output_type": "stream",
     "text": [
      "Accuracy: 85.45269582909461\n"
     ]
    }
   ],
   "source": [
    "#Import scikit-learn metrics module for accuracy calculation\n",
    "from sklearn import metrics\n",
    "\n",
    "# Model Accuracy, how often is the classifier correct?\n",
    "print(\"Accuracy:\",metrics.accuracy_score(y_test, y_pred) * 100)\n"
   ]
  },
  {
   "cell_type": "markdown",
   "id": "f52e6507",
   "metadata": {},
   "source": [
    "### >> Stratified K-fold Cross Validation\n",
    "* Used for unbalanced data and only used for discrete data\n",
    "svm."
   ]
  },
  {
   "cell_type": "code",
   "execution_count": 87,
   "id": "fcb1a6bb",
   "metadata": {},
   "outputs": [
    {
     "name": "stdout",
     "output_type": "stream",
     "text": [
      "[0.91158537 0.90853659 0.89939024 0.90243902 0.92378049 0.92682927\n",
      " 0.92966361 0.91437309 0.91743119 0.9235474 ]\n",
      "\n",
      "Mean Accuracy score:  91.57576266129635\n"
     ]
    }
   ],
   "source": [
    "from sklearn.model_selection import StratifiedKFold\n",
    "from sklearn.model_selection import cross_val_score\n",
    "\n",
    "skfold = StratifiedKFold(n_splits = 10)\n",
    "model = GradientBoostingClassifier()\n",
    "score = cross_val_score(model, x, y, cv = skfold)\n",
    "print(score)\n",
    "print(\"\\nMean Accuracy score: \", np.mean(score)*100)"
   ]
  },
  {
   "cell_type": "markdown",
   "id": "e25b10f8",
   "metadata": {},
   "source": [
    "### As seen above, Gradient Boosting Classifier gives accuracy of 91%\n",
    "\n"
   ]
  },
  {
   "cell_type": "markdown",
   "id": "e039b0ea",
   "metadata": {},
   "source": [
    "## <mark><em>9. Decision Tree Regression</em></mark>\n",
    "\n",
    "* Decision tree regression observes features of an object and trains a model in the structure of a tree to predict data in the future to produce meaningful continuous output. \n",
    "* Continuous output means that the output/result is not discrete, i.e., it is not represented just by a discrete, known set of numbers or values."
   ]
  },
  {
   "cell_type": "code",
   "execution_count": 88,
   "id": "8fd5f4e9",
   "metadata": {},
   "outputs": [],
   "source": [
    "#Setting the value for X and Y\n",
    "x = dataset[['ph', 'TDS', 'Turbidity', 'Temperature']]\n",
    "y = dataset.wqi\n",
    "\n",
    "\n",
    "# Splitting the dataset into training and testing set (80/20)\n",
    "x_train, x_test, y_train, y_test = train_test_split(x, y, test_size = 0.3, random_state = 42, shuffle='true')"
   ]
  },
  {
   "cell_type": "code",
   "execution_count": 89,
   "id": "7ce84795",
   "metadata": {},
   "outputs": [],
   "source": [
    "# import the regressor\n",
    "from sklearn.tree import DecisionTreeRegressor \n",
    "  \n",
    "# create a regressor object\n",
    "regressor = DecisionTreeRegressor(random_state = 0) \n",
    "  \n",
    "# fit the regressor with X and Y data\n",
    "regressor.fit(x_train, y_train)\n",
    "\n",
    "\n",
    "y_pred = regressor.predict(x_test)\n",
    "  "
   ]
  },
  {
   "cell_type": "code",
   "execution_count": 90,
   "id": "fdeb9053",
   "metadata": {},
   "outputs": [
    {
     "data": {
      "text/html": [
       "<div>\n",
       "<style scoped>\n",
       "    .dataframe tbody tr th:only-of-type {\n",
       "        vertical-align: middle;\n",
       "    }\n",
       "\n",
       "    .dataframe tbody tr th {\n",
       "        vertical-align: top;\n",
       "    }\n",
       "\n",
       "    .dataframe thead th {\n",
       "        text-align: right;\n",
       "    }\n",
       "</style>\n",
       "<table border=\"1\" class=\"dataframe\">\n",
       "  <thead>\n",
       "    <tr style=\"text-align: right;\">\n",
       "      <th></th>\n",
       "      <th>Actual value</th>\n",
       "      <th>Predicted value</th>\n",
       "    </tr>\n",
       "  </thead>\n",
       "  <tbody>\n",
       "    <tr>\n",
       "      <th>2947</th>\n",
       "      <td>92.309731</td>\n",
       "      <td>92.312659</td>\n",
       "    </tr>\n",
       "    <tr>\n",
       "      <th>2782</th>\n",
       "      <td>98.193551</td>\n",
       "      <td>99.181578</td>\n",
       "    </tr>\n",
       "    <tr>\n",
       "      <th>1644</th>\n",
       "      <td>78.588540</td>\n",
       "      <td>70.919656</td>\n",
       "    </tr>\n",
       "    <tr>\n",
       "      <th>70</th>\n",
       "      <td>67.631606</td>\n",
       "      <td>68.887435</td>\n",
       "    </tr>\n",
       "    <tr>\n",
       "      <th>2045</th>\n",
       "      <td>84.517055</td>\n",
       "      <td>85.760870</td>\n",
       "    </tr>\n",
       "    <tr>\n",
       "      <th>263</th>\n",
       "      <td>186.416743</td>\n",
       "      <td>183.784583</td>\n",
       "    </tr>\n",
       "    <tr>\n",
       "      <th>1042</th>\n",
       "      <td>103.589984</td>\n",
       "      <td>97.747927</td>\n",
       "    </tr>\n",
       "    <tr>\n",
       "      <th>2263</th>\n",
       "      <td>181.469417</td>\n",
       "      <td>183.784583</td>\n",
       "    </tr>\n",
       "    <tr>\n",
       "      <th>450</th>\n",
       "      <td>62.635550</td>\n",
       "      <td>63.474685</td>\n",
       "    </tr>\n",
       "    <tr>\n",
       "      <th>1832</th>\n",
       "      <td>99.499222</td>\n",
       "      <td>103.643294</td>\n",
       "    </tr>\n",
       "  </tbody>\n",
       "</table>\n",
       "</div>"
      ],
      "text/plain": [
       "      Actual value  Predicted value\n",
       "2947     92.309731        92.312659\n",
       "2782     98.193551        99.181578\n",
       "1644     78.588540        70.919656\n",
       "70       67.631606        68.887435\n",
       "2045     84.517055        85.760870\n",
       "263     186.416743       183.784583\n",
       "1042    103.589984        97.747927\n",
       "2263    181.469417       183.784583\n",
       "450      62.635550        63.474685\n",
       "1832     99.499222       103.643294"
      ]
     },
     "execution_count": 90,
     "metadata": {},
     "output_type": "execute_result"
    }
   ],
   "source": [
    "#Actual value and the predicted value\n",
    "dt_diff = pd.DataFrame({'Actual value': y_test, 'Predicted value': y_pred})\n",
    "dt_diff.head(10)"
   ]
  },
  {
   "cell_type": "code",
   "execution_count": 91,
   "id": "29da07cc",
   "metadata": {},
   "outputs": [
    {
     "name": "stdout",
     "output_type": "stream",
     "text": [
      "WQI:  44.787571212194926\n"
     ]
    }
   ],
   "source": [
    "res = regressor.predict([[7, 100, 1, 0]])[0]\n",
    "\n",
    "print(\"WQI: \", res)"
   ]
  },
  {
   "cell_type": "code",
   "execution_count": 92,
   "id": "900e48ee",
   "metadata": {},
   "outputs": [
    {
     "name": "stdout",
     "output_type": "stream",
     "text": [
      "Training RMSE:  0.0\n",
      "Training R2:  100.0\n",
      "Testing RMSE:  5.16459382180424\n",
      "Testing R2:  94.22977797565576\n"
     ]
    }
   ],
   "source": [
    "from sklearn.metrics import mean_squared_error, r2_score\n",
    "\n",
    "regressor_pred_train = regressor.predict(x_train)\n",
    "regressor_pred_test = regressor.predict(x_test)\n",
    "\n",
    "print(\"Training RMSE: \", np.sqrt(mean_squared_error(y_train, regressor_pred_train)))\n",
    "print(\"Training R2: \", r2_score(y_train, regressor_pred_train)*100)\n",
    "\n",
    "\n",
    "print(\"Testing RMSE: \", np.sqrt(mean_squared_error(y_test, regressor_pred_test)))\n",
    "print(\"Testing R2: \", r2_score(y_test, regressor_pred_test)*100)\n"
   ]
  },
  {
   "cell_type": "markdown",
   "id": "ff4f8e9f",
   "metadata": {},
   "source": [
    "### >> K Fold Cross Validation"
   ]
  },
  {
   "cell_type": "code",
   "execution_count": 93,
   "id": "6a60c5ec",
   "metadata": {},
   "outputs": [
    {
     "name": "stdout",
     "output_type": "stream",
     "text": [
      "[0.94810689 0.9422445  0.91831044 0.94299791 0.93646442 0.95561691\n",
      " 0.95827731 0.94423223 0.91992017 0.95060758]\n",
      "\n",
      "Mean Accuracy score:  91.57576266129635\n"
     ]
    }
   ],
   "source": [
    "\n",
    "from sklearn.model_selection import KFold\n",
    "from sklearn.tree import DecisionTreeClassifier\n",
    "from sklearn.model_selection import train_test_split\n",
    "from sklearn.model_selection import cross_val_score\n",
    "\n",
    "model = DecisionTreeRegressor()\n",
    "kfold_validation = KFold(10)\n",
    "results = cross_val_score(model, x, y, cv = kfold_validation)\n",
    "print(results)\n",
    "print(\"\\nMean Accuracy score: \", np.mean(score)*100)"
   ]
  },
  {
   "cell_type": "markdown",
   "id": "e76d851e",
   "metadata": {},
   "source": [
    "## <mark><em>10. Decision Tree Classifier</em></mark>\n",
    "\n"
   ]
  },
  {
   "cell_type": "markdown",
   "id": "b08a079d",
   "metadata": {},
   "source": [
    "### >> Stratified K-fold Cross Validation"
   ]
  },
  {
   "cell_type": "code",
   "execution_count": 94,
   "id": "1b5d4417",
   "metadata": {},
   "outputs": [
    {
     "name": "stdout",
     "output_type": "stream",
     "text": [
      "[0.88262195 0.8610687  0.86259542 0.89160305 0.87022901]\n",
      "\n",
      "Mean Accuracy score:  87.36236268851239\n"
     ]
    }
   ],
   "source": [
    "# Used for unbalanced data and only used for discrete data\n",
    "\n",
    "from sklearn.model_selection import StratifiedKFold\n",
    "\n",
    "#Setting the value for X and Y\n",
    "x = dataset[['ph', 'TDS', 'Turbidity', 'Temperature']]\n",
    "y = dataset.quality\n",
    "\n",
    "skfold = StratifiedKFold(n_splits = 5)\n",
    "model = DecisionTreeClassifier()\n",
    "score = cross_val_score(model, x, y, cv = skfold)\n",
    "print(score)\n",
    "\n",
    "print(\"\\nMean Accuracy score: \", np.mean(score)*100)"
   ]
  },
  {
   "cell_type": "markdown",
   "id": "39942631",
   "metadata": {},
   "source": [
    "### >> Leave one out Cross Validation"
   ]
  },
  {
   "cell_type": "code",
   "execution_count": 95,
   "id": "f13d7b23",
   "metadata": {},
   "outputs": [
    {
     "name": "stdout",
     "output_type": "stream",
     "text": [
      "[1. 1. 1. ... 1. 1. 0.]\n",
      "\n",
      "Mean Accuracy score:  88.58363858363857\n"
     ]
    }
   ],
   "source": [
    "#Not recommended\n",
    "\n",
    "from sklearn.model_selection import LeaveOneOut\n",
    "model = DecisionTreeClassifier()\n",
    "leave_validation = LeaveOneOut()\n",
    "results = cross_val_score(model, x, y, cv = leave_validation)\n",
    "print(results)\n",
    "print(\"\\nMean Accuracy score: \", np.mean(results)*100)"
   ]
  },
  {
   "cell_type": "markdown",
   "id": "0703ea52",
   "metadata": {},
   "source": [
    "### >> Repeated Random Test-Train Splits\n",
    "* This technique is a hybrid of traditional train-test splitting and the k-fold cross-validation method. In this technique, we create random splits of the data in the training-test split manner and then repeat the process of splitting and evaluating the algorithm multiple times, just like the cross-validation method."
   ]
  },
  {
   "cell_type": "code",
   "execution_count": 96,
   "id": "5abcbfc1",
   "metadata": {},
   "outputs": [
    {
     "name": "stdout",
     "output_type": "stream",
     "text": [
      "[0.87385554 0.87995931 0.88402848 0.85045778 0.88606307 0.86978637\n",
      " 0.8819939  0.87894201 0.87182096 0.88708037]\n",
      "\n",
      "Mean Accuracy score:  87.63987792472024\n"
     ]
    }
   ],
   "source": [
    "from sklearn.model_selection import ShuffleSplit\n",
    "model = DecisionTreeClassifier()\n",
    "ssplit = ShuffleSplit(n_splits = 10, test_size = 0.3)\n",
    "results = cross_val_score(model, x, y, cv = ssplit)\n",
    "print(results)\n",
    "print(\"\\nMean Accuracy score: \", np.mean(results)*100)"
   ]
  },
  {
   "cell_type": "markdown",
   "id": "b340ace3",
   "metadata": {},
   "source": [
    "## <mark><em>11. Artificial Neural Network (ANN) </em></mark>\n",
    "\n"
   ]
  },
  {
   "cell_type": "code",
   "execution_count": 117,
   "id": "530801d3",
   "metadata": {},
   "outputs": [],
   "source": [
    "\n",
    "import pandas as pd\n",
    "from keras.models import Sequential\n",
    "from keras.layers import Dense\n",
    "from keras.wrappers.scikit_learn import KerasRegressor\n",
    "from sklearn.model_selection import cross_val_score\n",
    "from sklearn.model_selection import KFold\n",
    "from sklearn.pipeline import Pipeline\n",
    "from sklearn.model_selection import train_test_split\n",
    "import seaborn as sns\n",
    "from matplotlib import pyplot as plt"
   ]
  },
  {
   "cell_type": "code",
   "execution_count": 118,
   "id": "f283b765",
   "metadata": {},
   "outputs": [],
   "source": [
    "#Setting the value for X and Y\n",
    "x = dataset[['ph', 'TDS', 'Turbidity', 'Temperature']]\n",
    "y = dataset.wqi\n",
    "\n",
    "X_train, X_test, y_train, y_test = train_test_split(x, y, test_size = 0.2, random_state = 20)\n"
   ]
  },
  {
   "cell_type": "code",
   "execution_count": 119,
   "id": "be46cd16",
   "metadata": {},
   "outputs": [],
   "source": [
    "#Scale data, otherwise model will fail.\n",
    "#Standardize features by removing the mean and scaling to unit variance\n",
    "from sklearn.preprocessing import StandardScaler\n",
    "scaler=StandardScaler()\n",
    "scaler.fit(X_train)\n",
    "\n",
    "X_train_scaled = scaler.transform(X_train)\n",
    "X_test_scaled = scaler.transform(X_test)\n"
   ]
  },
  {
   "cell_type": "code",
   "execution_count": 135,
   "id": "063593f7",
   "metadata": {
    "scrolled": true
   },
   "outputs": [
    {
     "name": "stdout",
     "output_type": "stream",
     "text": [
      "Model: \"sequential_11\"\n",
      "_________________________________________________________________\n",
      " Layer (type)                Output Shape              Param #   \n",
      "=================================================================\n",
      " dense_27 (Dense)            (None, 128)               640       \n",
      "                                                                 \n",
      " dense_28 (Dense)            (None, 64)                8256      \n",
      "                                                                 \n",
      " dense_29 (Dense)            (None, 1)                 65        \n",
      "                                                                 \n",
      "=================================================================\n",
      "Total params: 8,961\n",
      "Trainable params: 8,961\n",
      "Non-trainable params: 0\n",
      "_________________________________________________________________\n"
     ]
    }
   ],
   "source": [
    "# define the model\n",
    "#Experiment with deeper and wider networks\n",
    "model = Sequential()\n",
    "model.add(Dense(128, input_dim=4, activation='relu'))\n",
    "model.add(Dense(64, activation='relu'))\n",
    "#Output layer\n",
    "model.add(Dense(1, activation='linear'))\n",
    "\n",
    "model.compile(loss='mean_squared_error', optimizer='adam', metrics=['mae'])\n",
    "model.summary()\n",
    "     "
   ]
  },
  {
   "cell_type": "code",
   "execution_count": 136,
   "id": "fdeedb39",
   "metadata": {
    "scrolled": false
   },
   "outputs": [
    {
     "name": "stdout",
     "output_type": "stream",
     "text": [
      "Epoch 1/15\n",
      "82/82 [==============================] - 2s 7ms/step - loss: 8290.1689 - mae: 88.4134 - val_loss: 6046.9248 - val_mae: 75.3282\n",
      "Epoch 2/15\n",
      "82/82 [==============================] - 0s 5ms/step - loss: 2517.8213 - mae: 43.4142 - val_loss: 399.5785 - val_mae: 16.7403\n",
      "Epoch 3/15\n",
      "82/82 [==============================] - 0s 5ms/step - loss: 305.2941 - mae: 14.1076 - val_loss: 235.2941 - val_mae: 12.5378\n",
      "Epoch 4/15\n",
      "82/82 [==============================] - 0s 4ms/step - loss: 203.7732 - mae: 11.4499 - val_loss: 162.1807 - val_mae: 10.3914\n",
      "Epoch 5/15\n",
      "82/82 [==============================] - 0s 4ms/step - loss: 142.3826 - mae: 9.5025 - val_loss: 116.6228 - val_mae: 8.8046\n",
      "Epoch 6/15\n",
      "82/82 [==============================] - 0s 5ms/step - loss: 102.9005 - mae: 8.0115 - val_loss: 85.4813 - val_mae: 7.5421\n",
      "Epoch 7/15\n",
      "82/82 [==============================] - 0s 4ms/step - loss: 76.0602 - mae: 6.7842 - val_loss: 62.0330 - val_mae: 6.3404\n",
      "Epoch 8/15\n",
      "82/82 [==============================] - 0s 5ms/step - loss: 58.0337 - mae: 5.8689 - val_loss: 48.5212 - val_mae: 5.5635\n",
      "Epoch 9/15\n",
      "82/82 [==============================] - 0s 5ms/step - loss: 46.1662 - mae: 5.2122 - val_loss: 38.1651 - val_mae: 4.8900\n",
      "Epoch 10/15\n",
      "82/82 [==============================] - 0s 5ms/step - loss: 37.9222 - mae: 4.6719 - val_loss: 32.5598 - val_mae: 4.5880\n",
      "Epoch 11/15\n",
      "82/82 [==============================] - 0s 5ms/step - loss: 32.0549 - mae: 4.3386 - val_loss: 26.8282 - val_mae: 4.0793\n",
      "Epoch 12/15\n",
      "82/82 [==============================] - 0s 5ms/step - loss: 27.5595 - mae: 4.0225 - val_loss: 22.5762 - val_mae: 3.7671\n",
      "Epoch 13/15\n",
      "82/82 [==============================] - 0s 5ms/step - loss: 23.5751 - mae: 3.7090 - val_loss: 19.5541 - val_mae: 3.5538\n",
      "Epoch 14/15\n",
      "82/82 [==============================] - 0s 4ms/step - loss: 20.6206 - mae: 3.4862 - val_loss: 19.1397 - val_mae: 3.5562\n",
      "Epoch 15/15\n",
      "82/82 [==============================] - 0s 6ms/step - loss: 17.8155 - mae: 3.2632 - val_loss: 14.9512 - val_mae: 3.1200\n"
     ]
    }
   ],
   "source": [
    "history = model.fit(X_train_scaled, y_train, epochs = 15, validation_data=(X_test_scaled, y_test))"
   ]
  },
  {
   "cell_type": "code",
   "execution_count": 137,
   "id": "30cd9b09",
   "metadata": {
    "scrolled": true
   },
   "outputs": [
    {
     "data": {
      "image/png": "[encoded data removed]",
      "text/plain": [
       "<Figure size 1008x576 with 1 Axes>"
      ]
     },
     "metadata": {},
     "output_type": "display_data"
    },
    {
     "data": {
      "image/png": "[encoded data removed]",
      "text/plain": [
       "<Figure size 1008x576 with 1 Axes>"
      ]
     },
     "metadata": {},
     "output_type": "display_data"
    }
   ],
   "source": [
    "from matplotlib import pyplot as plt\n",
    "#plot the training and validation accuracy and loss at each epoch\n",
    "\n",
    "mpl.style.use(\"ggplot\")\n",
    "fig = plt.figure(figsize = (14, 8))\n",
    "\n",
    "loss = history.history['loss']\n",
    "val_loss = history.history['val_loss']\n",
    "epochs = range(1, len(loss) + 1)\n",
    "plt.plot(epochs, loss, 'y', label='Training loss')\n",
    "plt.plot(epochs, val_loss, 'r', label='Validation loss')\n",
    "plt.title('Training and validation loss')\n",
    "plt.xlabel('Epochs')\n",
    "plt.ylabel('Loss')\n",
    "plt.legend()\n",
    "plt.show()\n",
    "\n",
    "\n",
    "mpl.style.use(\"ggplot\")\n",
    "fig = plt.figure(figsize = (14, 8))\n",
    "\n",
    "acc = history.history['mae']\n",
    "val_acc = history.history['val_mae']\n",
    "plt.plot(epochs, acc, 'y', label='Training MAE')\n",
    "plt.plot(epochs, val_acc, 'r', label='Validation MAE')\n",
    "plt.title('Training and validation MAE')\n",
    "plt.xlabel('Epochs')\n",
    "plt.ylabel('Accuracy')\n",
    "plt.legend()\n",
    "plt.show()\n",
    "\n",
    "#Curve diagnoses: https://machinelearningmastery.com/learning-curves-for-diagnosing-machine-learning-model-performance/\n",
    "#DL: https://machinelearningmastery.com/regression-tutorial-keras-deep-learning-library-python/"
   ]
  },
  {
   "cell_type": "markdown",
   "id": "fc7fa32e",
   "metadata": {},
   "source": [
    "* Above Learning curves shows a <b>Good Fit Learning Curves</b>, \n",
    "* A good fit is the goal of the learning algorithm and exists between an overfit and underfit model.\n",
    "* A good fit is identified by a training and validation loss that decreases to a point of stability with a minimal gap between the two final loss values.\n",
    "* The loss of the model will almost always be lower on the training dataset than the validation dataset. This means that we should expect some gap between the train and validation loss learning curves. This gap is referred to as the “generalization gap.”\n",
    "\n",
    "> 1. A plot of learning curves shows a good fit if:\n",
    ">> 1.1 The plot of training loss decreases to a point of stability. <br>\n",
    ">> 1.2 The plot of validation loss decreases to a point of stability and has a small gap with the training loss."
   ]
  },
  {
   "cell_type": "code",
   "execution_count": 138,
   "id": "848573d9",
   "metadata": {
    "scrolled": false
   },
   "outputs": [
    {
     "name": "stdout",
     "output_type": "stream",
     "text": [
      "1/1 [==============================] - 0s 76ms/step\n",
      "Predicted values are:  [[ 74.71016]\n",
      " [ 69.21465]\n",
      " [ 88.90925]\n",
      " [ 62.26998]\n",
      " [110.33412]]\n",
      "\n",
      "Real values are:  2378     76.601822\n",
      "1444     65.306363\n",
      "303      88.194546\n",
      "2113     57.341511\n",
      "2537    111.113618\n",
      "Name: wqi, dtype: float64\n"
     ]
    }
   ],
   "source": [
    "#Predict on test data\n",
    "predictions = model.predict(X_test_scaled[:5])\n",
    "print(\"Predicted values are: \", predictions)\n",
    "print(\"\\nReal values are: \", y_test[:5])\n",
    "     "
   ]
  },
  {
   "cell_type": "code",
   "execution_count": 142,
   "id": "b2741866",
   "metadata": {
    "scrolled": true
   },
   "outputs": [
    {
     "name": "stdout",
     "output_type": "stream",
     "text": [
      "1/1 [==============================] - 0s 63ms/step\n",
      "WQI:  [389298.16]\n"
     ]
    }
   ],
   "source": [
    "res = model.predict([[7.080795, 20791.31898, 2.963135, 29.3]])[0]\n",
    "print(\"WQI: \", res)"
   ]
  },
  {
   "cell_type": "code",
   "execution_count": 141,
   "id": "551a45e3",
   "metadata": {},
   "outputs": [
    {
     "name": "stdout",
     "output_type": "stream",
     "text": [
      "21/21 [==============================] - 0s 4ms/step - loss: 14.9512 - mae: 3.1200\n",
      "Mean squared error from neural net:  14.951192855834961\n",
      "Mean absolute error from neural net:  3.1200082302093506\n"
     ]
    }
   ],
   "source": [
    "#Comparison with other models..\n",
    "#Neural network - from the current code\n",
    "mse_neural, mae_neural = model.evaluate(X_test_scaled, y_test)\n",
    "print('Mean squared error from neural net: ', mse_neural)\n",
    "print('Mean absolute error from neural net: ', mae_neural)"
   ]
  },
  {
   "cell_type": "code",
   "execution_count": null,
   "id": "596f2328",
   "metadata": {},
   "outputs": [],
   "source": []
  }
 ],
 "metadata": {
  "kernelspec": {
   "display_name": "Python 3 (ipykernel)",
   "language": "python",
   "name": "python3"
  },
  "language_info": {
   "codemirror_mode": {
    "name": "ipython",
    "version": 3
   },
   "file_extension": ".py",
   "mimetype": "text/x-python",
   "name": "python",
   "nbconvert_exporter": "python",
   "pygments_lexer": "ipython3",
   "version": "3.8.10"
  }
 },
 "nbformat": 4,
 "nbformat_minor": 5
}
